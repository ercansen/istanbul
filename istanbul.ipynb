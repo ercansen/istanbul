{
 "cells": [
  {
   "cell_type": "code",
   "execution_count": 229,
   "metadata": {},
   "outputs": [],
   "source": [
    "from selenium import webdriver\n",
    "from selenium.webdriver.common.keys import Keys\n",
    "import pandas as pd\n",
    "import numpy as np\n",
    "import time\n",
    "import glob, os, shutil"
   ]
  },
  {
   "cell_type": "code",
   "execution_count": 207,
   "metadata": {},
   "outputs": [],
   "source": [
    "database_url = 'https://sonuc.ysk.gov.tr'\n",
    "istanbul = 'İSTANBUL'\n",
    "\n",
    "# Election names\n",
    "ist_reelect = 'İSTANBUL BÜYÜKŞEHİR BELEDİYE BAŞKANLIĞI YENİLEME SEÇİMİ (23/06/2019)'\n",
    "loc_2019 = '31 MART 2019 MAHALLİ İDARELER GENEL SEÇİMİ (31/03/2019)'\n",
    "gen_2018 = 'CUMHURBAŞKANI VE 27.DÖNEM MİLLETVEKİLİ GENEL SEÇİMİ (24/06/2018)'\n",
    "ref_2017 = '2017 HALKOYLAMASI (16/04/2017)'\n",
    "gen_nov_2015 = '26.DÖNEM MİLLETVEKİLİ GENEL SEÇİMİ (01/11/2015)'\n",
    "gen_jun_2015 = '25.DÖNEM MİLLETVEKİLİ GENEL SEÇİMİ (07/06/2015)'"
   ]
  },
  {
   "cell_type": "code",
   "execution_count": 208,
   "metadata": {},
   "outputs": [],
   "source": [
    "# Creates a webdriver object for Chrome and navigates to Turkish high election board's election results database\n",
    "chrome = webdriver.Chrome(executable_path='/Users/ercansen/Desktop/apps/chromedriver')\n",
    "chrome.get(database_url)"
   ]
  },
  {
   "cell_type": "code",
   "execution_count": 209,
   "metadata": {},
   "outputs": [],
   "source": [
    "# Website prompts the user to pick how to query the results; query by election name (third button) is selected\n",
    "byElecNm_classname = 'ma-0.pa-0.border-0.cursor-pointer.w-100'\n",
    "\n",
    "buttons_intro = list()\n",
    "buttons_intro = chrome.find_elements_by_class_name(byElecNm_classname)\n",
    "button_byElecNm = buttons_intro[2]\n",
    "button_byElecNm.click()"
   ]
  },
  {
   "cell_type": "code",
   "execution_count": 210,
   "metadata": {},
   "outputs": [],
   "source": [
    "# To open up the dropdown list of past 11 elections in Turkey, the corresponding arrow is clicked\n",
    "elec_arrow_xpath = \"//*[@id='collapsePanelThree']/div[1]/div/div/form/div[1]/div/div/ng-select/div/span\"\n",
    "elec_arrow = chrome.find_element_by_xpath(elec_arrow_xpath)"
   ]
  },
  {
   "cell_type": "markdown",
   "metadata": {},
   "source": [
    "### Istanbul 2019 Mayoral Rerun Election"
   ]
  },
  {
   "cell_type": "code",
   "execution_count": 211,
   "metadata": {},
   "outputs": [],
   "source": [
    "# Results of the rerun of 2019 Istanbul mayoral elections is scraped first, hence selected from the dropdown options\n",
    "elec_arrow.click()\n",
    "\n",
    "for option in chrome.find_elements_by_class_name('ng-option'):\n",
    "    if option.text == ist_reelect:\n",
    "        option.click()\n",
    "        break"
   ]
  },
  {
   "cell_type": "code",
   "execution_count": 212,
   "metadata": {},
   "outputs": [],
   "source": [
    "# Green continue (\"Devam Et\") button is clicked\n",
    "continue_classname = 'btn.btn-success.rounded-0.mr-5'\n",
    "\n",
    "button_continue = chrome.find_element_by_class_name(continue_button_classname)\n",
    "button_continue.click()"
   ]
  },
  {
   "cell_type": "code",
   "execution_count": 213,
   "metadata": {},
   "outputs": [],
   "source": [
    "# Three dropdown lists (for filtering city, district and neighborhood name), and a filter for ballot box id appear\n",
    "# (Note : District is the subdivision of city, and neighborhood is the subdivision of district)\n",
    "# Due to database's design, when only a city is selected (but not a district) district-wise election results are shown\n",
    "# When both a city and district are selected, results of each ballot box (in the district) are shown\n",
    "\n",
    "# Corresponding arrow for city dropdown list is clicked\n",
    "city_arrow_xpath = \"//*[@id='collapsePanelFour']/div[1]/div/div/fieldset/form/div[1]/div[2]/div[1]/ng-select/div/span\"\n",
    "city_arrow = chrome.find_element_by_xpath(city_arrow_xpath)\n",
    "city_arrow.click()"
   ]
  },
  {
   "cell_type": "code",
   "execution_count": 214,
   "metadata": {},
   "outputs": [],
   "source": [
    "# Istanbul is selected from the list of cities (although it is the only option for the rerun mayoral election)\n",
    "city_dropdown_xpath = '/html/body/app-root/app-vatandas/div[2]/app-vatandas-asistan-arsiv-sonuc/div/div/div[2]/div[1]/div/div/fieldset/form/div[1]/div[2]/div[1]/ng-select/ng-dropdown-panel/div'\n",
    "city_dropdown = chrome.find_element_by_xpath(city_dropdown_xpath)\n",
    "\n",
    "for option in city_dropdown.find_elements_by_class_name('ng-option'):\n",
    "    if option.text == istanbul:\n",
    "        option.click()\n",
    "        break"
   ]
  },
  {
   "cell_type": "code",
   "execution_count": 215,
   "metadata": {},
   "outputs": [],
   "source": [
    "# Corresponding arrow for district dropdown list is selected\n",
    "district_arrow_xpath = \"//*[@id='collapsePanelFour']/div[1]/div/div/fieldset/form/div[1]/div[2]/div[2]/ng-select/div/span\"\n",
    "district_arrow = chrome.find_element_by_xpath(district_arrow_xpath)"
   ]
  },
  {
   "cell_type": "code",
   "execution_count": 227,
   "metadata": {
    "scrolled": false
   },
   "outputs": [],
   "source": [
    "district_dropdown_xpath = '/html/body/app-root/app-vatandas/div[2]/app-vatandas-asistan-arsiv-sonuc/div/div/div[2]/div[1]/div/div/fieldset/form/div[1]/div[2]/div[2]/ng-select/ng-dropdown-panel/div'\n",
    "query_button_xpath = '/html/body/app-root/app-vatandas/div[2]/app-vatandas-asistan-arsiv-sonuc/div/div/div[2]/div[1]/div/div/fieldset/form/div[2]/div/div/button'\n",
    "district_input_xpath = '/html/body/app-root/app-vatandas/div[2]/app-vatandas-asistan-arsiv-sonuc/div/div/div[2]/div[1]/div/div/fieldset/form/div[1]/div[2]/div[2]/ng-select/div/div/div[2]/input'\n",
    "save_button_xpath = '/html/body/app-root/app-vatandas/div[2]/app-vatandas-asistan-arsiv-sonuc/div/div/div[2]/div[1]/div/div/app-yurtici-muhtarlik-listesi/fieldset/div[2]/div/button'\n",
    "accept_button_xpath = '/html/body/ngb-modal-window/div/div/div[2]/div/button[1]'\n",
    "\n",
    "query_button = chrome.find_element_by_xpath(query_button_xpath)\n",
    "district_input = chrome.find_element_by_xpath(district_input_xpath)\n",
    "\n",
    "districts = list()\n",
    "district_arrow.click()\n",
    "for option in chrome.find_element_by_xpath(district_dropdown_xpath).find_elements_by_class_name('ng-option'):\n",
    "    districts.append(option.text)\n",
    "    \n",
    "for i in range(len(districts)):\n",
    "    district = districts[i]\n",
    "    time.sleep(3)\n",
    "    district_input.send_keys(district)\n",
    "    district_input.send_keys(Keys.ENTER)\n",
    "    time.sleep(10)\n",
    "    query_button.click()\n",
    "    time.sleep(10)\n",
    "    chrome.find_element_by_xpath(save_button_xpath).click()\n",
    "    time.sleep(5)\n",
    "    chrome.find_element_by_xpath(accept_button_xpath).click()\n",
    "    time.sleep(5)   "
   ]
  },
  {
   "cell_type": "code",
   "execution_count": 243,
   "metadata": {},
   "outputs": [
    {
     "name": "stdout",
     "output_type": "stream",
     "text": [
      "39\n"
     ]
    }
   ],
   "source": [
    "downloads = '/Users/ercansen/Downloads/'\n",
    "dest_dir  = '/Users/ercansen/Desktop/apps/istanbul/2019-06' \n",
    "os.mkdir(dest_dir)\n",
    "files = glob.glob(downloads + 'Yurt*.xlsx')\n",
    "\n",
    "for file in files:\n",
    "    if os.path.isfile(file):\n",
    "        shutil.copy2(file, dest_dir)\n",
    "        \n",
    "for file in files:\n",
    "    if os.path.isfile(file) and len(files) == 39:\n",
    "        os.remove(file)"
   ]
  },
  {
   "cell_type": "markdown",
   "metadata": {},
   "source": [
    "### 2019 Local Election (cancelled)"
   ]
  },
  {
   "cell_type": "code",
   "execution_count": null,
   "metadata": {},
   "outputs": [],
   "source": [
    "# Results of the cancelled first run of 2019 Istanbul mayoral elections is scraped next\n",
    "elec_arrow.click()\n",
    "\n",
    "for option in chrome.find_elements_by_class_name('ng-option'):\n",
    "    if option.text == loc_2019:\n",
    "        option.click()\n",
    "        break"
   ]
  },
  {
   "cell_type": "code",
   "execution_count": null,
   "metadata": {},
   "outputs": [],
   "source": [
    "district_dropdown_xpath = '/html/body/app-root/app-vatandas/div[2]/app-vatandas-asistan-arsiv-sonuc/div/div/div[2]/div[1]/div/div/fieldset/form/div[1]/div[2]/div[2]/ng-select/ng-dropdown-panel/div'\n",
    "query_button_xpath = '/html/body/app-root/app-vatandas/div[2]/app-vatandas-asistan-arsiv-sonuc/div/div/div[2]/div[1]/div/div/fieldset/form/div[2]/div/div/button'\n",
    "district_input_xpath = '/html/body/app-root/app-vatandas/div[2]/app-vatandas-asistan-arsiv-sonuc/div/div/div[2]/div[1]/div/div/fieldset/form/div[1]/div[2]/div[2]/ng-select/div/div/div[2]/input'\n",
    "save_button_xpath = '/html/body/app-root/app-vatandas/div[2]/app-vatandas-asistan-arsiv-sonuc/div/div/div[2]/div[1]/div/div/app-yurtici-muhtarlik-listesi/fieldset/div[2]/div/button'\n",
    "accept_button_xpath = '/html/body/ngb-modal-window/div/div/div[2]/div/button[1]'\n",
    "\n",
    "query_button = chrome.find_element_by_xpath(query_button_xpath)\n",
    "district_input = chrome.find_element_by_xpath(district_input_xpath)\n",
    "\n",
    "districts = list()\n",
    "district_arrow.click()\n",
    "for option in chrome.find_element_by_xpath(district_dropdown_xpath).find_elements_by_class_name('ng-option'):\n",
    "    districts.append(option.text)\n",
    "    \n",
    "for i in range(len(districts)):\n",
    "    district = districts[i]\n",
    "    time.sleep(3)\n",
    "    district_input.send_keys(district)\n",
    "    district_input.send_keys(Keys.ENTER)\n",
    "    time.sleep(10)\n",
    "    query_button.click()\n",
    "    time.sleep(10)\n",
    "    chrome.find_element_by_xpath(save_button_xpath).click()\n",
    "    time.sleep(5)\n",
    "    chrome.find_element_by_xpath(accept_button_xpath).click()\n",
    "    time.sleep(5)  "
   ]
  }
 ],
 "metadata": {
  "kernelspec": {
   "display_name": "Python 3",
   "language": "python",
   "name": "python3"
  },
  "language_info": {
   "codemirror_mode": {
    "name": "ipython",
    "version": 3
   },
   "file_extension": ".py",
   "mimetype": "text/x-python",
   "name": "python",
   "nbconvert_exporter": "python",
   "pygments_lexer": "ipython3",
   "version": "3.7.4"
  }
 },
 "nbformat": 4,
 "nbformat_minor": 2
}
