{
 "cells": [
  {
   "cell_type": "code",
   "execution_count": 1,
   "metadata": {},
   "outputs": [],
   "source": [
    "from selenium import webdriver\n",
    "from selenium.webdriver.common.keys import Keys\n",
    "import pandas as pd\n",
    "import numpy as np\n",
    "import time\n",
    "import glob, os, shutil"
   ]
  },
  {
   "cell_type": "markdown",
   "metadata": {},
   "source": [
    "## 1) Scraping Election Data"
   ]
  },
  {
   "cell_type": "markdown",
   "metadata": {},
   "source": [
    "Election data is scraped from Turkish high election board's database, using Selenium package. Making a query in the database consists of 3 steps: 1) Query Options (\"Sorgulama Secenekleri\"), 2) Select Election Name (\"Secim Adi Seciniz\"), and 3) Election Results (\"Secim Sonuclari\"). \n",
    "\n",
    "Once the final step is reached, three dropdown lists (for filtering city, district and neighborhood name), and a filter for ballot box id appear. We are interested in neighborhood-wise election results. (Note: District is the subdivision of city, and neighborhood is the subdivision of district)\n",
    "\n",
    "Due to database's design, when only a city is selected (but not a district) district-wise election results are shown\n",
    "When both a city and district are selected, results of each ballot box (in the district) are shown. Hence, we will scrape the results by selecting both the city and district name, and then aggregating the ballot box results by neighborhood names."
   ]
  },
  {
   "cell_type": "code",
   "execution_count": 26,
   "metadata": {},
   "outputs": [],
   "source": [
    "database_url = 'https://sonuc.ysk.gov.tr'\n",
    "istanbul = 'İSTANBUL'\n",
    "\n",
    "# Election names\n",
    "ist_reelect = 'İSTANBUL BÜYÜKŞEHİR BELEDİYE BAŞKANLIĞI YENİLEME SEÇİMİ (23/06/2019)'\n",
    "loc_2019 = '31 MART 2019 MAHALLİ İDARELER GENEL SEÇİMİ (31/03/2019)'\n",
    "gen_2018 = 'CUMHURBAŞKANI VE 27.DÖNEM MİLLETVEKİLİ GENEL SEÇİMİ (24/06/2018)'\n",
    "ref_2017 = '2017 HALKOYLAMASI (16/04/2017)'\n",
    "gen_nov_2015 = '26.DÖNEM MİLLETVEKİLİ GENEL SEÇİMİ (01/11/2015)'\n",
    "gen_jun_2015 = '25.DÖNEM MİLLETVEKİLİ GENEL SEÇİMİ (07/06/2015)'"
   ]
  },
  {
   "cell_type": "code",
   "execution_count": 27,
   "metadata": {},
   "outputs": [],
   "source": [
    "# Creates a webdriver object for Chrome and navigates to Turkish high election board's election results database\n",
    "chrome = webdriver.Chrome(executable_path='/Users/ercansen/Desktop/apps/chromedriver')\n",
    "chrome.get(database_url)"
   ]
  },
  {
   "cell_type": "code",
   "execution_count": 28,
   "metadata": {},
   "outputs": [],
   "source": [
    "# Website prompts the user to pick how to query the results; query by election name (third button) is selected\n",
    "byElecNm_classname = 'ma-0.pa-0.border-0.cursor-pointer.w-100'\n",
    "\n",
    "buttons_intro = list()\n",
    "buttons_intro = chrome.find_elements_by_class_name(byElecNm_classname)\n",
    "button_byElecNm = buttons_intro[2]\n",
    "button_byElecNm.click()"
   ]
  },
  {
   "cell_type": "code",
   "execution_count": 29,
   "metadata": {},
   "outputs": [],
   "source": [
    "# To open up the dropdown list of past 11 elections in Turkey, scans the corresponding arrow\n",
    "elec_arrow_xpath = \"//*[@id='collapsePanelThree']/div[1]/div/div/form/div[1]/div/div/ng-select/div/span\"\n",
    "elec_arrow = chrome.find_element_by_xpath(elec_arrow_xpath)"
   ]
  },
  {
   "cell_type": "markdown",
   "metadata": {},
   "source": [
    "### Istanbul 2019 Mayoral Rerun Election"
   ]
  },
  {
   "cell_type": "code",
   "execution_count": 6,
   "metadata": {},
   "outputs": [],
   "source": [
    "# Clicks elec_arrow so that the dropdown list is opened; desired election is selected from the list\n",
    "elec_arrow.click()\n",
    "\n",
    "for option in chrome.find_elements_by_class_name('ng-option'):\n",
    "    if option.text == ist_reelect:\n",
    "        option.click()\n",
    "        break"
   ]
  },
  {
   "cell_type": "code",
   "execution_count": 7,
   "metadata": {},
   "outputs": [],
   "source": [
    "# Clicks the green 'continue' (\"Devam Et\") button\n",
    "continue_classname = 'btn.btn-success.rounded-0.mr-5'\n",
    "\n",
    "button_continue = chrome.find_element_by_class_name(continue_classname)\n",
    "button_continue.click()"
   ]
  },
  {
   "cell_type": "code",
   "execution_count": 8,
   "metadata": {},
   "outputs": [],
   "source": [
    "# Clicks the corresponding arrow for city dropdown list\n",
    "city_arrow_xpath = \"//*[@id='collapsePanelFour']/div[1]/div/div/fieldset/form/div[1]/div[2]/div[1]/ng-select/div/span\"\n",
    "city_arrow = chrome.find_element_by_xpath(city_arrow_xpath)\n",
    "city_arrow.click()"
   ]
  },
  {
   "cell_type": "code",
   "execution_count": 9,
   "metadata": {},
   "outputs": [],
   "source": [
    "# Selects Istanbul from the list of cities (although it is the only option for the rerun mayoral election)\n",
    "city_dropdown_xpath = '/html/body/app-root/app-vatandas/div[2]/app-vatandas-asistan-arsiv-sonuc/div/div/div[2]/div[1]/div/div/fieldset/form/div[1]/div[2]/div[1]/ng-select/ng-dropdown-panel/div'\n",
    "city_dropdown = chrome.find_element_by_xpath(city_dropdown_xpath)\n",
    "\n",
    "for option in city_dropdown.find_elements_by_class_name('ng-option'):\n",
    "    if option.text == istanbul:\n",
    "        option.click()\n",
    "        break"
   ]
  },
  {
   "cell_type": "code",
   "execution_count": 18,
   "metadata": {},
   "outputs": [],
   "source": [
    "# Scans the corresponding arrow for district dropdown list\n",
    "district_arrow_xpath = \"//*[@id='collapsePanelFour']/div[1]/div/div/fieldset/form/div[1]/div[2]/div[2]/ng-select/div/span\"\n",
    "district_arrow = chrome.find_element_by_xpath(district_arrow_xpath)"
   ]
  },
  {
   "cell_type": "code",
   "execution_count": 19,
   "metadata": {
    "scrolled": false
   },
   "outputs": [
    {
     "ename": "NoSuchElementException",
     "evalue": "Message: no such element: Unable to locate element: {\"method\":\"xpath\",\"selector\":\"/html/body/ngb-modal-window/div/div/div[2]/div/button[1]\"}\n  (Session info: chrome=83.0.4103.116)\n",
     "output_type": "error",
     "traceback": [
      "\u001b[0;31m---------------------------------------------------------------------------\u001b[0m",
      "\u001b[0;31mNoSuchElementException\u001b[0m                    Traceback (most recent call last)",
      "\u001b[0;32m<ipython-input-19-03118dd70c6c>\u001b[0m in \u001b[0;36m<module>\u001b[0;34m\u001b[0m\n\u001b[1;32m     26\u001b[0m     \u001b[0mchrome\u001b[0m\u001b[0;34m.\u001b[0m\u001b[0mfind_element_by_xpath\u001b[0m\u001b[0;34m(\u001b[0m\u001b[0msave_button_xpath\u001b[0m\u001b[0;34m)\u001b[0m\u001b[0;34m.\u001b[0m\u001b[0mclick\u001b[0m\u001b[0;34m(\u001b[0m\u001b[0;34m)\u001b[0m\u001b[0;34m\u001b[0m\u001b[0;34m\u001b[0m\u001b[0m\n\u001b[1;32m     27\u001b[0m     \u001b[0mtime\u001b[0m\u001b[0;34m.\u001b[0m\u001b[0msleep\u001b[0m\u001b[0;34m(\u001b[0m\u001b[0;36m5\u001b[0m\u001b[0;34m)\u001b[0m\u001b[0;34m\u001b[0m\u001b[0;34m\u001b[0m\u001b[0m\n\u001b[0;32m---> 28\u001b[0;31m     \u001b[0mchrome\u001b[0m\u001b[0;34m.\u001b[0m\u001b[0mfind_element_by_xpath\u001b[0m\u001b[0;34m(\u001b[0m\u001b[0maccept_button_xpath\u001b[0m\u001b[0;34m)\u001b[0m\u001b[0;34m.\u001b[0m\u001b[0mclick\u001b[0m\u001b[0;34m(\u001b[0m\u001b[0;34m)\u001b[0m\u001b[0;34m\u001b[0m\u001b[0;34m\u001b[0m\u001b[0m\n\u001b[0m\u001b[1;32m     29\u001b[0m     \u001b[0mtime\u001b[0m\u001b[0;34m.\u001b[0m\u001b[0msleep\u001b[0m\u001b[0;34m(\u001b[0m\u001b[0;36m5\u001b[0m\u001b[0;34m)\u001b[0m\u001b[0;34m\u001b[0m\u001b[0;34m\u001b[0m\u001b[0m\n",
      "\u001b[0;32m/opt/anaconda3/lib/python3.7/site-packages/selenium/webdriver/remote/webdriver.py\u001b[0m in \u001b[0;36mfind_element_by_xpath\u001b[0;34m(self, xpath)\u001b[0m\n\u001b[1;32m    392\u001b[0m             \u001b[0melement\u001b[0m \u001b[0;34m=\u001b[0m \u001b[0mdriver\u001b[0m\u001b[0;34m.\u001b[0m\u001b[0mfind_element_by_xpath\u001b[0m\u001b[0;34m(\u001b[0m\u001b[0;34m'//div/td[1]'\u001b[0m\u001b[0;34m)\u001b[0m\u001b[0;34m\u001b[0m\u001b[0;34m\u001b[0m\u001b[0m\n\u001b[1;32m    393\u001b[0m         \"\"\"\n\u001b[0;32m--> 394\u001b[0;31m         \u001b[0;32mreturn\u001b[0m \u001b[0mself\u001b[0m\u001b[0;34m.\u001b[0m\u001b[0mfind_element\u001b[0m\u001b[0;34m(\u001b[0m\u001b[0mby\u001b[0m\u001b[0;34m=\u001b[0m\u001b[0mBy\u001b[0m\u001b[0;34m.\u001b[0m\u001b[0mXPATH\u001b[0m\u001b[0;34m,\u001b[0m \u001b[0mvalue\u001b[0m\u001b[0;34m=\u001b[0m\u001b[0mxpath\u001b[0m\u001b[0;34m)\u001b[0m\u001b[0;34m\u001b[0m\u001b[0;34m\u001b[0m\u001b[0m\n\u001b[0m\u001b[1;32m    395\u001b[0m \u001b[0;34m\u001b[0m\u001b[0m\n\u001b[1;32m    396\u001b[0m     \u001b[0;32mdef\u001b[0m \u001b[0mfind_elements_by_xpath\u001b[0m\u001b[0;34m(\u001b[0m\u001b[0mself\u001b[0m\u001b[0;34m,\u001b[0m \u001b[0mxpath\u001b[0m\u001b[0;34m)\u001b[0m\u001b[0;34m:\u001b[0m\u001b[0;34m\u001b[0m\u001b[0;34m\u001b[0m\u001b[0m\n",
      "\u001b[0;32m/opt/anaconda3/lib/python3.7/site-packages/selenium/webdriver/remote/webdriver.py\u001b[0m in \u001b[0;36mfind_element\u001b[0;34m(self, by, value)\u001b[0m\n\u001b[1;32m    976\u001b[0m         return self.execute(Command.FIND_ELEMENT, {\n\u001b[1;32m    977\u001b[0m             \u001b[0;34m'using'\u001b[0m\u001b[0;34m:\u001b[0m \u001b[0mby\u001b[0m\u001b[0;34m,\u001b[0m\u001b[0;34m\u001b[0m\u001b[0;34m\u001b[0m\u001b[0m\n\u001b[0;32m--> 978\u001b[0;31m             'value': value})['value']\n\u001b[0m\u001b[1;32m    979\u001b[0m \u001b[0;34m\u001b[0m\u001b[0m\n\u001b[1;32m    980\u001b[0m     \u001b[0;32mdef\u001b[0m \u001b[0mfind_elements\u001b[0m\u001b[0;34m(\u001b[0m\u001b[0mself\u001b[0m\u001b[0;34m,\u001b[0m \u001b[0mby\u001b[0m\u001b[0;34m=\u001b[0m\u001b[0mBy\u001b[0m\u001b[0;34m.\u001b[0m\u001b[0mID\u001b[0m\u001b[0;34m,\u001b[0m \u001b[0mvalue\u001b[0m\u001b[0;34m=\u001b[0m\u001b[0;32mNone\u001b[0m\u001b[0;34m)\u001b[0m\u001b[0;34m:\u001b[0m\u001b[0;34m\u001b[0m\u001b[0;34m\u001b[0m\u001b[0m\n",
      "\u001b[0;32m/opt/anaconda3/lib/python3.7/site-packages/selenium/webdriver/remote/webdriver.py\u001b[0m in \u001b[0;36mexecute\u001b[0;34m(self, driver_command, params)\u001b[0m\n\u001b[1;32m    319\u001b[0m         \u001b[0mresponse\u001b[0m \u001b[0;34m=\u001b[0m \u001b[0mself\u001b[0m\u001b[0;34m.\u001b[0m\u001b[0mcommand_executor\u001b[0m\u001b[0;34m.\u001b[0m\u001b[0mexecute\u001b[0m\u001b[0;34m(\u001b[0m\u001b[0mdriver_command\u001b[0m\u001b[0;34m,\u001b[0m \u001b[0mparams\u001b[0m\u001b[0;34m)\u001b[0m\u001b[0;34m\u001b[0m\u001b[0;34m\u001b[0m\u001b[0m\n\u001b[1;32m    320\u001b[0m         \u001b[0;32mif\u001b[0m \u001b[0mresponse\u001b[0m\u001b[0;34m:\u001b[0m\u001b[0;34m\u001b[0m\u001b[0;34m\u001b[0m\u001b[0m\n\u001b[0;32m--> 321\u001b[0;31m             \u001b[0mself\u001b[0m\u001b[0;34m.\u001b[0m\u001b[0merror_handler\u001b[0m\u001b[0;34m.\u001b[0m\u001b[0mcheck_response\u001b[0m\u001b[0;34m(\u001b[0m\u001b[0mresponse\u001b[0m\u001b[0;34m)\u001b[0m\u001b[0;34m\u001b[0m\u001b[0;34m\u001b[0m\u001b[0m\n\u001b[0m\u001b[1;32m    322\u001b[0m             response['value'] = self._unwrap_value(\n\u001b[1;32m    323\u001b[0m                 response.get('value', None))\n",
      "\u001b[0;32m/opt/anaconda3/lib/python3.7/site-packages/selenium/webdriver/remote/errorhandler.py\u001b[0m in \u001b[0;36mcheck_response\u001b[0;34m(self, response)\u001b[0m\n\u001b[1;32m    240\u001b[0m                 \u001b[0malert_text\u001b[0m \u001b[0;34m=\u001b[0m \u001b[0mvalue\u001b[0m\u001b[0;34m[\u001b[0m\u001b[0;34m'alert'\u001b[0m\u001b[0;34m]\u001b[0m\u001b[0;34m.\u001b[0m\u001b[0mget\u001b[0m\u001b[0;34m(\u001b[0m\u001b[0;34m'text'\u001b[0m\u001b[0;34m)\u001b[0m\u001b[0;34m\u001b[0m\u001b[0;34m\u001b[0m\u001b[0m\n\u001b[1;32m    241\u001b[0m             \u001b[0;32mraise\u001b[0m \u001b[0mexception_class\u001b[0m\u001b[0;34m(\u001b[0m\u001b[0mmessage\u001b[0m\u001b[0;34m,\u001b[0m \u001b[0mscreen\u001b[0m\u001b[0;34m,\u001b[0m \u001b[0mstacktrace\u001b[0m\u001b[0;34m,\u001b[0m \u001b[0malert_text\u001b[0m\u001b[0;34m)\u001b[0m\u001b[0;34m\u001b[0m\u001b[0;34m\u001b[0m\u001b[0m\n\u001b[0;32m--> 242\u001b[0;31m         \u001b[0;32mraise\u001b[0m \u001b[0mexception_class\u001b[0m\u001b[0;34m(\u001b[0m\u001b[0mmessage\u001b[0m\u001b[0;34m,\u001b[0m \u001b[0mscreen\u001b[0m\u001b[0;34m,\u001b[0m \u001b[0mstacktrace\u001b[0m\u001b[0;34m)\u001b[0m\u001b[0;34m\u001b[0m\u001b[0;34m\u001b[0m\u001b[0m\n\u001b[0m\u001b[1;32m    243\u001b[0m \u001b[0;34m\u001b[0m\u001b[0m\n\u001b[1;32m    244\u001b[0m     \u001b[0;32mdef\u001b[0m \u001b[0m_value_or_default\u001b[0m\u001b[0;34m(\u001b[0m\u001b[0mself\u001b[0m\u001b[0;34m,\u001b[0m \u001b[0mobj\u001b[0m\u001b[0;34m,\u001b[0m \u001b[0mkey\u001b[0m\u001b[0;34m,\u001b[0m \u001b[0mdefault\u001b[0m\u001b[0;34m)\u001b[0m\u001b[0;34m:\u001b[0m\u001b[0;34m\u001b[0m\u001b[0;34m\u001b[0m\u001b[0m\n",
      "\u001b[0;31mNoSuchElementException\u001b[0m: Message: no such element: Unable to locate element: {\"method\":\"xpath\",\"selector\":\"/html/body/ngb-modal-window/div/div/div[2]/div/button[1]\"}\n  (Session info: chrome=83.0.4103.116)\n"
     ]
    }
   ],
   "source": [
    "district_dropdown_xpath = '/html/body/app-root/app-vatandas/div[2]/app-vatandas-asistan-arsiv-sonuc/div/div/div[2]/div[1]/div/div/fieldset/form/div[1]/div[2]/div[2]/ng-select/ng-dropdown-panel/div'\n",
    "query_button_xpath = '/html/body/app-root/app-vatandas/div[2]/app-vatandas-asistan-arsiv-sonuc/div/div/div[2]/div[1]/div/div/fieldset/form/div[2]/div/div/button'\n",
    "district_input_xpath = '/html/body/app-root/app-vatandas/div[2]/app-vatandas-asistan-arsiv-sonuc/div/div/div[2]/div[1]/div/div/fieldset/form/div[1]/div[2]/div[2]/ng-select/div/div/div[2]/input'\n",
    "save_button_xpath = '/html/body/app-root/app-vatandas/div[2]/app-vatandas-asistan-arsiv-sonuc/div/div/div[2]/div[1]/div/div/app-yurtici-muhtarlik-listesi/fieldset/div[2]/div/button'\n",
    "accept_button_xpath = '/html/body/ngb-modal-window/div/div/div[2]/div/button[1]'\n",
    "\n",
    "query_button = chrome.find_element_by_xpath(query_button_xpath)\n",
    "district_input = chrome.find_element_by_xpath(district_input_xpath)\n",
    "\n",
    "# Retrieves a list of districts of Istanbul\n",
    "districts = list()\n",
    "district_arrow.click()\n",
    "for option in chrome.find_element_by_xpath(district_dropdown_xpath).find_elements_by_class_name('ng-option'):\n",
    "    districts.append(option.text)\n",
    "\n",
    "# For each district in the list, corresponding box receives district input, \n",
    "## navigates to election results and downloads them\n",
    "for i in range(len(districts)):\n",
    "    district = districts[i]\n",
    "    time.sleep(3)\n",
    "    district_input.send_keys(district)\n",
    "    district_input.send_keys(Keys.ENTER)\n",
    "    time.sleep(10)\n",
    "    query_button.click()\n",
    "    time.sleep(10)\n",
    "    chrome.find_element_by_xpath(save_button_xpath).click()\n",
    "    time.sleep(5)\n",
    "    chrome.find_element_by_xpath(accept_button_xpath).click()\n",
    "    time.sleep(5)   "
   ]
  },
  {
   "cell_type": "code",
   "execution_count": 13,
   "metadata": {},
   "outputs": [],
   "source": [
    "# Creates directories in desired location in computer for storing the output excel files\n",
    "downloads  = '/Users/ercansen/Downloads/'\n",
    "dest_dir_1 = '/Users/ercansen/Desktop/apps/istanbul/2019-06' \n",
    "dest_dir_2 = '/Users/ercansen/Desktop/apps/istanbul/2019-06/raw'\n",
    "os.mkdir(dest_dir_1)\n",
    "os.mkdir(dest_dir_2)\n",
    "\n",
    "# Queries all excel files with election results using glob\n",
    "files = glob.glob(downloads + 'Yurt*.xlsx')\n",
    "\n",
    "# Copies Excel files to the directory that was just created\n",
    "for file in files:\n",
    "    if os.path.isfile(file) and len(files) == 39:\n",
    "        shutil.copy2(file, dest_dir_2)\n",
    "        \n",
    "# Deletes original files from 'Downloads' after copying\n",
    "for file in files:\n",
    "    if os.path.isfile(file) and len(files) == 39:\n",
    "        os.remove(file)"
   ]
  },
  {
   "cell_type": "markdown",
   "metadata": {},
   "source": [
    "### 2019 Local Election (cancelled)"
   ]
  },
  {
   "cell_type": "code",
   "execution_count": 14,
   "metadata": {},
   "outputs": [],
   "source": [
    "# To select another election, we go back a step by clicking on \n",
    "## corresponding arrow for \"Select Election Name\"\n",
    "elect_reselect_xpath = '/html/body/app-root/app-vatandas/div[2]/app-vatandas-asistan-arsiv-sorgu/div/div/div[1]/div/div[2]/a/span'\n",
    "chrome.find_element_by_xpath(elect_reselect_xpath).click()\n",
    "\n",
    "# We make a new selection for election name\n",
    "elec_arrow.click()\n",
    "for option in chrome.find_elements_by_class_name('ng-option'):\n",
    "    if option.text == loc_2019:\n",
    "        option.click()\n",
    "        break"
   ]
  },
  {
   "cell_type": "code",
   "execution_count": 19,
   "metadata": {},
   "outputs": [],
   "source": [
    "# Scans election type arrow\n",
    "elec_type_arrow_xpath = '/html/body/app-root/app-vatandas/div[2]/app-vatandas-asistan-arsiv-sorgu/div/div/div[2]/div[1]/div/div/form/div[1]/div[2]/div/ng-select/div/span'\n",
    "chrome.find_element_by_xpath(elec_type_arrow_xpath).click()"
   ]
  },
  {
   "cell_type": "code",
   "execution_count": 20,
   "metadata": {},
   "outputs": [],
   "source": [
    "metro_municip_elec = 'BÜYÜKŞEHİR BELEDİYE BAŞKANLIĞI SEÇİMLERİ'\n",
    "elec_type_dropdown_xpath = '/html/body/app-root/app-vatandas/div[2]/app-vatandas-asistan-arsiv-sorgu/div/div/div[2]/div[1]/div/div/form/div[1]/div[2]/div/ng-select/ng-dropdown-panel'\n",
    "continue_xpath = '/html/body/app-root/app-vatandas/div[2]/app-vatandas-asistan-arsiv-sorgu/div/div/div[2]/div[1]/div/div/form/div[2]/div/div/button[1]'\n",
    "\n",
    "# At local elections, multiple elections are carried out (metropolitan mayor, district mayor, town council)\n",
    "# We are interested in metro. mayor, since it is most suitable for our purposes, hence select that on dropdown list\n",
    "elec_type_dropdown = chrome.find_element_by_xpath(elec_type_dropdown_xpath)\n",
    "\n",
    "for option in elec_type_dropdown.find_elements_by_class_name('ng-option'):\n",
    "    if option.text == metro_municip_elec:\n",
    "        option.click()\n",
    "        break\n",
    "        \n",
    "time.sleep(5)\n",
    "chrome.find_element_by_xpath(continue_xpath).click()"
   ]
  },
  {
   "cell_type": "code",
   "execution_count": 21,
   "metadata": {},
   "outputs": [],
   "source": [
    "# Opens up the dropdown list for city name\n",
    "city_arrow_xpath = \"//*[@id='collapsePanelFour']/div[1]/div/div/fieldset/form/div[1]/div[2]/div[1]/ng-select/div/span\"\n",
    "city_arrow = chrome.find_element_by_xpath(city_arrow_xpath)\n",
    "city_arrow.click()"
   ]
  },
  {
   "cell_type": "code",
   "execution_count": 22,
   "metadata": {},
   "outputs": [],
   "source": [
    "# Selects Istanbul from the list of cities\n",
    "city_dropdown_xpath = '/html/body/app-root/app-vatandas/div[2]/app-vatandas-asistan-arsiv-sonuc/div/div/div[2]/div[1]/div/div/fieldset/form/div[1]/div[2]/div[1]/ng-select/ng-dropdown-panel/div'\n",
    "city_dropdown = chrome.find_element_by_xpath(city_dropdown_xpath)\n",
    "\n",
    "for option in city_dropdown.find_elements_by_class_name('ng-option'):\n",
    "    if option.text == istanbul:\n",
    "        option.click()\n",
    "        break"
   ]
  },
  {
   "cell_type": "code",
   "execution_count": 24,
   "metadata": {},
   "outputs": [],
   "source": [
    "query_button_xpath = '/html/body/app-root/app-vatandas/div[2]/app-vatandas-asistan-arsiv-sonuc/div/div/div[2]/div[1]/div/div/fieldset/form/div[2]/div/div/button'\n",
    "district_input_xpath = '/html/body/app-root/app-vatandas/div[2]/app-vatandas-asistan-arsiv-sonuc/div/div/div[2]/div[1]/div/div/fieldset/form/div[1]/div[2]/div[2]/ng-select/div/div/div[2]/input'\n",
    "save_button_xpath = '/html/body/app-root/app-vatandas/div[2]/app-vatandas-asistan-arsiv-sonuc/div/div/div[2]/div[1]/div/div/app-yurtici-muhtarlik-listesi/fieldset/div[2]/div/button'\n",
    "accept_button_xpath = '/html/body/ngb-modal-window/div/div/div[2]/div/button[1]'\n",
    "\n",
    "query_button = chrome.find_element_by_xpath(query_button_xpath)\n",
    "district_input = chrome.find_element_by_xpath(district_input_xpath)\n",
    "\n",
    "# We already have the list 'districts' from previous step\n",
    "# Enters each district name to corresponding input box and downloads the election results\n",
    "for i in range(len(districts)):\n",
    "    district = districts[i]\n",
    "    time.sleep(3)\n",
    "    district_input.send_keys(district)\n",
    "    district_input.send_keys(Keys.ENTER)\n",
    "    time.sleep(10)\n",
    "    chrome.find_element_by_xpath(query_button_xpath).click()\n",
    "    time.sleep(10)\n",
    "    chrome.find_element_by_xpath(save_button_xpath).click()\n",
    "    time.sleep(5)\n",
    "    chrome.find_element_by_xpath(accept_button_xpath).click()\n",
    "    time.sleep(5)  "
   ]
  },
  {
   "cell_type": "code",
   "execution_count": 25,
   "metadata": {},
   "outputs": [],
   "source": [
    "# Creates directories, copies .xlsx files to them and deletes the originals from Downloads \n",
    "downloads  = '/Users/ercansen/Downloads/'\n",
    "dest_dir_1 = '/Users/ercansen/Desktop/apps/istanbul/2019-03' \n",
    "dest_dir_2 = '/Users/ercansen/Desktop/apps/istanbul/2019-03/raw'\n",
    "os.mkdir(dest_dir_1)\n",
    "os.mkdir(dest_dir_2)\n",
    "\n",
    "files = glob.glob(downloads + 'Yurt*.xlsx')\n",
    "\n",
    "for file in files:\n",
    "    if os.path.isfile(file):\n",
    "        shutil.copy2(file, dest_dir_2)\n",
    "        \n",
    "for file in files:\n",
    "    if os.path.isfile(file) and len(files) == 39:\n",
    "        os.remove(file)"
   ]
  },
  {
   "cell_type": "markdown",
   "metadata": {},
   "source": [
    "### 2018 General Election (Presidential)"
   ]
  },
  {
   "cell_type": "code",
   "execution_count": 10,
   "metadata": {},
   "outputs": [],
   "source": [
    "# Selects the new election name\n",
    "elect_reselect_xpath = '/html/body/app-root/app-vatandas/div[2]/app-vatandas-asistan-arsiv-sorgu/div/div/div[1]/div/div[2]/a/span'\n",
    "chrome.find_element_by_xpath(elect_reselect_xpath).click()\n",
    "elec_arrow.click()\n",
    "\n",
    "for option in chrome.find_elements_by_class_name('ng-option'):\n",
    "    if option.text == gen_2018:\n",
    "        option.click()\n",
    "        break"
   ]
  },
  {
   "cell_type": "code",
   "execution_count": 11,
   "metadata": {},
   "outputs": [],
   "source": [
    "# Scans the arrow for election type\n",
    "elec_type_arrow_xpath = '/html/body/app-root/app-vatandas/div[2]/app-vatandas-asistan-arsiv-sorgu/div/div/div[2]/div[1]/div/div/form/div[1]/div[2]/div/ng-select/div/span'\n",
    "chrome.find_element_by_xpath(elec_type_arrow_xpath).click()"
   ]
  },
  {
   "cell_type": "code",
   "execution_count": 12,
   "metadata": {},
   "outputs": [],
   "source": [
    "# Selects the election type -- presidential\n",
    "presidential = 'CUMHURBAŞKANI SEÇİMİ'\n",
    "elec_type_dropdown_xpath = '/html/body/app-root/app-vatandas/div[2]/app-vatandas-asistan-arsiv-sorgu/div/div/div[2]/div[1]/div/div/form/div[1]/div[2]/div/ng-select/ng-dropdown-panel'\n",
    "elec_type_dropdown = chrome.find_element_by_xpath(elec_type_dropdown_xpath)\n",
    "\n",
    "time.sleep(3)\n",
    "\n",
    "for option in elec_type_dropdown.find_elements_by_class_name('ng-option'):\n",
    "    if option.text == presidential:\n",
    "        option.click()\n",
    "        break"
   ]
  },
  {
   "cell_type": "code",
   "execution_count": 14,
   "metadata": {},
   "outputs": [],
   "source": [
    "# Continue\n",
    "continue_xpath = '/html/body/app-root/app-vatandas/div[2]/app-vatandas-asistan-arsiv-sorgu/div/div/div[2]/div[1]/div/div/form/div[2]/div/div/button[1]'\n",
    "chrome.find_element_by_xpath(continue_xpath).click()"
   ]
  },
  {
   "cell_type": "code",
   "execution_count": 15,
   "metadata": {},
   "outputs": [],
   "source": [
    "# Navigates to domestic results, as opposed to foreign (expat voters)\n",
    "domestic_xpath = '/html/body/app-root/app-vatandas/div[2]/app-vatandas-asistan-arsiv-sonuc/div/div/div[2]/div[1]/div/div/fieldset/form/div[1]/div[1]/div[1]/div[2]/label/input'\n",
    "chrome.find_element_by_xpath(domestic_xpath).click()"
   ]
  },
  {
   "cell_type": "code",
   "execution_count": 16,
   "metadata": {},
   "outputs": [],
   "source": [
    "# Selects Istanbul from the list of cities\n",
    "city_arrow_xpath = '/html/body/app-root/app-vatandas/div[2]/app-vatandas-asistan-arsiv-sonuc/div/div/div[2]/div[1]/div/div/fieldset/form/div[1]/div[2]/div[1]/ng-select/div/span'\n",
    "city_dropdown_xpath = '/html/body/app-root/app-vatandas/div[2]/app-vatandas-asistan-arsiv-sonuc/div/div/div[2]/div[1]/div/div/fieldset/form/div[1]/div[2]/div[1]/ng-select/ng-dropdown-panel'\n",
    "\n",
    "chrome.find_element_by_xpath(city_arrow_xpath).click()\n",
    "time.sleep(3)\n",
    "city_dropdown = chrome.find_element_by_xpath(city_dropdown_xpath)\n",
    "\n",
    "for option in city_dropdown.find_elements_by_class_name('ng-option'):\n",
    "    if option.text == istanbul:\n",
    "        option.click()\n",
    "        break"
   ]
  },
  {
   "cell_type": "code",
   "execution_count": 20,
   "metadata": {},
   "outputs": [],
   "source": [
    "query_button_xpath = '/html/body/app-root/app-vatandas/div[2]/app-vatandas-asistan-arsiv-sonuc/div/div/div[2]/div[1]/div/div/fieldset/form/div[2]/div/div/button'\n",
    "district_input_xpath = '/html/body/app-root/app-vatandas/div[2]/app-vatandas-asistan-arsiv-sonuc/div/div/div[2]/div[1]/div/div/fieldset/form/div[1]/div[2]/div[2]/ng-select/div/div/div[2]/input'\n",
    "save_button_xpath = '/html/body/app-root/app-vatandas/div[2]/app-vatandas-asistan-arsiv-sonuc/div/div/div[2]/div[1]/div/div/app-yurtici-muhtarlik-listesi/fieldset/div[2]/div/button'\n",
    "accept_button_xpath = '/html/body/ngb-modal-window/div/div/div[2]/div/button[1]'\n",
    "\n",
    "query_button = chrome.find_element_by_xpath(query_button_xpath)\n",
    "district_input = chrome.find_element_by_xpath(district_input_xpath)\n",
    "\n",
    "# We already have the list 'districts' from an earlier step\n",
    "# Enters each district name to input box and downloads the election results\n",
    "for i in range(len(districts)):\n",
    "    district = districts[i]\n",
    "    time.sleep(3)\n",
    "    district_input.send_keys(district)\n",
    "    district_input.send_keys(Keys.ENTER)\n",
    "    time.sleep(10)\n",
    "    query_button.click()\n",
    "    time.sleep(10)\n",
    "    chrome.find_element_by_xpath(save_button_xpath).click()\n",
    "    time.sleep(5)\n",
    "    chrome.find_element_by_xpath(accept_button_xpath).click()\n",
    "    time.sleep(5)"
   ]
  },
  {
   "cell_type": "code",
   "execution_count": 24,
   "metadata": {},
   "outputs": [],
   "source": [
    "# Creates directories, copies .xlsx files to them and deletes the originals from Downloads \n",
    "downloads  = '/Users/ercansen/Downloads/'\n",
    "dest_dir_1 = '/Users/ercansen/Desktop/apps/istanbul/2018-06-PRES' \n",
    "dest_dir_2 = '/Users/ercansen/Desktop/apps/istanbul/2018-06-PRES/raw'\n",
    "os.mkdir(dest_dir_1)\n",
    "os.mkdir(dest_dir_2)\n",
    "\n",
    "files = glob.glob(downloads + 'Yurt*.xlsx')\n",
    "\n",
    "for file in files:\n",
    "    if os.path.isfile(file):\n",
    "        shutil.copy2(file, dest_dir_2)\n",
    "        \n",
    "for file in files:\n",
    "    if os.path.isfile(file) and len(files) == 39:\n",
    "        os.remove(file)"
   ]
  },
  {
   "cell_type": "markdown",
   "metadata": {},
   "source": [
    "### 2018 General Election (MP)"
   ]
  },
  {
   "cell_type": "code",
   "execution_count": 32,
   "metadata": {},
   "outputs": [],
   "source": [
    "# Selects the new election name\n",
    "elect_reselect_xpath = '/html/body/app-root/app-vatandas/div[2]/app-vatandas-asistan-arsiv-sorgu/div/div/div[1]/div/div[2]/a/span'\n",
    "chrome.find_element_by_xpath(elect_reselect_xpath).click()\n",
    "elec_arrow.click()\n",
    "\n",
    "for option in chrome.find_elements_by_class_name('ng-option'):\n",
    "    if option.text == gen_2018:\n",
    "        option.click()\n",
    "        break"
   ]
  },
  {
   "cell_type": "code",
   "execution_count": 33,
   "metadata": {},
   "outputs": [],
   "source": [
    "# Scans the arrow for election type\n",
    "elec_type_arrow_xpath = '/html/body/app-root/app-vatandas/div[2]/app-vatandas-asistan-arsiv-sorgu/div/div/div[2]/div[1]/div/div/form/div[1]/div[2]/div/ng-select/div/span'\n",
    "chrome.find_element_by_xpath(elec_type_arrow_xpath).click()"
   ]
  },
  {
   "cell_type": "code",
   "execution_count": 34,
   "metadata": {},
   "outputs": [],
   "source": [
    "# Selects the election type -- member of parliament\n",
    "mp = 'MİLLETVEKİLİ GENEL SEÇİMİ'\n",
    "elec_type_dropdown_xpath = '/html/body/app-root/app-vatandas/div[2]/app-vatandas-asistan-arsiv-sorgu/div/div/div[2]/div[1]/div/div/form/div[1]/div[2]/div/ng-select/ng-dropdown-panel'\n",
    "elec_type_dropdown = chrome.find_element_by_xpath(elec_type_dropdown_xpath)\n",
    "\n",
    "time.sleep(3)\n",
    "\n",
    "for option in elec_type_dropdown.find_elements_by_class_name('ng-option'):\n",
    "    if option.text == mp:\n",
    "        option.click()\n",
    "        break"
   ]
  },
  {
   "cell_type": "code",
   "execution_count": 35,
   "metadata": {},
   "outputs": [],
   "source": [
    "# Continue\n",
    "continue_xpath = '/html/body/app-root/app-vatandas/div[2]/app-vatandas-asistan-arsiv-sorgu/div/div/div[2]/div[1]/div/div/form/div[2]/div/div/button[1]'\n",
    "chrome.find_element_by_xpath(continue_xpath).click()"
   ]
  },
  {
   "cell_type": "code",
   "execution_count": 36,
   "metadata": {},
   "outputs": [],
   "source": [
    "# Navigates to domestic results, as opposed to foreign (expat voters)\n",
    "domestic_xpath = '/html/body/app-root/app-vatandas/div[2]/app-vatandas-asistan-arsiv-sonuc/div/div/div[2]/div[1]/div/div/fieldset/form/div[1]/div[1]/div[1]/div[2]/label/input'\n",
    "chrome.find_element_by_xpath(domestic_xpath).click()"
   ]
  },
  {
   "cell_type": "code",
   "execution_count": 37,
   "metadata": {},
   "outputs": [],
   "source": [
    "# Selects Istanbul from the list of cities\n",
    "city_arrow_xpath = '/html/body/app-root/app-vatandas/div[2]/app-vatandas-asistan-arsiv-sonuc/div/div/div[2]/div[1]/div/div/fieldset/form/div[1]/div[2]/div[1]/ng-select/div/span'\n",
    "city_dropdown_xpath = '/html/body/app-root/app-vatandas/div[2]/app-vatandas-asistan-arsiv-sonuc/div/div/div[2]/div[1]/div/div/fieldset/form/div[1]/div[2]/div[1]/ng-select/ng-dropdown-panel'\n",
    "\n",
    "# Istanbul is divided into 3 regions for MP elections, all of which have to be scraped separately\n",
    "istanbul_1 = 'İSTANBUL-1'\n",
    "istanbul_2 = 'İSTANBUL-2'\n",
    "istanbul_3 = 'İSTANBUL-3'\n",
    "\n",
    "chrome.find_element_by_xpath(city_arrow_xpath).click()\n",
    "time.sleep(3)\n",
    "city_dropdown = chrome.find_element_by_xpath(city_dropdown_xpath)\n",
    "\n",
    "for option in city_dropdown.find_elements_by_class_name('ng-option'):\n",
    "    if option.text == istanbul_1:\n",
    "        option.click()\n",
    "        break"
   ]
  },
  {
   "cell_type": "code",
   "execution_count": 38,
   "metadata": {},
   "outputs": [],
   "source": [
    "district_arrow_xpath = '/html/body/app-root/app-vatandas/div[2]/app-vatandas-asistan-arsiv-sonuc/div/div/div[2]/div[1]/div/div/fieldset/form/div[1]/div[2]/div[2]/ng-select/div/span'\n",
    "query_button_xpath = '/html/body/app-root/app-vatandas/div[2]/app-vatandas-asistan-arsiv-sonuc/div/div/div[2]/div[1]/div/div/fieldset/form/div[2]/div/div/button'\n",
    "district_input_xpath = '/html/body/app-root/app-vatandas/div[2]/app-vatandas-asistan-arsiv-sonuc/div/div/div[2]/div[1]/div/div/fieldset/form/div[1]/div[2]/div[2]/ng-select/div/div/div[2]/input'\n",
    "save_button_xpath = '/html/body/app-root/app-vatandas/div[2]/app-vatandas-asistan-arsiv-sonuc/div/div/div[2]/div[1]/div/div/app-yurtici-muhtarlik-listesi/fieldset/div[2]/div/button'\n",
    "accept_button_xpath = '/html/body/ngb-modal-window/div/div/div[2]/div/button[1]'\n",
    "\n",
    "query_button = chrome.find_element_by_xpath(query_button_xpath)\n",
    "district_input = chrome.find_element_by_xpath(district_input_xpath)\n",
    "\n",
    "# Retrieves Istanbul-1 MP region's district list\n",
    "districts_1 = list()\n",
    "chrome.find_element_by_xpath(district_arrow_xpath).click()\n",
    "for option in chrome.find_element_by_xpath(district_dropdown_xpath).find_elements_by_class_name('ng-option'):\n",
    "    districts_1.append(option.text)\n",
    "\n",
    "# Enters each district name to input box and downloads the election results\n",
    "for i in range(len(districts_1)):\n",
    "    district = districts_1[i]\n",
    "    time.sleep(3)\n",
    "    district_input.send_keys(district)\n",
    "    district_input.send_keys(Keys.ENTER)\n",
    "    time.sleep(10)\n",
    "    query_button.click()\n",
    "    time.sleep(10)\n",
    "    chrome.find_element_by_xpath(save_button_xpath).click()\n",
    "    time.sleep(5)\n",
    "    chrome.find_element_by_xpath(accept_button_xpath).click()\n",
    "    time.sleep(5)  "
   ]
  },
  {
   "cell_type": "code",
   "execution_count": 39,
   "metadata": {},
   "outputs": [],
   "source": [
    "# Creates directories, copies .xlsx files to them and deletes the originals from Downloads \n",
    "downloads  = '/Users/ercansen/Downloads/'\n",
    "dest_dir_1 = '/Users/ercansen/Desktop/apps/istanbul/2018-06-MP' \n",
    "dest_dir_2 = '/Users/ercansen/Desktop/apps/istanbul/2018-06-MP/raw'\n",
    "os.mkdir(dest_dir_1)\n",
    "os.mkdir(dest_dir_2)\n",
    "\n",
    "files = glob.glob(downloads + 'Yurt*.xlsx')\n",
    "\n",
    "for file in files:\n",
    "    if os.path.isfile(file):\n",
    "        shutil.copy2(file, dest_dir_2)\n",
    "        \n",
    "for file in files:\n",
    "    if os.path.isfile(file) and len(files):\n",
    "        os.remove(file)"
   ]
  },
  {
   "cell_type": "code",
   "execution_count": 40,
   "metadata": {},
   "outputs": [],
   "source": [
    "# Istanbul's 2nd electoral region\n",
    "chrome.find_element_by_xpath(city_arrow_xpath).click()\n",
    "chrome.find_element_by_xpath(city_arrow_xpath).click()\n",
    "time.sleep(3)\n",
    "city_dropdown = chrome.find_element_by_xpath(city_dropdown_xpath)\n",
    "\n",
    "for option in city_dropdown.find_elements_by_class_name('ng-option'):\n",
    "    if option.text == istanbul_2:\n",
    "        option.click()\n",
    "        break"
   ]
  },
  {
   "cell_type": "code",
   "execution_count": 41,
   "metadata": {},
   "outputs": [],
   "source": [
    "# Retrieves Istanbul-2 MP region's district list\n",
    "districts_2 = list()\n",
    "chrome.find_element_by_xpath(district_arrow_xpath).click()\n",
    "for option in chrome.find_element_by_xpath(district_dropdown_xpath).find_elements_by_class_name('ng-option'):\n",
    "    districts_2.append(option.text)\n",
    "\n",
    "# Enters each district name to input box and downloads the election results\n",
    "for i in range(len(districts_2)):\n",
    "    district = districts_2[i]\n",
    "    time.sleep(3)\n",
    "    district_input.send_keys(district)\n",
    "    district_input.send_keys(Keys.ENTER)\n",
    "    time.sleep(10)\n",
    "    query_button.click()\n",
    "    time.sleep(10)\n",
    "    chrome.find_element_by_xpath(save_button_xpath).click()\n",
    "    time.sleep(5)\n",
    "    chrome.find_element_by_xpath(accept_button_xpath).click()\n",
    "    time.sleep(5)  "
   ]
  },
  {
   "cell_type": "code",
   "execution_count": 42,
   "metadata": {},
   "outputs": [],
   "source": [
    "files = glob.glob(downloads + 'Yurt*.xlsx')\n",
    "\n",
    "for file in files:\n",
    "    if os.path.isfile(file):\n",
    "        shutil.copy2(file, dest_dir_2)\n",
    "        \n",
    "for file in files:\n",
    "    if os.path.isfile(file) and len(files):\n",
    "        os.remove(file)"
   ]
  },
  {
   "cell_type": "code",
   "execution_count": 43,
   "metadata": {},
   "outputs": [],
   "source": [
    "# Istanbul's 3rd electoral region\n",
    "chrome.find_element_by_xpath(city_arrow_xpath).click()\n",
    "chrome.find_element_by_xpath(city_arrow_xpath).click()\n",
    "time.sleep(3)\n",
    "city_dropdown = chrome.find_element_by_xpath(city_dropdown_xpath)\n",
    "\n",
    "for option in city_dropdown.find_elements_by_class_name('ng-option'):\n",
    "    if option.text == istanbul_3:\n",
    "        option.click()\n",
    "        break"
   ]
  },
  {
   "cell_type": "code",
   "execution_count": 44,
   "metadata": {},
   "outputs": [],
   "source": [
    "# Retrieves Istanbul-3 MP region's district list\n",
    "districts_3 = list()\n",
    "chrome.find_element_by_xpath(district_arrow_xpath).click()\n",
    "for option in chrome.find_element_by_xpath(district_dropdown_xpath).find_elements_by_class_name('ng-option'):\n",
    "    districts_3.append(option.text)\n",
    "\n",
    "# Enters each district name to input box and downloads the election results\n",
    "for i in range(len(districts_3)):\n",
    "    district = districts_3[i]\n",
    "    time.sleep(3)\n",
    "    district_input.send_keys(district)\n",
    "    district_input.send_keys(Keys.ENTER)\n",
    "    time.sleep(10)\n",
    "    query_button.click()\n",
    "    time.sleep(10)\n",
    "    chrome.find_element_by_xpath(save_button_xpath).click()\n",
    "    time.sleep(5)\n",
    "    chrome.find_element_by_xpath(accept_button_xpath).click()\n",
    "    time.sleep(5)  "
   ]
  },
  {
   "cell_type": "code",
   "execution_count": 45,
   "metadata": {},
   "outputs": [],
   "source": [
    "files = glob.glob(downloads + 'Yurt*.xlsx')\n",
    "\n",
    "for file in files:\n",
    "    if os.path.isfile(file):\n",
    "        shutil.copy2(file, dest_dir_2)\n",
    "        \n",
    "for file in files:\n",
    "    if os.path.isfile(file) and len(files):\n",
    "        os.remove(file)"
   ]
  },
  {
   "cell_type": "markdown",
   "metadata": {},
   "source": [
    "### 2017 Constitutional Referendum"
   ]
  },
  {
   "cell_type": "code",
   "execution_count": 69,
   "metadata": {},
   "outputs": [],
   "source": [
    "# Selects the new election name\n",
    "elect_reselect_xpath = '/html/body/app-root/app-vatandas/div[2]/app-vatandas-asistan-arsiv-sorgu/div/div/div[1]/div/div[2]/a/span'\n",
    "chrome.find_element_by_xpath(elect_reselect_xpath).click()\n",
    "elec_arrow.click()\n",
    "\n",
    "for option in chrome.find_elements_by_class_name('ng-option'):\n",
    "    if option.text == ref_2017:\n",
    "        option.click()\n",
    "        break"
   ]
  },
  {
   "cell_type": "code",
   "execution_count": 70,
   "metadata": {},
   "outputs": [],
   "source": [
    "# Continue\n",
    "continue_xpath = '/html/body/app-root/app-vatandas/div[2]/app-vatandas-asistan-arsiv-sorgu/div/div/div[2]/div[1]/div/div/form/div[2]/div/div/button[1]'\n",
    "chrome.find_element_by_xpath(continue_xpath).click()"
   ]
  },
  {
   "cell_type": "code",
   "execution_count": 71,
   "metadata": {},
   "outputs": [],
   "source": [
    "# Navigates to domestic results, as opposed to foreign (expat voters)\n",
    "domestic_xpath = '/html/body/app-root/app-vatandas/div[2]/app-vatandas-asistan-arsiv-sonuc/div/div/div[2]/div[1]/div/div/fieldset/form/div[1]/div[1]/div[1]/div[2]/label/input'\n",
    "chrome.find_element_by_xpath(domestic_xpath).click()"
   ]
  },
  {
   "cell_type": "code",
   "execution_count": 72,
   "metadata": {},
   "outputs": [],
   "source": [
    "# Selects Istanbul from the list of cities\n",
    "city_arrow_xpath = '/html/body/app-root/app-vatandas/div[2]/app-vatandas-asistan-arsiv-sonuc/div/div/div[2]/div[1]/div/div/fieldset/form/div[1]/div[2]/div[1]/ng-select/div/span'\n",
    "city_dropdown_xpath = '/html/body/app-root/app-vatandas/div[2]/app-vatandas-asistan-arsiv-sonuc/div/div/div[2]/div[1]/div/div/fieldset/form/div[1]/div[2]/div[1]/ng-select/ng-dropdown-panel'\n",
    "\n",
    "chrome.find_element_by_xpath(city_arrow_xpath).click()\n",
    "time.sleep(3)\n",
    "city_dropdown = chrome.find_element_by_xpath(city_dropdown_xpath)\n",
    "\n",
    "for option in city_dropdown.find_elements_by_class_name('ng-option'):\n",
    "    if option.text == istanbul:\n",
    "        option.click()\n",
    "        break"
   ]
  },
  {
   "cell_type": "code",
   "execution_count": 73,
   "metadata": {},
   "outputs": [],
   "source": [
    "query_button_xpath = '/html/body/app-root/app-vatandas/div[2]/app-vatandas-asistan-arsiv-sonuc/div/div/div[2]/div[1]/div/div/fieldset/form/div[2]/div/div/button'\n",
    "district_input_xpath = '/html/body/app-root/app-vatandas/div[2]/app-vatandas-asistan-arsiv-sonuc/div/div/div[2]/div[1]/div/div/fieldset/form/div[1]/div[2]/div[2]/ng-select/div/div/div[2]/input'\n",
    "save_button_xpath = '/html/body/app-root/app-vatandas/div[2]/app-vatandas-asistan-arsiv-sonuc/div/div/div[2]/div[1]/div/div/app-yurtici-muhtarlik-listesi/fieldset/div[2]/div/button'\n",
    "accept_button_xpath = '/html/body/ngb-modal-window/div/div/div[2]/div/button[1]'\n",
    "\n",
    "query_button = chrome.find_element_by_xpath(query_button_xpath)\n",
    "district_input = chrome.find_element_by_xpath(district_input_xpath)\n",
    "\n",
    "# We already have the list 'districts' from an earlier step\n",
    "# Enters each district name to input box and downloads the election results\n",
    "for i in range(len(districts)):\n",
    "    district = districts[i]\n",
    "    time.sleep(3)\n",
    "    district_input.send_keys(district)\n",
    "    district_input.send_keys(Keys.ENTER)\n",
    "    time.sleep(10)\n",
    "    query_button.click()\n",
    "    time.sleep(10)\n",
    "    chrome.find_element_by_xpath(save_button_xpath).click()\n",
    "    time.sleep(5)\n",
    "    chrome.find_element_by_xpath(accept_button_xpath).click()\n",
    "    time.sleep(5)"
   ]
  },
  {
   "cell_type": "code",
   "execution_count": 74,
   "metadata": {},
   "outputs": [],
   "source": [
    "# Creates directories, copies .xlsx files to them and deletes the originals from Downloads \n",
    "downloads  = '/Users/ercansen/Downloads/'\n",
    "dest_dir_1 = '/Users/ercansen/Desktop/apps/istanbul/2017-04' \n",
    "dest_dir_2 = '/Users/ercansen/Desktop/apps/istanbul/2017-04/raw'\n",
    "os.mkdir(dest_dir_1)\n",
    "os.mkdir(dest_dir_2)\n",
    "\n",
    "files = glob.glob(downloads + 'Yurt*.xlsx')\n",
    "\n",
    "for file in files:\n",
    "    if os.path.isfile(file):\n",
    "        shutil.copy2(file, dest_dir_2)\n",
    "        \n",
    "for file in files:\n",
    "    if os.path.isfile(file) and len(files):\n",
    "        os.remove(file)"
   ]
  },
  {
   "cell_type": "markdown",
   "metadata": {},
   "source": [
    "### 2015 November General Election"
   ]
  },
  {
   "cell_type": "code",
   "execution_count": 75,
   "metadata": {},
   "outputs": [],
   "source": [
    "# Selects the new election name\n",
    "elect_reselect_xpath = '/html/body/app-root/app-vatandas/div[2]/app-vatandas-asistan-arsiv-sorgu/div/div/div[1]/div/div[2]/a/span'\n",
    "chrome.find_element_by_xpath(elect_reselect_xpath).click()\n",
    "elec_arrow.click()\n",
    "\n",
    "for option in chrome.find_elements_by_class_name('ng-option'):\n",
    "    if option.text == gen_nov_2015:\n",
    "        option.click()\n",
    "        break"
   ]
  },
  {
   "cell_type": "code",
   "execution_count": 77,
   "metadata": {},
   "outputs": [],
   "source": [
    "# Navigates to domestic results, as opposed to foreign (expat voters)\n",
    "domestic_xpath = '/html/body/app-root/app-vatandas/div[2]/app-vatandas-asistan-arsiv-sorgu/div/div/div[2]/div[1]/div/div/form/div[1]/div[2]/div/div[2]/label/input'\n",
    "chrome.find_element_by_xpath(domestic_xpath).click()"
   ]
  },
  {
   "cell_type": "code",
   "execution_count": 78,
   "metadata": {},
   "outputs": [],
   "source": [
    "# Continue\n",
    "continue_xpath = '/html/body/app-root/app-vatandas/div[2]/app-vatandas-asistan-arsiv-sorgu/div/div/div[2]/div[1]/div/div/form/div[2]/div/div/button[1]'\n",
    "chrome.find_element_by_xpath(continue_xpath).click()"
   ]
  },
  {
   "cell_type": "code",
   "execution_count": 79,
   "metadata": {},
   "outputs": [],
   "source": [
    "city_arrow_xpath = '/html/body/app-root/app-vatandas/div[2]/app-vatandas-asistan-arsiv-sonuc/div/div/div[2]/div[1]/div/div/fieldset/form/div[1]/div[2]/div[1]/ng-select/div/span'\n",
    "city_dropdown_xpath = '/html/body/app-root/app-vatandas/div[2]/app-vatandas-asistan-arsiv-sonuc/div/div/div[2]/div[1]/div/div/fieldset/form/div[1]/div[2]/div[1]/ng-select/ng-dropdown-panel'\n",
    "\n",
    "# Istanbul is divided into 3 regions for MP elections, all of which have to be scraped separately\n",
    "istanbul_1 = 'İSTANBUL-1'\n",
    "istanbul_2 = 'İSTANBUL-2'\n",
    "istanbul_3 = 'İSTANBUL-3'\n",
    "\n",
    "chrome.find_element_by_xpath(city_arrow_xpath).click()\n",
    "time.sleep(3)\n",
    "city_dropdown = chrome.find_element_by_xpath(city_dropdown_xpath)\n",
    "\n",
    "for option in city_dropdown.find_elements_by_class_name('ng-option'):\n",
    "    if option.text == istanbul_1:\n",
    "        option.click()\n",
    "        break"
   ]
  },
  {
   "cell_type": "code",
   "execution_count": 82,
   "metadata": {},
   "outputs": [],
   "source": [
    "# Istanbul's 1st MP district\n",
    "district_arrow_xpath = '/html/body/app-root/app-vatandas/div[2]/app-vatandas-asistan-arsiv-sonuc/div/div/div[2]/div[1]/div/div/fieldset/form/div[1]/div[2]/div[2]/ng-select/div/span'\n",
    "query_button_xpath = '/html/body/app-root/app-vatandas/div[2]/app-vatandas-asistan-arsiv-sonuc/div/div/div[2]/div[1]/div/div/fieldset/form/div[2]/div/div/button'\n",
    "district_input_xpath = '/html/body/app-root/app-vatandas/div[2]/app-vatandas-asistan-arsiv-sonuc/div/div/div[2]/div[1]/div/div/fieldset/form/div[1]/div[2]/div[2]/ng-select/div/div/div[2]/input'\n",
    "save_button_xpath = '/html/body/app-root/app-vatandas/div[2]/app-vatandas-asistan-arsiv-sonuc/div/div/div[2]/div[1]/div/div/app-yurtici-muhtarlik-listesi/fieldset/div[2]/div/button'\n",
    "accept_button_xpath = '/html/body/ngb-modal-window/div/div/div[2]/div/button[1]'\n",
    "\n",
    "query_button = chrome.find_element_by_xpath(query_button_xpath)\n",
    "district_input = chrome.find_element_by_xpath(district_input_xpath)\n",
    "\n",
    "# Enters each district name to input box and downloads the election results\n",
    "for i in range(len(districts_1)):\n",
    "    district = districts_1[i]\n",
    "    time.sleep(3)\n",
    "    district_input.send_keys(district)\n",
    "    district_input.send_keys(Keys.ENTER)\n",
    "    time.sleep(10)\n",
    "    query_button.click()\n",
    "    time.sleep(10)\n",
    "    chrome.find_element_by_xpath(save_button_xpath).click()\n",
    "    time.sleep(5)\n",
    "    chrome.find_element_by_xpath(accept_button_xpath).click()\n",
    "    time.sleep(5)  "
   ]
  },
  {
   "cell_type": "code",
   "execution_count": 83,
   "metadata": {},
   "outputs": [],
   "source": [
    "# Creates directories, copies .xlsx files to them and deletes the originals from Downloads \n",
    "downloads  = '/Users/ercansen/Downloads/'\n",
    "dest_dir_1 = '/Users/ercansen/Desktop/apps/istanbul/2015-11' \n",
    "dest_dir_2 = '/Users/ercansen/Desktop/apps/istanbul/2015-11/raw'\n",
    "os.mkdir(dest_dir_1)\n",
    "os.mkdir(dest_dir_2)\n",
    "\n",
    "files = glob.glob(downloads + 'Yurt*.xlsx')\n",
    "\n",
    "for file in files:\n",
    "    if os.path.isfile(file):\n",
    "        shutil.copy2(file, dest_dir_2)\n",
    "        \n",
    "for file in files:\n",
    "    if os.path.isfile(file) and len(files):\n",
    "        os.remove(file)"
   ]
  },
  {
   "cell_type": "code",
   "execution_count": 84,
   "metadata": {},
   "outputs": [],
   "source": [
    "# Istanbul's 2nd electoral region\n",
    "chrome.find_element_by_xpath(city_arrow_xpath).click()\n",
    "chrome.find_element_by_xpath(city_arrow_xpath).click()\n",
    "time.sleep(3)\n",
    "city_dropdown = chrome.find_element_by_xpath(city_dropdown_xpath)\n",
    "\n",
    "for option in city_dropdown.find_elements_by_class_name('ng-option'):\n",
    "    if option.text == istanbul_2:\n",
    "        option.click()\n",
    "        break"
   ]
  },
  {
   "cell_type": "code",
   "execution_count": 85,
   "metadata": {},
   "outputs": [],
   "source": [
    "# Enters each district name to input box and downloads the election results\n",
    "for i in range(len(districts_2)):\n",
    "    district = districts_2[i]\n",
    "    time.sleep(3)\n",
    "    district_input.send_keys(district)\n",
    "    district_input.send_keys(Keys.ENTER)\n",
    "    time.sleep(10)\n",
    "    query_button.click()\n",
    "    time.sleep(10)\n",
    "    chrome.find_element_by_xpath(save_button_xpath).click()\n",
    "    time.sleep(5)\n",
    "    chrome.find_element_by_xpath(accept_button_xpath).click()\n",
    "    time.sleep(5)  "
   ]
  },
  {
   "cell_type": "code",
   "execution_count": 86,
   "metadata": {},
   "outputs": [],
   "source": [
    "files = glob.glob(downloads + 'Yurt*.xlsx')\n",
    "\n",
    "for file in files:\n",
    "    if os.path.isfile(file):\n",
    "        shutil.copy2(file, dest_dir_2)\n",
    "        \n",
    "for file in files:\n",
    "    if os.path.isfile(file) and len(files):\n",
    "        os.remove(file)"
   ]
  },
  {
   "cell_type": "code",
   "execution_count": 87,
   "metadata": {},
   "outputs": [],
   "source": [
    "# Istanbul's 3rd electoral region\n",
    "chrome.find_element_by_xpath(city_arrow_xpath).click()\n",
    "chrome.find_element_by_xpath(city_arrow_xpath).click()\n",
    "time.sleep(3)\n",
    "city_dropdown = chrome.find_element_by_xpath(city_dropdown_xpath)\n",
    "\n",
    "for option in city_dropdown.find_elements_by_class_name('ng-option'):\n",
    "    if option.text == istanbul_3:\n",
    "        option.click()\n",
    "        break"
   ]
  },
  {
   "cell_type": "code",
   "execution_count": 88,
   "metadata": {},
   "outputs": [],
   "source": [
    "# Enters each district name to input box and downloads the election results\n",
    "for i in range(len(districts_3)):\n",
    "    district = districts_3[i]\n",
    "    time.sleep(3)\n",
    "    district_input.send_keys(district)\n",
    "    district_input.send_keys(Keys.ENTER)\n",
    "    time.sleep(10)\n",
    "    query_button.click()\n",
    "    time.sleep(10)\n",
    "    chrome.find_element_by_xpath(save_button_xpath).click()\n",
    "    time.sleep(5)\n",
    "    chrome.find_element_by_xpath(accept_button_xpath).click()\n",
    "    time.sleep(5)  "
   ]
  },
  {
   "cell_type": "code",
   "execution_count": 89,
   "metadata": {},
   "outputs": [],
   "source": [
    "files = glob.glob(downloads + 'Yurt*.xlsx')\n",
    "\n",
    "for file in files:\n",
    "    if os.path.isfile(file):\n",
    "        shutil.copy2(file, dest_dir_2)\n",
    "        \n",
    "for file in files:\n",
    "    if os.path.isfile(file) and len(files):\n",
    "        os.remove(file)"
   ]
  },
  {
   "cell_type": "markdown",
   "metadata": {},
   "source": [
    "### 2015 June General Election"
   ]
  },
  {
   "cell_type": "code",
   "execution_count": 90,
   "metadata": {},
   "outputs": [],
   "source": [
    "# Selects the new election name\n",
    "elect_reselect_xpath = '/html/body/app-root/app-vatandas/div[2]/app-vatandas-asistan-arsiv-sorgu/div/div/div[1]/div/div[2]/a/span'\n",
    "chrome.find_element_by_xpath(elect_reselect_xpath).click()\n",
    "elec_arrow.click()\n",
    "\n",
    "for option in chrome.find_elements_by_class_name('ng-option'):\n",
    "    if option.text == gen_jun_2015:\n",
    "        option.click()\n",
    "        break"
   ]
  },
  {
   "cell_type": "code",
   "execution_count": 91,
   "metadata": {},
   "outputs": [],
   "source": [
    "# Navigates to domestic results, as opposed to foreign (expat voters)\n",
    "domestic_xpath = '/html/body/app-root/app-vatandas/div[2]/app-vatandas-asistan-arsiv-sorgu/div/div/div[2]/div[1]/div/div/form/div[1]/div[2]/div/div[2]/label/input'\n",
    "chrome.find_element_by_xpath(domestic_xpath).click()"
   ]
  },
  {
   "cell_type": "code",
   "execution_count": 92,
   "metadata": {},
   "outputs": [],
   "source": [
    "# Continue\n",
    "continue_xpath = '/html/body/app-root/app-vatandas/div[2]/app-vatandas-asistan-arsiv-sorgu/div/div/div[2]/div[1]/div/div/form/div[2]/div/div/button[1]'\n",
    "chrome.find_element_by_xpath(continue_xpath).click()"
   ]
  },
  {
   "cell_type": "code",
   "execution_count": 93,
   "metadata": {},
   "outputs": [],
   "source": [
    "city_arrow_xpath = '/html/body/app-root/app-vatandas/div[2]/app-vatandas-asistan-arsiv-sonuc/div/div/div[2]/div[1]/div/div/fieldset/form/div[1]/div[2]/div[1]/ng-select/div/span'\n",
    "city_dropdown_xpath = '/html/body/app-root/app-vatandas/div[2]/app-vatandas-asistan-arsiv-sonuc/div/div/div[2]/div[1]/div/div/fieldset/form/div[1]/div[2]/div[1]/ng-select/ng-dropdown-panel'\n",
    "\n",
    "# Istanbul is divided into 3 regions for MP elections, all of which have to be scraped separately\n",
    "istanbul_1 = 'İSTANBUL-1'\n",
    "istanbul_2 = 'İSTANBUL-2'\n",
    "istanbul_3 = 'İSTANBUL-3'\n",
    "\n",
    "chrome.find_element_by_xpath(city_arrow_xpath).click()\n",
    "time.sleep(3)\n",
    "city_dropdown = chrome.find_element_by_xpath(city_dropdown_xpath)\n",
    "\n",
    "for option in city_dropdown.find_elements_by_class_name('ng-option'):\n",
    "    if option.text == istanbul_1:\n",
    "        option.click()\n",
    "        break"
   ]
  },
  {
   "cell_type": "code",
   "execution_count": 94,
   "metadata": {},
   "outputs": [],
   "source": [
    "# Istanbul's 1st MP district\n",
    "district_arrow_xpath = '/html/body/app-root/app-vatandas/div[2]/app-vatandas-asistan-arsiv-sonuc/div/div/div[2]/div[1]/div/div/fieldset/form/div[1]/div[2]/div[2]/ng-select/div/span'\n",
    "query_button_xpath = '/html/body/app-root/app-vatandas/div[2]/app-vatandas-asistan-arsiv-sonuc/div/div/div[2]/div[1]/div/div/fieldset/form/div[2]/div/div/button'\n",
    "district_input_xpath = '/html/body/app-root/app-vatandas/div[2]/app-vatandas-asistan-arsiv-sonuc/div/div/div[2]/div[1]/div/div/fieldset/form/div[1]/div[2]/div[2]/ng-select/div/div/div[2]/input'\n",
    "save_button_xpath = '/html/body/app-root/app-vatandas/div[2]/app-vatandas-asistan-arsiv-sonuc/div/div/div[2]/div[1]/div/div/app-yurtici-muhtarlik-listesi/fieldset/div[2]/div/button'\n",
    "accept_button_xpath = '/html/body/ngb-modal-window/div/div/div[2]/div/button[1]'\n",
    "\n",
    "query_button = chrome.find_element_by_xpath(query_button_xpath)\n",
    "district_input = chrome.find_element_by_xpath(district_input_xpath)\n",
    "\n",
    "# Enters each district name to input box and downloads the election results\n",
    "for i in range(len(districts_1)):\n",
    "    district = districts_1[i]\n",
    "    time.sleep(3)\n",
    "    district_input.send_keys(district)\n",
    "    district_input.send_keys(Keys.ENTER)\n",
    "    time.sleep(10)\n",
    "    query_button.click()\n",
    "    time.sleep(10)\n",
    "    chrome.find_element_by_xpath(save_button_xpath).click()\n",
    "    time.sleep(5)\n",
    "    chrome.find_element_by_xpath(accept_button_xpath).click()\n",
    "    time.sleep(5)  "
   ]
  },
  {
   "cell_type": "code",
   "execution_count": 95,
   "metadata": {},
   "outputs": [],
   "source": [
    "# Creates directories, copies .xlsx files to them and deletes the originals from Downloads \n",
    "downloads  = '/Users/ercansen/Downloads/'\n",
    "dest_dir_1 = '/Users/ercansen/Desktop/apps/istanbul/2015-06' \n",
    "dest_dir_2 = '/Users/ercansen/Desktop/apps/istanbul/2015-06/raw'\n",
    "os.mkdir(dest_dir_1)\n",
    "os.mkdir(dest_dir_2)\n",
    "\n",
    "files = glob.glob(downloads + 'Yurt*.xlsx')\n",
    "\n",
    "for file in files:\n",
    "    if os.path.isfile(file):\n",
    "        shutil.copy2(file, dest_dir_2)\n",
    "        \n",
    "for file in files:\n",
    "    if os.path.isfile(file) and len(files):\n",
    "        os.remove(file)"
   ]
  },
  {
   "cell_type": "code",
   "execution_count": 96,
   "metadata": {},
   "outputs": [],
   "source": [
    "# Istanbul's 2nd electoral region\n",
    "chrome.find_element_by_xpath(city_arrow_xpath).click()\n",
    "chrome.find_element_by_xpath(city_arrow_xpath).click()\n",
    "time.sleep(3)\n",
    "city_dropdown = chrome.find_element_by_xpath(city_dropdown_xpath)\n",
    "\n",
    "for option in city_dropdown.find_elements_by_class_name('ng-option'):\n",
    "    if option.text == istanbul_2:\n",
    "        option.click()\n",
    "        break"
   ]
  },
  {
   "cell_type": "code",
   "execution_count": 97,
   "metadata": {},
   "outputs": [],
   "source": [
    "# Enters each district name to input box and downloads the election results\n",
    "for i in range(len(districts_2)):\n",
    "    district = districts_2[i]\n",
    "    time.sleep(3)\n",
    "    district_input.send_keys(district)\n",
    "    district_input.send_keys(Keys.ENTER)\n",
    "    time.sleep(10)\n",
    "    query_button.click()\n",
    "    time.sleep(10)\n",
    "    chrome.find_element_by_xpath(save_button_xpath).click()\n",
    "    time.sleep(5)\n",
    "    chrome.find_element_by_xpath(accept_button_xpath).click()\n",
    "    time.sleep(5)  "
   ]
  },
  {
   "cell_type": "code",
   "execution_count": 98,
   "metadata": {},
   "outputs": [],
   "source": [
    "files = glob.glob(downloads + 'Yurt*.xlsx')\n",
    "\n",
    "for file in files:\n",
    "    if os.path.isfile(file):\n",
    "        shutil.copy2(file, dest_dir_2)\n",
    "        \n",
    "for file in files:\n",
    "    if os.path.isfile(file) and len(files):\n",
    "        os.remove(file)"
   ]
  },
  {
   "cell_type": "code",
   "execution_count": 99,
   "metadata": {},
   "outputs": [],
   "source": [
    "# Istanbul's 3rd electoral region\n",
    "chrome.find_element_by_xpath(city_arrow_xpath).click()\n",
    "chrome.find_element_by_xpath(city_arrow_xpath).click()\n",
    "time.sleep(3)\n",
    "city_dropdown = chrome.find_element_by_xpath(city_dropdown_xpath)\n",
    "\n",
    "for option in city_dropdown.find_elements_by_class_name('ng-option'):\n",
    "    if option.text == istanbul_3:\n",
    "        option.click()\n",
    "        break"
   ]
  },
  {
   "cell_type": "code",
   "execution_count": 100,
   "metadata": {},
   "outputs": [],
   "source": [
    "# Enters each district name to input box and downloads the election results\n",
    "for i in range(len(districts_3)):\n",
    "    district = districts_3[i]\n",
    "    time.sleep(3)\n",
    "    district_input.send_keys(district)\n",
    "    district_input.send_keys(Keys.ENTER)\n",
    "    time.sleep(10)\n",
    "    query_button.click()\n",
    "    time.sleep(10)\n",
    "    chrome.find_element_by_xpath(save_button_xpath).click()\n",
    "    time.sleep(5)\n",
    "    chrome.find_element_by_xpath(accept_button_xpath).click()\n",
    "    time.sleep(5)  "
   ]
  },
  {
   "cell_type": "code",
   "execution_count": 3,
   "metadata": {},
   "outputs": [],
   "source": [
    "files = glob.glob(downloads + 'Yurt*.xlsx')\n",
    "\n",
    "for file in files:\n",
    "    if os.path.isfile(file):\n",
    "        shutil.copy2(file, dest_dir_2)\n",
    "        \n",
    "for file in files:\n",
    "    if os.path.isfile(file) and len(files):\n",
    "        os.remove(file)"
   ]
  },
  {
   "cell_type": "markdown",
   "metadata": {},
   "source": [
    "## 2) Aggregating Ballot Box Results with SQL"
   ]
  },
  {
   "cell_type": "markdown",
   "metadata": {},
   "source": [
    "Once web scraping with Selenium is complete, we have 39 Excel spreadsheets (per 39 districts of Istanbul) for each of the 7 elections we are working with. As stated previously, these spreadsheets are at the level of a ballot box. Each ballot box holds the vote of approximately 300 voters. The neighborhood with most ballot boxes has 191, while some neighborhoods (some of which had been officially villages before the law [1] changed) consist of a single ballot box. Before any aggregation is applied, these 39 spreadsheets are merged for each election and we end up with 7 csv files that include the results of all the ballot boxes in the city, for corresponding election.\n",
    "\n",
    "Next, a series of SQL queries are applied on the csv files that are created. First, each district is assigned a unique id, in the range 1-39. Then, these neighborhood id's are multiplied by 1000; this way, each district can 'hold' up to 99 neighborhoods, which is more than the maximum (The maximum number of nbhds in a district is 62 in Sile). For instance, 37th district can have corresponding neighborhood id's in the range 3701-3799. Using this method, every neighborhood also gets a unique id. After that, the ballot box results are aggregated by neighborhood. Standard features like vote share of a party/candidate, or turnout percentage are calculated and added as columns. In addition, feature engineering has been done to find out meaningful indicators that showcases political differences from neighborhood to neighborhood. Finally, the resulting tables are outputed into csv's. The SQL queries that result in this output can be seen at 'sql_queries.txt' that is in this github directory."
   ]
  },
  {
   "cell_type": "code",
   "execution_count": 74,
   "metadata": {},
   "outputs": [],
   "source": [
    "path_project = '/Users/ercansen/Desktop/apps/istanbul'\n",
    "list_directories = [('/' + d.name) for d in os.scandir(path_project) if d.is_dir() and d.name[0] != '.']\n",
    "raw = '/raw/'"
   ]
  },
  {
   "cell_type": "code",
   "execution_count": 75,
   "metadata": {},
   "outputs": [],
   "source": [
    "cols_to_keep = ['İlçe Adı', 'Mahalle/Köy', 'Kayıtlı Seçmen Sayısı', 'Oy Kullanan Seçmen Sayısı', 'Toplam Geçerli Oy', \n",
    "                'AK PARTİ', 'CHP', 'MHP', 'İYİ PARTİ', 'HDP', 'SAADET', 'CUMHUR İTTİFAKI', 'MİLLET İTTİFAKI', \n",
    "                'RECEP TAYYİP ERDOĞAN', 'MUHARREM İNCE', 'MERAL AKŞENER', 'SELAHATTİN DEMİRTAŞ', 'TEMEL KARAMOLLAOĞLU',\n",
    "                'EVET', 'HAYIR', \n",
    "                'HAKAN ŞÜKÜR', 'ALİ FUAT YILMAZER', 'YAKUB SAYGILI']"
   ]
  },
  {
   "cell_type": "code",
   "execution_count": 76,
   "metadata": {},
   "outputs": [],
   "source": [
    "cols_dict = {'İlçe Adı':'district', 'Mahalle/Köy':'neighborhood',\n",
    "             'Kayıtlı Seçmen Sayısı':'registered', 'Oy Kullanan Seçmen Sayısı':'voted', 'Toplam Geçerli Oy':'valid', \n",
    "             'AK PARTİ':'akp', 'CHP':'chp', 'MHP':'mhp', 'İYİ PARTİ':'iyip', 'HDP':'hdp', 'SAADET':'sp', \n",
    "             'CUMHUR İTTİFAKI':'cumhur', 'MİLLET İTTİFAKI':'millet', \n",
    "             'RECEP TAYYİP ERDOĞAN':'rte', 'MUHARREM İNCE':'ince', 'MERAL AKŞENER':'aksener', \n",
    "             'SELAHATTİN DEMİRTAŞ':'selo', 'TEMEL KARAMOLLAOĞLU':'karamolla',\n",
    "             'EVET':'yes', 'HAYIR':'no', \n",
    "             'HAKAN ŞÜKÜR':'sukur', 'ALİ FUAT YILMAZER':'yilmazer', 'YAKUB SAYGILI':'saygili'}"
   ]
  },
  {
   "cell_type": "code",
   "execution_count": 95,
   "metadata": {
    "scrolled": false
   },
   "outputs": [],
   "source": [
    "# Loops over all folders with raw data\n",
    "for i in range(len(list_directories)):\n",
    "    path_to_dir    = path_project + list_directories[i] + raw\n",
    "    list_raw_files = glob.glob(path_to_dir + 'Yurt*.xlsx')\n",
    "    dfs = list()\n",
    "    # Loops over all raw data Excel worksheets in the selected folder and reads them as dataframes\n",
    "    for j in range(len(list_raw_files)):\n",
    "        df = pd.read_excel(list_raw_files[j], skiprows=range(10))\n",
    "        \n",
    "        # Keeps only the columns of data we are interested in\n",
    "        intersect = [it for it in cols_to_keep if it in df.columns]\n",
    "        df = df[intersect]\n",
    "        \n",
    "        # Replaces districts with non-English characters with their English counterparts, as csv cannot recognize\n",
    "        if df.iloc[0]['İlçe Adı'] == 'ARNAVUTKÖY':\n",
    "            df['İlçe Adı'] = 'ARNAVUTKOY'\n",
    "        elif df.iloc[0]['İlçe Adı'] == 'ATAŞEHİR':\n",
    "            df['İlçe Adı'] = 'ATASEHIR'\n",
    "        elif df.iloc[0]['İlçe Adı'] == 'BAĞCILAR':\n",
    "            df['İlçe Adı'] = 'BAGCILAR'\n",
    "        elif df.iloc[0]['İlçe Adı'] == 'BAHÇELİEVLER':\n",
    "            df['İlçe Adı'] = 'BAHCELIEVLER'\n",
    "        elif df.iloc[0]['İlçe Adı'] == 'BAKIRKÖY':\n",
    "            df['İlçe Adı'] = 'BAKIRKOY'\n",
    "        elif df.iloc[0]['İlçe Adı'] == 'BAŞAKŞEHİR':\n",
    "            df['İlçe Adı'] = 'BASAKSEHIR'\n",
    "        elif df.iloc[0]['İlçe Adı'] == 'BAYRAMPAŞA':\n",
    "            df['İlçe Adı'] = 'BAYRAMPASA'\n",
    "        elif df.iloc[0]['İlçe Adı'] == 'BEŞİKTAŞ':\n",
    "            df['İlçe Adı'] = 'BESIKTAS'\n",
    "        elif df.iloc[0]['İlçe Adı'] == 'BEYLİKDÜZÜ':\n",
    "            df['İlçe Adı'] = 'BEYLIKDUZU'\n",
    "        elif df.iloc[0]['İlçe Adı'] == 'BEYOĞLU':\n",
    "            df['İlçe Adı'] = 'BEYOGLU'\n",
    "        elif df.iloc[0]['İlçe Adı'] == 'BÜYÜKÇEKMECE':\n",
    "            df['İlçe Adı'] = 'BUYUKCEKMECE'\n",
    "        elif df.iloc[0]['İlçe Adı'] == 'ÇATALCA':\n",
    "            df['İlçe Adı'] = 'CATALCA'\n",
    "        elif df.iloc[0]['İlçe Adı'] == 'ÇEKMEKÖY':\n",
    "            df['İlçe Adı'] = 'CEKMEKOY'\n",
    "        elif df.iloc[0]['İlçe Adı'] == 'EYÜPSULTAN':\n",
    "            df['İlçe Adı'] = 'EYUPSULTAN'\n",
    "        elif df.iloc[0]['İlçe Adı'] == 'FATİH':\n",
    "            df['İlçe Adı'] = 'FATIH'\n",
    "        elif df.iloc[0]['İlçe Adı'] == 'GAZİOSMANPAŞA':\n",
    "            df['İlçe Adı'] = 'GAZIOSMANPASA'\n",
    "        elif df.iloc[0]['İlçe Adı'] == 'GÜNGÖREN':\n",
    "            df['İlçe Adı'] = 'GUNGOREN'\n",
    "        elif df.iloc[0]['İlçe Adı'] == 'KADIKÖY':\n",
    "            df['İlçe Adı'] = 'KADIKOY'\n",
    "        elif df.iloc[0]['İlçe Adı'] == 'KAĞITHANE':\n",
    "            df['İlçe Adı'] = 'KAGITHANE'\n",
    "        elif df.iloc[0]['İlçe Adı'] == 'KÜÇÜKÇEKMECE':\n",
    "            df['İlçe Adı'] = 'KUCUKCEKMECE'\n",
    "        elif df.iloc[0]['İlçe Adı'] == 'PENDİK':\n",
    "            df['İlçe Adı'] = 'PENDIK'\n",
    "        elif df.iloc[0]['İlçe Adı'] == 'SİLİVRİ':\n",
    "            df['İlçe Adı'] = 'SILIVRI'\n",
    "        elif df.iloc[0]['İlçe Adı'] == 'SULTANBEYLİ':\n",
    "            df['İlçe Adı'] = 'SULTANBEYLI'\n",
    "        elif df.iloc[0]['İlçe Adı'] == 'SULTANGAZİ':\n",
    "            df['İlçe Adı'] = 'SULTANGAZI'\n",
    "        elif df.iloc[0]['İlçe Adı'] == 'ŞİLE':\n",
    "            df['İlçe Adı'] = 'SILE'\n",
    "        elif df.iloc[0]['İlçe Adı'] == 'ŞİŞLİ':\n",
    "            df['İlçe Adı'] = 'SISLI'\n",
    "        elif df.iloc[0]['İlçe Adı'] == 'ÜMRANİYE':\n",
    "            df['İlçe Adı'] = 'UMRANIYE'\n",
    "        elif df.iloc[0]['İlçe Adı'] == 'ÜSKÜDAR':\n",
    "            df['İlçe Adı'] = 'USKUDAR'\n",
    "        elif df.iloc[0]['İlçe Adı'] == 'ZEYTİNBURNU':\n",
    "            df['İlçe Adı'] = 'ZEYTINBURNU'\n",
    "     \n",
    "        # Inserts (partially) cleaned df to the list dfs\n",
    "        dfs.append(df)\n",
    "    \n",
    "    # Merges all dataframes in the list dfs\n",
    "    merged = pd.concat(dfs, sort=False, ignore_index=True)\n",
    "    \n",
    "    # Renames column names\n",
    "    common_keys = cols_dict.keys() & merged.columns\n",
    "    dict_intersect = {k:cols_dict[k] for k in common_keys}\n",
    "    merged = merged.rename(columns=dict_intersect)\n",
    "    \n",
    "    # Replaces non-English characters with their English counterparts, since csv type cannot recognize them\n",
    "    merged['neighborhood'] = merged['neighborhood'].str.replace('Ç','C').str.replace('İ','I').str.replace('Ş','S').str.replace('Ğ','G').str.replace('Ü','U').str.replace('Ö','O')\n",
    "\n",
    "    # Merges 3 Gulenist candidates from 2015 June general election into a single column\n",
    "    if 'sukur' in merged.columns:\n",
    "        merged['sukur'] = merged['sukur'].fillna(0)\n",
    "        merged['yilmazer'] = merged['yilmazer'].fillna(0)\n",
    "        merged['saygili'] = merged['saygili'].fillna(0)\n",
    "        merged['gulenist'] = merged.sukur + merged.yilmazer + merged.saygili\n",
    "        merged = merged.drop(columns=['sukur','yilmazer','saygili'])\n",
    "    \n",
    "    # Saves the resulting df as a csv file\n",
    "    merged.to_csv(path_project + list_directories[i] + '/' + list_directories[i] + '.csv', index=False)"
   ]
  },
  {
   "cell_type": "markdown",
   "metadata": {},
   "source": [
    "## 3) Cleaning Socioeconomical Data"
   ]
  },
  {
   "cell_type": "markdown",
   "metadata": {},
   "source": [
    "Unfortunately, Turkish government does not release neighborhood-wise socioeconomical data (i.e. there is nothing like US Census, although less detailed data exists). Therefore, the desired data has been received from Nezih Onur Kuru, a PhD candidate in Koc University. \n",
    "\n",
    "The socioconomical dataset needs some cleaning, as it has some missing values and some columns that will not be necessary for our purposes. Pandas will be used for cleaning."
   ]
  },
  {
   "cell_type": "code",
   "execution_count": 2,
   "metadata": {},
   "outputs": [
    {
     "data": {
      "text/html": [
       "<div>\n",
       "<style scoped>\n",
       "    .dataframe tbody tr th:only-of-type {\n",
       "        vertical-align: middle;\n",
       "    }\n",
       "\n",
       "    .dataframe tbody tr th {\n",
       "        vertical-align: top;\n",
       "    }\n",
       "\n",
       "    .dataframe thead th {\n",
       "        text-align: right;\n",
       "    }\n",
       "</style>\n",
       "<table border=\"1\" class=\"dataframe\">\n",
       "  <thead>\n",
       "    <tr style=\"text-align: right;\">\n",
       "      <th></th>\n",
       "      <th>DEGISKEN</th>\n",
       "      <th>id</th>\n",
       "      <th>2016 Toplam Nufus</th>\n",
       "      <th>2016 Toplam Nufus (Erkek)</th>\n",
       "      <th>2016 Toplam Nufus (Kadin)</th>\n",
       "      <th>2015 Toplam Nufus</th>\n",
       "      <th>2015 Toplam Nufus (Erkek)</th>\n",
       "      <th>2015 Toplam Nufus (Kadin)</th>\n",
       "      <th>2014 Toplam Nufus</th>\n",
       "      <th>2014 Toplam Nufus (Erkek)</th>\n",
       "      <th>...</th>\n",
       "      <th>BTP_2014_metropol</th>\n",
       "      <th>VATANPARTİSİ_2014_metropol</th>\n",
       "      <th>HDP_2014_metropol</th>\n",
       "      <th>CHP_2014_metropol</th>\n",
       "      <th>HEPAR_2014_metropol</th>\n",
       "      <th>MHP_2014_metropol</th>\n",
       "      <th>independents_2014_metropol</th>\n",
       "      <th>akp_2014_metropol</th>\n",
       "      <th>margin_1to2_2014_metropol</th>\n",
       "      <th>akp_margin_2014_metropol</th>\n",
       "    </tr>\n",
       "  </thead>\n",
       "  <tbody>\n",
       "    <tr>\n",
       "      <td>0</td>\n",
       "      <td>ADALAR BURGAZADA</td>\n",
       "      <td>1651564d</td>\n",
       "      <td>1422</td>\n",
       "      <td>696</td>\n",
       "      <td>726</td>\n",
       "      <td>1436.0</td>\n",
       "      <td>716</td>\n",
       "      <td>720</td>\n",
       "      <td>1464</td>\n",
       "      <td>727</td>\n",
       "      <td>...</td>\n",
       "      <td>0.000000</td>\n",
       "      <td>0.003806</td>\n",
       "      <td>0.036156</td>\n",
       "      <td>0.705994</td>\n",
       "      <td>0.000951</td>\n",
       "      <td>0.010466</td>\n",
       "      <td>0.002854</td>\n",
       "      <td>second</td>\n",
       "      <td>0.475737</td>\n",
       "      <td>-0.475737</td>\n",
       "    </tr>\n",
       "    <tr>\n",
       "      <td>1</td>\n",
       "      <td>ADALAR HEYBELIADA</td>\n",
       "      <td>65612</td>\n",
       "      <td>3757</td>\n",
       "      <td>1954</td>\n",
       "      <td>1803</td>\n",
       "      <td>4785.0</td>\n",
       "      <td>3018</td>\n",
       "      <td>1767</td>\n",
       "      <td>4885</td>\n",
       "      <td>3078</td>\n",
       "      <td>...</td>\n",
       "      <td>0.000000</td>\n",
       "      <td>0.004026</td>\n",
       "      <td>0.028986</td>\n",
       "      <td>0.566023</td>\n",
       "      <td>0.002013</td>\n",
       "      <td>0.033816</td>\n",
       "      <td>0.002818</td>\n",
       "      <td>second</td>\n",
       "      <td>0.215781</td>\n",
       "      <td>-0.215781</td>\n",
       "    </tr>\n",
       "    <tr>\n",
       "      <td>2</td>\n",
       "      <td>ADALAR KINALIADA</td>\n",
       "      <td>15616684</td>\n",
       "      <td>1905</td>\n",
       "      <td>995</td>\n",
       "      <td>910</td>\n",
       "      <td>2047.0</td>\n",
       "      <td>1055</td>\n",
       "      <td>992</td>\n",
       "      <td>2322</td>\n",
       "      <td>1199</td>\n",
       "      <td>...</td>\n",
       "      <td>0.000000</td>\n",
       "      <td>0.001535</td>\n",
       "      <td>0.035806</td>\n",
       "      <td>0.612276</td>\n",
       "      <td>0.002046</td>\n",
       "      <td>0.012788</td>\n",
       "      <td>0.000512</td>\n",
       "      <td>second</td>\n",
       "      <td>0.284399</td>\n",
       "      <td>-0.284399</td>\n",
       "    </tr>\n",
       "    <tr>\n",
       "      <td>3</td>\n",
       "      <td>ADALAR MADEN</td>\n",
       "      <td>464d4646d46</td>\n",
       "      <td>4335</td>\n",
       "      <td>2225</td>\n",
       "      <td>2110</td>\n",
       "      <td>4356.0</td>\n",
       "      <td>2226</td>\n",
       "      <td>2130</td>\n",
       "      <td>4345</td>\n",
       "      <td>2196</td>\n",
       "      <td>...</td>\n",
       "      <td>0.001023</td>\n",
       "      <td>0.001023</td>\n",
       "      <td>0.052183</td>\n",
       "      <td>0.548772</td>\n",
       "      <td>0.001023</td>\n",
       "      <td>0.030014</td>\n",
       "      <td>0.001023</td>\n",
       "      <td>second</td>\n",
       "      <td>0.194407</td>\n",
       "      <td>-0.194407</td>\n",
       "    </tr>\n",
       "    <tr>\n",
       "      <td>4</td>\n",
       "      <td>ADALAR NIZAM</td>\n",
       "      <td>58</td>\n",
       "      <td>3059</td>\n",
       "      <td>1550</td>\n",
       "      <td>1509</td>\n",
       "      <td>2999.0</td>\n",
       "      <td>1534</td>\n",
       "      <td>1465</td>\n",
       "      <td>3036</td>\n",
       "      <td>1549</td>\n",
       "      <td>...</td>\n",
       "      <td>0.000000</td>\n",
       "      <td>0.002498</td>\n",
       "      <td>0.058941</td>\n",
       "      <td>0.509491</td>\n",
       "      <td>0.002498</td>\n",
       "      <td>0.030470</td>\n",
       "      <td>0.000999</td>\n",
       "      <td>second</td>\n",
       "      <td>0.124376</td>\n",
       "      <td>-0.124376</td>\n",
       "    </tr>\n",
       "  </tbody>\n",
       "</table>\n",
       "<p>5 rows × 221 columns</p>\n",
       "</div>"
      ],
      "text/plain": [
       "            DEGISKEN           id 2016 Toplam Nufus 2016 Toplam Nufus (Erkek)  \\\n",
       "0   ADALAR BURGAZADA     1651564d              1422                       696   \n",
       "1  ADALAR HEYBELIADA        65612              3757                      1954   \n",
       "2   ADALAR KINALIADA     15616684              1905                       995   \n",
       "3       ADALAR MADEN  464d4646d46              4335                      2225   \n",
       "4       ADALAR NIZAM           58              3059                      1550   \n",
       "\n",
       "  2016 Toplam Nufus (Kadin)  2015 Toplam Nufus 2015 Toplam Nufus (Erkek)  \\\n",
       "0                       726             1436.0                       716   \n",
       "1                      1803             4785.0                      3018   \n",
       "2                       910             2047.0                      1055   \n",
       "3                      2110             4356.0                      2226   \n",
       "4                      1509             2999.0                      1534   \n",
       "\n",
       "  2015 Toplam Nufus (Kadin) 2014 Toplam Nufus 2014 Toplam Nufus (Erkek)  ...  \\\n",
       "0                       720              1464                       727  ...   \n",
       "1                      1767              4885                      3078  ...   \n",
       "2                       992              2322                      1199  ...   \n",
       "3                      2130              4345                      2196  ...   \n",
       "4                      1465              3036                      1549  ...   \n",
       "\n",
       "  BTP_2014_metropol  VATANPARTİSİ_2014_metropol  HDP_2014_metropol  \\\n",
       "0          0.000000                    0.003806           0.036156   \n",
       "1          0.000000                    0.004026           0.028986   \n",
       "2          0.000000                    0.001535           0.035806   \n",
       "3          0.001023                    0.001023           0.052183   \n",
       "4          0.000000                    0.002498           0.058941   \n",
       "\n",
       "  CHP_2014_metropol HEPAR_2014_metropol MHP_2014_metropol  \\\n",
       "0          0.705994            0.000951          0.010466   \n",
       "1          0.566023            0.002013          0.033816   \n",
       "2          0.612276            0.002046          0.012788   \n",
       "3          0.548772            0.001023          0.030014   \n",
       "4          0.509491            0.002498          0.030470   \n",
       "\n",
       "  independents_2014_metropol akp_2014_metropol margin_1to2_2014_metropol  \\\n",
       "0                   0.002854            second                  0.475737   \n",
       "1                   0.002818            second                  0.215781   \n",
       "2                   0.000512            second                  0.284399   \n",
       "3                   0.001023            second                  0.194407   \n",
       "4                   0.000999            second                  0.124376   \n",
       "\n",
       "  akp_margin_2014_metropol  \n",
       "0                -0.475737  \n",
       "1                -0.215781  \n",
       "2                -0.284399  \n",
       "3                -0.194407  \n",
       "4                -0.124376  \n",
       "\n",
       "[5 rows x 221 columns]"
      ]
     },
     "execution_count": 2,
     "metadata": {},
     "output_type": "execute_result"
    }
   ],
   "source": [
    "socio = pd.read_excel('/Users/ercansen/Desktop/apps/istanbul/MAHALLE.xlsx')\n",
    "socio.head()"
   ]
  },
  {
   "cell_type": "code",
   "execution_count": 3,
   "metadata": {},
   "outputs": [],
   "source": [
    "# Columns other than total population have some missing values for valid neighborhoods, so popl. is used to filter\n",
    "socio = socio[socio['2016 Toplam Nufus'].notnull()]\n",
    "socio = socio.reset_index()"
   ]
  },
  {
   "cell_type": "code",
   "execution_count": 4,
   "metadata": {},
   "outputs": [],
   "source": [
    "# Splits original \"district neighborhood\" column into two columns of a temp df\n",
    "splitting = socio['DEGISKEN'].str.split(n=1, expand=True)"
   ]
  },
  {
   "cell_type": "code",
   "execution_count": 5,
   "metadata": {
    "scrolled": true
   },
   "outputs": [],
   "source": [
    "# Adds the splitted columns back into original df; drops unnecessary columns\n",
    "socio['district'] = splitting[0]\n",
    "socio['nbhd'] = splitting[1]\n",
    "socio = socio.drop(columns=['index','DEGISKEN'])"
   ]
  },
  {
   "cell_type": "code",
   "execution_count": 6,
   "metadata": {},
   "outputs": [
    {
     "data": {
      "text/html": [
       "<div>\n",
       "<style scoped>\n",
       "    .dataframe tbody tr th:only-of-type {\n",
       "        vertical-align: middle;\n",
       "    }\n",
       "\n",
       "    .dataframe tbody tr th {\n",
       "        vertical-align: top;\n",
       "    }\n",
       "\n",
       "    .dataframe thead th {\n",
       "        text-align: right;\n",
       "    }\n",
       "</style>\n",
       "<table border=\"1\" class=\"dataframe\">\n",
       "  <thead>\n",
       "    <tr style=\"text-align: right;\">\n",
       "      <th></th>\n",
       "      <th>district</th>\n",
       "      <th>neighborhood</th>\n",
       "      <th>dist_id</th>\n",
       "      <th>nbhd_id</th>\n",
       "    </tr>\n",
       "  </thead>\n",
       "  <tbody>\n",
       "    <tr>\n",
       "      <td>0</td>\n",
       "      <td>ADALAR</td>\n",
       "      <td>BURGAZADA MAH.</td>\n",
       "      <td>100</td>\n",
       "      <td>101</td>\n",
       "    </tr>\n",
       "    <tr>\n",
       "      <td>1</td>\n",
       "      <td>ADALAR</td>\n",
       "      <td>HEYBELIADA MAH.</td>\n",
       "      <td>100</td>\n",
       "      <td>102</td>\n",
       "    </tr>\n",
       "    <tr>\n",
       "      <td>2</td>\n",
       "      <td>ADALAR</td>\n",
       "      <td>KINALIADA MAH.</td>\n",
       "      <td>100</td>\n",
       "      <td>103</td>\n",
       "    </tr>\n",
       "    <tr>\n",
       "      <td>3</td>\n",
       "      <td>ADALAR</td>\n",
       "      <td>MADEN MAH.</td>\n",
       "      <td>100</td>\n",
       "      <td>104</td>\n",
       "    </tr>\n",
       "    <tr>\n",
       "      <td>4</td>\n",
       "      <td>ADALAR</td>\n",
       "      <td>NIZAM MAH.</td>\n",
       "      <td>100</td>\n",
       "      <td>105</td>\n",
       "    </tr>\n",
       "  </tbody>\n",
       "</table>\n",
       "</div>"
      ],
      "text/plain": [
       "  district     neighborhood  dist_id  nbhd_id\n",
       "0   ADALAR   BURGAZADA MAH.      100      101\n",
       "1   ADALAR  HEYBELIADA MAH.      100      102\n",
       "2   ADALAR   KINALIADA MAH.      100      103\n",
       "3   ADALAR       MADEN MAH.      100      104\n",
       "4   ADALAR       NIZAM MAH.      100      105"
      ]
     },
     "execution_count": 6,
     "metadata": {},
     "output_type": "execute_result"
    }
   ],
   "source": [
    "# Imports the csv with SQL-generated neighborhoood id.s\n",
    "nbhds = pd.read_csv('/Users/ercansen/Desktop/apps/istanbul/sql outputs/neighborhoods.csv')\n",
    "nbhds.head()"
   ]
  },
  {
   "cell_type": "code",
   "execution_count": 7,
   "metadata": {},
   "outputs": [],
   "source": [
    "# Gets rid of 'MAH.' (abbreviation of neighborhood, in Turkish) from neighborhood names and strips from trailing space\n",
    "nbhds['neighborhood'] = nbhds['neighborhood'].str[:-4]\n",
    "nbhds['neighborhood'] = nbhds['neighborhood'].str.rstrip()"
   ]
  },
  {
   "cell_type": "code",
   "execution_count": 8,
   "metadata": {
    "scrolled": true
   },
   "outputs": [
    {
     "name": "stdout",
     "output_type": "stream",
     "text": [
      "Neighborhoods ['ATATURK'] in ARNAVUTKOY are named differently than our clean database\n",
      "Neighborhoods ['ORTAMAHALLE'] in BAYRAMPASA are named differently than our clean database\n",
      "Neighborhoods ['MIMAR SINAN'] in BUYUKCEKMECE are named differently than our clean database\n",
      "Neighborhoods ['BAHCEKOY YENIMAHALLE', 'RUMELI HISARI', 'RUMELI KAVAGI', 'SARIYER YENIMAHALLE'] in SARIYER are named differently than our clean database\n",
      "Neighborhoods ['KUCUKCAMLICA'] in USKUDAR are named differently than our clean database\n"
     ]
    }
   ],
   "source": [
    "# Determines which of the neighborhood names are different than our clean nbhds df (scraped from govermental database)\n",
    "tups = list()\n",
    "\n",
    "for dist in nbhds['district'].unique():\n",
    "    cleans = list(nbhds[nbhds.district == dist]['neighborhood'])\n",
    "    raws = list(socio[socio.district == dist]['nbhd'])\n",
    "    name_dif = [nb for nb in raws if nb not in cleans]\n",
    "    if len(name_dif) > 0:\n",
    "        print('Neighborhoods',name_dif,'in',dist,'are named differently than our clean database')\n",
    "        \n",
    "        for n in name_dif:\n",
    "            tups.append((n,dist))"
   ]
  },
  {
   "cell_type": "code",
   "execution_count": 13,
   "metadata": {},
   "outputs": [],
   "source": [
    "# Corrects the inconsistent names\n",
    "tups_corrected = tups.copy()\n",
    "corrects = ['MERKEZ ATATURK', 'ORTA', 'MIMARSINAN', 'BAHCEKOY YENI', 'RUMELIHISARI', 'RUMELIKAVAGI', 'YENI', 'KUCUK CAMLICA']\n",
    "\n",
    "for i in range(len(corrects)):\n",
    "    temp = list(tups_corrected[i])\n",
    "    temp[0] = corrects[i]\n",
    "    tups_corrected[i] = tuple(temp)"
   ]
  },
  {
   "cell_type": "code",
   "execution_count": 19,
   "metadata": {},
   "outputs": [],
   "source": [
    "for i in range(len(socio)):\n",
    "    for j in range(len(tups)):\n",
    "        if socio.loc[i,'district'] == tups[j][1] and socio.loc[i,'nbhd'] == tups[j][0]:\n",
    "            socio.at[i,'nbhd'] = tups_corrected[j][0]"
   ]
  },
  {
   "cell_type": "code",
   "execution_count": 28,
   "metadata": {},
   "outputs": [],
   "source": [
    "socio['district'] = socio['district'].str.replace('EYUP','EYUPSULTAN')"
   ]
  },
  {
   "cell_type": "code",
   "execution_count": 49,
   "metadata": {},
   "outputs": [],
   "source": [
    "# Joins nbhd id.s to socioeconomic df (socio)\n",
    "socio = socio.join(nbhds.set_index(['district','neighborhood'])['nbhd_id'], on = ['district', 'nbhd'])"
   ]
  },
  {
   "cell_type": "code",
   "execution_count": 52,
   "metadata": {},
   "outputs": [
    {
     "data": {
      "text/plain": [
       "Index(['Universite Yerleske Sayisi 2017', 'Banka Sube Sayisi 2017',\n",
       "       'Banka Cesitliligi 2017', 'Banka Sube Basina Dusen Nufus 2017',\n",
       "       'Satilik Konut Bedeli (m2 TL) 2017',\n",
       "       'Kiralik Konut Bedeli (m2 TL) 2017',\n",
       "       'Satilik Konut Bedeli Degisimi (3 yil)',\n",
       "       'Kiralik Konut Bedeli Degisimi (3 yil)', '2011 Genel Secim 1. Parti',\n",
       "       '2011 Genel Secimlere Katilma Orani',\n",
       "       '2011 Genel Secim Gecerli Oy Orani', '2014 Yerel Secim 1. Parti',\n",
       "       '2014 Yerel Secimlere Katilma Orani %',\n",
       "       '2014 Yerel Secim Gecerli Oy Orani %',\n",
       "       '2015 Haziran Genel Secim 1. Parti',\n",
       "       '2015 Haziran Genel Secimlere Katilma Orani',\n",
       "       '2015 Haziran Genel Secim Gecerli Oy Orani',\n",
       "       '2015 Kasim Genel Secim 1. Parti',\n",
       "       '2015 Kasim Genel Secimlere Katilma Orani',\n",
       "       '2015 Kasim Genel Secim Gecerli Oy Orani',\n",
       "       '2015 Kasim Siyasi Homojenlik Endeksi', '2017 Referandum Tercihi',\n",
       "       'SEÇMENSAYISI_2018_meclis', 'OYKULLANANSEÇMENSAYISI_2018_mecl',\n",
       "       'İTİRAZSIZGEÇERLİOYSAYISI_2018_me', 'İTİRAZLIGEÇERLİOYSAYISI_2018_mec',\n",
       "       'GEÇERLİOYTOPLAMI_2018_meclis', 'GEÇERSİZOYTOPLAMI_2018_meclis',\n",
       "       'AKPARTİ_2018_meclis', 'mhp_2018_meclis', 'HÜDAPAR_2018_meclis',\n",
       "       'VATANPARTİSİ_2018_meclis', 'hdp_2018_meclis', 'chp_2018_meclis',\n",
       "       'saadet_2018_meclis', 'İYİPARTİ_2018_meclis',\n",
       "       'CUMHURİTTİFAKI_2018_meclis', 'MİLLETİTTİFAKI_2018_meclis',\n",
       "       'independents_2018_meclis', 'akp_2018_meclis',\n",
       "       'margin_1to2_2018_meclis', 'akp_margin_2018_meclis',\n",
       "       'SEÇMENSAYISI_2014_metropol', 'OYKULLANANSEÇMENSAYISI_2014_metropol',\n",
       "       'İTİRAZSIZGEÇERLİOYSAYISI_2014_metropol',\n",
       "       'İTİRAZLIGEÇERLİOYSAYISI_2014_metropol',\n",
       "       'GEÇERLİOYTOPLAMI_2014_metropol', 'GEÇERSİZOYTOPLAMI_2014_metropol',\n",
       "       'DSP_2014_metropol', 'DYP_2014_metropol', 'HKP_2014_metropol',\n",
       "       'TKP_2014_metropol', 'BBP_2014_metropol', 'AKPARTİ_2014_metropol',\n",
       "       'YURTP_2014_metropol', 'DP_2014_metropol', 'MİLLET_2014_metropol',\n",
       "       'SAADET_2014_metropol', 'HAKPAR_2014_metropol', 'LDP_2014_metropol',\n",
       "       'BTP_2014_metropol', 'VATANPARTİSİ_2014_metropol', 'HDP_2014_metropol',\n",
       "       'CHP_2014_metropol', 'HEPAR_2014_metropol', 'MHP_2014_metropol',\n",
       "       'independents_2014_metropol', 'akp_2014_metropol',\n",
       "       'margin_1to2_2014_metropol', 'akp_margin_2014_metropol', 'district',\n",
       "       'nbhd', 'nbhd_id'],\n",
       "      dtype='object')"
      ]
     },
     "execution_count": 52,
     "metadata": {},
     "output_type": "execute_result"
    }
   ],
   "source": [
    "# We already have the needed election data, so the ones in socio df are unnecessary; they are the last columns in dataset\n",
    "socio.columns[150:]"
   ]
  },
  {
   "cell_type": "code",
   "execution_count": 57,
   "metadata": {},
   "outputs": [],
   "source": [
    "# Drops unncessary columns\n",
    "socio = socio.drop(socio.loc[:,'2011 Genel Secim 1. Parti':'akp_margin_2014_metropol'], axis=1)"
   ]
  },
  {
   "cell_type": "code",
   "execution_count": 109,
   "metadata": {},
   "outputs": [],
   "source": [
    "# There is a missing value for one neighborhood population; filled in by male population + female population\n",
    "socio.at[652,'2016 Toplam Nufus'] = socio.loc[652,'2016 Toplam Nufus (Erkek)'] + socio.loc[652,'2016 Toplam Nufus (Kadin)']"
   ]
  },
  {
   "cell_type": "code",
   "execution_count": 61,
   "metadata": {},
   "outputs": [],
   "source": [
    "# Creates a sub-list of columns for filtering df with only necessary columns\n",
    "sub_list = list()"
   ]
  },
  {
   "cell_type": "code",
   "execution_count": 70,
   "metadata": {
    "scrolled": true
   },
   "outputs": [
    {
     "data": {
      "text/plain": [
       "Index(['id', '2016 Toplam Nufus', '2016 Toplam Nufus (Erkek)',\n",
       "       '2016 Toplam Nufus (Kadin)', '2015 Toplam Nufus',\n",
       "       '2015 Toplam Nufus (Erkek)', '2015 Toplam Nufus (Kadin)',\n",
       "       '2014 Toplam Nufus', '2014 Toplam Nufus (Erkek)',\n",
       "       '2014 Toplam Nufus (Kadin)', 'Nufus Artis Yonu (2014-2016)',\n",
       "       'Istanbul Nufusu Icerisindeki Pay Degisim Yonu (2014-2016)',\n",
       "       'Z Kusagi (0-19 yas) 2016 ', 'Y Kusagi (20-39 yas) 2016',\n",
       "       'X Kusagi (40-54 yas) 2016',\n",
       "       'Baby Boomer/Geleneksel Kusak (+55 yas) 2016',\n",
       "       'Z Kusagi (0-19 yas) 2015 ', 'Y Kusagi (20-39 yas) 2015',\n",
       "       'X Kusagi (40-54 yas) 2015',\n",
       "       'Baby Boomer/Geleneksel Kusak (+55 yas) 2015',\n",
       "       'Z Kusagi (0-19 yas) 2014 ', 'Y Kusagi (20-39 yas) 2014',\n",
       "       'X Kusagi (40-54 yas) 2014',\n",
       "       'Baby Boomer/Geleneksel Kusak (+55 yas) 2014', 'Ortalama Yas 2016',\n",
       "       'Ortalama Yas 2015', 'Ortalama Yas 2014', 'Yas Bagimlilik Orani 2016',\n",
       "       'Yas Bagimlilik Orani 2015', 'Yas Bagimlilik Orani 2014',\n",
       "       'Hic Evlenmeyenler 2016', 'Evli Olanlar 2016', 'Bosananlar 2016',\n",
       "       'Esi Olenler 2016', 'Hic Evlenmeyenler 2015', 'Evli Olanlar 2015',\n",
       "       'Bosananlar 2015', 'Esi Olenler 2015', 'Hic Evlenmeyenler 2014',\n",
       "       'Evli Olanlar 2014', 'Bosananlar 2014', 'Esi Olenler 2014',\n",
       "       'Yuzolcumu (km2)', 'Nufus Yogunlugu (1000 m2'ye dusen nufus)',\n",
       "       'Hane Halki Ortalama Buyuklugu 2016',\n",
       "       'Hane Halki Ortalama Buyuklugu 2015',\n",
       "       'Hane Halki Ortalama Buyuklugu 2014', 'Hanehalki Sayisi 2016',\n",
       "       'Hanehalki Sayisi 2015', 'Hanehalki Sayisi 2014'],\n",
       "      dtype='object')"
      ]
     },
     "execution_count": 70,
     "metadata": {},
     "output_type": "execute_result"
    }
   ],
   "source": [
    "# Explores the first 50 columns' names\n",
    "socio.columns[:50]"
   ]
  },
  {
   "cell_type": "code",
   "execution_count": 66,
   "metadata": {},
   "outputs": [],
   "source": [
    "# Picks those that will be used for analysis/feature engineering\n",
    "sub_list.extend(['2016 Toplam Nufus', '2016 Toplam Nufus (Erkek)', '2016 Toplam Nufus (Kadin)', '2015 Toplam Nufus', 'Z Kusagi (0-19 yas) 2016 ', 'Y Kusagi (20-39 yas) 2016', 'X Kusagi (40-54 yas) 2016', 'Ortalama Yas 2016', 'Ortalama Yas 2015', 'Ortalama Yas 2014', 'Hic Evlenmeyenler 2016', 'Evli Olanlar 2016', 'Bosananlar 2016', 'Yuzolcumu (km2)', 'Hane Halki Ortalama Buyuklugu 2016'])"
   ]
  },
  {
   "cell_type": "code",
   "execution_count": 71,
   "metadata": {},
   "outputs": [
    {
     "data": {
      "text/plain": [
       "Index(['Toplam Konut Sayisi 2016', 'Yazlik Sayisi 2016',\n",
       "       'Ozel Isyeri Sayisi 2016', 'Toplam Konut Sayisi 2015',\n",
       "       'Yazlik Sayisi 2015', 'Ozel Isyeri Sayisi 2015',\n",
       "       'Toplam Konut Sayisi 2014', 'Yazlik Sayisi 2014',\n",
       "       'Ozel Isyeri Sayisi 2014', 'Bilinmeyen 2016', 'Okur Yazar Degil 2016',\n",
       "       'Okur Yazar Fakat Bir Okul Bitirmeyen 2016', 'Ilkokul Mezunu 2016',\n",
       "       'Ilkogretim Mezunu 2016', 'Ortaokul Mezunu 2016', 'Lise Mezunu 2016',\n",
       "       'Universite Mezunu 2016', 'Yuksek Lisans Mezunu 2016',\n",
       "       'Doktora Mezunu 2016', 'Bilinmeyen 2015', 'Okur Yazar Degil 2015',\n",
       "       'Okur Yazar Fakat Bir Okul Bitirmeyen 2015', 'Ilkokul Mezunu 2015',\n",
       "       'Ilkogretim Mezunu 2015', 'Ortaokul Mezunu 2015', 'Lise Mezunu 2015',\n",
       "       'Universite Mezunu 2015', 'Yuksek Lisans Mezunu 2015',\n",
       "       'Doktora Mezunu 2015', 'Bilinmeyen 2014', 'Okur Yazar Degil 2014',\n",
       "       'Okur Yazar Fakat Bir Okul Bitirmeyen 2014', 'Ilkokul Mezunu 2014',\n",
       "       'Ilkogretim Mezunu 2014', 'Ortaokul Mezunu 2014', 'Lise Mezunu 2014',\n",
       "       'Universite Mezunu 2014', 'Yuksek Lisans Mezunu 2014',\n",
       "       'Doktora Mezunu 2014', 'Okur Yazar Orani 2016',\n",
       "       'Okuryazar Orani - Erkek 2016', 'Okuryazar Orani - Kadin 2016',\n",
       "       'Okur Yazar Orani 2015', 'Okur Yazar Orani 2014',\n",
       "       'Bin Kisi Icinde Toplam Universite Mezunu Sayisi 2016',\n",
       "       'Universite Mezunu Orani - Erkek 2016',\n",
       "       'Universite Mezunu Orani - Kadin 2016',\n",
       "       'Bin Kisi Icinde Toplam Universite Mezunu Sayisi 2015',\n",
       "       'Bin Kisi Icinde Toplam Universite Mezunu Sayisi 2014',\n",
       "       'Ortalama Egitim Suresi 2016'],\n",
       "      dtype='object')"
      ]
     },
     "execution_count": 71,
     "metadata": {},
     "output_type": "execute_result"
    }
   ],
   "source": [
    "# Explores columns\n",
    "socio.columns[50:100]"
   ]
  },
  {
   "cell_type": "code",
   "execution_count": 72,
   "metadata": {},
   "outputs": [],
   "source": [
    "# Picks useful ones\n",
    "sub_list.extend(['Toplam Konut Sayisi 2016', 'Ozel Isyeri Sayisi 2016', 'Ilkokul Mezunu 2016', 'Universite Mezunu 2016', 'Okuryazar Orani - Kadin 2016', 'Ortalama Egitim Suresi 2016'])"
   ]
  },
  {
   "cell_type": "code",
   "execution_count": 77,
   "metadata": {},
   "outputs": [
    {
     "data": {
      "text/plain": [
       "Index(['Ortalama Egitim Suresi - Erkek 2016',\n",
       "       'Ortalama Egitim Suresi - Kadin 2016', 'Ortalama Egitim Suresi 2015',\n",
       "       'Ortalama Egitim Suresi 2014', 'Ilkokul - Toplam Ogrenci Sayisi',\n",
       "       'Ilkokul - Toplam Sube Sayisi', 'Ilkokul - Toplam Ogretmen Sayisi',\n",
       "       'Ilkokul - Ogretmen Basina Dusen Ogrenci Sayisi',\n",
       "       'Ilkokul - Sube Basina Dusen Ogrenci Sayisi',\n",
       "       'Ortaokul - Toplam Ogrenci Sayisi', 'Ortaokul - Toplam Sube Sayisi',\n",
       "       'Ortaokul - Toplam Ogretmen Sayisi',\n",
       "       'Ortaokul - Ogretmen Basina Dusen Ogrenci Sayisi',\n",
       "       'Ortaokul - Sube Basina Dusen Ogrenci Sayisi',\n",
       "       'Lise - Toplam Ogrenci Sayisi', 'Lise - Toplam Sube Sayisi',\n",
       "       'Lise - Toplam Ogretmen Sayisi',\n",
       "       'Lise - Ogretmen Basina Dusen Ogrenci Sayisi',\n",
       "       'Lise - Sube Basina Dusen Ogrenci Sayisi',\n",
       "       'Toplam Ogrenci Sayisi (Ilk-Orta-Lise)', 'ASM Varligi',\n",
       "       'ASM Doktor Sayisi', 'ASM Saglik Personeli Sayisi',\n",
       "       'ASM Doktor Basina Ortalama Muayene Sayisi', 'Kamu Hastanesi Varligi',\n",
       "       'Ozel Hastane Varligi', 'Universite Hastanesi Varligi',\n",
       "       'Kultur Sanat Merkezi Varligi', 'Sinema Varligi', 'Tiyatro Varligi',\n",
       "       'Kultur Envanteri Sayisi', 'Dogalgaz Abone Sayisi 2017 ',\n",
       "       'Dogalgaz Kullanici Sayisi 2017', 'Dogalgaz Abone Sayisi/Nufus 2017',\n",
       "       'Dogalgaz Kullanici Sayisi/Nufus 2017', 'Su Ariza Sayisi 2016 ',\n",
       "       'Su Ariza Suresi (Saat) 2016', 'Su Ariza Sayisi 2015',\n",
       "       'Su Ariza Suresi (Saat) 2015', 'Su Ariza Sayisi 2014',\n",
       "       'Su Ariza Suresi (Saat) 2014', 'Toplam Durak Sayisi',\n",
       "       'Metro Durak Sayisi', 'Metrobus Durak Sayisi', 'Tramvay Durak Sayisi',\n",
       "       'Supermarket Sayisi 2017', 'Minimarket Sayisi 2017',\n",
       "       'Market Yogunluk Endeksi 2017', 'AVM Sayisi 2017',\n",
       "       'Pazar Yeri Sayi 2017'],\n",
       "      dtype='object')"
      ]
     },
     "execution_count": 77,
     "metadata": {},
     "output_type": "execute_result"
    }
   ],
   "source": [
    "# Explores columns\n",
    "socio.columns[100:150]"
   ]
  },
  {
   "cell_type": "code",
   "execution_count": 78,
   "metadata": {},
   "outputs": [],
   "source": [
    "# Picks useful ones\n",
    "sub_list.extend(['ASM Varligi', 'Ozel Hastane Varligi', 'Kultur Sanat Merkezi Varligi', 'Sinema Varligi', 'Tiyatro Varligi', 'Dogalgaz Kullanici Sayisi/Nufus 2017', 'Su Ariza Suresi (Saat) 2016', 'Metro Durak Sayisi', 'Market Yogunluk Endeksi 2017', 'AVM Sayisi 2017', 'Pazar Yeri Sayisi 2017'])"
   ]
  },
  {
   "cell_type": "code",
   "execution_count": 80,
   "metadata": {},
   "outputs": [
    {
     "data": {
      "text/plain": [
       "Index(['Universite Yerleske Sayisi 2017', 'Banka Sube Sayisi 2017',\n",
       "       'Banka Cesitliligi 2017', 'Banka Sube Basina Dusen Nufus 2017',\n",
       "       'Satilik Konut Bedeli (m2 TL) 2017',\n",
       "       'Kiralik Konut Bedeli (m2 TL) 2017',\n",
       "       'Satilik Konut Bedeli Degisimi (3 yil)',\n",
       "       'Kiralik Konut Bedeli Degisimi (3 yil)', 'district', 'nbhd', 'nbhd_id'],\n",
       "      dtype='object')"
      ]
     },
     "execution_count": 80,
     "metadata": {},
     "output_type": "execute_result"
    }
   ],
   "source": [
    "# Explores columns\n",
    "socio.columns[150:]"
   ]
  },
  {
   "cell_type": "code",
   "execution_count": 81,
   "metadata": {},
   "outputs": [],
   "source": [
    "# Picks useful ones\n",
    "sub_list.extend(['Kiralik Konut Bedeli (m2 TL) 2017'])"
   ]
  },
  {
   "cell_type": "code",
   "execution_count": 84,
   "metadata": {},
   "outputs": [],
   "source": [
    "# Adds the identification column names to the list-to-filter\n",
    "sub_list = ['nbhd_id','district','nbhd'] + sub_list"
   ]
  },
  {
   "cell_type": "code",
   "execution_count": 113,
   "metadata": {},
   "outputs": [],
   "source": [
    "# Filters df to keep only the necessary columns\n",
    "socio_filtered = socio[sub_list]"
   ]
  },
  {
   "cell_type": "code",
   "execution_count": 143,
   "metadata": {},
   "outputs": [],
   "source": [
    "# Initiates list for filtering rows\n",
    "rows_to_ignore = list()"
   ]
  },
  {
   "cell_type": "code",
   "execution_count": 144,
   "metadata": {},
   "outputs": [],
   "source": [
    "# Sile, Catalca and Silivri are the three rural districts of Istanbul\n",
    "# Most places that are officially listed as neighborhoods in these districts are in fact villages\n",
    "# These 3 lists are those neighborhoods that comprise the city center of the corresponding districts\n",
    "sile_merkez = ['BALIBEY', 'CAVUS', 'CAYIRBASI', 'HACI KASIM', 'KUMBABA']\n",
    "catalca_merkez = ['FERHATPASA', 'KALEICI']\n",
    "silivri_merkez = ['SELIMPASA', 'KAVAKLI', 'HURRIYET', 'YENI', 'CUMHURIYET', 'ALIBEY', 'FATIH', 'PIRI MEHMET PASA', 'MIMAR SINAN', 'SEMIZKUMLAR']"
   ]
  },
  {
   "cell_type": "code",
   "execution_count": 146,
   "metadata": {},
   "outputs": [],
   "source": [
    "# Adds the non-central neighborhoods' (villages') nbhd_id's to the rows_to_ignore list\n",
    "for row in nbhds[(nbhds['district'] == 'SILE')].itertuples():\n",
    "    if row[2] not in sile_merkez: \n",
    "        rows_to_ignore.append(row[4])\n",
    "        \n",
    "for row in nbhds[(nbhds['district'] == 'CATALCA')].itertuples():\n",
    "    if row[2] not in catalca_merkez: \n",
    "        rows_to_ignore.append(row[4])\n",
    "        \n",
    "for row in nbhds[(nbhds['district'] == 'SILIVRI')].itertuples():\n",
    "    if row[2] not in silivri_merkez: \n",
    "        rows_to_ignore.append(row[4])"
   ]
  },
  {
   "cell_type": "code",
   "execution_count": 151,
   "metadata": {},
   "outputs": [],
   "source": [
    "# Retains only the non-village neighborhoods in the filtered df socio_filtered\n",
    "socio_filtered = socio_filtered[~socio_filtered['nbhd_id'].isin(rows_to_ignore)]"
   ]
  },
  {
   "cell_type": "code",
   "execution_count": 340,
   "metadata": {},
   "outputs": [],
   "source": [
    "# Filters neighborhoods with population above 500, for consistent and stable statistical analyses\n",
    "socio_filtered = socio_filtered[socio_filtered['2019 Toplam Nufus'] > 500]"
   ]
  },
  {
   "cell_type": "code",
   "execution_count": 349,
   "metadata": {},
   "outputs": [
    {
     "name": "stdout",
     "output_type": "stream",
     "text": [
      "<class 'pandas.core.frame.DataFrame'>\n",
      "Int64Index: 804 entries, 0 to 958\n",
      "Data columns (total 39 columns):\n",
      "nbhd_id                                 804 non-null int64\n",
      "district                                804 non-null object\n",
      "nbhd                                    804 non-null object\n",
      "2016 Toplam Nufus                       804 non-null object\n",
      "2016 Toplam Nufus (Erkek)               804 non-null object\n",
      "2016 Toplam Nufus (Kadin)               804 non-null object\n",
      "2015 Toplam Nufus                       804 non-null float64\n",
      "Z Kusagi (0-19 yas) 2016                804 non-null object\n",
      "Y Kusagi (20-39 yas) 2016               804 non-null object\n",
      "X Kusagi (40-54 yas) 2016               804 non-null object\n",
      "Ortalama Yas 2016                       804 non-null object\n",
      "Ortalama Yas 2015                       804 non-null object\n",
      "Ortalama Yas 2014                       804 non-null object\n",
      "Hic Evlenmeyenler 2016                  804 non-null object\n",
      "Evli Olanlar 2016                       804 non-null object\n",
      "Bosananlar 2016                         804 non-null object\n",
      "Yuzolcumu (km2)                         804 non-null float64\n",
      "Hane Halki Ortalama Buyuklugu 2016      804 non-null object\n",
      "Toplam Konut Sayisi 2016                804 non-null float64\n",
      "Ozel Isyeri Sayisi 2016                 804 non-null float64\n",
      "Ilkokul Mezunu 2016                     804 non-null object\n",
      "Universite Mezunu 2016                  804 non-null object\n",
      "Okuryazar Orani - Kadin 2016            804 non-null object\n",
      "Ortalama Egitim Suresi 2016             804 non-null object\n",
      "ASM Varligi                             804 non-null float64\n",
      "Ozel Hastane Varligi                    804 non-null float64\n",
      "Kultur Sanat Merkezi Varligi            804 non-null float64\n",
      "Sinema Varligi                          804 non-null float64\n",
      "Tiyatro Varligi                         804 non-null float64\n",
      "Dogalgaz Kullanici Sayisi/Nufus 2017    800 non-null float64\n",
      "Su Ariza Suresi (Saat) 2016             802 non-null float64\n",
      "Metro Durak Sayisi                      804 non-null float64\n",
      "Market Yogunluk Endeksi 2017            804 non-null float64\n",
      "AVM Sayisi 2017                         804 non-null float64\n",
      "Pazar Yeri Sayi 2017                    804 non-null float64\n",
      "Kiralik Konut Bedeli (m2 TL) 2017       804 non-null float64\n",
      "2017 Toplam Nufus                       804 non-null int64\n",
      "2018 Toplam Nufus                       804 non-null int64\n",
      "2019 Toplam Nufus                       804 non-null int64\n",
      "dtypes: float64(16), int64(4), object(19)\n",
      "memory usage: 251.2+ KB\n"
     ]
    }
   ],
   "source": [
    "# We see that only a few null entries exist, so we can safely drop them and work with the remaining ones\n",
    "socio_filtered = socio_filtered.reset_index()\n",
    "socio_filtered.info()"
   ]
  },
  {
   "cell_type": "code",
   "execution_count": 350,
   "metadata": {},
   "outputs": [],
   "source": [
    "socio_filtered = socio_filtered.dropna()"
   ]
  },
  {
   "cell_type": "code",
   "execution_count": 371,
   "metadata": {},
   "outputs": [],
   "source": [
    "# Function that calculates rate of change from previous year to next\n",
    "def rate_of_change(prev_yr, next_yr):\n",
    "    return (next_yr - prev_yr) / prev_yr"
   ]
  },
  {
   "cell_type": "code",
   "execution_count": 355,
   "metadata": {},
   "outputs": [
    {
     "name": "stderr",
     "output_type": "stream",
     "text": [
      "/opt/anaconda3/lib/python3.7/site-packages/ipykernel_launcher.py:1: SettingWithCopyWarning: \n",
      "A value is trying to be set on a copy of a slice from a DataFrame.\n",
      "Try using .loc[row_indexer,col_indexer] = value instead\n",
      "\n",
      "See the caveats in the documentation: http://pandas.pydata.org/pandas-docs/stable/user_guide/indexing.html#returning-a-view-versus-a-copy\n",
      "  \"\"\"Entry point for launching an IPython kernel.\n",
      "/opt/anaconda3/lib/python3.7/site-packages/ipykernel_launcher.py:2: SettingWithCopyWarning: \n",
      "A value is trying to be set on a copy of a slice from a DataFrame.\n",
      "Try using .loc[row_indexer,col_indexer] = value instead\n",
      "\n",
      "See the caveats in the documentation: http://pandas.pydata.org/pandas-docs/stable/user_guide/indexing.html#returning-a-view-versus-a-copy\n",
      "  \n",
      "/opt/anaconda3/lib/python3.7/site-packages/ipykernel_launcher.py:3: SettingWithCopyWarning: \n",
      "A value is trying to be set on a copy of a slice from a DataFrame.\n",
      "Try using .loc[row_indexer,col_indexer] = value instead\n",
      "\n",
      "See the caveats in the documentation: http://pandas.pydata.org/pandas-docs/stable/user_guide/indexing.html#returning-a-view-versus-a-copy\n",
      "  This is separate from the ipykernel package so we can avoid doing imports until\n"
     ]
    }
   ],
   "source": [
    "# Creates population change features for the years that exist in our dataset\n",
    "socio_filtered['pop change 15-16'] = rate_of_change(socio_filtered['2015 Toplam Nufus'],socio_filtered['2016 Toplam Nufus'])\n",
    "socio_filtered['pop change 16-17'] = rate_of_change(socio_filtered['2016 Toplam Nufus'],socio_filtered['2017 Toplam Nufus'])\n",
    "socio_filtered['pop change 17-18'] = rate_of_change(socio_filtered['2017 Toplam Nufus'],socio_filtered['2018 Toplam Nufus'])\n",
    "socio_filtered['pop change 18-19'] = rate_of_change(socio_filtered['2018 Toplam Nufus'],socio_filtered['2019 Toplam Nufus'])"
   ]
  },
  {
   "cell_type": "code",
   "execution_count": 366,
   "metadata": {},
   "outputs": [],
   "source": [
    "# Drops total population features except the most recent one, since keeping them would cause collinearity issues\n",
    "socio_filtered = socio_filtered.drop(columns=['2015 Toplam Nufus','2016 Toplam Nufus','2017 Toplam Nufus','2018 Toplam Nufus'])"
   ]
  },
  {
   "cell_type": "code",
   "execution_count": 368,
   "metadata": {},
   "outputs": [],
   "source": [
    "# Creates a feature for female population per male population\n",
    "socio_filtered['women:men'] = socio_filtered['2016 Toplam Nufus (Kadin)'] / socio_filtered['2016 Toplam Nufus (Erkek)']"
   ]
  },
  {
   "cell_type": "code",
   "execution_count": 369,
   "metadata": {},
   "outputs": [],
   "source": [
    "# Drops gender population features\n",
    "socio_filtered = socio_filtered.drop(columns=['2016 Toplam Nufus (Kadin)', '2016 Toplam Nufus (Erkek)'])"
   ]
  },
  {
   "cell_type": "code",
   "execution_count": 383,
   "metadata": {},
   "outputs": [],
   "source": [
    "# Creates rate of change feature for average age\n",
    "socio_filtered['avg age change 15-16'] = rate_of_change(socio_filtered['Ortalama Yas 2015'],socio_filtered['Ortalama Yas 2016'])"
   ]
  },
  {
   "cell_type": "code",
   "execution_count": 384,
   "metadata": {},
   "outputs": [],
   "source": [
    "# Drops the older average age feature\n",
    "socio_filtered = socio_filtered.drop(columns=['Ortalama Yas 2015'])"
   ]
  },
  {
   "cell_type": "code",
   "execution_count": 389,
   "metadata": {},
   "outputs": [
    {
     "data": {
      "text/plain": [
       "Index(['index', 'nbhd_id', 'district', 'nbhd', 'Z Kusagi (0-19 yas) 2016 ',\n",
       "       'Y Kusagi (20-39 yas) 2016', 'X Kusagi (40-54 yas) 2016',\n",
       "       'Ortalama Yas 2016', 'Hic Evlenmeyenler 2016', 'Evli Olanlar 2016',\n",
       "       'Bosananlar 2016', 'Yuzolcumu (km2)',\n",
       "       'Hane Halki Ortalama Buyuklugu 2016', 'Toplam Konut Sayisi 2016',\n",
       "       'Ozel Isyeri Sayisi 2016', 'Ilkokul Mezunu 2016',\n",
       "       'Universite Mezunu 2016', 'Okuryazar Orani - Kadin 2016',\n",
       "       'Ortalama Egitim Suresi 2016', 'ASM Varligi', 'Ozel Hastane Varligi',\n",
       "       'Kultur Sanat Merkezi Varligi', 'Sinema Varligi', 'Tiyatro Varligi',\n",
       "       'Dogalgaz Kullanici Sayisi/Nufus 2017', 'Su Ariza Suresi (Saat) 2016',\n",
       "       'Metro Durak Sayisi', 'Market Yogunluk Endeksi 2017', 'AVM Sayisi 2017',\n",
       "       'Pazar Yeri Sayi 2017', 'Kiralik Konut Bedeli (m2 TL) 2017',\n",
       "       '2019 Toplam Nufus', 'pop change 16-17', 'pop change 17-18',\n",
       "       'pop change 18-19', 'pop change 15-16', 'women:men',\n",
       "       'avg age change 15-16'],\n",
       "      dtype='object')"
      ]
     },
     "execution_count": 389,
     "metadata": {},
     "output_type": "execute_result"
    }
   ],
   "source": [
    "socio_filtered.columns"
   ]
  },
  {
   "cell_type": "markdown",
   "metadata": {},
   "source": [
    "## References"
   ]
  },
  {
   "cell_type": "markdown",
   "metadata": {},
   "source": [
    "[1] https://www.tbmm.gov.tr/kanunlar/k6360.html"
   ]
  }
 ],
 "metadata": {
  "kernelspec": {
   "display_name": "Python 3",
   "language": "python",
   "name": "python3"
  },
  "language_info": {
   "codemirror_mode": {
    "name": "ipython",
    "version": 3
   },
   "file_extension": ".py",
   "mimetype": "text/x-python",
   "name": "python",
   "nbconvert_exporter": "python",
   "pygments_lexer": "ipython3",
   "version": "3.7.4"
  }
 },
 "nbformat": 4,
 "nbformat_minor": 2
}
