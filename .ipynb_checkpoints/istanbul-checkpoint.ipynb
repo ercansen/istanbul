{
 "cells": [
  {
   "cell_type": "code",
   "execution_count": 1,
   "metadata": {},
   "outputs": [],
   "source": [
    "from selenium import webdriver\n",
    "from selenium.webdriver.common.keys import Keys\n",
    "import pandas as pd\n",
    "import numpy as np\n",
    "import time\n",
    "import glob, os, shutil"
   ]
  },
  {
   "cell_type": "markdown",
   "metadata": {},
   "source": [
    "## 1) Scraping Election Data"
   ]
  },
  {
   "cell_type": "markdown",
   "metadata": {},
   "source": [
    "Election data is scraped from Turkish high election board's database, using Selenium package. Making a query in the database consists of 3 steps: 1) Query Options (\"Sorgulama Secenekleri\"), 2) Select Election Name (\"Secim Adi Seciniz\"), and 3) "
   ]
  },
  {
   "cell_type": "code",
   "execution_count": 48,
   "metadata": {},
   "outputs": [],
   "source": [
    "database_url = 'https://sonuc.ysk.gov.tr'\n",
    "istanbul = 'İSTANBUL'\n",
    "\n",
    "# Election names\n",
    "ist_reelect = 'İSTANBUL BÜYÜKŞEHİR BELEDİYE BAŞKANLIĞI YENİLEME SEÇİMİ (23/06/2019)'\n",
    "loc_2019 = '31 MART 2019 MAHALLİ İDARELER GENEL SEÇİMİ (31/03/2019)'\n",
    "gen_2018 = 'CUMHURBAŞKANI VE 27.DÖNEM MİLLETVEKİLİ GENEL SEÇİMİ (24/06/2018)'\n",
    "ref_2017 = '2017 HALKOYLAMASI (16/04/2017)'\n",
    "gen_nov_2015 = '26.DÖNEM MİLLETVEKİLİ GENEL SEÇİMİ (01/11/2015)'\n",
    "gen_jun_2015 = '25.DÖNEM MİLLETVEKİLİ GENEL SEÇİMİ (07/06/2015)'"
   ]
  },
  {
   "cell_type": "code",
   "execution_count": 49,
   "metadata": {},
   "outputs": [],
   "source": [
    "# Creates a webdriver object for Chrome and navigates to Turkish high election board's election results database\n",
    "chrome = webdriver.Chrome(executable_path='/Users/ercansen/Desktop/apps/chromedriver')\n",
    "chrome.get(database_url)"
   ]
  },
  {
   "cell_type": "code",
   "execution_count": 50,
   "metadata": {},
   "outputs": [],
   "source": [
    "# Website prompts the user to pick how to query the results; query by election name (third button) is selected\n",
    "byElecNm_classname = 'ma-0.pa-0.border-0.cursor-pointer.w-100'\n",
    "\n",
    "buttons_intro = list()\n",
    "buttons_intro = chrome.find_elements_by_class_name(byElecNm_classname)\n",
    "button_byElecNm = buttons_intro[2]\n",
    "button_byElecNm.click()"
   ]
  },
  {
   "cell_type": "code",
   "execution_count": 51,
   "metadata": {},
   "outputs": [],
   "source": [
    "# To open up the dropdown list of past 11 elections in Turkey, scans the corresponding arrow\n",
    "elec_arrow_xpath = \"//*[@id='collapsePanelThree']/div[1]/div/div/form/div[1]/div/div/ng-select/div/span\"\n",
    "elec_arrow = chrome.find_element_by_xpath(elec_arrow_xpath)"
   ]
  },
  {
   "cell_type": "markdown",
   "metadata": {},
   "source": [
    "### Istanbul 2019 Mayoral Rerun Election"
   ]
  },
  {
   "cell_type": "code",
   "execution_count": 6,
   "metadata": {},
   "outputs": [],
   "source": [
    "# Clicks elec_arrow so that the dropdown list is opened; desired election is selected from the list\n",
    "elec_arrow.click()\n",
    "\n",
    "for option in chrome.find_elements_by_class_name('ng-option'):\n",
    "    if option.text == ist_reelect:\n",
    "        option.click()\n",
    "        break"
   ]
  },
  {
   "cell_type": "code",
   "execution_count": 7,
   "metadata": {},
   "outputs": [],
   "source": [
    "# Clicks the green 'continue' (\"Devam Et\") button\n",
    "continue_classname = 'btn.btn-success.rounded-0.mr-5'\n",
    "\n",
    "button_continue = chrome.find_element_by_class_name(continue_classname)\n",
    "button_continue.click()"
   ]
  },
  {
   "cell_type": "code",
   "execution_count": 8,
   "metadata": {},
   "outputs": [],
   "source": [
    "# Three dropdown lists (for filtering city, district and neighborhood name), and a filter for ballot box id appear\n",
    "# (Note : District is the subdivision of city, and neighborhood is the subdivision of district)\n",
    "# Due to database's design, when only a city is selected (but not a district) district-wise election results are shown\n",
    "# When both a city and district are selected, results of each ballot box (in the district) are shown\n",
    "\n",
    "# Clicks the corresponding arrow for city dropdown list\n",
    "city_arrow_xpath = \"//*[@id='collapsePanelFour']/div[1]/div/div/fieldset/form/div[1]/div[2]/div[1]/ng-select/div/span\"\n",
    "city_arrow = chrome.find_element_by_xpath(city_arrow_xpath)\n",
    "city_arrow.click()"
   ]
  },
  {
   "cell_type": "code",
   "execution_count": 9,
   "metadata": {},
   "outputs": [],
   "source": [
    "# Selects Istanbul from the list of cities (although it is the only option for the rerun mayoral election)\n",
    "city_dropdown_xpath = '/html/body/app-root/app-vatandas/div[2]/app-vatandas-asistan-arsiv-sonuc/div/div/div[2]/div[1]/div/div/fieldset/form/div[1]/div[2]/div[1]/ng-select/ng-dropdown-panel/div'\n",
    "city_dropdown = chrome.find_element_by_xpath(city_dropdown_xpath)\n",
    "\n",
    "for option in city_dropdown.find_elements_by_class_name('ng-option'):\n",
    "    if option.text == istanbul:\n",
    "        option.click()\n",
    "        break"
   ]
  },
  {
   "cell_type": "code",
   "execution_count": 10,
   "metadata": {},
   "outputs": [],
   "source": [
    "# Scans the corresponding arrow for district dropdown list\n",
    "district_arrow_xpath = \"//*[@id='collapsePanelFour']/div[1]/div/div/fieldset/form/div[1]/div[2]/div[2]/ng-select/div/span\"\n",
    "district_arrow = chrome.find_element_by_xpath(district_arrow_xpath)"
   ]
  },
  {
   "cell_type": "code",
   "execution_count": 11,
   "metadata": {
    "scrolled": false
   },
   "outputs": [],
   "source": [
    "district_dropdown_xpath = '/html/body/app-root/app-vatandas/div[2]/app-vatandas-asistan-arsiv-sonuc/div/div/div[2]/div[1]/div/div/fieldset/form/div[1]/div[2]/div[2]/ng-select/ng-dropdown-panel/div'\n",
    "query_button_xpath = '/html/body/app-root/app-vatandas/div[2]/app-vatandas-asistan-arsiv-sonuc/div/div/div[2]/div[1]/div/div/fieldset/form/div[2]/div/div/button'\n",
    "district_input_xpath = '/html/body/app-root/app-vatandas/div[2]/app-vatandas-asistan-arsiv-sonuc/div/div/div[2]/div[1]/div/div/fieldset/form/div[1]/div[2]/div[2]/ng-select/div/div/div[2]/input'\n",
    "save_button_xpath = '/html/body/app-root/app-vatandas/div[2]/app-vatandas-asistan-arsiv-sonuc/div/div/div[2]/div[1]/div/div/app-yurtici-muhtarlik-listesi/fieldset/div[2]/div/button'\n",
    "accept_button_xpath = '/html/body/ngb-modal-window/div/div/div[2]/div/button[1]'\n",
    "\n",
    "query_button = chrome.find_element_by_xpath(query_button_xpath)\n",
    "district_input = chrome.find_element_by_xpath(district_input_xpath)\n",
    "\n",
    "# Retrieves a list of districts of Istanbul\n",
    "districts = list()\n",
    "district_arrow.click()\n",
    "for option in chrome.find_element_by_xpath(district_dropdown_xpath).find_elements_by_class_name('ng-option'):\n",
    "    districts.append(option.text)\n",
    "\n",
    "# For each district in the list, corresponding box receives district input, \n",
    "## navigates to election results and downloads them\n",
    "for i in range(len(districts)):\n",
    "    district = districts[i]\n",
    "    time.sleep(3)\n",
    "    district_input.send_keys(district)\n",
    "    district_input.send_keys(Keys.ENTER)\n",
    "    time.sleep(10)\n",
    "    query_button.click()\n",
    "    time.sleep(10)\n",
    "    chrome.find_element_by_xpath(save_button_xpath).click()\n",
    "    time.sleep(5)\n",
    "    chrome.find_element_by_xpath(accept_button_xpath).click()\n",
    "    time.sleep(5)   "
   ]
  },
  {
   "cell_type": "code",
   "execution_count": 13,
   "metadata": {},
   "outputs": [],
   "source": [
    "# Creates directories in desired location in computer for storing the output excel files\n",
    "downloads  = '/Users/ercansen/Downloads/'\n",
    "dest_dir_1 = '/Users/ercansen/Desktop/apps/istanbul/2019-06' \n",
    "dest_dir_2 = '/Users/ercansen/Desktop/apps/istanbul/2019-06/raw'\n",
    "os.mkdir(dest_dir_1)\n",
    "os.mkdir(dest_dir_2)\n",
    "\n",
    "# Queries all excel files with election results using glob\n",
    "files = glob.glob(downloads + 'Yurt*.xlsx')\n",
    "\n",
    "# Copies Excel files to the directory that was just created\n",
    "for file in files:\n",
    "    if os.path.isfile(file) and len(files) == 39:\n",
    "        shutil.copy2(file, dest_dir_2)\n",
    "        \n",
    "# Deletes original files from 'Downloads' after copying\n",
    "for file in files:\n",
    "    if os.path.isfile(file) and len(files) == 39:\n",
    "        os.remove(file)"
   ]
  },
  {
   "cell_type": "markdown",
   "metadata": {},
   "source": [
    "### 2019 Local Election (cancelled)"
   ]
  },
  {
   "cell_type": "code",
   "execution_count": 14,
   "metadata": {},
   "outputs": [],
   "source": [
    "# To select another election, we go back a step by clicking on \n",
    "## corresponding arrow for \"Select Election Name\"\n",
    "elect_reselect_xpath = '/html/body/app-root/app-vatandas/div[2]/app-vatandas-asistan-arsiv-sorgu/div/div/div[1]/div/div[2]/a/span'\n",
    "chrome.find_element_by_xpath(elect_reselect_xpath).click()\n",
    "\n",
    "# We make a new selection for election name\n",
    "elec_arrow.click()\n",
    "for option in chrome.find_elements_by_class_name('ng-option'):\n",
    "    if option.text == loc_2019:\n",
    "        option.click()\n",
    "        break"
   ]
  },
  {
   "cell_type": "code",
   "execution_count": 19,
   "metadata": {},
   "outputs": [],
   "source": [
    "# Scans election type arrow\n",
    "elec_type_arrow_xpath = '/html/body/app-root/app-vatandas/div[2]/app-vatandas-asistan-arsiv-sorgu/div/div/div[2]/div[1]/div/div/form/div[1]/div[2]/div/ng-select/div/span'\n",
    "chrome.find_element_by_xpath(elec_type_arrow_xpath).click()"
   ]
  },
  {
   "cell_type": "code",
   "execution_count": 20,
   "metadata": {},
   "outputs": [],
   "source": [
    "metro_municip_elec = 'BÜYÜKŞEHİR BELEDİYE BAŞKANLIĞI SEÇİMLERİ'\n",
    "elec_type_dropdown_xpath = '/html/body/app-root/app-vatandas/div[2]/app-vatandas-asistan-arsiv-sorgu/div/div/div[2]/div[1]/div/div/form/div[1]/div[2]/div/ng-select/ng-dropdown-panel'\n",
    "continue_xpath = '/html/body/app-root/app-vatandas/div[2]/app-vatandas-asistan-arsiv-sorgu/div/div/div[2]/div[1]/div/div/form/div[2]/div/div/button[1]'\n",
    "\n",
    "# At local elections, multiple elections are carried out (metropolitan mayor, district mayor, town council)\n",
    "# We are interested in metro. mayor, since it is most suitable for our purposes, hence select that on dropdown list\n",
    "elec_type_dropdown = chrome.find_element_by_xpath(elec_type_dropdown_xpath)\n",
    "\n",
    "for option in elec_type_dropdown.find_elements_by_class_name('ng-option'):\n",
    "    if option.text == metro_municip_elec:\n",
    "        option.click()\n",
    "        break\n",
    "        \n",
    "time.sleep(5)\n",
    "chrome.find_element_by_xpath(continue_xpath).click()"
   ]
  },
  {
   "cell_type": "code",
   "execution_count": 21,
   "metadata": {},
   "outputs": [],
   "source": [
    "# Opens up the dropdown list for city name\n",
    "city_arrow_xpath = \"//*[@id='collapsePanelFour']/div[1]/div/div/fieldset/form/div[1]/div[2]/div[1]/ng-select/div/span\"\n",
    "city_arrow = chrome.find_element_by_xpath(city_arrow_xpath)\n",
    "city_arrow.click()"
   ]
  },
  {
   "cell_type": "code",
   "execution_count": 22,
   "metadata": {},
   "outputs": [],
   "source": [
    "# Selects Istanbul from the list of cities\n",
    "city_dropdown_xpath = '/html/body/app-root/app-vatandas/div[2]/app-vatandas-asistan-arsiv-sonuc/div/div/div[2]/div[1]/div/div/fieldset/form/div[1]/div[2]/div[1]/ng-select/ng-dropdown-panel/div'\n",
    "city_dropdown = chrome.find_element_by_xpath(city_dropdown_xpath)\n",
    "\n",
    "for option in city_dropdown.find_elements_by_class_name('ng-option'):\n",
    "    if option.text == istanbul:\n",
    "        option.click()\n",
    "        break"
   ]
  },
  {
   "cell_type": "code",
   "execution_count": 24,
   "metadata": {},
   "outputs": [],
   "source": [
    "query_button_xpath = '/html/body/app-root/app-vatandas/div[2]/app-vatandas-asistan-arsiv-sonuc/div/div/div[2]/div[1]/div/div/fieldset/form/div[2]/div/div/button'\n",
    "district_input_xpath = '/html/body/app-root/app-vatandas/div[2]/app-vatandas-asistan-arsiv-sonuc/div/div/div[2]/div[1]/div/div/fieldset/form/div[1]/div[2]/div[2]/ng-select/div/div/div[2]/input'\n",
    "save_button_xpath = '/html/body/app-root/app-vatandas/div[2]/app-vatandas-asistan-arsiv-sonuc/div/div/div[2]/div[1]/div/div/app-yurtici-muhtarlik-listesi/fieldset/div[2]/div/button'\n",
    "accept_button_xpath = '/html/body/ngb-modal-window/div/div/div[2]/div/button[1]'\n",
    "\n",
    "query_button = chrome.find_element_by_xpath(query_button_xpath)\n",
    "district_input = chrome.find_element_by_xpath(district_input_xpath)\n",
    "\n",
    "# We already have the list 'districts' from previous step\n",
    "# Enters each district name to corresponding input box and downloads the election results\n",
    "for i in range(len(districts)):\n",
    "    district = districts[i]\n",
    "    time.sleep(3)\n",
    "    district_input.send_keys(district)\n",
    "    district_input.send_keys(Keys.ENTER)\n",
    "    time.sleep(10)\n",
    "    chrome.find_element_by_xpath(query_button_xpath).click()\n",
    "    time.sleep(10)\n",
    "    chrome.find_element_by_xpath(save_button_xpath).click()\n",
    "    time.sleep(5)\n",
    "    chrome.find_element_by_xpath(accept_button_xpath).click()\n",
    "    time.sleep(5)  "
   ]
  },
  {
   "cell_type": "code",
   "execution_count": 25,
   "metadata": {},
   "outputs": [],
   "source": [
    "# Creates directories, copies .xlsx files to them and deletes the originals from Downloads \n",
    "downloads  = '/Users/ercansen/Downloads/'\n",
    "dest_dir_1 = '/Users/ercansen/Desktop/apps/istanbul/2019-03' \n",
    "dest_dir_2 = '/Users/ercansen/Desktop/apps/istanbul/2019-03/raw'\n",
    "os.mkdir(dest_dir_1)\n",
    "os.mkdir(dest_dir_2)\n",
    "\n",
    "files = glob.glob(downloads + 'Yurt*.xlsx')\n",
    "\n",
    "for file in files:\n",
    "    if os.path.isfile(file):\n",
    "        shutil.copy2(file, dest_dir_2)\n",
    "        \n",
    "for file in files:\n",
    "    if os.path.isfile(file) and len(files) == 39:\n",
    "        os.remove(file)"
   ]
  },
  {
   "cell_type": "markdown",
   "metadata": {},
   "source": [
    "### 2018 General Election (Presidential)"
   ]
  },
  {
   "cell_type": "code",
   "execution_count": 26,
   "metadata": {},
   "outputs": [],
   "source": [
    "# Selects the new election name\n",
    "elect_reselect_xpath = '/html/body/app-root/app-vatandas/div[2]/app-vatandas-asistan-arsiv-sorgu/div/div/div[1]/div/div[2]/a/span'\n",
    "chrome.find_element_by_xpath(elect_reselect_xpath).click()\n",
    "elec_arrow.click()\n",
    "\n",
    "for option in chrome.find_elements_by_class_name('ng-option'):\n",
    "    if option.text == gen_2018:\n",
    "        option.click()\n",
    "        break"
   ]
  },
  {
   "cell_type": "code",
   "execution_count": 27,
   "metadata": {},
   "outputs": [],
   "source": [
    "# Scans the arrow for election type\n",
    "elec_type_arrow_xpath = '/html/body/app-root/app-vatandas/div[2]/app-vatandas-asistan-arsiv-sorgu/div/div/div[2]/div[1]/div/div/form/div[1]/div[2]/div/ng-select/div/span'\n",
    "chrome.find_element_by_xpath(elec_type_arrow_xpath).click()"
   ]
  },
  {
   "cell_type": "code",
   "execution_count": 28,
   "metadata": {},
   "outputs": [],
   "source": [
    "# Selects the election type -- presidential\n",
    "presidential = 'CUMHURBAŞKANI SEÇİMİ'\n",
    "elec_type_dropdown_xpath = '/html/body/app-root/app-vatandas/div[2]/app-vatandas-asistan-arsiv-sorgu/div/div/div[2]/div[1]/div/div/form/div[1]/div[2]/div/ng-select/ng-dropdown-panel'\n",
    "elec_type_dropdown = chrome.find_element_by_xpath(elec_type_dropdown_xpath)\n",
    "\n",
    "time.sleep(3)\n",
    "\n",
    "for option in elec_type_dropdown.find_elements_by_class_name('ng-option'):\n",
    "    if option.text == presidential:\n",
    "        option.click()\n",
    "        break"
   ]
  },
  {
   "cell_type": "code",
   "execution_count": 29,
   "metadata": {},
   "outputs": [],
   "source": [
    "# Continue\n",
    "continue_xpath = '/html/body/app-root/app-vatandas/div[2]/app-vatandas-asistan-arsiv-sorgu/div/div/div[2]/div[1]/div/div/form/div[2]/div/div/button[1]'\n",
    "chrome.find_element_by_xpath(continue_xpath).click()"
   ]
  },
  {
   "cell_type": "code",
   "execution_count": 30,
   "metadata": {},
   "outputs": [],
   "source": [
    "# Navigates to domestic results, as opposed to foreign (expat voters)\n",
    "domestic_xpath = '/html/body/app-root/app-vatandas/div[2]/app-vatandas-asistan-arsiv-sonuc/div/div/div[2]/div[1]/div/div/fieldset/form/div[1]/div[1]/div[1]/div[2]/label/input'\n",
    "chrome.find_element_by_xpath(domestic_xpath).click()"
   ]
  },
  {
   "cell_type": "code",
   "execution_count": 31,
   "metadata": {},
   "outputs": [],
   "source": [
    "# Selects Istanbul from the list of cities\n",
    "city_arrow_xpath = '/html/body/app-root/app-vatandas/div[2]/app-vatandas-asistan-arsiv-sonuc/div/div/div[2]/div[1]/div/div/fieldset/form/div[1]/div[2]/div[1]/ng-select/div/span'\n",
    "city_dropdown_xpath = '/html/body/app-root/app-vatandas/div[2]/app-vatandas-asistan-arsiv-sonuc/div/div/div[2]/div[1]/div/div/fieldset/form/div[1]/div[2]/div[1]/ng-select/ng-dropdown-panel'\n",
    "\n",
    "chrome.find_element_by_xpath(city_arrow_xpath).click()\n",
    "time.sleep(3)\n",
    "city_dropdown = chrome.find_element_by_xpath(city_dropdown_xpath)\n",
    "\n",
    "for option in city_dropdown.find_elements_by_class_name('ng-option'):\n",
    "    if option.text == istanbul:\n",
    "        option.click()\n",
    "        break"
   ]
  },
  {
   "cell_type": "code",
   "execution_count": 34,
   "metadata": {},
   "outputs": [],
   "source": [
    "query_button_xpath = '/html/body/app-root/app-vatandas/div[2]/app-vatandas-asistan-arsiv-sonuc/div/div/div[2]/div[1]/div/div/fieldset/form/div[2]/div/div/button'\n",
    "district_input_xpath = '/html/body/app-root/app-vatandas/div[2]/app-vatandas-asistan-arsiv-sonuc/div/div/div[2]/div[1]/div/div/fieldset/form/div[1]/div[2]/div[2]/ng-select/div/div/div[2]/input'\n",
    "save_button_xpath = '/html/body/app-root/app-vatandas/div[2]/app-vatandas-asistan-arsiv-sonuc/div/div/div[2]/div[1]/div/div/app-yurtici-muhtarlik-listesi/fieldset/div[2]/div/button'\n",
    "accept_button_xpath = '/html/body/ngb-modal-window/div/div/div[2]/div/button[1]'\n",
    "\n",
    "query_button = chrome.find_element_by_xpath(query_button_xpath)\n",
    "district_input = chrome.find_element_by_xpath(district_input_xpath)\n",
    "\n",
    "# We already have the list 'districts' from an earlier step\n",
    "# Enters each district name to input box and downloads the election results\n",
    "for i in range(len(districts)):\n",
    "    district = districts[i]\n",
    "    time.sleep(3)\n",
    "    district_input.send_keys(district)\n",
    "    district_input.send_keys(Keys.ENTER)\n",
    "    time.sleep(10)\n",
    "    query_button.click()\n",
    "    time.sleep(10)\n",
    "    chrome.find_element_by_xpath(save_button_xpath).click()\n",
    "    time.sleep(5)\n",
    "    chrome.find_element_by_xpath(accept_button_xpath).click()\n",
    "    time.sleep(5)"
   ]
  },
  {
   "cell_type": "code",
   "execution_count": 39,
   "metadata": {},
   "outputs": [],
   "source": [
    "# Creates directories, copies .xlsx files to them and deletes the originals from Downloads \n",
    "downloads  = '/Users/ercansen/Downloads/'\n",
    "dest_dir_1 = '/Users/ercansen/Desktop/apps/istanbul/2018-06-PRES' \n",
    "dest_dir_2 = '/Users/ercansen/Desktop/apps/istanbul/2018-06-PRES/raw'\n",
    "os.mkdir(dest_dir_1)\n",
    "os.mkdir(dest_dir_2)\n",
    "\n",
    "files = glob.glob(downloads + 'Yurt*.xlsx')\n",
    "\n",
    "for file in files:\n",
    "    if os.path.isfile(file):\n",
    "        shutil.copy2(file, dest_dir_2)\n",
    "        \n",
    "for file in files:\n",
    "    if os.path.isfile(file) and len(files) == 39:\n",
    "        os.remove(file)"
   ]
  },
  {
   "cell_type": "markdown",
   "metadata": {},
   "source": [
    "### 2018 General Election (MP)"
   ]
  },
  {
   "cell_type": "code",
   "execution_count": 53,
   "metadata": {},
   "outputs": [],
   "source": [
    "# Selects the new election name\n",
    "elect_reselect_xpath = '/html/body/app-root/app-vatandas/div[2]/app-vatandas-asistan-arsiv-sorgu/div/div/div[1]/div/div[2]/a/span'\n",
    "chrome.find_element_by_xpath(elect_reselect_xpath).click()\n",
    "elec_arrow.click()\n",
    "\n",
    "for option in chrome.find_elements_by_class_name('ng-option'):\n",
    "    if option.text == gen_2018:\n",
    "        option.click()\n",
    "        break"
   ]
  },
  {
   "cell_type": "code",
   "execution_count": 54,
   "metadata": {},
   "outputs": [],
   "source": [
    "# Scans the arrow for election type\n",
    "elec_type_arrow_xpath = '/html/body/app-root/app-vatandas/div[2]/app-vatandas-asistan-arsiv-sorgu/div/div/div[2]/div[1]/div/div/form/div[1]/div[2]/div/ng-select/div/span'\n",
    "chrome.find_element_by_xpath(elec_type_arrow_xpath).click()"
   ]
  },
  {
   "cell_type": "code",
   "execution_count": 55,
   "metadata": {},
   "outputs": [],
   "source": [
    "# Selects the election type -- member of parliament\n",
    "mp = 'MİLLETVEKİLİ GENEL SEÇİMİ'\n",
    "elec_type_dropdown_xpath = '/html/body/app-root/app-vatandas/div[2]/app-vatandas-asistan-arsiv-sorgu/div/div/div[2]/div[1]/div/div/form/div[1]/div[2]/div/ng-select/ng-dropdown-panel'\n",
    "elec_type_dropdown = chrome.find_element_by_xpath(elec_type_dropdown_xpath)\n",
    "\n",
    "time.sleep(3)\n",
    "\n",
    "for option in elec_type_dropdown.find_elements_by_class_name('ng-option'):\n",
    "    if option.text == mp:\n",
    "        option.click()\n",
    "        break"
   ]
  },
  {
   "cell_type": "code",
   "execution_count": 56,
   "metadata": {},
   "outputs": [],
   "source": [
    "# Continue\n",
    "continue_xpath = '/html/body/app-root/app-vatandas/div[2]/app-vatandas-asistan-arsiv-sorgu/div/div/div[2]/div[1]/div/div/form/div[2]/div/div/button[1]'\n",
    "chrome.find_element_by_xpath(continue_xpath).click()"
   ]
  },
  {
   "cell_type": "code",
   "execution_count": 57,
   "metadata": {},
   "outputs": [],
   "source": [
    "# Navigates to domestic results, as opposed to foreign (expat voters)\n",
    "domestic_xpath = '/html/body/app-root/app-vatandas/div[2]/app-vatandas-asistan-arsiv-sonuc/div/div/div[2]/div[1]/div/div/fieldset/form/div[1]/div[1]/div[1]/div[2]/label/input'\n",
    "chrome.find_element_by_xpath(domestic_xpath).click()"
   ]
  },
  {
   "cell_type": "code",
   "execution_count": 58,
   "metadata": {},
   "outputs": [],
   "source": [
    "# Selects Istanbul from the list of cities\n",
    "city_arrow_xpath = '/html/body/app-root/app-vatandas/div[2]/app-vatandas-asistan-arsiv-sonuc/div/div/div[2]/div[1]/div/div/fieldset/form/div[1]/div[2]/div[1]/ng-select/div/span'\n",
    "city_dropdown_xpath = '/html/body/app-root/app-vatandas/div[2]/app-vatandas-asistan-arsiv-sonuc/div/div/div[2]/div[1]/div/div/fieldset/form/div[1]/div[2]/div[1]/ng-select/ng-dropdown-panel'\n",
    "\n",
    "# Istanbul is divided into 3 regions for MP elections, all of which have to be scraped separately\n",
    "istanbul_1 = 'İSTANBUL-1'\n",
    "istanbul_2 = 'İSTANBUL-2'\n",
    "istanbul_3 = 'İSTANBUL-3'\n",
    "\n",
    "chrome.find_element_by_xpath(city_arrow_xpath).click()\n",
    "time.sleep(3)\n",
    "city_dropdown = chrome.find_element_by_xpath(city_dropdown_xpath)\n",
    "\n",
    "for option in city_dropdown.find_elements_by_class_name('ng-option'):\n",
    "    if option.text == istanbul_1:\n",
    "        option.click()\n",
    "        break"
   ]
  },
  {
   "cell_type": "code",
   "execution_count": 60,
   "metadata": {},
   "outputs": [],
   "source": [
    "district_arrow_xpath = '/html/body/app-root/app-vatandas/div[2]/app-vatandas-asistan-arsiv-sonuc/div/div/div[2]/div[1]/div/div/fieldset/form/div[1]/div[2]/div[2]/ng-select/div/span'\n",
    "query_button_xpath = '/html/body/app-root/app-vatandas/div[2]/app-vatandas-asistan-arsiv-sonuc/div/div/div[2]/div[1]/div/div/fieldset/form/div[2]/div/div/button'\n",
    "district_input_xpath = '/html/body/app-root/app-vatandas/div[2]/app-vatandas-asistan-arsiv-sonuc/div/div/div[2]/div[1]/div/div/fieldset/form/div[1]/div[2]/div[2]/ng-select/div/div/div[2]/input'\n",
    "save_button_xpath = '/html/body/app-root/app-vatandas/div[2]/app-vatandas-asistan-arsiv-sonuc/div/div/div[2]/div[1]/div/div/app-yurtici-muhtarlik-listesi/fieldset/div[2]/div/button'\n",
    "accept_button_xpath = '/html/body/ngb-modal-window/div/div/div[2]/div/button[1]'\n",
    "\n",
    "query_button = chrome.find_element_by_xpath(query_button_xpath)\n",
    "district_input = chrome.find_element_by_xpath(district_input_xpath)\n",
    "\n",
    "# Retrieves Istanbul-1 MP region's district list\n",
    "districts_1 = list()\n",
    "chrome.find_element_by_xpath(district_arrow_xpath).click()\n",
    "for option in chrome.find_element_by_xpath(district_dropdown_xpath).find_elements_by_class_name('ng-option'):\n",
    "    districts_1.append(option.text)\n",
    "\n",
    "# Enters each district name to input box and downloads the election results\n",
    "for i in range(len(districts_1)):\n",
    "    district = districts_1[i]\n",
    "    time.sleep(3)\n",
    "    district_input.send_keys(district)\n",
    "    district_input.send_keys(Keys.ENTER)\n",
    "    time.sleep(10)\n",
    "    query_button.click()\n",
    "    time.sleep(10)\n",
    "    chrome.find_element_by_xpath(save_button_xpath).click()\n",
    "    time.sleep(5)\n",
    "    chrome.find_element_by_xpath(accept_button_xpath).click()\n",
    "    time.sleep(5)  "
   ]
  },
  {
   "cell_type": "code",
   "execution_count": 61,
   "metadata": {},
   "outputs": [],
   "source": [
    "# Creates directories, copies .xlsx files to them and deletes the originals from Downloads \n",
    "downloads  = '/Users/ercansen/Downloads/'\n",
    "dest_dir_1 = '/Users/ercansen/Desktop/apps/istanbul/2018-06-MP' \n",
    "dest_dir_2 = '/Users/ercansen/Desktop/apps/istanbul/2018-06-MP/raw'\n",
    "os.mkdir(dest_dir_1)\n",
    "os.mkdir(dest_dir_2)\n",
    "\n",
    "files = glob.glob(downloads + 'Yurt*.xlsx')\n",
    "\n",
    "for file in files:\n",
    "    if os.path.isfile(file):\n",
    "        shutil.copy2(file, dest_dir_2)\n",
    "        \n",
    "for file in files:\n",
    "    if os.path.isfile(file) and len(files):\n",
    "        os.remove(file)"
   ]
  },
  {
   "cell_type": "code",
   "execution_count": 63,
   "metadata": {},
   "outputs": [],
   "source": [
    "# Istanbul's 2nd electoral region\n",
    "chrome.find_element_by_xpath(city_arrow_xpath).click()\n",
    "chrome.find_element_by_xpath(city_arrow_xpath).click()\n",
    "time.sleep(3)\n",
    "city_dropdown = chrome.find_element_by_xpath(city_dropdown_xpath)\n",
    "\n",
    "for option in city_dropdown.find_elements_by_class_name('ng-option'):\n",
    "    if option.text == istanbul_2:\n",
    "        option.click()\n",
    "        break"
   ]
  },
  {
   "cell_type": "code",
   "execution_count": 64,
   "metadata": {},
   "outputs": [],
   "source": [
    "# Retrieves Istanbul-2 MP region's district list\n",
    "districts_2 = list()\n",
    "chrome.find_element_by_xpath(district_arrow_xpath).click()\n",
    "for option in chrome.find_element_by_xpath(district_dropdown_xpath).find_elements_by_class_name('ng-option'):\n",
    "    districts_2.append(option.text)\n",
    "\n",
    "# Enters each district name to input box and downloads the election results\n",
    "for i in range(len(districts_2)):\n",
    "    district = districts_2[i]\n",
    "    time.sleep(3)\n",
    "    district_input.send_keys(district)\n",
    "    district_input.send_keys(Keys.ENTER)\n",
    "    time.sleep(10)\n",
    "    query_button.click()\n",
    "    time.sleep(10)\n",
    "    chrome.find_element_by_xpath(save_button_xpath).click()\n",
    "    time.sleep(5)\n",
    "    chrome.find_element_by_xpath(accept_button_xpath).click()\n",
    "    time.sleep(5)  "
   ]
  },
  {
   "cell_type": "code",
   "execution_count": 65,
   "metadata": {},
   "outputs": [],
   "source": [
    "files = glob.glob(downloads + 'Yurt*.xlsx')\n",
    "\n",
    "for file in files:\n",
    "    if os.path.isfile(file):\n",
    "        shutil.copy2(file, dest_dir_2)\n",
    "        \n",
    "for file in files:\n",
    "    if os.path.isfile(file) and len(files):\n",
    "        os.remove(file)"
   ]
  },
  {
   "cell_type": "code",
   "execution_count": 66,
   "metadata": {},
   "outputs": [],
   "source": [
    "# Istanbul's 3rd electoral region\n",
    "chrome.find_element_by_xpath(city_arrow_xpath).click()\n",
    "chrome.find_element_by_xpath(city_arrow_xpath).click()\n",
    "time.sleep(3)\n",
    "city_dropdown = chrome.find_element_by_xpath(city_dropdown_xpath)\n",
    "\n",
    "for option in city_dropdown.find_elements_by_class_name('ng-option'):\n",
    "    if option.text == istanbul_3:\n",
    "        option.click()\n",
    "        break"
   ]
  },
  {
   "cell_type": "code",
   "execution_count": 67,
   "metadata": {},
   "outputs": [],
   "source": [
    "# Retrieves Istanbul-3 MP region's district list\n",
    "districts_3 = list()\n",
    "chrome.find_element_by_xpath(district_arrow_xpath).click()\n",
    "for option in chrome.find_element_by_xpath(district_dropdown_xpath).find_elements_by_class_name('ng-option'):\n",
    "    districts_3.append(option.text)\n",
    "\n",
    "# Enters each district name to input box and downloads the election results\n",
    "for i in range(len(districts_3)):\n",
    "    district = districts_3[i]\n",
    "    time.sleep(3)\n",
    "    district_input.send_keys(district)\n",
    "    district_input.send_keys(Keys.ENTER)\n",
    "    time.sleep(10)\n",
    "    query_button.click()\n",
    "    time.sleep(10)\n",
    "    chrome.find_element_by_xpath(save_button_xpath).click()\n",
    "    time.sleep(5)\n",
    "    chrome.find_element_by_xpath(accept_button_xpath).click()\n",
    "    time.sleep(5)  "
   ]
  },
  {
   "cell_type": "code",
   "execution_count": 68,
   "metadata": {},
   "outputs": [],
   "source": [
    "files = glob.glob(downloads + 'Yurt*.xlsx')\n",
    "\n",
    "for file in files:\n",
    "    if os.path.isfile(file):\n",
    "        shutil.copy2(file, dest_dir_2)\n",
    "        \n",
    "for file in files:\n",
    "    if os.path.isfile(file) and len(files):\n",
    "        os.remove(file)"
   ]
  },
  {
   "cell_type": "markdown",
   "metadata": {},
   "source": [
    "### 2017 Constitutional Referendum"
   ]
  },
  {
   "cell_type": "code",
   "execution_count": 69,
   "metadata": {},
   "outputs": [],
   "source": [
    "# Selects the new election name\n",
    "elect_reselect_xpath = '/html/body/app-root/app-vatandas/div[2]/app-vatandas-asistan-arsiv-sorgu/div/div/div[1]/div/div[2]/a/span'\n",
    "chrome.find_element_by_xpath(elect_reselect_xpath).click()\n",
    "elec_arrow.click()\n",
    "\n",
    "for option in chrome.find_elements_by_class_name('ng-option'):\n",
    "    if option.text == ref_2017:\n",
    "        option.click()\n",
    "        break"
   ]
  },
  {
   "cell_type": "code",
   "execution_count": 70,
   "metadata": {},
   "outputs": [],
   "source": [
    "# Continue\n",
    "continue_xpath = '/html/body/app-root/app-vatandas/div[2]/app-vatandas-asistan-arsiv-sorgu/div/div/div[2]/div[1]/div/div/form/div[2]/div/div/button[1]'\n",
    "chrome.find_element_by_xpath(continue_xpath).click()"
   ]
  },
  {
   "cell_type": "code",
   "execution_count": 71,
   "metadata": {},
   "outputs": [],
   "source": [
    "# Navigates to domestic results, as opposed to foreign (expat voters)\n",
    "domestic_xpath = '/html/body/app-root/app-vatandas/div[2]/app-vatandas-asistan-arsiv-sonuc/div/div/div[2]/div[1]/div/div/fieldset/form/div[1]/div[1]/div[1]/div[2]/label/input'\n",
    "chrome.find_element_by_xpath(domestic_xpath).click()"
   ]
  },
  {
   "cell_type": "code",
   "execution_count": 72,
   "metadata": {},
   "outputs": [],
   "source": [
    "# Selects Istanbul from the list of cities\n",
    "city_arrow_xpath = '/html/body/app-root/app-vatandas/div[2]/app-vatandas-asistan-arsiv-sonuc/div/div/div[2]/div[1]/div/div/fieldset/form/div[1]/div[2]/div[1]/ng-select/div/span'\n",
    "city_dropdown_xpath = '/html/body/app-root/app-vatandas/div[2]/app-vatandas-asistan-arsiv-sonuc/div/div/div[2]/div[1]/div/div/fieldset/form/div[1]/div[2]/div[1]/ng-select/ng-dropdown-panel'\n",
    "\n",
    "chrome.find_element_by_xpath(city_arrow_xpath).click()\n",
    "time.sleep(3)\n",
    "city_dropdown = chrome.find_element_by_xpath(city_dropdown_xpath)\n",
    "\n",
    "for option in city_dropdown.find_elements_by_class_name('ng-option'):\n",
    "    if option.text == istanbul:\n",
    "        option.click()\n",
    "        break"
   ]
  },
  {
   "cell_type": "code",
   "execution_count": 73,
   "metadata": {},
   "outputs": [],
   "source": [
    "query_button_xpath = '/html/body/app-root/app-vatandas/div[2]/app-vatandas-asistan-arsiv-sonuc/div/div/div[2]/div[1]/div/div/fieldset/form/div[2]/div/div/button'\n",
    "district_input_xpath = '/html/body/app-root/app-vatandas/div[2]/app-vatandas-asistan-arsiv-sonuc/div/div/div[2]/div[1]/div/div/fieldset/form/div[1]/div[2]/div[2]/ng-select/div/div/div[2]/input'\n",
    "save_button_xpath = '/html/body/app-root/app-vatandas/div[2]/app-vatandas-asistan-arsiv-sonuc/div/div/div[2]/div[1]/div/div/app-yurtici-muhtarlik-listesi/fieldset/div[2]/div/button'\n",
    "accept_button_xpath = '/html/body/ngb-modal-window/div/div/div[2]/div/button[1]'\n",
    "\n",
    "query_button = chrome.find_element_by_xpath(query_button_xpath)\n",
    "district_input = chrome.find_element_by_xpath(district_input_xpath)\n",
    "\n",
    "# We already have the list 'districts' from an earlier step\n",
    "# Enters each district name to input box and downloads the election results\n",
    "for i in range(len(districts)):\n",
    "    district = districts[i]\n",
    "    time.sleep(3)\n",
    "    district_input.send_keys(district)\n",
    "    district_input.send_keys(Keys.ENTER)\n",
    "    time.sleep(10)\n",
    "    query_button.click()\n",
    "    time.sleep(10)\n",
    "    chrome.find_element_by_xpath(save_button_xpath).click()\n",
    "    time.sleep(5)\n",
    "    chrome.find_element_by_xpath(accept_button_xpath).click()\n",
    "    time.sleep(5)"
   ]
  },
  {
   "cell_type": "code",
   "execution_count": 74,
   "metadata": {},
   "outputs": [],
   "source": [
    "# Creates directories, copies .xlsx files to them and deletes the originals from Downloads \n",
    "downloads  = '/Users/ercansen/Downloads/'\n",
    "dest_dir_1 = '/Users/ercansen/Desktop/apps/istanbul/2017-04' \n",
    "dest_dir_2 = '/Users/ercansen/Desktop/apps/istanbul/2017-04/raw'\n",
    "os.mkdir(dest_dir_1)\n",
    "os.mkdir(dest_dir_2)\n",
    "\n",
    "files = glob.glob(downloads + 'Yurt*.xlsx')\n",
    "\n",
    "for file in files:\n",
    "    if os.path.isfile(file):\n",
    "        shutil.copy2(file, dest_dir_2)\n",
    "        \n",
    "for file in files:\n",
    "    if os.path.isfile(file) and len(files):\n",
    "        os.remove(file)"
   ]
  },
  {
   "cell_type": "markdown",
   "metadata": {},
   "source": [
    "### 2015 November General Election"
   ]
  },
  {
   "cell_type": "code",
   "execution_count": 75,
   "metadata": {},
   "outputs": [],
   "source": [
    "# Selects the new election name\n",
    "elect_reselect_xpath = '/html/body/app-root/app-vatandas/div[2]/app-vatandas-asistan-arsiv-sorgu/div/div/div[1]/div/div[2]/a/span'\n",
    "chrome.find_element_by_xpath(elect_reselect_xpath).click()\n",
    "elec_arrow.click()\n",
    "\n",
    "for option in chrome.find_elements_by_class_name('ng-option'):\n",
    "    if option.text == gen_nov_2015:\n",
    "        option.click()\n",
    "        break"
   ]
  },
  {
   "cell_type": "code",
   "execution_count": 77,
   "metadata": {},
   "outputs": [],
   "source": [
    "# Navigates to domestic results, as opposed to foreign (expat voters)\n",
    "domestic_xpath = '/html/body/app-root/app-vatandas/div[2]/app-vatandas-asistan-arsiv-sorgu/div/div/div[2]/div[1]/div/div/form/div[1]/div[2]/div/div[2]/label/input'\n",
    "chrome.find_element_by_xpath(domestic_xpath).click()"
   ]
  },
  {
   "cell_type": "code",
   "execution_count": 78,
   "metadata": {},
   "outputs": [],
   "source": [
    "# Continue\n",
    "continue_xpath = '/html/body/app-root/app-vatandas/div[2]/app-vatandas-asistan-arsiv-sorgu/div/div/div[2]/div[1]/div/div/form/div[2]/div/div/button[1]'\n",
    "chrome.find_element_by_xpath(continue_xpath).click()"
   ]
  },
  {
   "cell_type": "code",
   "execution_count": 79,
   "metadata": {},
   "outputs": [],
   "source": [
    "city_arrow_xpath = '/html/body/app-root/app-vatandas/div[2]/app-vatandas-asistan-arsiv-sonuc/div/div/div[2]/div[1]/div/div/fieldset/form/div[1]/div[2]/div[1]/ng-select/div/span'\n",
    "city_dropdown_xpath = '/html/body/app-root/app-vatandas/div[2]/app-vatandas-asistan-arsiv-sonuc/div/div/div[2]/div[1]/div/div/fieldset/form/div[1]/div[2]/div[1]/ng-select/ng-dropdown-panel'\n",
    "\n",
    "# Istanbul is divided into 3 regions for MP elections, all of which have to be scraped separately\n",
    "istanbul_1 = 'İSTANBUL-1'\n",
    "istanbul_2 = 'İSTANBUL-2'\n",
    "istanbul_3 = 'İSTANBUL-3'\n",
    "\n",
    "chrome.find_element_by_xpath(city_arrow_xpath).click()\n",
    "time.sleep(3)\n",
    "city_dropdown = chrome.find_element_by_xpath(city_dropdown_xpath)\n",
    "\n",
    "for option in city_dropdown.find_elements_by_class_name('ng-option'):\n",
    "    if option.text == istanbul_1:\n",
    "        option.click()\n",
    "        break"
   ]
  },
  {
   "cell_type": "code",
   "execution_count": 82,
   "metadata": {},
   "outputs": [],
   "source": [
    "# Istanbul's 1st MP district\n",
    "district_arrow_xpath = '/html/body/app-root/app-vatandas/div[2]/app-vatandas-asistan-arsiv-sonuc/div/div/div[2]/div[1]/div/div/fieldset/form/div[1]/div[2]/div[2]/ng-select/div/span'\n",
    "query_button_xpath = '/html/body/app-root/app-vatandas/div[2]/app-vatandas-asistan-arsiv-sonuc/div/div/div[2]/div[1]/div/div/fieldset/form/div[2]/div/div/button'\n",
    "district_input_xpath = '/html/body/app-root/app-vatandas/div[2]/app-vatandas-asistan-arsiv-sonuc/div/div/div[2]/div[1]/div/div/fieldset/form/div[1]/div[2]/div[2]/ng-select/div/div/div[2]/input'\n",
    "save_button_xpath = '/html/body/app-root/app-vatandas/div[2]/app-vatandas-asistan-arsiv-sonuc/div/div/div[2]/div[1]/div/div/app-yurtici-muhtarlik-listesi/fieldset/div[2]/div/button'\n",
    "accept_button_xpath = '/html/body/ngb-modal-window/div/div/div[2]/div/button[1]'\n",
    "\n",
    "query_button = chrome.find_element_by_xpath(query_button_xpath)\n",
    "district_input = chrome.find_element_by_xpath(district_input_xpath)\n",
    "\n",
    "# Enters each district name to input box and downloads the election results\n",
    "for i in range(len(districts_1)):\n",
    "    district = districts_1[i]\n",
    "    time.sleep(3)\n",
    "    district_input.send_keys(district)\n",
    "    district_input.send_keys(Keys.ENTER)\n",
    "    time.sleep(10)\n",
    "    query_button.click()\n",
    "    time.sleep(10)\n",
    "    chrome.find_element_by_xpath(save_button_xpath).click()\n",
    "    time.sleep(5)\n",
    "    chrome.find_element_by_xpath(accept_button_xpath).click()\n",
    "    time.sleep(5)  "
   ]
  },
  {
   "cell_type": "code",
   "execution_count": 83,
   "metadata": {},
   "outputs": [],
   "source": [
    "# Creates directories, copies .xlsx files to them and deletes the originals from Downloads \n",
    "downloads  = '/Users/ercansen/Downloads/'\n",
    "dest_dir_1 = '/Users/ercansen/Desktop/apps/istanbul/2015-11' \n",
    "dest_dir_2 = '/Users/ercansen/Desktop/apps/istanbul/2015-11/raw'\n",
    "os.mkdir(dest_dir_1)\n",
    "os.mkdir(dest_dir_2)\n",
    "\n",
    "files = glob.glob(downloads + 'Yurt*.xlsx')\n",
    "\n",
    "for file in files:\n",
    "    if os.path.isfile(file):\n",
    "        shutil.copy2(file, dest_dir_2)\n",
    "        \n",
    "for file in files:\n",
    "    if os.path.isfile(file) and len(files):\n",
    "        os.remove(file)"
   ]
  },
  {
   "cell_type": "code",
   "execution_count": 84,
   "metadata": {},
   "outputs": [],
   "source": [
    "# Istanbul's 2nd electoral region\n",
    "chrome.find_element_by_xpath(city_arrow_xpath).click()\n",
    "chrome.find_element_by_xpath(city_arrow_xpath).click()\n",
    "time.sleep(3)\n",
    "city_dropdown = chrome.find_element_by_xpath(city_dropdown_xpath)\n",
    "\n",
    "for option in city_dropdown.find_elements_by_class_name('ng-option'):\n",
    "    if option.text == istanbul_2:\n",
    "        option.click()\n",
    "        break"
   ]
  },
  {
   "cell_type": "code",
   "execution_count": 85,
   "metadata": {},
   "outputs": [],
   "source": [
    "# Enters each district name to input box and downloads the election results\n",
    "for i in range(len(districts_2)):\n",
    "    district = districts_2[i]\n",
    "    time.sleep(3)\n",
    "    district_input.send_keys(district)\n",
    "    district_input.send_keys(Keys.ENTER)\n",
    "    time.sleep(10)\n",
    "    query_button.click()\n",
    "    time.sleep(10)\n",
    "    chrome.find_element_by_xpath(save_button_xpath).click()\n",
    "    time.sleep(5)\n",
    "    chrome.find_element_by_xpath(accept_button_xpath).click()\n",
    "    time.sleep(5)  "
   ]
  },
  {
   "cell_type": "code",
   "execution_count": 86,
   "metadata": {},
   "outputs": [],
   "source": [
    "files = glob.glob(downloads + 'Yurt*.xlsx')\n",
    "\n",
    "for file in files:\n",
    "    if os.path.isfile(file):\n",
    "        shutil.copy2(file, dest_dir_2)\n",
    "        \n",
    "for file in files:\n",
    "    if os.path.isfile(file) and len(files):\n",
    "        os.remove(file)"
   ]
  },
  {
   "cell_type": "code",
   "execution_count": 87,
   "metadata": {},
   "outputs": [],
   "source": [
    "# Istanbul's 3rd electoral region\n",
    "chrome.find_element_by_xpath(city_arrow_xpath).click()\n",
    "chrome.find_element_by_xpath(city_arrow_xpath).click()\n",
    "time.sleep(3)\n",
    "city_dropdown = chrome.find_element_by_xpath(city_dropdown_xpath)\n",
    "\n",
    "for option in city_dropdown.find_elements_by_class_name('ng-option'):\n",
    "    if option.text == istanbul_3:\n",
    "        option.click()\n",
    "        break"
   ]
  },
  {
   "cell_type": "code",
   "execution_count": 88,
   "metadata": {},
   "outputs": [],
   "source": [
    "# Enters each district name to input box and downloads the election results\n",
    "for i in range(len(districts_3)):\n",
    "    district = districts_3[i]\n",
    "    time.sleep(3)\n",
    "    district_input.send_keys(district)\n",
    "    district_input.send_keys(Keys.ENTER)\n",
    "    time.sleep(10)\n",
    "    query_button.click()\n",
    "    time.sleep(10)\n",
    "    chrome.find_element_by_xpath(save_button_xpath).click()\n",
    "    time.sleep(5)\n",
    "    chrome.find_element_by_xpath(accept_button_xpath).click()\n",
    "    time.sleep(5)  "
   ]
  },
  {
   "cell_type": "code",
   "execution_count": 89,
   "metadata": {},
   "outputs": [],
   "source": [
    "files = glob.glob(downloads + 'Yurt*.xlsx')\n",
    "\n",
    "for file in files:\n",
    "    if os.path.isfile(file):\n",
    "        shutil.copy2(file, dest_dir_2)\n",
    "        \n",
    "for file in files:\n",
    "    if os.path.isfile(file) and len(files):\n",
    "        os.remove(file)"
   ]
  },
  {
   "cell_type": "markdown",
   "metadata": {},
   "source": [
    "### 2015 June General Election"
   ]
  },
  {
   "cell_type": "code",
   "execution_count": 90,
   "metadata": {},
   "outputs": [],
   "source": [
    "# Selects the new election name\n",
    "elect_reselect_xpath = '/html/body/app-root/app-vatandas/div[2]/app-vatandas-asistan-arsiv-sorgu/div/div/div[1]/div/div[2]/a/span'\n",
    "chrome.find_element_by_xpath(elect_reselect_xpath).click()\n",
    "elec_arrow.click()\n",
    "\n",
    "for option in chrome.find_elements_by_class_name('ng-option'):\n",
    "    if option.text == gen_jun_2015:\n",
    "        option.click()\n",
    "        break"
   ]
  },
  {
   "cell_type": "code",
   "execution_count": 91,
   "metadata": {},
   "outputs": [],
   "source": [
    "# Navigates to domestic results, as opposed to foreign (expat voters)\n",
    "domestic_xpath = '/html/body/app-root/app-vatandas/div[2]/app-vatandas-asistan-arsiv-sorgu/div/div/div[2]/div[1]/div/div/form/div[1]/div[2]/div/div[2]/label/input'\n",
    "chrome.find_element_by_xpath(domestic_xpath).click()"
   ]
  },
  {
   "cell_type": "code",
   "execution_count": 92,
   "metadata": {},
   "outputs": [],
   "source": [
    "# Continue\n",
    "continue_xpath = '/html/body/app-root/app-vatandas/div[2]/app-vatandas-asistan-arsiv-sorgu/div/div/div[2]/div[1]/div/div/form/div[2]/div/div/button[1]'\n",
    "chrome.find_element_by_xpath(continue_xpath).click()"
   ]
  },
  {
   "cell_type": "code",
   "execution_count": 93,
   "metadata": {},
   "outputs": [],
   "source": [
    "city_arrow_xpath = '/html/body/app-root/app-vatandas/div[2]/app-vatandas-asistan-arsiv-sonuc/div/div/div[2]/div[1]/div/div/fieldset/form/div[1]/div[2]/div[1]/ng-select/div/span'\n",
    "city_dropdown_xpath = '/html/body/app-root/app-vatandas/div[2]/app-vatandas-asistan-arsiv-sonuc/div/div/div[2]/div[1]/div/div/fieldset/form/div[1]/div[2]/div[1]/ng-select/ng-dropdown-panel'\n",
    "\n",
    "# Istanbul is divided into 3 regions for MP elections, all of which have to be scraped separately\n",
    "istanbul_1 = 'İSTANBUL-1'\n",
    "istanbul_2 = 'İSTANBUL-2'\n",
    "istanbul_3 = 'İSTANBUL-3'\n",
    "\n",
    "chrome.find_element_by_xpath(city_arrow_xpath).click()\n",
    "time.sleep(3)\n",
    "city_dropdown = chrome.find_element_by_xpath(city_dropdown_xpath)\n",
    "\n",
    "for option in city_dropdown.find_elements_by_class_name('ng-option'):\n",
    "    if option.text == istanbul_1:\n",
    "        option.click()\n",
    "        break"
   ]
  },
  {
   "cell_type": "code",
   "execution_count": 94,
   "metadata": {},
   "outputs": [],
   "source": [
    "# Istanbul's 1st MP district\n",
    "district_arrow_xpath = '/html/body/app-root/app-vatandas/div[2]/app-vatandas-asistan-arsiv-sonuc/div/div/div[2]/div[1]/div/div/fieldset/form/div[1]/div[2]/div[2]/ng-select/div/span'\n",
    "query_button_xpath = '/html/body/app-root/app-vatandas/div[2]/app-vatandas-asistan-arsiv-sonuc/div/div/div[2]/div[1]/div/div/fieldset/form/div[2]/div/div/button'\n",
    "district_input_xpath = '/html/body/app-root/app-vatandas/div[2]/app-vatandas-asistan-arsiv-sonuc/div/div/div[2]/div[1]/div/div/fieldset/form/div[1]/div[2]/div[2]/ng-select/div/div/div[2]/input'\n",
    "save_button_xpath = '/html/body/app-root/app-vatandas/div[2]/app-vatandas-asistan-arsiv-sonuc/div/div/div[2]/div[1]/div/div/app-yurtici-muhtarlik-listesi/fieldset/div[2]/div/button'\n",
    "accept_button_xpath = '/html/body/ngb-modal-window/div/div/div[2]/div/button[1]'\n",
    "\n",
    "query_button = chrome.find_element_by_xpath(query_button_xpath)\n",
    "district_input = chrome.find_element_by_xpath(district_input_xpath)\n",
    "\n",
    "# Enters each district name to input box and downloads the election results\n",
    "for i in range(len(districts_1)):\n",
    "    district = districts_1[i]\n",
    "    time.sleep(3)\n",
    "    district_input.send_keys(district)\n",
    "    district_input.send_keys(Keys.ENTER)\n",
    "    time.sleep(10)\n",
    "    query_button.click()\n",
    "    time.sleep(10)\n",
    "    chrome.find_element_by_xpath(save_button_xpath).click()\n",
    "    time.sleep(5)\n",
    "    chrome.find_element_by_xpath(accept_button_xpath).click()\n",
    "    time.sleep(5)  "
   ]
  },
  {
   "cell_type": "code",
   "execution_count": 95,
   "metadata": {},
   "outputs": [],
   "source": [
    "# Creates directories, copies .xlsx files to them and deletes the originals from Downloads \n",
    "downloads  = '/Users/ercansen/Downloads/'\n",
    "dest_dir_1 = '/Users/ercansen/Desktop/apps/istanbul/2015-06' \n",
    "dest_dir_2 = '/Users/ercansen/Desktop/apps/istanbul/2015-06/raw'\n",
    "os.mkdir(dest_dir_1)\n",
    "os.mkdir(dest_dir_2)\n",
    "\n",
    "files = glob.glob(downloads + 'Yurt*.xlsx')\n",
    "\n",
    "for file in files:\n",
    "    if os.path.isfile(file):\n",
    "        shutil.copy2(file, dest_dir_2)\n",
    "        \n",
    "for file in files:\n",
    "    if os.path.isfile(file) and len(files):\n",
    "        os.remove(file)"
   ]
  },
  {
   "cell_type": "code",
   "execution_count": 96,
   "metadata": {},
   "outputs": [],
   "source": [
    "# Istanbul's 2nd electoral region\n",
    "chrome.find_element_by_xpath(city_arrow_xpath).click()\n",
    "chrome.find_element_by_xpath(city_arrow_xpath).click()\n",
    "time.sleep(3)\n",
    "city_dropdown = chrome.find_element_by_xpath(city_dropdown_xpath)\n",
    "\n",
    "for option in city_dropdown.find_elements_by_class_name('ng-option'):\n",
    "    if option.text == istanbul_2:\n",
    "        option.click()\n",
    "        break"
   ]
  },
  {
   "cell_type": "code",
   "execution_count": 97,
   "metadata": {},
   "outputs": [],
   "source": [
    "# Enters each district name to input box and downloads the election results\n",
    "for i in range(len(districts_2)):\n",
    "    district = districts_2[i]\n",
    "    time.sleep(3)\n",
    "    district_input.send_keys(district)\n",
    "    district_input.send_keys(Keys.ENTER)\n",
    "    time.sleep(10)\n",
    "    query_button.click()\n",
    "    time.sleep(10)\n",
    "    chrome.find_element_by_xpath(save_button_xpath).click()\n",
    "    time.sleep(5)\n",
    "    chrome.find_element_by_xpath(accept_button_xpath).click()\n",
    "    time.sleep(5)  "
   ]
  },
  {
   "cell_type": "code",
   "execution_count": 98,
   "metadata": {},
   "outputs": [],
   "source": [
    "files = glob.glob(downloads + 'Yurt*.xlsx')\n",
    "\n",
    "for file in files:\n",
    "    if os.path.isfile(file):\n",
    "        shutil.copy2(file, dest_dir_2)\n",
    "        \n",
    "for file in files:\n",
    "    if os.path.isfile(file) and len(files):\n",
    "        os.remove(file)"
   ]
  },
  {
   "cell_type": "code",
   "execution_count": 99,
   "metadata": {},
   "outputs": [],
   "source": [
    "# Istanbul's 3rd electoral region\n",
    "chrome.find_element_by_xpath(city_arrow_xpath).click()\n",
    "chrome.find_element_by_xpath(city_arrow_xpath).click()\n",
    "time.sleep(3)\n",
    "city_dropdown = chrome.find_element_by_xpath(city_dropdown_xpath)\n",
    "\n",
    "for option in city_dropdown.find_elements_by_class_name('ng-option'):\n",
    "    if option.text == istanbul_3:\n",
    "        option.click()\n",
    "        break"
   ]
  },
  {
   "cell_type": "code",
   "execution_count": 100,
   "metadata": {},
   "outputs": [],
   "source": [
    "# Enters each district name to input box and downloads the election results\n",
    "for i in range(len(districts_3)):\n",
    "    district = districts_3[i]\n",
    "    time.sleep(3)\n",
    "    district_input.send_keys(district)\n",
    "    district_input.send_keys(Keys.ENTER)\n",
    "    time.sleep(10)\n",
    "    query_button.click()\n",
    "    time.sleep(10)\n",
    "    chrome.find_element_by_xpath(save_button_xpath).click()\n",
    "    time.sleep(5)\n",
    "    chrome.find_element_by_xpath(accept_button_xpath).click()\n",
    "    time.sleep(5)  "
   ]
  },
  {
   "cell_type": "code",
   "execution_count": null,
   "metadata": {},
   "outputs": [],
   "source": []
  }
 ],
 "metadata": {
  "kernelspec": {
   "display_name": "Python 3",
   "language": "python",
   "name": "python3"
  },
  "language_info": {
   "codemirror_mode": {
    "name": "ipython",
    "version": 3
   },
   "file_extension": ".py",
   "mimetype": "text/x-python",
   "name": "python",
   "nbconvert_exporter": "python",
   "pygments_lexer": "ipython3",
   "version": "3.7.4"
  }
 },
 "nbformat": 4,
 "nbformat_minor": 2
}
