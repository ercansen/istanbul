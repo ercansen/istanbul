{
 "cells": [
  {
   "cell_type": "code",
   "execution_count": 361,
   "metadata": {},
   "outputs": [],
   "source": [
    "import pandas as pd\n",
    "import numpy as np\n",
    "from matplotlib import pyplot as plt\n",
    "from matplotlib import patches as mpatches\n",
    "import seaborn as sns\n",
    "sns.set()\n",
    "\n",
    "from selenium import webdriver\n",
    "from selenium.webdriver.common.keys import Keys\n",
    "import time\n",
    "import glob, os, shutil\n",
    "import re\n",
    "\n",
    "from statsmodels.stats.outliers_influence import variance_inflation_factor\n",
    "from statistics import mean\n",
    "from scipy.stats import pearsonr\n",
    "\n",
    "from sklearn.model_selection import train_test_split\n",
    "from sklearn.ensemble import RandomForestRegressor\n",
    "from sklearn.metrics import r2_score\n",
    "from sklearn.linear_model import Lasso, Ridge"
   ]
  },
  {
   "cell_type": "code",
   "execution_count": 134,
   "metadata": {},
   "outputs": [],
   "source": [
    "# Font sizes for the plots\n",
    "FONT_SM  = 13\n",
    "FONT_MED = 16\n",
    "FONT_LG  = 20"
   ]
  },
  {
   "cell_type": "markdown",
   "metadata": {},
   "source": [
    "## 1) Scraping Election Data"
   ]
  },
  {
   "cell_type": "markdown",
   "metadata": {},
   "source": [
    "Election data is scraped from Turkish high election board's database, using Selenium package. Making a query in the database consists of 3 steps: 1) Query Options (\"Sorgulama Secenekleri\"), 2) Select Election Name (\"Secim Adi Seciniz\"), and 3) Election Results (\"Secim Sonuclari\"). \n",
    "\n",
    "Once the final step is reached, three dropdown lists (for filtering city, district and neighborhood name), and a filter for ballot box id appear. We are interested in neighborhood-wise election results. (Note: District is the subdivision of city, and neighborhood is the subdivision of district)\n",
    "\n",
    "Due to database's design, when only a city is selected (but not a district) district-wise election results are shown\n",
    "When both a city and district are selected, results of each ballot box (in the district) are shown. Hence, we will scrape the results by selecting both the city and district name, and then aggregating the ballot box results by neighborhood names."
   ]
  },
  {
   "cell_type": "code",
   "execution_count": 26,
   "metadata": {},
   "outputs": [],
   "source": [
    "database_url = 'https://sonuc.ysk.gov.tr'\n",
    "istanbul = 'İSTANBUL'\n",
    "\n",
    "# Election names\n",
    "ist_reelect = 'İSTANBUL BÜYÜKŞEHİR BELEDİYE BAŞKANLIĞI YENİLEME SEÇİMİ (23/06/2019)'\n",
    "loc_2019 = '31 MART 2019 MAHALLİ İDARELER GENEL SEÇİMİ (31/03/2019)'\n",
    "gen_2018 = 'CUMHURBAŞKANI VE 27.DÖNEM MİLLETVEKİLİ GENEL SEÇİMİ (24/06/2018)'\n",
    "ref_2017 = '2017 HALKOYLAMASI (16/04/2017)'\n",
    "gen_nov_2015 = '26.DÖNEM MİLLETVEKİLİ GENEL SEÇİMİ (01/11/2015)'\n",
    "gen_jun_2015 = '25.DÖNEM MİLLETVEKİLİ GENEL SEÇİMİ (07/06/2015)'"
   ]
  },
  {
   "cell_type": "code",
   "execution_count": 27,
   "metadata": {},
   "outputs": [],
   "source": [
    "# Creates a webdriver object for Chrome and navigates to Turkish high election board's election results database\n",
    "chrome = webdriver.Chrome(executable_path='/Users/ercansen/Dropbox/apps/chromedriver_mac64')\n",
    "chrome.get(database_url)"
   ]
  },
  {
   "cell_type": "code",
   "execution_count": 28,
   "metadata": {},
   "outputs": [],
   "source": [
    "# Website prompts the user to pick how to query the results; query by election name (third button) is selected\n",
    "byElecNm_classname = 'ma-0.pa-0.border-0.cursor-pointer.w-100'\n",
    "\n",
    "buttons_intro = list()\n",
    "buttons_intro = chrome.find_elements_by_class_name(byElecNm_classname)\n",
    "button_byElecNm = buttons_intro[2]\n",
    "button_byElecNm.click()"
   ]
  },
  {
   "cell_type": "code",
   "execution_count": 29,
   "metadata": {},
   "outputs": [],
   "source": [
    "# To open up the dropdown list of past 11 elections in Turkey, scans the corresponding arrow\n",
    "elec_arrow_xpath = \"//*[@id='collapsePanelThree']/div[1]/div/div/form/div[1]/div/div/ng-select/div/span\"\n",
    "elec_arrow = chrome.find_element_by_xpath(elec_arrow_xpath)"
   ]
  },
  {
   "cell_type": "markdown",
   "metadata": {},
   "source": [
    "### Istanbul 2019 Mayoral Rerun Election"
   ]
  },
  {
   "cell_type": "code",
   "execution_count": 6,
   "metadata": {},
   "outputs": [],
   "source": [
    "# Clicks elec_arrow so that the dropdown list is opened; desired election is selected from the list\n",
    "elec_arrow.click()\n",
    "\n",
    "for option in chrome.find_elements_by_class_name('ng-option'):\n",
    "    if option.text == ist_reelect:\n",
    "        option.click()\n",
    "        break"
   ]
  },
  {
   "cell_type": "code",
   "execution_count": 7,
   "metadata": {},
   "outputs": [],
   "source": [
    "# Clicks the green 'continue' (\"Devam Et\") button\n",
    "continue_classname = 'btn.btn-success.rounded-0.mr-5'\n",
    "\n",
    "button_continue = chrome.find_element_by_class_name(continue_classname)\n",
    "button_continue.click()"
   ]
  },
  {
   "cell_type": "code",
   "execution_count": 8,
   "metadata": {},
   "outputs": [],
   "source": [
    "# Clicks the corresponding arrow for city dropdown list\n",
    "city_arrow_xpath = \"//*[@id='collapsePanelFour']/div[1]/div/div/fieldset/form/div[1]/div[2]/div[1]/ng-select/div/span\"\n",
    "city_arrow = chrome.find_element_by_xpath(city_arrow_xpath)\n",
    "city_arrow.click()"
   ]
  },
  {
   "cell_type": "code",
   "execution_count": 9,
   "metadata": {},
   "outputs": [],
   "source": [
    "# Selects Istanbul from the list of cities (although it is the only option for the rerun mayoral election)\n",
    "city_dropdown_xpath = '/html/body/app-root/app-vatandas/div[2]/app-vatandas-asistan-arsiv-sonuc/div/div/div[2]/div[1]/div/div/fieldset/form/div[1]/div[2]/div[1]/ng-select/ng-dropdown-panel/div'\n",
    "city_dropdown = chrome.find_element_by_xpath(city_dropdown_xpath)\n",
    "\n",
    "for option in city_dropdown.find_elements_by_class_name('ng-option'):\n",
    "    if option.text == istanbul:\n",
    "        option.click()\n",
    "        break"
   ]
  },
  {
   "cell_type": "code",
   "execution_count": 18,
   "metadata": {},
   "outputs": [],
   "source": [
    "# Scans the corresponding arrow for district dropdown list\n",
    "district_arrow_xpath = \"//*[@id='collapsePanelFour']/div[1]/div/div/fieldset/form/div[1]/div[2]/div[2]/ng-select/div/span\"\n",
    "district_arrow = chrome.find_element_by_xpath(district_arrow_xpath)"
   ]
  },
  {
   "cell_type": "code",
   "execution_count": 19,
   "metadata": {
    "scrolled": false
   },
   "outputs": [
    {
     "ename": "NoSuchElementException",
     "evalue": "Message: no such element: Unable to locate element: {\"method\":\"xpath\",\"selector\":\"/html/body/ngb-modal-window/div/div/div[2]/div/button[1]\"}\n  (Session info: chrome=83.0.4103.116)\n",
     "output_type": "error",
     "traceback": [
      "\u001b[0;31m---------------------------------------------------------------------------\u001b[0m",
      "\u001b[0;31mNoSuchElementException\u001b[0m                    Traceback (most recent call last)",
      "\u001b[0;32m<ipython-input-19-03118dd70c6c>\u001b[0m in \u001b[0;36m<module>\u001b[0;34m\u001b[0m\n\u001b[1;32m     26\u001b[0m     \u001b[0mchrome\u001b[0m\u001b[0;34m.\u001b[0m\u001b[0mfind_element_by_xpath\u001b[0m\u001b[0;34m(\u001b[0m\u001b[0msave_button_xpath\u001b[0m\u001b[0;34m)\u001b[0m\u001b[0;34m.\u001b[0m\u001b[0mclick\u001b[0m\u001b[0;34m(\u001b[0m\u001b[0;34m)\u001b[0m\u001b[0;34m\u001b[0m\u001b[0;34m\u001b[0m\u001b[0m\n\u001b[1;32m     27\u001b[0m     \u001b[0mtime\u001b[0m\u001b[0;34m.\u001b[0m\u001b[0msleep\u001b[0m\u001b[0;34m(\u001b[0m\u001b[0;36m5\u001b[0m\u001b[0;34m)\u001b[0m\u001b[0;34m\u001b[0m\u001b[0;34m\u001b[0m\u001b[0m\n\u001b[0;32m---> 28\u001b[0;31m     \u001b[0mchrome\u001b[0m\u001b[0;34m.\u001b[0m\u001b[0mfind_element_by_xpath\u001b[0m\u001b[0;34m(\u001b[0m\u001b[0maccept_button_xpath\u001b[0m\u001b[0;34m)\u001b[0m\u001b[0;34m.\u001b[0m\u001b[0mclick\u001b[0m\u001b[0;34m(\u001b[0m\u001b[0;34m)\u001b[0m\u001b[0;34m\u001b[0m\u001b[0;34m\u001b[0m\u001b[0m\n\u001b[0m\u001b[1;32m     29\u001b[0m     \u001b[0mtime\u001b[0m\u001b[0;34m.\u001b[0m\u001b[0msleep\u001b[0m\u001b[0;34m(\u001b[0m\u001b[0;36m5\u001b[0m\u001b[0;34m)\u001b[0m\u001b[0;34m\u001b[0m\u001b[0;34m\u001b[0m\u001b[0m\n",
      "\u001b[0;32m/opt/anaconda3/lib/python3.7/site-packages/selenium/webdriver/remote/webdriver.py\u001b[0m in \u001b[0;36mfind_element_by_xpath\u001b[0;34m(self, xpath)\u001b[0m\n\u001b[1;32m    392\u001b[0m             \u001b[0melement\u001b[0m \u001b[0;34m=\u001b[0m \u001b[0mdriver\u001b[0m\u001b[0;34m.\u001b[0m\u001b[0mfind_element_by_xpath\u001b[0m\u001b[0;34m(\u001b[0m\u001b[0;34m'//div/td[1]'\u001b[0m\u001b[0;34m)\u001b[0m\u001b[0;34m\u001b[0m\u001b[0;34m\u001b[0m\u001b[0m\n\u001b[1;32m    393\u001b[0m         \"\"\"\n\u001b[0;32m--> 394\u001b[0;31m         \u001b[0;32mreturn\u001b[0m \u001b[0mself\u001b[0m\u001b[0;34m.\u001b[0m\u001b[0mfind_element\u001b[0m\u001b[0;34m(\u001b[0m\u001b[0mby\u001b[0m\u001b[0;34m=\u001b[0m\u001b[0mBy\u001b[0m\u001b[0;34m.\u001b[0m\u001b[0mXPATH\u001b[0m\u001b[0;34m,\u001b[0m \u001b[0mvalue\u001b[0m\u001b[0;34m=\u001b[0m\u001b[0mxpath\u001b[0m\u001b[0;34m)\u001b[0m\u001b[0;34m\u001b[0m\u001b[0;34m\u001b[0m\u001b[0m\n\u001b[0m\u001b[1;32m    395\u001b[0m \u001b[0;34m\u001b[0m\u001b[0m\n\u001b[1;32m    396\u001b[0m     \u001b[0;32mdef\u001b[0m \u001b[0mfind_elements_by_xpath\u001b[0m\u001b[0;34m(\u001b[0m\u001b[0mself\u001b[0m\u001b[0;34m,\u001b[0m \u001b[0mxpath\u001b[0m\u001b[0;34m)\u001b[0m\u001b[0;34m:\u001b[0m\u001b[0;34m\u001b[0m\u001b[0;34m\u001b[0m\u001b[0m\n",
      "\u001b[0;32m/opt/anaconda3/lib/python3.7/site-packages/selenium/webdriver/remote/webdriver.py\u001b[0m in \u001b[0;36mfind_element\u001b[0;34m(self, by, value)\u001b[0m\n\u001b[1;32m    976\u001b[0m         return self.execute(Command.FIND_ELEMENT, {\n\u001b[1;32m    977\u001b[0m             \u001b[0;34m'using'\u001b[0m\u001b[0;34m:\u001b[0m \u001b[0mby\u001b[0m\u001b[0;34m,\u001b[0m\u001b[0;34m\u001b[0m\u001b[0;34m\u001b[0m\u001b[0m\n\u001b[0;32m--> 978\u001b[0;31m             'value': value})['value']\n\u001b[0m\u001b[1;32m    979\u001b[0m \u001b[0;34m\u001b[0m\u001b[0m\n\u001b[1;32m    980\u001b[0m     \u001b[0;32mdef\u001b[0m \u001b[0mfind_elements\u001b[0m\u001b[0;34m(\u001b[0m\u001b[0mself\u001b[0m\u001b[0;34m,\u001b[0m \u001b[0mby\u001b[0m\u001b[0;34m=\u001b[0m\u001b[0mBy\u001b[0m\u001b[0;34m.\u001b[0m\u001b[0mID\u001b[0m\u001b[0;34m,\u001b[0m \u001b[0mvalue\u001b[0m\u001b[0;34m=\u001b[0m\u001b[0;32mNone\u001b[0m\u001b[0;34m)\u001b[0m\u001b[0;34m:\u001b[0m\u001b[0;34m\u001b[0m\u001b[0;34m\u001b[0m\u001b[0m\n",
      "\u001b[0;32m/opt/anaconda3/lib/python3.7/site-packages/selenium/webdriver/remote/webdriver.py\u001b[0m in \u001b[0;36mexecute\u001b[0;34m(self, driver_command, params)\u001b[0m\n\u001b[1;32m    319\u001b[0m         \u001b[0mresponse\u001b[0m \u001b[0;34m=\u001b[0m \u001b[0mself\u001b[0m\u001b[0;34m.\u001b[0m\u001b[0mcommand_executor\u001b[0m\u001b[0;34m.\u001b[0m\u001b[0mexecute\u001b[0m\u001b[0;34m(\u001b[0m\u001b[0mdriver_command\u001b[0m\u001b[0;34m,\u001b[0m \u001b[0mparams\u001b[0m\u001b[0;34m)\u001b[0m\u001b[0;34m\u001b[0m\u001b[0;34m\u001b[0m\u001b[0m\n\u001b[1;32m    320\u001b[0m         \u001b[0;32mif\u001b[0m \u001b[0mresponse\u001b[0m\u001b[0;34m:\u001b[0m\u001b[0;34m\u001b[0m\u001b[0;34m\u001b[0m\u001b[0m\n\u001b[0;32m--> 321\u001b[0;31m             \u001b[0mself\u001b[0m\u001b[0;34m.\u001b[0m\u001b[0merror_handler\u001b[0m\u001b[0;34m.\u001b[0m\u001b[0mcheck_response\u001b[0m\u001b[0;34m(\u001b[0m\u001b[0mresponse\u001b[0m\u001b[0;34m)\u001b[0m\u001b[0;34m\u001b[0m\u001b[0;34m\u001b[0m\u001b[0m\n\u001b[0m\u001b[1;32m    322\u001b[0m             response['value'] = self._unwrap_value(\n\u001b[1;32m    323\u001b[0m                 response.get('value', None))\n",
      "\u001b[0;32m/opt/anaconda3/lib/python3.7/site-packages/selenium/webdriver/remote/errorhandler.py\u001b[0m in \u001b[0;36mcheck_response\u001b[0;34m(self, response)\u001b[0m\n\u001b[1;32m    240\u001b[0m                 \u001b[0malert_text\u001b[0m \u001b[0;34m=\u001b[0m \u001b[0mvalue\u001b[0m\u001b[0;34m[\u001b[0m\u001b[0;34m'alert'\u001b[0m\u001b[0;34m]\u001b[0m\u001b[0;34m.\u001b[0m\u001b[0mget\u001b[0m\u001b[0;34m(\u001b[0m\u001b[0;34m'text'\u001b[0m\u001b[0;34m)\u001b[0m\u001b[0;34m\u001b[0m\u001b[0;34m\u001b[0m\u001b[0m\n\u001b[1;32m    241\u001b[0m             \u001b[0;32mraise\u001b[0m \u001b[0mexception_class\u001b[0m\u001b[0;34m(\u001b[0m\u001b[0mmessage\u001b[0m\u001b[0;34m,\u001b[0m \u001b[0mscreen\u001b[0m\u001b[0;34m,\u001b[0m \u001b[0mstacktrace\u001b[0m\u001b[0;34m,\u001b[0m \u001b[0malert_text\u001b[0m\u001b[0;34m)\u001b[0m\u001b[0;34m\u001b[0m\u001b[0;34m\u001b[0m\u001b[0m\n\u001b[0;32m--> 242\u001b[0;31m         \u001b[0;32mraise\u001b[0m \u001b[0mexception_class\u001b[0m\u001b[0;34m(\u001b[0m\u001b[0mmessage\u001b[0m\u001b[0;34m,\u001b[0m \u001b[0mscreen\u001b[0m\u001b[0;34m,\u001b[0m \u001b[0mstacktrace\u001b[0m\u001b[0;34m)\u001b[0m\u001b[0;34m\u001b[0m\u001b[0;34m\u001b[0m\u001b[0m\n\u001b[0m\u001b[1;32m    243\u001b[0m \u001b[0;34m\u001b[0m\u001b[0m\n\u001b[1;32m    244\u001b[0m     \u001b[0;32mdef\u001b[0m \u001b[0m_value_or_default\u001b[0m\u001b[0;34m(\u001b[0m\u001b[0mself\u001b[0m\u001b[0;34m,\u001b[0m \u001b[0mobj\u001b[0m\u001b[0;34m,\u001b[0m \u001b[0mkey\u001b[0m\u001b[0;34m,\u001b[0m \u001b[0mdefault\u001b[0m\u001b[0;34m)\u001b[0m\u001b[0;34m:\u001b[0m\u001b[0;34m\u001b[0m\u001b[0;34m\u001b[0m\u001b[0m\n",
      "\u001b[0;31mNoSuchElementException\u001b[0m: Message: no such element: Unable to locate element: {\"method\":\"xpath\",\"selector\":\"/html/body/ngb-modal-window/div/div/div[2]/div/button[1]\"}\n  (Session info: chrome=83.0.4103.116)\n"
     ]
    }
   ],
   "source": [
    "district_dropdown_xpath = '/html/body/app-root/app-vatandas/div[2]/app-vatandas-asistan-arsiv-sonuc/div/div/div[2]/div[1]/div/div/fieldset/form/div[1]/div[2]/div[2]/ng-select/ng-dropdown-panel/div'\n",
    "query_button_xpath = '/html/body/app-root/app-vatandas/div[2]/app-vatandas-asistan-arsiv-sonuc/div/div/div[2]/div[1]/div/div/fieldset/form/div[2]/div/div/button'\n",
    "district_input_xpath = '/html/body/app-root/app-vatandas/div[2]/app-vatandas-asistan-arsiv-sonuc/div/div/div[2]/div[1]/div/div/fieldset/form/div[1]/div[2]/div[2]/ng-select/div/div/div[2]/input'\n",
    "save_button_xpath = '/html/body/app-root/app-vatandas/div[2]/app-vatandas-asistan-arsiv-sonuc/div/div/div[2]/div[1]/div/div/app-yurtici-muhtarlik-listesi/fieldset/div[2]/div/button'\n",
    "accept_button_xpath = '/html/body/ngb-modal-window/div/div/div[2]/div/button[1]'\n",
    "\n",
    "query_button = chrome.find_element_by_xpath(query_button_xpath)\n",
    "district_input = chrome.find_element_by_xpath(district_input_xpath)\n",
    "\n",
    "# Retrieves a list of districts of Istanbul\n",
    "districts = list()\n",
    "district_arrow.click()\n",
    "for option in chrome.find_element_by_xpath(district_dropdown_xpath).find_elements_by_class_name('ng-option'):\n",
    "    districts.append(option.text)\n",
    "\n",
    "# For each district in the list, corresponding box receives district input, \n",
    "## navigates to election results and downloads them\n",
    "for i in range(len(districts)):\n",
    "    district = districts[i]\n",
    "    time.sleep(3)\n",
    "    district_input.send_keys(district)\n",
    "    district_input.send_keys(Keys.ENTER)\n",
    "    time.sleep(10)\n",
    "    query_button.click()\n",
    "    time.sleep(10)\n",
    "    chrome.find_element_by_xpath(save_button_xpath).click()\n",
    "    time.sleep(5)\n",
    "    chrome.find_element_by_xpath(accept_button_xpath).click()\n",
    "    time.sleep(5)   "
   ]
  },
  {
   "cell_type": "code",
   "execution_count": 13,
   "metadata": {},
   "outputs": [],
   "source": [
    "# Creates directories in desired location in computer for storing the output excel files\n",
    "downloads  = '/Users/ercansen/Downloads/'\n",
    "dest_dir_1 = '/Users/ercansen/Desktop/apps/istanbul/2019-06' \n",
    "dest_dir_2 = '/Users/ercansen/Desktop/apps/istanbul/2019-06/raw'\n",
    "os.mkdir(dest_dir_1)\n",
    "os.mkdir(dest_dir_2)\n",
    "\n",
    "# Queries all excel files with election results using glob\n",
    "files = glob.glob(downloads + 'Yurt*.xlsx')\n",
    "\n",
    "# Copies Excel files to the directory that was just created\n",
    "for file in files:\n",
    "    if os.path.isfile(file) and len(files) == 39:\n",
    "        shutil.copy2(file, dest_dir_2)\n",
    "        \n",
    "# Deletes original files from 'Downloads' after copying\n",
    "for file in files:\n",
    "    if os.path.isfile(file) and len(files) == 39:\n",
    "        os.remove(file)"
   ]
  },
  {
   "cell_type": "markdown",
   "metadata": {},
   "source": [
    "### 2019 Local Election (cancelled)"
   ]
  },
  {
   "cell_type": "code",
   "execution_count": 14,
   "metadata": {},
   "outputs": [],
   "source": [
    "# To select another election, we go back a step by clicking on \n",
    "## corresponding arrow for \"Select Election Name\"\n",
    "elect_reselect_xpath = '/html/body/app-root/app-vatandas/div[2]/app-vatandas-asistan-arsiv-sorgu/div/div/div[1]/div/div[2]/a/span'\n",
    "chrome.find_element_by_xpath(elect_reselect_xpath).click()\n",
    "\n",
    "# We make a new selection for election name\n",
    "elec_arrow.click()\n",
    "for option in chrome.find_elements_by_class_name('ng-option'):\n",
    "    if option.text == loc_2019:\n",
    "        option.click()\n",
    "        break"
   ]
  },
  {
   "cell_type": "code",
   "execution_count": 19,
   "metadata": {},
   "outputs": [],
   "source": [
    "# Scans election type arrow\n",
    "elec_type_arrow_xpath = '/html/body/app-root/app-vatandas/div[2]/app-vatandas-asistan-arsiv-sorgu/div/div/div[2]/div[1]/div/div/form/div[1]/div[2]/div/ng-select/div/span'\n",
    "chrome.find_element_by_xpath(elec_type_arrow_xpath).click()"
   ]
  },
  {
   "cell_type": "code",
   "execution_count": 20,
   "metadata": {},
   "outputs": [],
   "source": [
    "metro_municip_elec = 'BÜYÜKŞEHİR BELEDİYE BAŞKANLIĞI SEÇİMLERİ'\n",
    "elec_type_dropdown_xpath = '/html/body/app-root/app-vatandas/div[2]/app-vatandas-asistan-arsiv-sorgu/div/div/div[2]/div[1]/div/div/form/div[1]/div[2]/div/ng-select/ng-dropdown-panel'\n",
    "continue_xpath = '/html/body/app-root/app-vatandas/div[2]/app-vatandas-asistan-arsiv-sorgu/div/div/div[2]/div[1]/div/div/form/div[2]/div/div/button[1]'\n",
    "\n",
    "# At local elections, multiple elections are carried out (metropolitan mayor, district mayor, town council)\n",
    "# We are interested in metro. mayor, since it is most suitable for our purposes, hence select that on dropdown list\n",
    "elec_type_dropdown = chrome.find_element_by_xpath(elec_type_dropdown_xpath)\n",
    "\n",
    "for option in elec_type_dropdown.find_elements_by_class_name('ng-option'):\n",
    "    if option.text == metro_municip_elec:\n",
    "        option.click()\n",
    "        break\n",
    "        \n",
    "time.sleep(5)\n",
    "chrome.find_element_by_xpath(continue_xpath).click()"
   ]
  },
  {
   "cell_type": "code",
   "execution_count": 21,
   "metadata": {},
   "outputs": [],
   "source": [
    "# Opens up the dropdown list for city name\n",
    "city_arrow_xpath = \"//*[@id='collapsePanelFour']/div[1]/div/div/fieldset/form/div[1]/div[2]/div[1]/ng-select/div/span\"\n",
    "city_arrow = chrome.find_element_by_xpath(city_arrow_xpath)\n",
    "city_arrow.click()"
   ]
  },
  {
   "cell_type": "code",
   "execution_count": 22,
   "metadata": {},
   "outputs": [],
   "source": [
    "# Selects Istanbul from the list of cities\n",
    "city_dropdown_xpath = '/html/body/app-root/app-vatandas/div[2]/app-vatandas-asistan-arsiv-sonuc/div/div/div[2]/div[1]/div/div/fieldset/form/div[1]/div[2]/div[1]/ng-select/ng-dropdown-panel/div'\n",
    "city_dropdown = chrome.find_element_by_xpath(city_dropdown_xpath)\n",
    "\n",
    "for option in city_dropdown.find_elements_by_class_name('ng-option'):\n",
    "    if option.text == istanbul:\n",
    "        option.click()\n",
    "        break"
   ]
  },
  {
   "cell_type": "code",
   "execution_count": 24,
   "metadata": {},
   "outputs": [],
   "source": [
    "query_button_xpath = '/html/body/app-root/app-vatandas/div[2]/app-vatandas-asistan-arsiv-sonuc/div/div/div[2]/div[1]/div/div/fieldset/form/div[2]/div/div/button'\n",
    "district_input_xpath = '/html/body/app-root/app-vatandas/div[2]/app-vatandas-asistan-arsiv-sonuc/div/div/div[2]/div[1]/div/div/fieldset/form/div[1]/div[2]/div[2]/ng-select/div/div/div[2]/input'\n",
    "save_button_xpath = '/html/body/app-root/app-vatandas/div[2]/app-vatandas-asistan-arsiv-sonuc/div/div/div[2]/div[1]/div/div/app-yurtici-muhtarlik-listesi/fieldset/div[2]/div/button'\n",
    "accept_button_xpath = '/html/body/ngb-modal-window/div/div/div[2]/div/button[1]'\n",
    "\n",
    "query_button = chrome.find_element_by_xpath(query_button_xpath)\n",
    "district_input = chrome.find_element_by_xpath(district_input_xpath)\n",
    "\n",
    "# We already have the list 'districts' from previous step\n",
    "# Enters each district name to corresponding input box and downloads the election results\n",
    "for i in range(len(districts)):\n",
    "    district = districts[i]\n",
    "    time.sleep(3)\n",
    "    district_input.send_keys(district)\n",
    "    district_input.send_keys(Keys.ENTER)\n",
    "    time.sleep(10)\n",
    "    chrome.find_element_by_xpath(query_button_xpath).click()\n",
    "    time.sleep(10)\n",
    "    chrome.find_element_by_xpath(save_button_xpath).click()\n",
    "    time.sleep(5)\n",
    "    chrome.find_element_by_xpath(accept_button_xpath).click()\n",
    "    time.sleep(5)  "
   ]
  },
  {
   "cell_type": "code",
   "execution_count": 25,
   "metadata": {},
   "outputs": [],
   "source": [
    "# Creates directories, copies .xlsx files to them and deletes the originals from Downloads \n",
    "downloads  = '/Users/ercansen/Downloads/'\n",
    "dest_dir_1 = '/Users/ercansen/Desktop/apps/istanbul/2019-03' \n",
    "dest_dir_2 = '/Users/ercansen/Desktop/apps/istanbul/2019-03/raw'\n",
    "os.mkdir(dest_dir_1)\n",
    "os.mkdir(dest_dir_2)\n",
    "\n",
    "files = glob.glob(downloads + 'Yurt*.xlsx')\n",
    "\n",
    "for file in files:\n",
    "    if os.path.isfile(file):\n",
    "        shutil.copy2(file, dest_dir_2)\n",
    "        \n",
    "for file in files:\n",
    "    if os.path.isfile(file) and len(files) == 39:\n",
    "        os.remove(file)"
   ]
  },
  {
   "cell_type": "markdown",
   "metadata": {},
   "source": [
    "### 2018 General Election (Presidential)"
   ]
  },
  {
   "cell_type": "code",
   "execution_count": 10,
   "metadata": {},
   "outputs": [],
   "source": [
    "# Selects the new election name\n",
    "elect_reselect_xpath = '/html/body/app-root/app-vatandas/div[2]/app-vatandas-asistan-arsiv-sorgu/div/div/div[1]/div/div[2]/a/span'\n",
    "chrome.find_element_by_xpath(elect_reselect_xpath).click()\n",
    "elec_arrow.click()\n",
    "\n",
    "for option in chrome.find_elements_by_class_name('ng-option'):\n",
    "    if option.text == gen_2018:\n",
    "        option.click()\n",
    "        break"
   ]
  },
  {
   "cell_type": "code",
   "execution_count": 11,
   "metadata": {},
   "outputs": [],
   "source": [
    "# Scans the arrow for election type\n",
    "elec_type_arrow_xpath = '/html/body/app-root/app-vatandas/div[2]/app-vatandas-asistan-arsiv-sorgu/div/div/div[2]/div[1]/div/div/form/div[1]/div[2]/div/ng-select/div/span'\n",
    "chrome.find_element_by_xpath(elec_type_arrow_xpath).click()"
   ]
  },
  {
   "cell_type": "code",
   "execution_count": 12,
   "metadata": {},
   "outputs": [],
   "source": [
    "# Selects the election type -- presidential\n",
    "presidential = 'CUMHURBAŞKANI SEÇİMİ'\n",
    "elec_type_dropdown_xpath = '/html/body/app-root/app-vatandas/div[2]/app-vatandas-asistan-arsiv-sorgu/div/div/div[2]/div[1]/div/div/form/div[1]/div[2]/div/ng-select/ng-dropdown-panel'\n",
    "elec_type_dropdown = chrome.find_element_by_xpath(elec_type_dropdown_xpath)\n",
    "\n",
    "time.sleep(3)\n",
    "\n",
    "for option in elec_type_dropdown.find_elements_by_class_name('ng-option'):\n",
    "    if option.text == presidential:\n",
    "        option.click()\n",
    "        break"
   ]
  },
  {
   "cell_type": "code",
   "execution_count": 14,
   "metadata": {},
   "outputs": [],
   "source": [
    "# Continue\n",
    "continue_xpath = '/html/body/app-root/app-vatandas/div[2]/app-vatandas-asistan-arsiv-sorgu/div/div/div[2]/div[1]/div/div/form/div[2]/div/div/button[1]'\n",
    "chrome.find_element_by_xpath(continue_xpath).click()"
   ]
  },
  {
   "cell_type": "code",
   "execution_count": 15,
   "metadata": {},
   "outputs": [],
   "source": [
    "# Navigates to domestic results, as opposed to foreign (expat voters)\n",
    "domestic_xpath = '/html/body/app-root/app-vatandas/div[2]/app-vatandas-asistan-arsiv-sonuc/div/div/div[2]/div[1]/div/div/fieldset/form/div[1]/div[1]/div[1]/div[2]/label/input'\n",
    "chrome.find_element_by_xpath(domestic_xpath).click()"
   ]
  },
  {
   "cell_type": "code",
   "execution_count": 16,
   "metadata": {},
   "outputs": [],
   "source": [
    "# Selects Istanbul from the list of cities\n",
    "city_arrow_xpath = '/html/body/app-root/app-vatandas/div[2]/app-vatandas-asistan-arsiv-sonuc/div/div/div[2]/div[1]/div/div/fieldset/form/div[1]/div[2]/div[1]/ng-select/div/span'\n",
    "city_dropdown_xpath = '/html/body/app-root/app-vatandas/div[2]/app-vatandas-asistan-arsiv-sonuc/div/div/div[2]/div[1]/div/div/fieldset/form/div[1]/div[2]/div[1]/ng-select/ng-dropdown-panel'\n",
    "\n",
    "chrome.find_element_by_xpath(city_arrow_xpath).click()\n",
    "time.sleep(3)\n",
    "city_dropdown = chrome.find_element_by_xpath(city_dropdown_xpath)\n",
    "\n",
    "for option in city_dropdown.find_elements_by_class_name('ng-option'):\n",
    "    if option.text == istanbul:\n",
    "        option.click()\n",
    "        break"
   ]
  },
  {
   "cell_type": "code",
   "execution_count": 20,
   "metadata": {},
   "outputs": [],
   "source": [
    "query_button_xpath = '/html/body/app-root/app-vatandas/div[2]/app-vatandas-asistan-arsiv-sonuc/div/div/div[2]/div[1]/div/div/fieldset/form/div[2]/div/div/button'\n",
    "district_input_xpath = '/html/body/app-root/app-vatandas/div[2]/app-vatandas-asistan-arsiv-sonuc/div/div/div[2]/div[1]/div/div/fieldset/form/div[1]/div[2]/div[2]/ng-select/div/div/div[2]/input'\n",
    "save_button_xpath = '/html/body/app-root/app-vatandas/div[2]/app-vatandas-asistan-arsiv-sonuc/div/div/div[2]/div[1]/div/div/app-yurtici-muhtarlik-listesi/fieldset/div[2]/div/button'\n",
    "accept_button_xpath = '/html/body/ngb-modal-window/div/div/div[2]/div/button[1]'\n",
    "\n",
    "query_button = chrome.find_element_by_xpath(query_button_xpath)\n",
    "district_input = chrome.find_element_by_xpath(district_input_xpath)\n",
    "\n",
    "# We already have the list 'districts' from an earlier step\n",
    "# Enters each district name to input box and downloads the election results\n",
    "for i in range(len(districts)):\n",
    "    district = districts[i]\n",
    "    time.sleep(3)\n",
    "    district_input.send_keys(district)\n",
    "    district_input.send_keys(Keys.ENTER)\n",
    "    time.sleep(10)\n",
    "    query_button.click()\n",
    "    time.sleep(10)\n",
    "    chrome.find_element_by_xpath(save_button_xpath).click()\n",
    "    time.sleep(5)\n",
    "    chrome.find_element_by_xpath(accept_button_xpath).click()\n",
    "    time.sleep(5)"
   ]
  },
  {
   "cell_type": "code",
   "execution_count": 24,
   "metadata": {},
   "outputs": [],
   "source": [
    "# Creates directories, copies .xlsx files to them and deletes the originals from Downloads \n",
    "downloads  = '/Users/ercansen/Downloads/'\n",
    "dest_dir_1 = '/Users/ercansen/Desktop/apps/istanbul/2018-06-PRES' \n",
    "dest_dir_2 = '/Users/ercansen/Desktop/apps/istanbul/2018-06-PRES/raw'\n",
    "os.mkdir(dest_dir_1)\n",
    "os.mkdir(dest_dir_2)\n",
    "\n",
    "files = glob.glob(downloads + 'Yurt*.xlsx')\n",
    "\n",
    "for file in files:\n",
    "    if os.path.isfile(file):\n",
    "        shutil.copy2(file, dest_dir_2)\n",
    "        \n",
    "for file in files:\n",
    "    if os.path.isfile(file) and len(files) == 39:\n",
    "        os.remove(file)"
   ]
  },
  {
   "cell_type": "markdown",
   "metadata": {},
   "source": [
    "### 2018 General Election (MP)"
   ]
  },
  {
   "cell_type": "code",
   "execution_count": 32,
   "metadata": {},
   "outputs": [],
   "source": [
    "# Selects the new election name\n",
    "elect_reselect_xpath = '/html/body/app-root/app-vatandas/div[2]/app-vatandas-asistan-arsiv-sorgu/div/div/div[1]/div/div[2]/a/span'\n",
    "chrome.find_element_by_xpath(elect_reselect_xpath).click()\n",
    "elec_arrow.click()\n",
    "\n",
    "for option in chrome.find_elements_by_class_name('ng-option'):\n",
    "    if option.text == gen_2018:\n",
    "        option.click()\n",
    "        break"
   ]
  },
  {
   "cell_type": "code",
   "execution_count": 33,
   "metadata": {},
   "outputs": [],
   "source": [
    "# Scans the arrow for election type\n",
    "elec_type_arrow_xpath = '/html/body/app-root/app-vatandas/div[2]/app-vatandas-asistan-arsiv-sorgu/div/div/div[2]/div[1]/div/div/form/div[1]/div[2]/div/ng-select/div/span'\n",
    "chrome.find_element_by_xpath(elec_type_arrow_xpath).click()"
   ]
  },
  {
   "cell_type": "code",
   "execution_count": 34,
   "metadata": {},
   "outputs": [],
   "source": [
    "# Selects the election type -- member of parliament\n",
    "mp = 'MİLLETVEKİLİ GENEL SEÇİMİ'\n",
    "elec_type_dropdown_xpath = '/html/body/app-root/app-vatandas/div[2]/app-vatandas-asistan-arsiv-sorgu/div/div/div[2]/div[1]/div/div/form/div[1]/div[2]/div/ng-select/ng-dropdown-panel'\n",
    "elec_type_dropdown = chrome.find_element_by_xpath(elec_type_dropdown_xpath)\n",
    "\n",
    "time.sleep(3)\n",
    "\n",
    "for option in elec_type_dropdown.find_elements_by_class_name('ng-option'):\n",
    "    if option.text == mp:\n",
    "        option.click()\n",
    "        break"
   ]
  },
  {
   "cell_type": "code",
   "execution_count": 35,
   "metadata": {},
   "outputs": [],
   "source": [
    "# Continue\n",
    "continue_xpath = '/html/body/app-root/app-vatandas/div[2]/app-vatandas-asistan-arsiv-sorgu/div/div/div[2]/div[1]/div/div/form/div[2]/div/div/button[1]'\n",
    "chrome.find_element_by_xpath(continue_xpath).click()"
   ]
  },
  {
   "cell_type": "code",
   "execution_count": 36,
   "metadata": {},
   "outputs": [],
   "source": [
    "# Navigates to domestic results, as opposed to foreign (expat voters)\n",
    "domestic_xpath = '/html/body/app-root/app-vatandas/div[2]/app-vatandas-asistan-arsiv-sonuc/div/div/div[2]/div[1]/div/div/fieldset/form/div[1]/div[1]/div[1]/div[2]/label/input'\n",
    "chrome.find_element_by_xpath(domestic_xpath).click()"
   ]
  },
  {
   "cell_type": "code",
   "execution_count": 37,
   "metadata": {},
   "outputs": [],
   "source": [
    "# Selects Istanbul from the list of cities\n",
    "city_arrow_xpath = '/html/body/app-root/app-vatandas/div[2]/app-vatandas-asistan-arsiv-sonuc/div/div/div[2]/div[1]/div/div/fieldset/form/div[1]/div[2]/div[1]/ng-select/div/span'\n",
    "city_dropdown_xpath = '/html/body/app-root/app-vatandas/div[2]/app-vatandas-asistan-arsiv-sonuc/div/div/div[2]/div[1]/div/div/fieldset/form/div[1]/div[2]/div[1]/ng-select/ng-dropdown-panel'\n",
    "\n",
    "# Istanbul is divided into 3 regions for MP elections, all of which have to be scraped separately\n",
    "istanbul_1 = 'İSTANBUL-1'\n",
    "istanbul_2 = 'İSTANBUL-2'\n",
    "istanbul_3 = 'İSTANBUL-3'\n",
    "\n",
    "chrome.find_element_by_xpath(city_arrow_xpath).click()\n",
    "time.sleep(3)\n",
    "city_dropdown = chrome.find_element_by_xpath(city_dropdown_xpath)\n",
    "\n",
    "for option in city_dropdown.find_elements_by_class_name('ng-option'):\n",
    "    if option.text == istanbul_1:\n",
    "        option.click()\n",
    "        break"
   ]
  },
  {
   "cell_type": "code",
   "execution_count": 38,
   "metadata": {},
   "outputs": [],
   "source": [
    "district_arrow_xpath = '/html/body/app-root/app-vatandas/div[2]/app-vatandas-asistan-arsiv-sonuc/div/div/div[2]/div[1]/div/div/fieldset/form/div[1]/div[2]/div[2]/ng-select/div/span'\n",
    "query_button_xpath = '/html/body/app-root/app-vatandas/div[2]/app-vatandas-asistan-arsiv-sonuc/div/div/div[2]/div[1]/div/div/fieldset/form/div[2]/div/div/button'\n",
    "district_input_xpath = '/html/body/app-root/app-vatandas/div[2]/app-vatandas-asistan-arsiv-sonuc/div/div/div[2]/div[1]/div/div/fieldset/form/div[1]/div[2]/div[2]/ng-select/div/div/div[2]/input'\n",
    "save_button_xpath = '/html/body/app-root/app-vatandas/div[2]/app-vatandas-asistan-arsiv-sonuc/div/div/div[2]/div[1]/div/div/app-yurtici-muhtarlik-listesi/fieldset/div[2]/div/button'\n",
    "accept_button_xpath = '/html/body/ngb-modal-window/div/div/div[2]/div/button[1]'\n",
    "\n",
    "query_button = chrome.find_element_by_xpath(query_button_xpath)\n",
    "district_input = chrome.find_element_by_xpath(district_input_xpath)\n",
    "\n",
    "# Retrieves Istanbul-1 MP region's district list\n",
    "districts_1 = list()\n",
    "chrome.find_element_by_xpath(district_arrow_xpath).click()\n",
    "for option in chrome.find_element_by_xpath(district_dropdown_xpath).find_elements_by_class_name('ng-option'):\n",
    "    districts_1.append(option.text)\n",
    "\n",
    "# Enters each district name to input box and downloads the election results\n",
    "for i in range(len(districts_1)):\n",
    "    district = districts_1[i]\n",
    "    time.sleep(3)\n",
    "    district_input.send_keys(district)\n",
    "    district_input.send_keys(Keys.ENTER)\n",
    "    time.sleep(10)\n",
    "    query_button.click()\n",
    "    time.sleep(10)\n",
    "    chrome.find_element_by_xpath(save_button_xpath).click()\n",
    "    time.sleep(5)\n",
    "    chrome.find_element_by_xpath(accept_button_xpath).click()\n",
    "    time.sleep(5)  "
   ]
  },
  {
   "cell_type": "code",
   "execution_count": 39,
   "metadata": {},
   "outputs": [],
   "source": [
    "# Creates directories, copies .xlsx files to them and deletes the originals from Downloads \n",
    "downloads  = '/Users/ercansen/Downloads/'\n",
    "dest_dir_1 = '/Users/ercansen/Desktop/apps/istanbul/2018-06-MP' \n",
    "dest_dir_2 = '/Users/ercansen/Desktop/apps/istanbul/2018-06-MP/raw'\n",
    "os.mkdir(dest_dir_1)\n",
    "os.mkdir(dest_dir_2)\n",
    "\n",
    "files = glob.glob(downloads + 'Yurt*.xlsx')\n",
    "\n",
    "for file in files:\n",
    "    if os.path.isfile(file):\n",
    "        shutil.copy2(file, dest_dir_2)\n",
    "        \n",
    "for file in files:\n",
    "    if os.path.isfile(file) and len(files):\n",
    "        os.remove(file)"
   ]
  },
  {
   "cell_type": "code",
   "execution_count": 40,
   "metadata": {},
   "outputs": [],
   "source": [
    "# Istanbul's 2nd electoral region\n",
    "chrome.find_element_by_xpath(city_arrow_xpath).click()\n",
    "chrome.find_element_by_xpath(city_arrow_xpath).click()\n",
    "time.sleep(3)\n",
    "city_dropdown = chrome.find_element_by_xpath(city_dropdown_xpath)\n",
    "\n",
    "for option in city_dropdown.find_elements_by_class_name('ng-option'):\n",
    "    if option.text == istanbul_2:\n",
    "        option.click()\n",
    "        break"
   ]
  },
  {
   "cell_type": "code",
   "execution_count": 41,
   "metadata": {},
   "outputs": [],
   "source": [
    "# Retrieves Istanbul-2 MP region's district list\n",
    "districts_2 = list()\n",
    "chrome.find_element_by_xpath(district_arrow_xpath).click()\n",
    "for option in chrome.find_element_by_xpath(district_dropdown_xpath).find_elements_by_class_name('ng-option'):\n",
    "    districts_2.append(option.text)\n",
    "\n",
    "# Enters each district name to input box and downloads the election results\n",
    "for i in range(len(districts_2)):\n",
    "    district = districts_2[i]\n",
    "    time.sleep(3)\n",
    "    district_input.send_keys(district)\n",
    "    district_input.send_keys(Keys.ENTER)\n",
    "    time.sleep(10)\n",
    "    query_button.click()\n",
    "    time.sleep(10)\n",
    "    chrome.find_element_by_xpath(save_button_xpath).click()\n",
    "    time.sleep(5)\n",
    "    chrome.find_element_by_xpath(accept_button_xpath).click()\n",
    "    time.sleep(5)  "
   ]
  },
  {
   "cell_type": "code",
   "execution_count": 42,
   "metadata": {},
   "outputs": [],
   "source": [
    "files = glob.glob(downloads + 'Yurt*.xlsx')\n",
    "\n",
    "for file in files:\n",
    "    if os.path.isfile(file):\n",
    "        shutil.copy2(file, dest_dir_2)\n",
    "        \n",
    "for file in files:\n",
    "    if os.path.isfile(file) and len(files):\n",
    "        os.remove(file)"
   ]
  },
  {
   "cell_type": "code",
   "execution_count": 43,
   "metadata": {},
   "outputs": [],
   "source": [
    "# Istanbul's 3rd electoral region\n",
    "chrome.find_element_by_xpath(city_arrow_xpath).click()\n",
    "chrome.find_element_by_xpath(city_arrow_xpath).click()\n",
    "time.sleep(3)\n",
    "city_dropdown = chrome.find_element_by_xpath(city_dropdown_xpath)\n",
    "\n",
    "for option in city_dropdown.find_elements_by_class_name('ng-option'):\n",
    "    if option.text == istanbul_3:\n",
    "        option.click()\n",
    "        break"
   ]
  },
  {
   "cell_type": "code",
   "execution_count": 44,
   "metadata": {},
   "outputs": [],
   "source": [
    "# Retrieves Istanbul-3 MP region's district list\n",
    "districts_3 = list()\n",
    "chrome.find_element_by_xpath(district_arrow_xpath).click()\n",
    "for option in chrome.find_element_by_xpath(district_dropdown_xpath).find_elements_by_class_name('ng-option'):\n",
    "    districts_3.append(option.text)\n",
    "\n",
    "# Enters each district name to input box and downloads the election results\n",
    "for i in range(len(districts_3)):\n",
    "    district = districts_3[i]\n",
    "    time.sleep(3)\n",
    "    district_input.send_keys(district)\n",
    "    district_input.send_keys(Keys.ENTER)\n",
    "    time.sleep(10)\n",
    "    query_button.click()\n",
    "    time.sleep(10)\n",
    "    chrome.find_element_by_xpath(save_button_xpath).click()\n",
    "    time.sleep(5)\n",
    "    chrome.find_element_by_xpath(accept_button_xpath).click()\n",
    "    time.sleep(5)  "
   ]
  },
  {
   "cell_type": "code",
   "execution_count": 45,
   "metadata": {},
   "outputs": [],
   "source": [
    "files = glob.glob(downloads + 'Yurt*.xlsx')\n",
    "\n",
    "for file in files:\n",
    "    if os.path.isfile(file):\n",
    "        shutil.copy2(file, dest_dir_2)\n",
    "        \n",
    "for file in files:\n",
    "    if os.path.isfile(file) and len(files):\n",
    "        os.remove(file)"
   ]
  },
  {
   "cell_type": "markdown",
   "metadata": {},
   "source": [
    "### 2017 Constitutional Referendum"
   ]
  },
  {
   "cell_type": "code",
   "execution_count": 69,
   "metadata": {},
   "outputs": [],
   "source": [
    "# Selects the new election name\n",
    "elect_reselect_xpath = '/html/body/app-root/app-vatandas/div[2]/app-vatandas-asistan-arsiv-sorgu/div/div/div[1]/div/div[2]/a/span'\n",
    "chrome.find_element_by_xpath(elect_reselect_xpath).click()\n",
    "elec_arrow.click()\n",
    "\n",
    "for option in chrome.find_elements_by_class_name('ng-option'):\n",
    "    if option.text == ref_2017:\n",
    "        option.click()\n",
    "        break"
   ]
  },
  {
   "cell_type": "code",
   "execution_count": 70,
   "metadata": {},
   "outputs": [],
   "source": [
    "# Continue\n",
    "continue_xpath = '/html/body/app-root/app-vatandas/div[2]/app-vatandas-asistan-arsiv-sorgu/div/div/div[2]/div[1]/div/div/form/div[2]/div/div/button[1]'\n",
    "chrome.find_element_by_xpath(continue_xpath).click()"
   ]
  },
  {
   "cell_type": "code",
   "execution_count": 71,
   "metadata": {},
   "outputs": [],
   "source": [
    "# Navigates to domestic results, as opposed to foreign (expat voters)\n",
    "domestic_xpath = '/html/body/app-root/app-vatandas/div[2]/app-vatandas-asistan-arsiv-sonuc/div/div/div[2]/div[1]/div/div/fieldset/form/div[1]/div[1]/div[1]/div[2]/label/input'\n",
    "chrome.find_element_by_xpath(domestic_xpath).click()"
   ]
  },
  {
   "cell_type": "code",
   "execution_count": 72,
   "metadata": {},
   "outputs": [],
   "source": [
    "# Selects Istanbul from the list of cities\n",
    "city_arrow_xpath = '/html/body/app-root/app-vatandas/div[2]/app-vatandas-asistan-arsiv-sonuc/div/div/div[2]/div[1]/div/div/fieldset/form/div[1]/div[2]/div[1]/ng-select/div/span'\n",
    "city_dropdown_xpath = '/html/body/app-root/app-vatandas/div[2]/app-vatandas-asistan-arsiv-sonuc/div/div/div[2]/div[1]/div/div/fieldset/form/div[1]/div[2]/div[1]/ng-select/ng-dropdown-panel'\n",
    "\n",
    "chrome.find_element_by_xpath(city_arrow_xpath).click()\n",
    "time.sleep(3)\n",
    "city_dropdown = chrome.find_element_by_xpath(city_dropdown_xpath)\n",
    "\n",
    "for option in city_dropdown.find_elements_by_class_name('ng-option'):\n",
    "    if option.text == istanbul:\n",
    "        option.click()\n",
    "        break"
   ]
  },
  {
   "cell_type": "code",
   "execution_count": 73,
   "metadata": {},
   "outputs": [],
   "source": [
    "query_button_xpath = '/html/body/app-root/app-vatandas/div[2]/app-vatandas-asistan-arsiv-sonuc/div/div/div[2]/div[1]/div/div/fieldset/form/div[2]/div/div/button'\n",
    "district_input_xpath = '/html/body/app-root/app-vatandas/div[2]/app-vatandas-asistan-arsiv-sonuc/div/div/div[2]/div[1]/div/div/fieldset/form/div[1]/div[2]/div[2]/ng-select/div/div/div[2]/input'\n",
    "save_button_xpath = '/html/body/app-root/app-vatandas/div[2]/app-vatandas-asistan-arsiv-sonuc/div/div/div[2]/div[1]/div/div/app-yurtici-muhtarlik-listesi/fieldset/div[2]/div/button'\n",
    "accept_button_xpath = '/html/body/ngb-modal-window/div/div/div[2]/div/button[1]'\n",
    "\n",
    "query_button = chrome.find_element_by_xpath(query_button_xpath)\n",
    "district_input = chrome.find_element_by_xpath(district_input_xpath)\n",
    "\n",
    "# We already have the list 'districts' from an earlier step\n",
    "# Enters each district name to input box and downloads the election results\n",
    "for i in range(len(districts)):\n",
    "    district = districts[i]\n",
    "    time.sleep(3)\n",
    "    district_input.send_keys(district)\n",
    "    district_input.send_keys(Keys.ENTER)\n",
    "    time.sleep(10)\n",
    "    query_button.click()\n",
    "    time.sleep(10)\n",
    "    chrome.find_element_by_xpath(save_button_xpath).click()\n",
    "    time.sleep(5)\n",
    "    chrome.find_element_by_xpath(accept_button_xpath).click()\n",
    "    time.sleep(5)"
   ]
  },
  {
   "cell_type": "code",
   "execution_count": 74,
   "metadata": {},
   "outputs": [],
   "source": [
    "# Creates directories, copies .xlsx files to them and deletes the originals from Downloads \n",
    "downloads  = '/Users/ercansen/Downloads/'\n",
    "dest_dir_1 = '/Users/ercansen/Desktop/apps/istanbul/2017-04' \n",
    "dest_dir_2 = '/Users/ercansen/Desktop/apps/istanbul/2017-04/raw'\n",
    "os.mkdir(dest_dir_1)\n",
    "os.mkdir(dest_dir_2)\n",
    "\n",
    "files = glob.glob(downloads + 'Yurt*.xlsx')\n",
    "\n",
    "for file in files:\n",
    "    if os.path.isfile(file):\n",
    "        shutil.copy2(file, dest_dir_2)\n",
    "        \n",
    "for file in files:\n",
    "    if os.path.isfile(file) and len(files):\n",
    "        os.remove(file)"
   ]
  },
  {
   "cell_type": "markdown",
   "metadata": {},
   "source": [
    "### 2015 November General Election"
   ]
  },
  {
   "cell_type": "code",
   "execution_count": 75,
   "metadata": {},
   "outputs": [],
   "source": [
    "# Selects the new election name\n",
    "elect_reselect_xpath = '/html/body/app-root/app-vatandas/div[2]/app-vatandas-asistan-arsiv-sorgu/div/div/div[1]/div/div[2]/a/span'\n",
    "chrome.find_element_by_xpath(elect_reselect_xpath).click()\n",
    "elec_arrow.click()\n",
    "\n",
    "for option in chrome.find_elements_by_class_name('ng-option'):\n",
    "    if option.text == gen_nov_2015:\n",
    "        option.click()\n",
    "        break"
   ]
  },
  {
   "cell_type": "code",
   "execution_count": 77,
   "metadata": {},
   "outputs": [],
   "source": [
    "# Navigates to domestic results, as opposed to foreign (expat voters)\n",
    "domestic_xpath = '/html/body/app-root/app-vatandas/div[2]/app-vatandas-asistan-arsiv-sorgu/div/div/div[2]/div[1]/div/div/form/div[1]/div[2]/div/div[2]/label/input'\n",
    "chrome.find_element_by_xpath(domestic_xpath).click()"
   ]
  },
  {
   "cell_type": "code",
   "execution_count": 78,
   "metadata": {},
   "outputs": [],
   "source": [
    "# Continue\n",
    "continue_xpath = '/html/body/app-root/app-vatandas/div[2]/app-vatandas-asistan-arsiv-sorgu/div/div/div[2]/div[1]/div/div/form/div[2]/div/div/button[1]'\n",
    "chrome.find_element_by_xpath(continue_xpath).click()"
   ]
  },
  {
   "cell_type": "code",
   "execution_count": 79,
   "metadata": {},
   "outputs": [],
   "source": [
    "city_arrow_xpath = '/html/body/app-root/app-vatandas/div[2]/app-vatandas-asistan-arsiv-sonuc/div/div/div[2]/div[1]/div/div/fieldset/form/div[1]/div[2]/div[1]/ng-select/div/span'\n",
    "city_dropdown_xpath = '/html/body/app-root/app-vatandas/div[2]/app-vatandas-asistan-arsiv-sonuc/div/div/div[2]/div[1]/div/div/fieldset/form/div[1]/div[2]/div[1]/ng-select/ng-dropdown-panel'\n",
    "\n",
    "# Istanbul is divided into 3 regions for MP elections, all of which have to be scraped separately\n",
    "istanbul_1 = 'İSTANBUL-1'\n",
    "istanbul_2 = 'İSTANBUL-2'\n",
    "istanbul_3 = 'İSTANBUL-3'\n",
    "\n",
    "chrome.find_element_by_xpath(city_arrow_xpath).click()\n",
    "time.sleep(3)\n",
    "city_dropdown = chrome.find_element_by_xpath(city_dropdown_xpath)\n",
    "\n",
    "for option in city_dropdown.find_elements_by_class_name('ng-option'):\n",
    "    if option.text == istanbul_1:\n",
    "        option.click()\n",
    "        break"
   ]
  },
  {
   "cell_type": "code",
   "execution_count": 82,
   "metadata": {},
   "outputs": [],
   "source": [
    "# Istanbul's 1st MP district\n",
    "district_arrow_xpath = '/html/body/app-root/app-vatandas/div[2]/app-vatandas-asistan-arsiv-sonuc/div/div/div[2]/div[1]/div/div/fieldset/form/div[1]/div[2]/div[2]/ng-select/div/span'\n",
    "query_button_xpath = '/html/body/app-root/app-vatandas/div[2]/app-vatandas-asistan-arsiv-sonuc/div/div/div[2]/div[1]/div/div/fieldset/form/div[2]/div/div/button'\n",
    "district_input_xpath = '/html/body/app-root/app-vatandas/div[2]/app-vatandas-asistan-arsiv-sonuc/div/div/div[2]/div[1]/div/div/fieldset/form/div[1]/div[2]/div[2]/ng-select/div/div/div[2]/input'\n",
    "save_button_xpath = '/html/body/app-root/app-vatandas/div[2]/app-vatandas-asistan-arsiv-sonuc/div/div/div[2]/div[1]/div/div/app-yurtici-muhtarlik-listesi/fieldset/div[2]/div/button'\n",
    "accept_button_xpath = '/html/body/ngb-modal-window/div/div/div[2]/div/button[1]'\n",
    "\n",
    "query_button = chrome.find_element_by_xpath(query_button_xpath)\n",
    "district_input = chrome.find_element_by_xpath(district_input_xpath)\n",
    "\n",
    "# Enters each district name to input box and downloads the election results\n",
    "for i in range(len(districts_1)):\n",
    "    district = districts_1[i]\n",
    "    time.sleep(3)\n",
    "    district_input.send_keys(district)\n",
    "    district_input.send_keys(Keys.ENTER)\n",
    "    time.sleep(10)\n",
    "    query_button.click()\n",
    "    time.sleep(10)\n",
    "    chrome.find_element_by_xpath(save_button_xpath).click()\n",
    "    time.sleep(5)\n",
    "    chrome.find_element_by_xpath(accept_button_xpath).click()\n",
    "    time.sleep(5)  "
   ]
  },
  {
   "cell_type": "code",
   "execution_count": 83,
   "metadata": {},
   "outputs": [],
   "source": [
    "# Creates directories, copies .xlsx files to them and deletes the originals from Downloads \n",
    "downloads  = '/Users/ercansen/Downloads/'\n",
    "dest_dir_1 = '/Users/ercansen/Desktop/apps/istanbul/2015-11' \n",
    "dest_dir_2 = '/Users/ercansen/Desktop/apps/istanbul/2015-11/raw'\n",
    "os.mkdir(dest_dir_1)\n",
    "os.mkdir(dest_dir_2)\n",
    "\n",
    "files = glob.glob(downloads + 'Yurt*.xlsx')\n",
    "\n",
    "for file in files:\n",
    "    if os.path.isfile(file):\n",
    "        shutil.copy2(file, dest_dir_2)\n",
    "        \n",
    "for file in files:\n",
    "    if os.path.isfile(file) and len(files):\n",
    "        os.remove(file)"
   ]
  },
  {
   "cell_type": "code",
   "execution_count": 84,
   "metadata": {},
   "outputs": [],
   "source": [
    "# Istanbul's 2nd electoral region\n",
    "chrome.find_element_by_xpath(city_arrow_xpath).click()\n",
    "chrome.find_element_by_xpath(city_arrow_xpath).click()\n",
    "time.sleep(3)\n",
    "city_dropdown = chrome.find_element_by_xpath(city_dropdown_xpath)\n",
    "\n",
    "for option in city_dropdown.find_elements_by_class_name('ng-option'):\n",
    "    if option.text == istanbul_2:\n",
    "        option.click()\n",
    "        break"
   ]
  },
  {
   "cell_type": "code",
   "execution_count": 85,
   "metadata": {},
   "outputs": [],
   "source": [
    "# Enters each district name to input box and downloads the election results\n",
    "for i in range(len(districts_2)):\n",
    "    district = districts_2[i]\n",
    "    time.sleep(3)\n",
    "    district_input.send_keys(district)\n",
    "    district_input.send_keys(Keys.ENTER)\n",
    "    time.sleep(10)\n",
    "    query_button.click()\n",
    "    time.sleep(10)\n",
    "    chrome.find_element_by_xpath(save_button_xpath).click()\n",
    "    time.sleep(5)\n",
    "    chrome.find_element_by_xpath(accept_button_xpath).click()\n",
    "    time.sleep(5)  "
   ]
  },
  {
   "cell_type": "code",
   "execution_count": 86,
   "metadata": {},
   "outputs": [],
   "source": [
    "files = glob.glob(downloads + 'Yurt*.xlsx')\n",
    "\n",
    "for file in files:\n",
    "    if os.path.isfile(file):\n",
    "        shutil.copy2(file, dest_dir_2)\n",
    "        \n",
    "for file in files:\n",
    "    if os.path.isfile(file) and len(files):\n",
    "        os.remove(file)"
   ]
  },
  {
   "cell_type": "code",
   "execution_count": 87,
   "metadata": {},
   "outputs": [],
   "source": [
    "# Istanbul's 3rd electoral region\n",
    "chrome.find_element_by_xpath(city_arrow_xpath).click()\n",
    "chrome.find_element_by_xpath(city_arrow_xpath).click()\n",
    "time.sleep(3)\n",
    "city_dropdown = chrome.find_element_by_xpath(city_dropdown_xpath)\n",
    "\n",
    "for option in city_dropdown.find_elements_by_class_name('ng-option'):\n",
    "    if option.text == istanbul_3:\n",
    "        option.click()\n",
    "        break"
   ]
  },
  {
   "cell_type": "code",
   "execution_count": 88,
   "metadata": {},
   "outputs": [],
   "source": [
    "# Enters each district name to input box and downloads the election results\n",
    "for i in range(len(districts_3)):\n",
    "    district = districts_3[i]\n",
    "    time.sleep(3)\n",
    "    district_input.send_keys(district)\n",
    "    district_input.send_keys(Keys.ENTER)\n",
    "    time.sleep(10)\n",
    "    query_button.click()\n",
    "    time.sleep(10)\n",
    "    chrome.find_element_by_xpath(save_button_xpath).click()\n",
    "    time.sleep(5)\n",
    "    chrome.find_element_by_xpath(accept_button_xpath).click()\n",
    "    time.sleep(5)  "
   ]
  },
  {
   "cell_type": "code",
   "execution_count": 89,
   "metadata": {},
   "outputs": [],
   "source": [
    "files = glob.glob(downloads + 'Yurt*.xlsx')\n",
    "\n",
    "for file in files:\n",
    "    if os.path.isfile(file):\n",
    "        shutil.copy2(file, dest_dir_2)\n",
    "        \n",
    "for file in files:\n",
    "    if os.path.isfile(file) and len(files):\n",
    "        os.remove(file)"
   ]
  },
  {
   "cell_type": "markdown",
   "metadata": {},
   "source": [
    "### 2015 June General Election"
   ]
  },
  {
   "cell_type": "code",
   "execution_count": 90,
   "metadata": {},
   "outputs": [],
   "source": [
    "# Selects the new election name\n",
    "elect_reselect_xpath = '/html/body/app-root/app-vatandas/div[2]/app-vatandas-asistan-arsiv-sorgu/div/div/div[1]/div/div[2]/a/span'\n",
    "chrome.find_element_by_xpath(elect_reselect_xpath).click()\n",
    "elec_arrow.click()\n",
    "\n",
    "for option in chrome.find_elements_by_class_name('ng-option'):\n",
    "    if option.text == gen_jun_2015:\n",
    "        option.click()\n",
    "        break"
   ]
  },
  {
   "cell_type": "code",
   "execution_count": 91,
   "metadata": {},
   "outputs": [],
   "source": [
    "# Navigates to domestic results, as opposed to foreign (expat voters)\n",
    "domestic_xpath = '/html/body/app-root/app-vatandas/div[2]/app-vatandas-asistan-arsiv-sorgu/div/div/div[2]/div[1]/div/div/form/div[1]/div[2]/div/div[2]/label/input'\n",
    "chrome.find_element_by_xpath(domestic_xpath).click()"
   ]
  },
  {
   "cell_type": "code",
   "execution_count": 92,
   "metadata": {},
   "outputs": [],
   "source": [
    "# Continue\n",
    "continue_xpath = '/html/body/app-root/app-vatandas/div[2]/app-vatandas-asistan-arsiv-sorgu/div/div/div[2]/div[1]/div/div/form/div[2]/div/div/button[1]'\n",
    "chrome.find_element_by_xpath(continue_xpath).click()"
   ]
  },
  {
   "cell_type": "code",
   "execution_count": 93,
   "metadata": {},
   "outputs": [],
   "source": [
    "city_arrow_xpath = '/html/body/app-root/app-vatandas/div[2]/app-vatandas-asistan-arsiv-sonuc/div/div/div[2]/div[1]/div/div/fieldset/form/div[1]/div[2]/div[1]/ng-select/div/span'\n",
    "city_dropdown_xpath = '/html/body/app-root/app-vatandas/div[2]/app-vatandas-asistan-arsiv-sonuc/div/div/div[2]/div[1]/div/div/fieldset/form/div[1]/div[2]/div[1]/ng-select/ng-dropdown-panel'\n",
    "\n",
    "# Istanbul is divided into 3 regions for MP elections, all of which have to be scraped separately\n",
    "istanbul_1 = 'İSTANBUL-1'\n",
    "istanbul_2 = 'İSTANBUL-2'\n",
    "istanbul_3 = 'İSTANBUL-3'\n",
    "\n",
    "chrome.find_element_by_xpath(city_arrow_xpath).click()\n",
    "time.sleep(3)\n",
    "city_dropdown = chrome.find_element_by_xpath(city_dropdown_xpath)\n",
    "\n",
    "for option in city_dropdown.find_elements_by_class_name('ng-option'):\n",
    "    if option.text == istanbul_1:\n",
    "        option.click()\n",
    "        break"
   ]
  },
  {
   "cell_type": "code",
   "execution_count": 94,
   "metadata": {},
   "outputs": [],
   "source": [
    "# Istanbul's 1st MP district\n",
    "district_arrow_xpath = '/html/body/app-root/app-vatandas/div[2]/app-vatandas-asistan-arsiv-sonuc/div/div/div[2]/div[1]/div/div/fieldset/form/div[1]/div[2]/div[2]/ng-select/div/span'\n",
    "query_button_xpath = '/html/body/app-root/app-vatandas/div[2]/app-vatandas-asistan-arsiv-sonuc/div/div/div[2]/div[1]/div/div/fieldset/form/div[2]/div/div/button'\n",
    "district_input_xpath = '/html/body/app-root/app-vatandas/div[2]/app-vatandas-asistan-arsiv-sonuc/div/div/div[2]/div[1]/div/div/fieldset/form/div[1]/div[2]/div[2]/ng-select/div/div/div[2]/input'\n",
    "save_button_xpath = '/html/body/app-root/app-vatandas/div[2]/app-vatandas-asistan-arsiv-sonuc/div/div/div[2]/div[1]/div/div/app-yurtici-muhtarlik-listesi/fieldset/div[2]/div/button'\n",
    "accept_button_xpath = '/html/body/ngb-modal-window/div/div/div[2]/div/button[1]'\n",
    "\n",
    "query_button = chrome.find_element_by_xpath(query_button_xpath)\n",
    "district_input = chrome.find_element_by_xpath(district_input_xpath)\n",
    "\n",
    "# Enters each district name to input box and downloads the election results\n",
    "for i in range(len(districts_1)):\n",
    "    district = districts_1[i]\n",
    "    time.sleep(3)\n",
    "    district_input.send_keys(district)\n",
    "    district_input.send_keys(Keys.ENTER)\n",
    "    time.sleep(10)\n",
    "    query_button.click()\n",
    "    time.sleep(10)\n",
    "    chrome.find_element_by_xpath(save_button_xpath).click()\n",
    "    time.sleep(5)\n",
    "    chrome.find_element_by_xpath(accept_button_xpath).click()\n",
    "    time.sleep(5)  "
   ]
  },
  {
   "cell_type": "code",
   "execution_count": 95,
   "metadata": {},
   "outputs": [],
   "source": [
    "# Creates directories, copies .xlsx files to them and deletes the originals from Downloads \n",
    "downloads  = '/Users/ercansen/Downloads/'\n",
    "dest_dir_1 = '/Users/ercansen/Desktop/apps/istanbul/2015-06' \n",
    "dest_dir_2 = '/Users/ercansen/Desktop/apps/istanbul/2015-06/raw'\n",
    "os.mkdir(dest_dir_1)\n",
    "os.mkdir(dest_dir_2)\n",
    "\n",
    "files = glob.glob(downloads + 'Yurt*.xlsx')\n",
    "\n",
    "for file in files:\n",
    "    if os.path.isfile(file):\n",
    "        shutil.copy2(file, dest_dir_2)\n",
    "        \n",
    "for file in files:\n",
    "    if os.path.isfile(file) and len(files):\n",
    "        os.remove(file)"
   ]
  },
  {
   "cell_type": "code",
   "execution_count": 96,
   "metadata": {},
   "outputs": [],
   "source": [
    "# Istanbul's 2nd electoral region\n",
    "chrome.find_element_by_xpath(city_arrow_xpath).click()\n",
    "chrome.find_element_by_xpath(city_arrow_xpath).click()\n",
    "time.sleep(3)\n",
    "city_dropdown = chrome.find_element_by_xpath(city_dropdown_xpath)\n",
    "\n",
    "for option in city_dropdown.find_elements_by_class_name('ng-option'):\n",
    "    if option.text == istanbul_2:\n",
    "        option.click()\n",
    "        break"
   ]
  },
  {
   "cell_type": "code",
   "execution_count": 97,
   "metadata": {},
   "outputs": [],
   "source": [
    "# Enters each district name to input box and downloads the election results\n",
    "for i in range(len(districts_2)):\n",
    "    district = districts_2[i]\n",
    "    time.sleep(3)\n",
    "    district_input.send_keys(district)\n",
    "    district_input.send_keys(Keys.ENTER)\n",
    "    time.sleep(10)\n",
    "    query_button.click()\n",
    "    time.sleep(10)\n",
    "    chrome.find_element_by_xpath(save_button_xpath).click()\n",
    "    time.sleep(5)\n",
    "    chrome.find_element_by_xpath(accept_button_xpath).click()\n",
    "    time.sleep(5)  "
   ]
  },
  {
   "cell_type": "code",
   "execution_count": 98,
   "metadata": {},
   "outputs": [],
   "source": [
    "files = glob.glob(downloads + 'Yurt*.xlsx')\n",
    "\n",
    "for file in files:\n",
    "    if os.path.isfile(file):\n",
    "        shutil.copy2(file, dest_dir_2)\n",
    "        \n",
    "for file in files:\n",
    "    if os.path.isfile(file) and len(files):\n",
    "        os.remove(file)"
   ]
  },
  {
   "cell_type": "code",
   "execution_count": 99,
   "metadata": {},
   "outputs": [],
   "source": [
    "# Istanbul's 3rd electoral region\n",
    "chrome.find_element_by_xpath(city_arrow_xpath).click()\n",
    "chrome.find_element_by_xpath(city_arrow_xpath).click()\n",
    "time.sleep(3)\n",
    "city_dropdown = chrome.find_element_by_xpath(city_dropdown_xpath)\n",
    "\n",
    "for option in city_dropdown.find_elements_by_class_name('ng-option'):\n",
    "    if option.text == istanbul_3:\n",
    "        option.click()\n",
    "        break"
   ]
  },
  {
   "cell_type": "code",
   "execution_count": 100,
   "metadata": {},
   "outputs": [],
   "source": [
    "# Enters each district name to input box and downloads the election results\n",
    "for i in range(len(districts_3)):\n",
    "    district = districts_3[i]\n",
    "    time.sleep(3)\n",
    "    district_input.send_keys(district)\n",
    "    district_input.send_keys(Keys.ENTER)\n",
    "    time.sleep(10)\n",
    "    query_button.click()\n",
    "    time.sleep(10)\n",
    "    chrome.find_element_by_xpath(save_button_xpath).click()\n",
    "    time.sleep(5)\n",
    "    chrome.find_element_by_xpath(accept_button_xpath).click()\n",
    "    time.sleep(5)  "
   ]
  },
  {
   "cell_type": "code",
   "execution_count": 3,
   "metadata": {},
   "outputs": [],
   "source": [
    "files = glob.glob(downloads + 'Yurt*.xlsx')\n",
    "\n",
    "for file in files:\n",
    "    if os.path.isfile(file):\n",
    "        shutil.copy2(file, dest_dir_2)\n",
    "        \n",
    "for file in files:\n",
    "    if os.path.isfile(file) and len(files):\n",
    "        os.remove(file)"
   ]
  },
  {
   "cell_type": "markdown",
   "metadata": {},
   "source": [
    "## 2) Aggregating Ballot Box Results with SQL"
   ]
  },
  {
   "cell_type": "markdown",
   "metadata": {},
   "source": [
    "Once web scraping with Selenium is complete, we have 39 Excel spreadsheets (per 39 districts of Istanbul) for each of the 7 elections we are working with. As stated previously, these spreadsheets are at the level of a ballot box. Each ballot box holds the vote of approximately 300 voters. The neighborhood with most ballot boxes has 191, while some neighborhoods (some of which had been officially villages before the law [1] changed) consist of a single ballot box. Before any aggregation is applied, these 39 spreadsheets are merged for each election and we end up with 7 csv files that include the results of all the ballot boxes in the city, for corresponding election.\n",
    "\n",
    "Next, a series of SQL queries are applied on the csv files that are created. First, each district is assigned a unique id, in the range 1-39. Then, these neighborhood id's are multiplied by 1000; this way, each district can 'hold' up to 99 neighborhoods, which is more than the maximum (The maximum number of nbhds in a district is 62 in Sile). For instance, 37th district can have corresponding neighborhood id's in the range 3701-3799. Using this method, every neighborhood also gets a unique id. After that, the ballot box results are aggregated by neighborhood. Standard features like vote share of a party/candidate, or turnout percentage are calculated and added as columns. In addition, feature engineering has been done to find out meaningful indicators that showcases political differences from neighborhood to neighborhood. Finally, the resulting tables are outputed into csv's. The SQL queries that result in this output can be seen at 'sql_queries.txt' that is in this github directory."
   ]
  },
  {
   "cell_type": "code",
   "execution_count": 74,
   "metadata": {},
   "outputs": [],
   "source": [
    "path_project = '/Users/ercansen/Desktop/apps/istanbul'\n",
    "list_directories = [('/' + d.name) for d in os.scandir(path_project) if d.is_dir() and d.name[0] != '.']\n",
    "raw = '/raw/'"
   ]
  },
  {
   "cell_type": "code",
   "execution_count": 75,
   "metadata": {},
   "outputs": [],
   "source": [
    "cols_to_keep = ['İlçe Adı', 'Mahalle/Köy', 'Kayıtlı Seçmen Sayısı', 'Oy Kullanan Seçmen Sayısı', 'Toplam Geçerli Oy', \n",
    "                'AK PARTİ', 'CHP', 'MHP', 'İYİ PARTİ', 'HDP', 'SAADET', 'CUMHUR İTTİFAKI', 'MİLLET İTTİFAKI', \n",
    "                'RECEP TAYYİP ERDOĞAN', 'MUHARREM İNCE', 'MERAL AKŞENER', 'SELAHATTİN DEMİRTAŞ', 'TEMEL KARAMOLLAOĞLU',\n",
    "                'EVET', 'HAYIR', \n",
    "                'HAKAN ŞÜKÜR', 'ALİ FUAT YILMAZER', 'YAKUB SAYGILI']"
   ]
  },
  {
   "cell_type": "code",
   "execution_count": 76,
   "metadata": {},
   "outputs": [],
   "source": [
    "cols_dict = {'İlçe Adı':'district', 'Mahalle/Köy':'neighborhood',\n",
    "             'Kayıtlı Seçmen Sayısı':'registered', 'Oy Kullanan Seçmen Sayısı':'voted', 'Toplam Geçerli Oy':'valid', \n",
    "             'AK PARTİ':'akp', 'CHP':'chp', 'MHP':'mhp', 'İYİ PARTİ':'iyip', 'HDP':'hdp', 'SAADET':'sp', \n",
    "             'CUMHUR İTTİFAKI':'cumhur', 'MİLLET İTTİFAKI':'millet', \n",
    "             'RECEP TAYYİP ERDOĞAN':'rte', 'MUHARREM İNCE':'ince', 'MERAL AKŞENER':'aksener', \n",
    "             'SELAHATTİN DEMİRTAŞ':'selo', 'TEMEL KARAMOLLAOĞLU':'karamolla',\n",
    "             'EVET':'yes', 'HAYIR':'no', \n",
    "             'HAKAN ŞÜKÜR':'sukur', 'ALİ FUAT YILMAZER':'yilmazer', 'YAKUB SAYGILI':'saygili'}"
   ]
  },
  {
   "cell_type": "code",
   "execution_count": 95,
   "metadata": {
    "scrolled": false
   },
   "outputs": [],
   "source": [
    "# Loops over all folders with raw data\n",
    "for i in range(len(list_directories)):\n",
    "    path_to_dir    = path_project + list_directories[i] + raw\n",
    "    list_raw_files = glob.glob(path_to_dir + 'Yurt*.xlsx')\n",
    "    dfs = list()\n",
    "    # Loops over all raw data Excel worksheets in the selected folder and reads them as dataframes\n",
    "    for j in range(len(list_raw_files)):\n",
    "        df = pd.read_excel(list_raw_files[j], skiprows=range(10))\n",
    "        \n",
    "        # Keeps only the columns of data we are interested in\n",
    "        intersect = [it for it in cols_to_keep if it in df.columns]\n",
    "        df = df[intersect]\n",
    "        \n",
    "        # Replaces districts with non-English characters with their English counterparts, as csv cannot recognize\n",
    "        if df.iloc[0]['İlçe Adı'] == 'ARNAVUTKÖY':\n",
    "            df['İlçe Adı'] = 'ARNAVUTKOY'\n",
    "        elif df.iloc[0]['İlçe Adı'] == 'ATAŞEHİR':\n",
    "            df['İlçe Adı'] = 'ATASEHIR'\n",
    "        elif df.iloc[0]['İlçe Adı'] == 'BAĞCILAR':\n",
    "            df['İlçe Adı'] = 'BAGCILAR'\n",
    "        elif df.iloc[0]['İlçe Adı'] == 'BAHÇELİEVLER':\n",
    "            df['İlçe Adı'] = 'BAHCELIEVLER'\n",
    "        elif df.iloc[0]['İlçe Adı'] == 'BAKIRKÖY':\n",
    "            df['İlçe Adı'] = 'BAKIRKOY'\n",
    "        elif df.iloc[0]['İlçe Adı'] == 'BAŞAKŞEHİR':\n",
    "            df['İlçe Adı'] = 'BASAKSEHIR'\n",
    "        elif df.iloc[0]['İlçe Adı'] == 'BAYRAMPAŞA':\n",
    "            df['İlçe Adı'] = 'BAYRAMPASA'\n",
    "        elif df.iloc[0]['İlçe Adı'] == 'BEŞİKTAŞ':\n",
    "            df['İlçe Adı'] = 'BESIKTAS'\n",
    "        elif df.iloc[0]['İlçe Adı'] == 'BEYLİKDÜZÜ':\n",
    "            df['İlçe Adı'] = 'BEYLIKDUZU'\n",
    "        elif df.iloc[0]['İlçe Adı'] == 'BEYOĞLU':\n",
    "            df['İlçe Adı'] = 'BEYOGLU'\n",
    "        elif df.iloc[0]['İlçe Adı'] == 'BÜYÜKÇEKMECE':\n",
    "            df['İlçe Adı'] = 'BUYUKCEKMECE'\n",
    "        elif df.iloc[0]['İlçe Adı'] == 'ÇATALCA':\n",
    "            df['İlçe Adı'] = 'CATALCA'\n",
    "        elif df.iloc[0]['İlçe Adı'] == 'ÇEKMEKÖY':\n",
    "            df['İlçe Adı'] = 'CEKMEKOY'\n",
    "        elif df.iloc[0]['İlçe Adı'] == 'EYÜPSULTAN':\n",
    "            df['İlçe Adı'] = 'EYUPSULTAN'\n",
    "        elif df.iloc[0]['İlçe Adı'] == 'FATİH':\n",
    "            df['İlçe Adı'] = 'FATIH'\n",
    "        elif df.iloc[0]['İlçe Adı'] == 'GAZİOSMANPAŞA':\n",
    "            df['İlçe Adı'] = 'GAZIOSMANPASA'\n",
    "        elif df.iloc[0]['İlçe Adı'] == 'GÜNGÖREN':\n",
    "            df['İlçe Adı'] = 'GUNGOREN'\n",
    "        elif df.iloc[0]['İlçe Adı'] == 'KADIKÖY':\n",
    "            df['İlçe Adı'] = 'KADIKOY'\n",
    "        elif df.iloc[0]['İlçe Adı'] == 'KAĞITHANE':\n",
    "            df['İlçe Adı'] = 'KAGITHANE'\n",
    "        elif df.iloc[0]['İlçe Adı'] == 'KÜÇÜKÇEKMECE':\n",
    "            df['İlçe Adı'] = 'KUCUKCEKMECE'\n",
    "        elif df.iloc[0]['İlçe Adı'] == 'PENDİK':\n",
    "            df['İlçe Adı'] = 'PENDIK'\n",
    "        elif df.iloc[0]['İlçe Adı'] == 'SİLİVRİ':\n",
    "            df['İlçe Adı'] = 'SILIVRI'\n",
    "        elif df.iloc[0]['İlçe Adı'] == 'SULTANBEYLİ':\n",
    "            df['İlçe Adı'] = 'SULTANBEYLI'\n",
    "        elif df.iloc[0]['İlçe Adı'] == 'SULTANGAZİ':\n",
    "            df['İlçe Adı'] = 'SULTANGAZI'\n",
    "        elif df.iloc[0]['İlçe Adı'] == 'ŞİLE':\n",
    "            df['İlçe Adı'] = 'SILE'\n",
    "        elif df.iloc[0]['İlçe Adı'] == 'ŞİŞLİ':\n",
    "            df['İlçe Adı'] = 'SISLI'\n",
    "        elif df.iloc[0]['İlçe Adı'] == 'ÜMRANİYE':\n",
    "            df['İlçe Adı'] = 'UMRANIYE'\n",
    "        elif df.iloc[0]['İlçe Adı'] == 'ÜSKÜDAR':\n",
    "            df['İlçe Adı'] = 'USKUDAR'\n",
    "        elif df.iloc[0]['İlçe Adı'] == 'ZEYTİNBURNU':\n",
    "            df['İlçe Adı'] = 'ZEYTINBURNU'\n",
    "     \n",
    "        # Inserts (partially) cleaned df to the list dfs\n",
    "        dfs.append(df)\n",
    "    \n",
    "    # Merges all dataframes in the list dfs\n",
    "    merged = pd.concat(dfs, sort=False, ignore_index=True)\n",
    "    \n",
    "    # Renames column names\n",
    "    common_keys = cols_dict.keys() & merged.columns\n",
    "    dict_intersect = {k:cols_dict[k] for k in common_keys}\n",
    "    merged = merged.rename(columns=dict_intersect)\n",
    "    \n",
    "    # Replaces non-English characters with their English counterparts, since csv type cannot recognize them\n",
    "    merged['neighborhood'] = merged['neighborhood'].str.replace('Ç','C').str.replace('İ','I').str.replace('Ş','S').str.replace('Ğ','G').str.replace('Ü','U').str.replace('Ö','O')\n",
    "\n",
    "    # Merges 3 Gulenist candidates from 2015 June general election into a single column\n",
    "    if 'sukur' in merged.columns:\n",
    "        merged['sukur'] = merged['sukur'].fillna(0)\n",
    "        merged['yilmazer'] = merged['yilmazer'].fillna(0)\n",
    "        merged['saygili'] = merged['saygili'].fillna(0)\n",
    "        merged['gulenist'] = merged.sukur + merged.yilmazer + merged.saygili\n",
    "        merged = merged.drop(columns=['sukur','yilmazer','saygili'])\n",
    "    \n",
    "    # Saves the resulting df as a csv file\n",
    "    merged.to_csv(path_project + list_directories[i] + '/' + list_directories[i] + '.csv', index=False)"
   ]
  },
  {
   "cell_type": "markdown",
   "metadata": {},
   "source": [
    "## 3) Socioeconomic Dataset: Data Cleaning and Feature Engineering"
   ]
  },
  {
   "cell_type": "markdown",
   "metadata": {},
   "source": [
    "Unfortunately, Turkey does not release neighborhood-wise socioeconomical data (i.e. there is nothing like the US Census, although data in lower level of detail exists). Therefore, the data in desired level of granularity has been received from Nezih Onur Kuru, a PhD candidate in Koc University in Istanbul, in raw form. \n",
    "\n",
    "The socioconomical dataset needs some cleaning, as it has missing values, inconsistent naming conventions (compared to the officially-sourced election data), and some columns that will not be necessary for our purposes. Some additional features are engineered as well, in order to increase the accuracy of the analysis and decrease the chance of running into multicollinearity. Python libraries like pandas and numpy are utilized to wrangle this dataset and prepare it for predictive analytics, which will be the next step."
   ]
  },
  {
   "cell_type": "code",
   "execution_count": null,
   "metadata": {},
   "outputs": [],
   "source": [
    "# Function that visualizes a linear relationship between two features in the dataset\n",
    "# Prints the best fit line, Pearson's r and the corresponding p-value\n",
    "def linear_relationship(data, x, y, title, xlabel, ylabel, text_x, text_y, p_val=True):\n",
    "    fig, ax = plt.subplots()\n",
    "    fig.set_size_inches(12,9)\n",
    "    \n",
    "    ax = sns.scatterplot(data=data, x=x, y=y, color='mediumslateblue')\n",
    "    plt.title(title, fontsize=FONT_MED)\n",
    "    plt.xlabel(xlabel, fontsize=FONT_SM)\n",
    "    plt.ylabel(ylabel, fontsize=FONT_SM)\n",
    "    \n",
    "    m,b = np.polyfit(data[x],data[y],1)\n",
    "    plt.plot(data[x],m*data[x]+b,color='black',alpha=.6)\n",
    "    \n",
    "    pearson = pearsonr(data[x],data[y])\n",
    "    plt.text(text_x, text_y, \"Pearson's r: %.3f\" % pearson[0], weight='bold')\n",
    "    \n",
    "    if p_val:\n",
    "        plt.text(text_x, text_y / 2, \"(p-value: %.3f)\" % pearson[1])\n",
    "        \n",
    "    plt.show()"
   ]
  },
  {
   "cell_type": "code",
   "execution_count": 195,
   "metadata": {},
   "outputs": [
    {
     "data": {
      "text/html": [
       "<div>\n",
       "<style scoped>\n",
       "    .dataframe tbody tr th:only-of-type {\n",
       "        vertical-align: middle;\n",
       "    }\n",
       "\n",
       "    .dataframe tbody tr th {\n",
       "        vertical-align: top;\n",
       "    }\n",
       "\n",
       "    .dataframe thead th {\n",
       "        text-align: right;\n",
       "    }\n",
       "</style>\n",
       "<table border=\"1\" class=\"dataframe\">\n",
       "  <thead>\n",
       "    <tr style=\"text-align: right;\">\n",
       "      <th></th>\n",
       "      <th>DEGISKEN</th>\n",
       "      <th>id</th>\n",
       "      <th>2016 Toplam Nufus</th>\n",
       "      <th>2016 Toplam Nufus (Erkek)</th>\n",
       "      <th>2016 Toplam Nufus (Kadin)</th>\n",
       "      <th>2015 Toplam Nufus</th>\n",
       "      <th>2015 Toplam Nufus (Erkek)</th>\n",
       "      <th>2015 Toplam Nufus (Kadin)</th>\n",
       "      <th>2014 Toplam Nufus</th>\n",
       "      <th>2014 Toplam Nufus (Erkek)</th>\n",
       "      <th>...</th>\n",
       "      <th>BTP_2014_metropol</th>\n",
       "      <th>VATANPARTİSİ_2014_metropol</th>\n",
       "      <th>HDP_2014_metropol</th>\n",
       "      <th>CHP_2014_metropol</th>\n",
       "      <th>HEPAR_2014_metropol</th>\n",
       "      <th>MHP_2014_metropol</th>\n",
       "      <th>independents_2014_metropol</th>\n",
       "      <th>akp_2014_metropol</th>\n",
       "      <th>margin_1to2_2014_metropol</th>\n",
       "      <th>akp_margin_2014_metropol</th>\n",
       "    </tr>\n",
       "  </thead>\n",
       "  <tbody>\n",
       "    <tr>\n",
       "      <th>0</th>\n",
       "      <td>ADALAR BURGAZADA</td>\n",
       "      <td>1651564d</td>\n",
       "      <td>1422</td>\n",
       "      <td>696</td>\n",
       "      <td>726</td>\n",
       "      <td>1436.0</td>\n",
       "      <td>716</td>\n",
       "      <td>720</td>\n",
       "      <td>1464</td>\n",
       "      <td>727</td>\n",
       "      <td>...</td>\n",
       "      <td>0.000000</td>\n",
       "      <td>0.003806</td>\n",
       "      <td>0.036156</td>\n",
       "      <td>0.705994</td>\n",
       "      <td>0.000951</td>\n",
       "      <td>0.010466</td>\n",
       "      <td>0.002854</td>\n",
       "      <td>second</td>\n",
       "      <td>0.475737</td>\n",
       "      <td>-0.475737</td>\n",
       "    </tr>\n",
       "    <tr>\n",
       "      <th>1</th>\n",
       "      <td>ADALAR HEYBELIADA</td>\n",
       "      <td>65612</td>\n",
       "      <td>3757</td>\n",
       "      <td>1954</td>\n",
       "      <td>1803</td>\n",
       "      <td>4785.0</td>\n",
       "      <td>3018</td>\n",
       "      <td>1767</td>\n",
       "      <td>4885</td>\n",
       "      <td>3078</td>\n",
       "      <td>...</td>\n",
       "      <td>0.000000</td>\n",
       "      <td>0.004026</td>\n",
       "      <td>0.028986</td>\n",
       "      <td>0.566023</td>\n",
       "      <td>0.002013</td>\n",
       "      <td>0.033816</td>\n",
       "      <td>0.002818</td>\n",
       "      <td>second</td>\n",
       "      <td>0.215781</td>\n",
       "      <td>-0.215781</td>\n",
       "    </tr>\n",
       "    <tr>\n",
       "      <th>2</th>\n",
       "      <td>ADALAR KINALIADA</td>\n",
       "      <td>15616684</td>\n",
       "      <td>1905</td>\n",
       "      <td>995</td>\n",
       "      <td>910</td>\n",
       "      <td>2047.0</td>\n",
       "      <td>1055</td>\n",
       "      <td>992</td>\n",
       "      <td>2322</td>\n",
       "      <td>1199</td>\n",
       "      <td>...</td>\n",
       "      <td>0.000000</td>\n",
       "      <td>0.001535</td>\n",
       "      <td>0.035806</td>\n",
       "      <td>0.612276</td>\n",
       "      <td>0.002046</td>\n",
       "      <td>0.012788</td>\n",
       "      <td>0.000512</td>\n",
       "      <td>second</td>\n",
       "      <td>0.284399</td>\n",
       "      <td>-0.284399</td>\n",
       "    </tr>\n",
       "    <tr>\n",
       "      <th>3</th>\n",
       "      <td>ADALAR MADEN</td>\n",
       "      <td>464d4646d46</td>\n",
       "      <td>4335</td>\n",
       "      <td>2225</td>\n",
       "      <td>2110</td>\n",
       "      <td>4356.0</td>\n",
       "      <td>2226</td>\n",
       "      <td>2130</td>\n",
       "      <td>4345</td>\n",
       "      <td>2196</td>\n",
       "      <td>...</td>\n",
       "      <td>0.001023</td>\n",
       "      <td>0.001023</td>\n",
       "      <td>0.052183</td>\n",
       "      <td>0.548772</td>\n",
       "      <td>0.001023</td>\n",
       "      <td>0.030014</td>\n",
       "      <td>0.001023</td>\n",
       "      <td>second</td>\n",
       "      <td>0.194407</td>\n",
       "      <td>-0.194407</td>\n",
       "    </tr>\n",
       "    <tr>\n",
       "      <th>4</th>\n",
       "      <td>ADALAR NIZAM</td>\n",
       "      <td>58</td>\n",
       "      <td>3059</td>\n",
       "      <td>1550</td>\n",
       "      <td>1509</td>\n",
       "      <td>2999.0</td>\n",
       "      <td>1534</td>\n",
       "      <td>1465</td>\n",
       "      <td>3036</td>\n",
       "      <td>1549</td>\n",
       "      <td>...</td>\n",
       "      <td>0.000000</td>\n",
       "      <td>0.002498</td>\n",
       "      <td>0.058941</td>\n",
       "      <td>0.509491</td>\n",
       "      <td>0.002498</td>\n",
       "      <td>0.030470</td>\n",
       "      <td>0.000999</td>\n",
       "      <td>second</td>\n",
       "      <td>0.124376</td>\n",
       "      <td>-0.124376</td>\n",
       "    </tr>\n",
       "  </tbody>\n",
       "</table>\n",
       "<p>5 rows × 221 columns</p>\n",
       "</div>"
      ],
      "text/plain": [
       "            DEGISKEN           id 2016 Toplam Nufus 2016 Toplam Nufus (Erkek)  \\\n",
       "0   ADALAR BURGAZADA     1651564d              1422                       696   \n",
       "1  ADALAR HEYBELIADA        65612              3757                      1954   \n",
       "2   ADALAR KINALIADA     15616684              1905                       995   \n",
       "3       ADALAR MADEN  464d4646d46              4335                      2225   \n",
       "4       ADALAR NIZAM           58              3059                      1550   \n",
       "\n",
       "  2016 Toplam Nufus (Kadin)  2015 Toplam Nufus 2015 Toplam Nufus (Erkek)  \\\n",
       "0                       726             1436.0                       716   \n",
       "1                      1803             4785.0                      3018   \n",
       "2                       910             2047.0                      1055   \n",
       "3                      2110             4356.0                      2226   \n",
       "4                      1509             2999.0                      1534   \n",
       "\n",
       "  2015 Toplam Nufus (Kadin) 2014 Toplam Nufus 2014 Toplam Nufus (Erkek)  ...  \\\n",
       "0                       720              1464                       727  ...   \n",
       "1                      1767              4885                      3078  ...   \n",
       "2                       992              2322                      1199  ...   \n",
       "3                      2130              4345                      2196  ...   \n",
       "4                      1465              3036                      1549  ...   \n",
       "\n",
       "  BTP_2014_metropol  VATANPARTİSİ_2014_metropol  HDP_2014_metropol  \\\n",
       "0          0.000000                    0.003806           0.036156   \n",
       "1          0.000000                    0.004026           0.028986   \n",
       "2          0.000000                    0.001535           0.035806   \n",
       "3          0.001023                    0.001023           0.052183   \n",
       "4          0.000000                    0.002498           0.058941   \n",
       "\n",
       "  CHP_2014_metropol HEPAR_2014_metropol MHP_2014_metropol  \\\n",
       "0          0.705994            0.000951          0.010466   \n",
       "1          0.566023            0.002013          0.033816   \n",
       "2          0.612276            0.002046          0.012788   \n",
       "3          0.548772            0.001023          0.030014   \n",
       "4          0.509491            0.002498          0.030470   \n",
       "\n",
       "  independents_2014_metropol akp_2014_metropol margin_1to2_2014_metropol  \\\n",
       "0                   0.002854            second                  0.475737   \n",
       "1                   0.002818            second                  0.215781   \n",
       "2                   0.000512            second                  0.284399   \n",
       "3                   0.001023            second                  0.194407   \n",
       "4                   0.000999            second                  0.124376   \n",
       "\n",
       "  akp_margin_2014_metropol  \n",
       "0                -0.475737  \n",
       "1                -0.215781  \n",
       "2                -0.284399  \n",
       "3                -0.194407  \n",
       "4                -0.124376  \n",
       "\n",
       "[5 rows x 221 columns]"
      ]
     },
     "execution_count": 195,
     "metadata": {},
     "output_type": "execute_result"
    }
   ],
   "source": [
    "socio = pd.read_excel('MAHALLE.xlsx')\n",
    "socio.head()"
   ]
  },
  {
   "cell_type": "code",
   "execution_count": 196,
   "metadata": {},
   "outputs": [],
   "source": [
    "# The raw dataset includes rows for locations that are non-residential (like military zones or state parks)\n",
    "# We can use the column for 'total population in 2016' to filter them out\n",
    "socio = socio[socio['2016 Toplam Nufus'].notnull()]\n",
    "socio = socio.reset_index()"
   ]
  },
  {
   "cell_type": "code",
   "execution_count": 197,
   "metadata": {},
   "outputs": [
    {
     "data": {
      "text/html": [
       "<div>\n",
       "<style scoped>\n",
       "    .dataframe tbody tr th:only-of-type {\n",
       "        vertical-align: middle;\n",
       "    }\n",
       "\n",
       "    .dataframe tbody tr th {\n",
       "        vertical-align: top;\n",
       "    }\n",
       "\n",
       "    .dataframe thead th {\n",
       "        text-align: right;\n",
       "    }\n",
       "</style>\n",
       "<table border=\"1\" class=\"dataframe\">\n",
       "  <thead>\n",
       "    <tr style=\"text-align: right;\">\n",
       "      <th></th>\n",
       "      <th>id</th>\n",
       "      <th>2016 Toplam Nufus</th>\n",
       "      <th>2016 Toplam Nufus (Erkek)</th>\n",
       "      <th>2016 Toplam Nufus (Kadin)</th>\n",
       "      <th>2015 Toplam Nufus</th>\n",
       "      <th>2015 Toplam Nufus (Erkek)</th>\n",
       "      <th>2015 Toplam Nufus (Kadin)</th>\n",
       "      <th>2014 Toplam Nufus</th>\n",
       "      <th>2014 Toplam Nufus (Erkek)</th>\n",
       "      <th>2014 Toplam Nufus (Kadin)</th>\n",
       "      <th>...</th>\n",
       "      <th>HDP_2014_metropol</th>\n",
       "      <th>CHP_2014_metropol</th>\n",
       "      <th>HEPAR_2014_metropol</th>\n",
       "      <th>MHP_2014_metropol</th>\n",
       "      <th>independents_2014_metropol</th>\n",
       "      <th>akp_2014_metropol</th>\n",
       "      <th>margin_1to2_2014_metropol</th>\n",
       "      <th>akp_margin_2014_metropol</th>\n",
       "      <th>district</th>\n",
       "      <th>nbhd</th>\n",
       "    </tr>\n",
       "  </thead>\n",
       "  <tbody>\n",
       "    <tr>\n",
       "      <th>0</th>\n",
       "      <td>1651564d</td>\n",
       "      <td>1422</td>\n",
       "      <td>696</td>\n",
       "      <td>726</td>\n",
       "      <td>1436.0</td>\n",
       "      <td>716</td>\n",
       "      <td>720</td>\n",
       "      <td>1464</td>\n",
       "      <td>727</td>\n",
       "      <td>737</td>\n",
       "      <td>...</td>\n",
       "      <td>0.036156</td>\n",
       "      <td>0.705994</td>\n",
       "      <td>0.000951</td>\n",
       "      <td>0.010466</td>\n",
       "      <td>0.002854</td>\n",
       "      <td>second</td>\n",
       "      <td>0.475737</td>\n",
       "      <td>-0.475737</td>\n",
       "      <td>ADALAR</td>\n",
       "      <td>BURGAZADA</td>\n",
       "    </tr>\n",
       "    <tr>\n",
       "      <th>1</th>\n",
       "      <td>65612</td>\n",
       "      <td>3757</td>\n",
       "      <td>1954</td>\n",
       "      <td>1803</td>\n",
       "      <td>4785.0</td>\n",
       "      <td>3018</td>\n",
       "      <td>1767</td>\n",
       "      <td>4885</td>\n",
       "      <td>3078</td>\n",
       "      <td>1807</td>\n",
       "      <td>...</td>\n",
       "      <td>0.028986</td>\n",
       "      <td>0.566023</td>\n",
       "      <td>0.002013</td>\n",
       "      <td>0.033816</td>\n",
       "      <td>0.002818</td>\n",
       "      <td>second</td>\n",
       "      <td>0.215781</td>\n",
       "      <td>-0.215781</td>\n",
       "      <td>ADALAR</td>\n",
       "      <td>HEYBELIADA</td>\n",
       "    </tr>\n",
       "    <tr>\n",
       "      <th>2</th>\n",
       "      <td>15616684</td>\n",
       "      <td>1905</td>\n",
       "      <td>995</td>\n",
       "      <td>910</td>\n",
       "      <td>2047.0</td>\n",
       "      <td>1055</td>\n",
       "      <td>992</td>\n",
       "      <td>2322</td>\n",
       "      <td>1199</td>\n",
       "      <td>1123</td>\n",
       "      <td>...</td>\n",
       "      <td>0.035806</td>\n",
       "      <td>0.612276</td>\n",
       "      <td>0.002046</td>\n",
       "      <td>0.012788</td>\n",
       "      <td>0.000512</td>\n",
       "      <td>second</td>\n",
       "      <td>0.284399</td>\n",
       "      <td>-0.284399</td>\n",
       "      <td>ADALAR</td>\n",
       "      <td>KINALIADA</td>\n",
       "    </tr>\n",
       "    <tr>\n",
       "      <th>3</th>\n",
       "      <td>464d4646d46</td>\n",
       "      <td>4335</td>\n",
       "      <td>2225</td>\n",
       "      <td>2110</td>\n",
       "      <td>4356.0</td>\n",
       "      <td>2226</td>\n",
       "      <td>2130</td>\n",
       "      <td>4345</td>\n",
       "      <td>2196</td>\n",
       "      <td>2149</td>\n",
       "      <td>...</td>\n",
       "      <td>0.052183</td>\n",
       "      <td>0.548772</td>\n",
       "      <td>0.001023</td>\n",
       "      <td>0.030014</td>\n",
       "      <td>0.001023</td>\n",
       "      <td>second</td>\n",
       "      <td>0.194407</td>\n",
       "      <td>-0.194407</td>\n",
       "      <td>ADALAR</td>\n",
       "      <td>MADEN</td>\n",
       "    </tr>\n",
       "    <tr>\n",
       "      <th>4</th>\n",
       "      <td>58</td>\n",
       "      <td>3059</td>\n",
       "      <td>1550</td>\n",
       "      <td>1509</td>\n",
       "      <td>2999.0</td>\n",
       "      <td>1534</td>\n",
       "      <td>1465</td>\n",
       "      <td>3036</td>\n",
       "      <td>1549</td>\n",
       "      <td>1487</td>\n",
       "      <td>...</td>\n",
       "      <td>0.058941</td>\n",
       "      <td>0.509491</td>\n",
       "      <td>0.002498</td>\n",
       "      <td>0.030470</td>\n",
       "      <td>0.000999</td>\n",
       "      <td>second</td>\n",
       "      <td>0.124376</td>\n",
       "      <td>-0.124376</td>\n",
       "      <td>ADALAR</td>\n",
       "      <td>NIZAM</td>\n",
       "    </tr>\n",
       "  </tbody>\n",
       "</table>\n",
       "<p>5 rows × 222 columns</p>\n",
       "</div>"
      ],
      "text/plain": [
       "            id 2016 Toplam Nufus 2016 Toplam Nufus (Erkek)  \\\n",
       "0     1651564d              1422                       696   \n",
       "1        65612              3757                      1954   \n",
       "2     15616684              1905                       995   \n",
       "3  464d4646d46              4335                      2225   \n",
       "4           58              3059                      1550   \n",
       "\n",
       "  2016 Toplam Nufus (Kadin)  2015 Toplam Nufus 2015 Toplam Nufus (Erkek)  \\\n",
       "0                       726             1436.0                       716   \n",
       "1                      1803             4785.0                      3018   \n",
       "2                       910             2047.0                      1055   \n",
       "3                      2110             4356.0                      2226   \n",
       "4                      1509             2999.0                      1534   \n",
       "\n",
       "  2015 Toplam Nufus (Kadin) 2014 Toplam Nufus 2014 Toplam Nufus (Erkek)  \\\n",
       "0                       720              1464                       727   \n",
       "1                      1767              4885                      3078   \n",
       "2                       992              2322                      1199   \n",
       "3                      2130              4345                      2196   \n",
       "4                      1465              3036                      1549   \n",
       "\n",
       "  2014 Toplam Nufus (Kadin)  ...  HDP_2014_metropol  CHP_2014_metropol  \\\n",
       "0                       737  ...           0.036156           0.705994   \n",
       "1                      1807  ...           0.028986           0.566023   \n",
       "2                      1123  ...           0.035806           0.612276   \n",
       "3                      2149  ...           0.052183           0.548772   \n",
       "4                      1487  ...           0.058941           0.509491   \n",
       "\n",
       "  HEPAR_2014_metropol MHP_2014_metropol independents_2014_metropol  \\\n",
       "0            0.000951          0.010466                   0.002854   \n",
       "1            0.002013          0.033816                   0.002818   \n",
       "2            0.002046          0.012788                   0.000512   \n",
       "3            0.001023          0.030014                   0.001023   \n",
       "4            0.002498          0.030470                   0.000999   \n",
       "\n",
       "  akp_2014_metropol margin_1to2_2014_metropol akp_margin_2014_metropol  \\\n",
       "0            second                  0.475737                -0.475737   \n",
       "1            second                  0.215781                -0.215781   \n",
       "2            second                  0.284399                -0.284399   \n",
       "3            second                  0.194407                -0.194407   \n",
       "4            second                  0.124376                -0.124376   \n",
       "\n",
       "  district        nbhd  \n",
       "0   ADALAR   BURGAZADA  \n",
       "1   ADALAR  HEYBELIADA  \n",
       "2   ADALAR   KINALIADA  \n",
       "3   ADALAR       MADEN  \n",
       "4   ADALAR       NIZAM  \n",
       "\n",
       "[5 rows x 222 columns]"
      ]
     },
     "execution_count": 197,
     "metadata": {},
     "output_type": "execute_result"
    }
   ],
   "source": [
    "# Identification column in the raw dataset has 'District' & 'Neighborhood' names concatenated\n",
    "# Splits them into two\n",
    "socio['district'] = socio['DEGISKEN'].str.split(n=1, expand=True)[0]\n",
    "socio['nbhd'] = socio['DEGISKEN'].str.split(n=1, expand=True)[1]\n",
    "socio = socio.drop(columns=['index','DEGISKEN'])\n",
    "socio.head()"
   ]
  },
  {
   "cell_type": "code",
   "execution_count": 198,
   "metadata": {},
   "outputs": [
    {
     "data": {
      "text/html": [
       "<div>\n",
       "<style scoped>\n",
       "    .dataframe tbody tr th:only-of-type {\n",
       "        vertical-align: middle;\n",
       "    }\n",
       "\n",
       "    .dataframe tbody tr th {\n",
       "        vertical-align: top;\n",
       "    }\n",
       "\n",
       "    .dataframe thead th {\n",
       "        text-align: right;\n",
       "    }\n",
       "</style>\n",
       "<table border=\"1\" class=\"dataframe\">\n",
       "  <thead>\n",
       "    <tr style=\"text-align: right;\">\n",
       "      <th></th>\n",
       "      <th>district</th>\n",
       "      <th>neighborhood</th>\n",
       "      <th>dist_id</th>\n",
       "      <th>nbhd_id</th>\n",
       "    </tr>\n",
       "  </thead>\n",
       "  <tbody>\n",
       "    <tr>\n",
       "      <th>0</th>\n",
       "      <td>ADALAR</td>\n",
       "      <td>BURGAZADA MAH.</td>\n",
       "      <td>100</td>\n",
       "      <td>101</td>\n",
       "    </tr>\n",
       "    <tr>\n",
       "      <th>1</th>\n",
       "      <td>ADALAR</td>\n",
       "      <td>HEYBELIADA MAH.</td>\n",
       "      <td>100</td>\n",
       "      <td>102</td>\n",
       "    </tr>\n",
       "    <tr>\n",
       "      <th>2</th>\n",
       "      <td>ADALAR</td>\n",
       "      <td>KINALIADA MAH.</td>\n",
       "      <td>100</td>\n",
       "      <td>103</td>\n",
       "    </tr>\n",
       "    <tr>\n",
       "      <th>3</th>\n",
       "      <td>ADALAR</td>\n",
       "      <td>MADEN MAH.</td>\n",
       "      <td>100</td>\n",
       "      <td>104</td>\n",
       "    </tr>\n",
       "    <tr>\n",
       "      <th>4</th>\n",
       "      <td>ADALAR</td>\n",
       "      <td>NIZAM MAH.</td>\n",
       "      <td>100</td>\n",
       "      <td>105</td>\n",
       "    </tr>\n",
       "  </tbody>\n",
       "</table>\n",
       "</div>"
      ],
      "text/plain": [
       "  district     neighborhood  dist_id  nbhd_id\n",
       "0   ADALAR   BURGAZADA MAH.      100      101\n",
       "1   ADALAR  HEYBELIADA MAH.      100      102\n",
       "2   ADALAR   KINALIADA MAH.      100      103\n",
       "3   ADALAR       MADEN MAH.      100      104\n",
       "4   ADALAR       NIZAM MAH.      100      105"
      ]
     },
     "execution_count": 198,
     "metadata": {},
     "output_type": "execute_result"
    }
   ],
   "source": [
    "# Imports the csv with SQL-generated neighborhoood IDs\n",
    "nbhds = pd.read_csv('sql outputs/neighborhoods.csv')\n",
    "nbhds.head()"
   ]
  },
  {
   "cell_type": "code",
   "execution_count": 199,
   "metadata": {},
   "outputs": [],
   "source": [
    "# Gets rid of 'MAH.' (abbreviation of 'neighborhood', in Turkish) and the trailing space\n",
    "nbhds['neighborhood'] = nbhds['neighborhood'].str[:-4].str.rstrip()"
   ]
  },
  {
   "cell_type": "code",
   "execution_count": 200,
   "metadata": {
    "scrolled": true
   },
   "outputs": [
    {
     "name": "stdout",
     "output_type": "stream",
     "text": [
      "Neighborhoods ['ATATURK'] in ARNAVUTKOY are named differently than their official name\n",
      "Neighborhoods ['ORTAMAHALLE'] in BAYRAMPASA are named differently than their official name\n",
      "Neighborhoods ['MIMAR SINAN'] in BUYUKCEKMECE are named differently than their official name\n",
      "Neighborhoods ['BAHCEKOY YENIMAHALLE', 'RUMELI HISARI', 'RUMELI KAVAGI', 'SARIYER YENIMAHALLE'] in SARIYER are named differently than their official name\n",
      "Neighborhoods ['KUCUKCAMLICA'] in USKUDAR are named differently than their official name\n"
     ]
    }
   ],
   "source": [
    "# Determines those neighborhood names that are different than in our clean nbhds df (scraped from govermental database)\n",
    "incorrects = dict()\n",
    "\n",
    "for dist in nbhds['district'].unique():\n",
    "    \n",
    "    cleans = list(nbhds[nbhds.district == dist]['neighborhood'])\n",
    "    raws = list(socio[socio.district == dist]['nbhd'])\n",
    "    \n",
    "    name_dif = [nb for nb in raws if nb not in cleans]\n",
    "    \n",
    "    if len(name_dif) > 0:\n",
    "        print('Neighborhoods',name_dif,'in',dist,'are named differently than their official name')\n",
    "        \n",
    "        incorrects[dist] = name_dif"
   ]
  },
  {
   "cell_type": "code",
   "execution_count": 201,
   "metadata": {},
   "outputs": [],
   "source": [
    "# Corrects the inconsistent names\n",
    "corrects_list = [('ARNAVUTKOY', ['MERKEZ ATATURK']), \n",
    "                 ('BAYRAMPASA',['ORTA']),\n",
    "                 ('BUYUKCEKMECE',['MIMARSINAN']),\n",
    "                 ('SARIYER',['BAHCEKOY YENI', 'RUMELIHISARI', 'RUMELIKAVAGI', 'YENI']),\n",
    "                 ('USKUDAR',['KUCUK CAMLICA'])]\n",
    "\n",
    "corrects = dict()\n",
    "\n",
    "for it in corrects_list:\n",
    "    corrects[it[0]] = it[1]"
   ]
  },
  {
   "cell_type": "code",
   "execution_count": 203,
   "metadata": {},
   "outputs": [
    {
     "name": "stderr",
     "output_type": "stream",
     "text": [
      "/opt/anaconda3/lib/python3.7/site-packages/ipykernel_launcher.py:7: SettingWithCopyWarning: \n",
      "A value is trying to be set on a copy of a slice from a DataFrame.\n",
      "Try using .loc[row_indexer,col_indexer] = value instead\n",
      "\n",
      "See the caveats in the documentation: https://pandas.pydata.org/pandas-docs/stable/user_guide/indexing.html#returning-a-view-versus-a-copy\n",
      "  import sys\n"
     ]
    }
   ],
   "source": [
    "for k,v in corrects.items():\n",
    "    \n",
    "    socio_district = socio[socio['district'] == k]\n",
    "    \n",
    "    for i in range(len(v)): # v is a list\n",
    "    \n",
    "        socio_district['nbhd'] = socio_district['nbhd'].str.replace(incorrects[k][i],v[i])\n",
    "    \n",
    "    socio.loc[socio['district'] == k,:] = socio_district"
   ]
  },
  {
   "cell_type": "code",
   "execution_count": 207,
   "metadata": {},
   "outputs": [],
   "source": [
    "# \"Eyup\" district's name has changed recently to \"Eyupsultan\", so it is renamed in socio df as well\n",
    "socio['district'] = socio['district'].str.replace('EYUP','EYUPSULTAN')"
   ]
  },
  {
   "cell_type": "code",
   "execution_count": 210,
   "metadata": {},
   "outputs": [
    {
     "data": {
      "text/html": [
       "<div>\n",
       "<style scoped>\n",
       "    .dataframe tbody tr th:only-of-type {\n",
       "        vertical-align: middle;\n",
       "    }\n",
       "\n",
       "    .dataframe tbody tr th {\n",
       "        vertical-align: top;\n",
       "    }\n",
       "\n",
       "    .dataframe thead th {\n",
       "        text-align: right;\n",
       "    }\n",
       "</style>\n",
       "<table border=\"1\" class=\"dataframe\">\n",
       "  <thead>\n",
       "    <tr style=\"text-align: right;\">\n",
       "      <th></th>\n",
       "      <th>id</th>\n",
       "      <th>2016 Toplam Nufus</th>\n",
       "      <th>2016 Toplam Nufus (Erkek)</th>\n",
       "      <th>2016 Toplam Nufus (Kadin)</th>\n",
       "      <th>2015 Toplam Nufus</th>\n",
       "      <th>2015 Toplam Nufus (Erkek)</th>\n",
       "      <th>2015 Toplam Nufus (Kadin)</th>\n",
       "      <th>2014 Toplam Nufus</th>\n",
       "      <th>2014 Toplam Nufus (Erkek)</th>\n",
       "      <th>2014 Toplam Nufus (Kadin)</th>\n",
       "      <th>...</th>\n",
       "      <th>CHP_2014_metropol</th>\n",
       "      <th>HEPAR_2014_metropol</th>\n",
       "      <th>MHP_2014_metropol</th>\n",
       "      <th>independents_2014_metropol</th>\n",
       "      <th>akp_2014_metropol</th>\n",
       "      <th>margin_1to2_2014_metropol</th>\n",
       "      <th>akp_margin_2014_metropol</th>\n",
       "      <th>district</th>\n",
       "      <th>nbhd</th>\n",
       "      <th>nbhd_id</th>\n",
       "    </tr>\n",
       "  </thead>\n",
       "  <tbody>\n",
       "    <tr>\n",
       "      <th>0</th>\n",
       "      <td>1651564d</td>\n",
       "      <td>1422</td>\n",
       "      <td>696</td>\n",
       "      <td>726</td>\n",
       "      <td>1436.0</td>\n",
       "      <td>716</td>\n",
       "      <td>720</td>\n",
       "      <td>1464</td>\n",
       "      <td>727</td>\n",
       "      <td>737</td>\n",
       "      <td>...</td>\n",
       "      <td>0.705994</td>\n",
       "      <td>0.000951</td>\n",
       "      <td>0.010466</td>\n",
       "      <td>0.002854</td>\n",
       "      <td>second</td>\n",
       "      <td>0.475737</td>\n",
       "      <td>-0.475737</td>\n",
       "      <td>ADALAR</td>\n",
       "      <td>BURGAZADA</td>\n",
       "      <td>101</td>\n",
       "    </tr>\n",
       "    <tr>\n",
       "      <th>1</th>\n",
       "      <td>65612</td>\n",
       "      <td>3757</td>\n",
       "      <td>1954</td>\n",
       "      <td>1803</td>\n",
       "      <td>4785.0</td>\n",
       "      <td>3018</td>\n",
       "      <td>1767</td>\n",
       "      <td>4885</td>\n",
       "      <td>3078</td>\n",
       "      <td>1807</td>\n",
       "      <td>...</td>\n",
       "      <td>0.566023</td>\n",
       "      <td>0.002013</td>\n",
       "      <td>0.033816</td>\n",
       "      <td>0.002818</td>\n",
       "      <td>second</td>\n",
       "      <td>0.215781</td>\n",
       "      <td>-0.215781</td>\n",
       "      <td>ADALAR</td>\n",
       "      <td>HEYBELIADA</td>\n",
       "      <td>102</td>\n",
       "    </tr>\n",
       "    <tr>\n",
       "      <th>2</th>\n",
       "      <td>15616684</td>\n",
       "      <td>1905</td>\n",
       "      <td>995</td>\n",
       "      <td>910</td>\n",
       "      <td>2047.0</td>\n",
       "      <td>1055</td>\n",
       "      <td>992</td>\n",
       "      <td>2322</td>\n",
       "      <td>1199</td>\n",
       "      <td>1123</td>\n",
       "      <td>...</td>\n",
       "      <td>0.612276</td>\n",
       "      <td>0.002046</td>\n",
       "      <td>0.012788</td>\n",
       "      <td>0.000512</td>\n",
       "      <td>second</td>\n",
       "      <td>0.284399</td>\n",
       "      <td>-0.284399</td>\n",
       "      <td>ADALAR</td>\n",
       "      <td>KINALIADA</td>\n",
       "      <td>103</td>\n",
       "    </tr>\n",
       "    <tr>\n",
       "      <th>3</th>\n",
       "      <td>464d4646d46</td>\n",
       "      <td>4335</td>\n",
       "      <td>2225</td>\n",
       "      <td>2110</td>\n",
       "      <td>4356.0</td>\n",
       "      <td>2226</td>\n",
       "      <td>2130</td>\n",
       "      <td>4345</td>\n",
       "      <td>2196</td>\n",
       "      <td>2149</td>\n",
       "      <td>...</td>\n",
       "      <td>0.548772</td>\n",
       "      <td>0.001023</td>\n",
       "      <td>0.030014</td>\n",
       "      <td>0.001023</td>\n",
       "      <td>second</td>\n",
       "      <td>0.194407</td>\n",
       "      <td>-0.194407</td>\n",
       "      <td>ADALAR</td>\n",
       "      <td>MADEN</td>\n",
       "      <td>104</td>\n",
       "    </tr>\n",
       "    <tr>\n",
       "      <th>4</th>\n",
       "      <td>58</td>\n",
       "      <td>3059</td>\n",
       "      <td>1550</td>\n",
       "      <td>1509</td>\n",
       "      <td>2999.0</td>\n",
       "      <td>1534</td>\n",
       "      <td>1465</td>\n",
       "      <td>3036</td>\n",
       "      <td>1549</td>\n",
       "      <td>1487</td>\n",
       "      <td>...</td>\n",
       "      <td>0.509491</td>\n",
       "      <td>0.002498</td>\n",
       "      <td>0.030470</td>\n",
       "      <td>0.000999</td>\n",
       "      <td>second</td>\n",
       "      <td>0.124376</td>\n",
       "      <td>-0.124376</td>\n",
       "      <td>ADALAR</td>\n",
       "      <td>NIZAM</td>\n",
       "      <td>105</td>\n",
       "    </tr>\n",
       "  </tbody>\n",
       "</table>\n",
       "<p>5 rows × 223 columns</p>\n",
       "</div>"
      ],
      "text/plain": [
       "            id 2016 Toplam Nufus 2016 Toplam Nufus (Erkek)  \\\n",
       "0     1651564d              1422                       696   \n",
       "1        65612              3757                      1954   \n",
       "2     15616684              1905                       995   \n",
       "3  464d4646d46              4335                      2225   \n",
       "4           58              3059                      1550   \n",
       "\n",
       "  2016 Toplam Nufus (Kadin)  2015 Toplam Nufus 2015 Toplam Nufus (Erkek)  \\\n",
       "0                       726             1436.0                       716   \n",
       "1                      1803             4785.0                      3018   \n",
       "2                       910             2047.0                      1055   \n",
       "3                      2110             4356.0                      2226   \n",
       "4                      1509             2999.0                      1534   \n",
       "\n",
       "  2015 Toplam Nufus (Kadin) 2014 Toplam Nufus 2014 Toplam Nufus (Erkek)  \\\n",
       "0                       720              1464                       727   \n",
       "1                      1767              4885                      3078   \n",
       "2                       992              2322                      1199   \n",
       "3                      2130              4345                      2196   \n",
       "4                      1465              3036                      1549   \n",
       "\n",
       "  2014 Toplam Nufus (Kadin)  ...  CHP_2014_metropol  HEPAR_2014_metropol  \\\n",
       "0                       737  ...           0.705994             0.000951   \n",
       "1                      1807  ...           0.566023             0.002013   \n",
       "2                      1123  ...           0.612276             0.002046   \n",
       "3                      2149  ...           0.548772             0.001023   \n",
       "4                      1487  ...           0.509491             0.002498   \n",
       "\n",
       "  MHP_2014_metropol independents_2014_metropol akp_2014_metropol  \\\n",
       "0          0.010466                   0.002854            second   \n",
       "1          0.033816                   0.002818            second   \n",
       "2          0.012788                   0.000512            second   \n",
       "3          0.030014                   0.001023            second   \n",
       "4          0.030470                   0.000999            second   \n",
       "\n",
       "  margin_1to2_2014_metropol akp_margin_2014_metropol district        nbhd  \\\n",
       "0                  0.475737                -0.475737   ADALAR   BURGAZADA   \n",
       "1                  0.215781                -0.215781   ADALAR  HEYBELIADA   \n",
       "2                  0.284399                -0.284399   ADALAR   KINALIADA   \n",
       "3                  0.194407                -0.194407   ADALAR       MADEN   \n",
       "4                  0.124376                -0.124376   ADALAR       NIZAM   \n",
       "\n",
       "  nbhd_id  \n",
       "0     101  \n",
       "1     102  \n",
       "2     103  \n",
       "3     104  \n",
       "4     105  \n",
       "\n",
       "[5 rows x 223 columns]"
      ]
     },
     "execution_count": 210,
     "metadata": {},
     "output_type": "execute_result"
    }
   ],
   "source": [
    "# Joins nbhd IDs to socioeconomic df (socio)\n",
    "socio = socio.join(nbhds.set_index(['district','neighborhood'])['nbhd_id'], on = ['district', 'nbhd'])\n",
    "socio.head()"
   ]
  },
  {
   "cell_type": "code",
   "execution_count": 216,
   "metadata": {},
   "outputs": [],
   "source": [
    "# TUIK (the national statistical agency of Turkey) releases only the population data on the level we want\n",
    "# We will merge that data for including more up-to-date information on population in our dataset\n",
    "tuik = pd.read_excel('tuik_data.xls', skiprows=[0,1,2,3], names=['year','nbhd','popl'])"
   ]
  },
  {
   "cell_type": "code",
   "execution_count": 217,
   "metadata": {},
   "outputs": [],
   "source": [
    "tuik['district'] = '--'"
   ]
  },
  {
   "cell_type": "code",
   "execution_count": 218,
   "metadata": {},
   "outputs": [],
   "source": [
    "tuik['year'] = tuik['year'].fillna(method='ffill')"
   ]
  },
  {
   "cell_type": "code",
   "execution_count": 219,
   "metadata": {},
   "outputs": [],
   "source": [
    "for i in range(len(tuik)):\n",
    "    tuik.at[i,'district'] = re.search(r'İstanbul\\((.*?)/',tuik.loc[i,'nbhd']).group(1)\n",
    "    tuik.at[i,'nbhd'] = re.search(r'Bel./(.*?) Mah.\\)',tuik.loc[i,'nbhd']).group(1)"
   ]
  },
  {
   "cell_type": "code",
   "execution_count": 220,
   "metadata": {},
   "outputs": [],
   "source": [
    "for col in ['nbhd','district']:\n",
    "    tuik[col] = tuik[col].str.upper()\\\n",
    "                         .str.replace('Ğ','G')\\\n",
    "                         .str.replace('Ü','U')\\\n",
    "                         .str.replace('İ','I')\\\n",
    "                         .str.replace('Ş','S')\\\n",
    "                         .str.replace('Ö','O')\\\n",
    "                         .str.replace('Ç','C')"
   ]
  },
  {
   "cell_type": "code",
   "execution_count": 221,
   "metadata": {},
   "outputs": [],
   "source": [
    "tuik = tuik.join(nbhds.set_index(['district','neighborhood'])['nbhd_id'], on=['district','nbhd'])"
   ]
  },
  {
   "cell_type": "code",
   "execution_count": 222,
   "metadata": {
    "scrolled": true
   },
   "outputs": [
    {
     "data": {
      "text/html": [
       "<div>\n",
       "<style scoped>\n",
       "    .dataframe tbody tr th:only-of-type {\n",
       "        vertical-align: middle;\n",
       "    }\n",
       "\n",
       "    .dataframe tbody tr th {\n",
       "        vertical-align: top;\n",
       "    }\n",
       "\n",
       "    .dataframe thead th {\n",
       "        text-align: right;\n",
       "    }\n",
       "</style>\n",
       "<table border=\"1\" class=\"dataframe\">\n",
       "  <thead>\n",
       "    <tr style=\"text-align: right;\">\n",
       "      <th></th>\n",
       "      <th>year</th>\n",
       "      <th>nbhd</th>\n",
       "      <th>popl</th>\n",
       "      <th>district</th>\n",
       "      <th>nbhd_id</th>\n",
       "    </tr>\n",
       "  </thead>\n",
       "  <tbody>\n",
       "    <tr>\n",
       "      <th>8</th>\n",
       "      <td>2017.0</td>\n",
       "      <td>ATATURK</td>\n",
       "      <td>7726</td>\n",
       "      <td>ARNAVUTKOY</td>\n",
       "      <td>NaN</td>\n",
       "    </tr>\n",
       "    <tr>\n",
       "      <th>124</th>\n",
       "      <td>2017.0</td>\n",
       "      <td>IKITELLI OSB</td>\n",
       "      <td>64</td>\n",
       "      <td>BASAKSEHIR</td>\n",
       "      <td>NaN</td>\n",
       "    </tr>\n",
       "    <tr>\n",
       "      <th>135</th>\n",
       "      <td>2017.0</td>\n",
       "      <td>ORTAMAHALLE</td>\n",
       "      <td>14929</td>\n",
       "      <td>BAYRAMPASA</td>\n",
       "      <td>NaN</td>\n",
       "    </tr>\n",
       "    <tr>\n",
       "      <th>280</th>\n",
       "      <td>2017.0</td>\n",
       "      <td>MIMAR SINAN MERKEZ</td>\n",
       "      <td>8814</td>\n",
       "      <td>BUYUKCEKMECE</td>\n",
       "      <td>NaN</td>\n",
       "    </tr>\n",
       "    <tr>\n",
       "      <th>690</th>\n",
       "      <td>2017.0</td>\n",
       "      <td>KEMER</td>\n",
       "      <td>2379</td>\n",
       "      <td>SARIYER</td>\n",
       "      <td>NaN</td>\n",
       "    </tr>\n",
       "    <tr>\n",
       "      <th>694</th>\n",
       "      <td>2017.0</td>\n",
       "      <td>KUMKOY</td>\n",
       "      <td>3331</td>\n",
       "      <td>SARIYER</td>\n",
       "      <td>NaN</td>\n",
       "    </tr>\n",
       "    <tr>\n",
       "      <th>697</th>\n",
       "      <td>2017.0</td>\n",
       "      <td>MERKEZ</td>\n",
       "      <td>12750</td>\n",
       "      <td>SARIYER</td>\n",
       "      <td>NaN</td>\n",
       "    </tr>\n",
       "    <tr>\n",
       "      <th>703</th>\n",
       "      <td>2017.0</td>\n",
       "      <td>RUMELI HISARI</td>\n",
       "      <td>10785</td>\n",
       "      <td>SARIYER</td>\n",
       "      <td>NaN</td>\n",
       "    </tr>\n",
       "    <tr>\n",
       "      <th>704</th>\n",
       "      <td>2017.0</td>\n",
       "      <td>RUMELI KAVAGI</td>\n",
       "      <td>3765</td>\n",
       "      <td>SARIYER</td>\n",
       "      <td>NaN</td>\n",
       "    </tr>\n",
       "    <tr>\n",
       "      <th>968</th>\n",
       "      <td>2018.0</td>\n",
       "      <td>ATATURK</td>\n",
       "      <td>7933</td>\n",
       "      <td>ARNAVUTKOY</td>\n",
       "      <td>NaN</td>\n",
       "    </tr>\n",
       "    <tr>\n",
       "      <th>1084</th>\n",
       "      <td>2018.0</td>\n",
       "      <td>IKITELLI OSB</td>\n",
       "      <td>59</td>\n",
       "      <td>BASAKSEHIR</td>\n",
       "      <td>NaN</td>\n",
       "    </tr>\n",
       "    <tr>\n",
       "      <th>1170</th>\n",
       "      <td>2018.0</td>\n",
       "      <td>BEYLIKDUZUOSB</td>\n",
       "      <td>29</td>\n",
       "      <td>BEYLIKDUZU</td>\n",
       "      <td>NaN</td>\n",
       "    </tr>\n",
       "    <tr>\n",
       "      <th>1241</th>\n",
       "      <td>2018.0</td>\n",
       "      <td>MIMAR SINAN MERKEZ</td>\n",
       "      <td>8889</td>\n",
       "      <td>BUYUKCEKMECE</td>\n",
       "      <td>NaN</td>\n",
       "    </tr>\n",
       "    <tr>\n",
       "      <th>1849</th>\n",
       "      <td>2018.0</td>\n",
       "      <td>DUDULLU OSB</td>\n",
       "      <td>21</td>\n",
       "      <td>UMRANIYE</td>\n",
       "      <td>NaN</td>\n",
       "    </tr>\n",
       "    <tr>\n",
       "      <th>1932</th>\n",
       "      <td>2019.0</td>\n",
       "      <td>ATATURK</td>\n",
       "      <td>8417</td>\n",
       "      <td>ARNAVUTKOY</td>\n",
       "      <td>NaN</td>\n",
       "    </tr>\n",
       "    <tr>\n",
       "      <th>2048</th>\n",
       "      <td>2019.0</td>\n",
       "      <td>IKITELLI OSB</td>\n",
       "      <td>83</td>\n",
       "      <td>BASAKSEHIR</td>\n",
       "      <td>NaN</td>\n",
       "    </tr>\n",
       "    <tr>\n",
       "      <th>2134</th>\n",
       "      <td>2019.0</td>\n",
       "      <td>BEYLIKDUZUOSB</td>\n",
       "      <td>14</td>\n",
       "      <td>BEYLIKDUZU</td>\n",
       "      <td>NaN</td>\n",
       "    </tr>\n",
       "    <tr>\n",
       "      <th>2813</th>\n",
       "      <td>2019.0</td>\n",
       "      <td>DUDULLU OSB</td>\n",
       "      <td>16</td>\n",
       "      <td>UMRANIYE</td>\n",
       "      <td>NaN</td>\n",
       "    </tr>\n",
       "  </tbody>\n",
       "</table>\n",
       "</div>"
      ],
      "text/plain": [
       "        year                nbhd   popl      district  nbhd_id\n",
       "8     2017.0             ATATURK   7726    ARNAVUTKOY      NaN\n",
       "124   2017.0        IKITELLI OSB     64    BASAKSEHIR      NaN\n",
       "135   2017.0         ORTAMAHALLE  14929    BAYRAMPASA      NaN\n",
       "280   2017.0  MIMAR SINAN MERKEZ   8814  BUYUKCEKMECE      NaN\n",
       "690   2017.0               KEMER   2379       SARIYER      NaN\n",
       "694   2017.0              KUMKOY   3331       SARIYER      NaN\n",
       "697   2017.0              MERKEZ  12750       SARIYER      NaN\n",
       "703   2017.0       RUMELI HISARI  10785       SARIYER      NaN\n",
       "704   2017.0       RUMELI KAVAGI   3765       SARIYER      NaN\n",
       "968   2018.0             ATATURK   7933    ARNAVUTKOY      NaN\n",
       "1084  2018.0        IKITELLI OSB     59    BASAKSEHIR      NaN\n",
       "1170  2018.0       BEYLIKDUZUOSB     29    BEYLIKDUZU      NaN\n",
       "1241  2018.0  MIMAR SINAN MERKEZ   8889  BUYUKCEKMECE      NaN\n",
       "1849  2018.0         DUDULLU OSB     21      UMRANIYE      NaN\n",
       "1932  2019.0             ATATURK   8417    ARNAVUTKOY      NaN\n",
       "2048  2019.0        IKITELLI OSB     83    BASAKSEHIR      NaN\n",
       "2134  2019.0       BEYLIKDUZUOSB     14    BEYLIKDUZU      NaN\n",
       "2813  2019.0         DUDULLU OSB     16      UMRANIYE      NaN"
      ]
     },
     "execution_count": 222,
     "metadata": {},
     "output_type": "execute_result"
    }
   ],
   "source": [
    "tuik[pd.isnull(tuik['nbhd_id'])]"
   ]
  },
  {
   "cell_type": "code",
   "execution_count": 223,
   "metadata": {},
   "outputs": [],
   "source": [
    "tuik.at[8,'nbhd'] = 'MERKEZ ATATURK'\n",
    "tuik.at[968,'nbhd'] = 'MERKEZ ATATURK'\n",
    "tuik.at[1932,'nbhd'] = 'MERKEZ ATATURK'\n",
    "\n",
    "tuik.at[135,'nbhd'] = 'ORTA'\n",
    "\n",
    "tuik.at[280,'nbhd'] = 'MIMARSINAN'\n",
    "tuik.at[1241,'nbhd'] = 'MIMARSINAN'\n",
    "\n",
    "tuik.at[690,'nbhd'] = 'BAHCEKOY KEMER'\n",
    "tuik.at[694,'nbhd'] = 'KUMKOY (KILYOS)'\n",
    "tuik.at[697,'nbhd'] = 'SARIYER MERKEZ'\n",
    "tuik.at[703,'nbhd'] = 'RUMELIHISARI'\n",
    "tuik.at[704,'nbhd'] = 'RUMELIKAVAGI'"
   ]
  },
  {
   "cell_type": "code",
   "execution_count": 224,
   "metadata": {},
   "outputs": [
    {
     "data": {
      "text/html": [
       "<div>\n",
       "<style scoped>\n",
       "    .dataframe tbody tr th:only-of-type {\n",
       "        vertical-align: middle;\n",
       "    }\n",
       "\n",
       "    .dataframe tbody tr th {\n",
       "        vertical-align: top;\n",
       "    }\n",
       "\n",
       "    .dataframe thead th {\n",
       "        text-align: right;\n",
       "    }\n",
       "</style>\n",
       "<table border=\"1\" class=\"dataframe\">\n",
       "  <thead>\n",
       "    <tr style=\"text-align: right;\">\n",
       "      <th></th>\n",
       "      <th>year</th>\n",
       "      <th>nbhd</th>\n",
       "      <th>popl</th>\n",
       "      <th>district</th>\n",
       "      <th>nbhd_id</th>\n",
       "    </tr>\n",
       "  </thead>\n",
       "  <tbody>\n",
       "    <tr>\n",
       "      <th>124</th>\n",
       "      <td>2017.0</td>\n",
       "      <td>IKITELLI OSB</td>\n",
       "      <td>64</td>\n",
       "      <td>BASAKSEHIR</td>\n",
       "      <td>NaN</td>\n",
       "    </tr>\n",
       "    <tr>\n",
       "      <th>1084</th>\n",
       "      <td>2018.0</td>\n",
       "      <td>IKITELLI OSB</td>\n",
       "      <td>59</td>\n",
       "      <td>BASAKSEHIR</td>\n",
       "      <td>NaN</td>\n",
       "    </tr>\n",
       "    <tr>\n",
       "      <th>1170</th>\n",
       "      <td>2018.0</td>\n",
       "      <td>BEYLIKDUZUOSB</td>\n",
       "      <td>29</td>\n",
       "      <td>BEYLIKDUZU</td>\n",
       "      <td>NaN</td>\n",
       "    </tr>\n",
       "    <tr>\n",
       "      <th>1849</th>\n",
       "      <td>2018.0</td>\n",
       "      <td>DUDULLU OSB</td>\n",
       "      <td>21</td>\n",
       "      <td>UMRANIYE</td>\n",
       "      <td>NaN</td>\n",
       "    </tr>\n",
       "    <tr>\n",
       "      <th>2048</th>\n",
       "      <td>2019.0</td>\n",
       "      <td>IKITELLI OSB</td>\n",
       "      <td>83</td>\n",
       "      <td>BASAKSEHIR</td>\n",
       "      <td>NaN</td>\n",
       "    </tr>\n",
       "    <tr>\n",
       "      <th>2134</th>\n",
       "      <td>2019.0</td>\n",
       "      <td>BEYLIKDUZUOSB</td>\n",
       "      <td>14</td>\n",
       "      <td>BEYLIKDUZU</td>\n",
       "      <td>NaN</td>\n",
       "    </tr>\n",
       "    <tr>\n",
       "      <th>2813</th>\n",
       "      <td>2019.0</td>\n",
       "      <td>DUDULLU OSB</td>\n",
       "      <td>16</td>\n",
       "      <td>UMRANIYE</td>\n",
       "      <td>NaN</td>\n",
       "    </tr>\n",
       "  </tbody>\n",
       "</table>\n",
       "</div>"
      ],
      "text/plain": [
       "        year           nbhd  popl    district  nbhd_id\n",
       "124   2017.0   IKITELLI OSB    64  BASAKSEHIR      NaN\n",
       "1084  2018.0   IKITELLI OSB    59  BASAKSEHIR      NaN\n",
       "1170  2018.0  BEYLIKDUZUOSB    29  BEYLIKDUZU      NaN\n",
       "1849  2018.0    DUDULLU OSB    21    UMRANIYE      NaN\n",
       "2048  2019.0   IKITELLI OSB    83  BASAKSEHIR      NaN\n",
       "2134  2019.0  BEYLIKDUZUOSB    14  BEYLIKDUZU      NaN\n",
       "2813  2019.0    DUDULLU OSB    16    UMRANIYE      NaN"
      ]
     },
     "execution_count": 224,
     "metadata": {},
     "output_type": "execute_result"
    }
   ],
   "source": [
    "# All the remaining null ones are industrial sites, hence the very small population\n",
    "# We can disregard them since voter data already ignores them (i.e. those few voters vote in the nearest ballot)\n",
    "tuik = tuik.drop(columns='nbhd_id')\n",
    "tuik = tuik.join(nbhds.set_index(['district','neighborhood'])['nbhd_id'], on=['district','nbhd'])\n",
    "tuik[pd.isnull(tuik['nbhd_id'])]"
   ]
  },
  {
   "cell_type": "code",
   "execution_count": 225,
   "metadata": {},
   "outputs": [],
   "source": [
    "tuik = tuik.dropna(subset=['nbhd_id'])\n",
    "tuik = tuik.reset_index()"
   ]
  },
  {
   "cell_type": "code",
   "execution_count": 226,
   "metadata": {},
   "outputs": [
    {
     "data": {
      "text/html": [
       "<div>\n",
       "<style scoped>\n",
       "    .dataframe tbody tr th:only-of-type {\n",
       "        vertical-align: middle;\n",
       "    }\n",
       "\n",
       "    .dataframe tbody tr th {\n",
       "        vertical-align: top;\n",
       "    }\n",
       "\n",
       "    .dataframe thead th {\n",
       "        text-align: right;\n",
       "    }\n",
       "</style>\n",
       "<table border=\"1\" class=\"dataframe\">\n",
       "  <thead>\n",
       "    <tr style=\"text-align: right;\">\n",
       "      <th></th>\n",
       "      <th>level_0</th>\n",
       "      <th>index</th>\n",
       "      <th>year</th>\n",
       "      <th>nbhd</th>\n",
       "      <th>popl</th>\n",
       "      <th>district</th>\n",
       "      <th>nbhd_id</th>\n",
       "    </tr>\n",
       "  </thead>\n",
       "  <tbody>\n",
       "    <tr>\n",
       "      <th>0</th>\n",
       "      <td>1852</td>\n",
       "      <td>1856</td>\n",
       "      <td>2018.0</td>\n",
       "      <td>FINANSKENT</td>\n",
       "      <td>599</td>\n",
       "      <td>UMRANIYE</td>\n",
       "      <td>3716.0</td>\n",
       "    </tr>\n",
       "    <tr>\n",
       "      <th>1</th>\n",
       "      <td>1866</td>\n",
       "      <td>1870</td>\n",
       "      <td>2018.0</td>\n",
       "      <td>SITE</td>\n",
       "      <td>20428</td>\n",
       "      <td>UMRANIYE</td>\n",
       "      <td>3730.0</td>\n",
       "    </tr>\n",
       "    <tr>\n",
       "      <th>2</th>\n",
       "      <td>1872</td>\n",
       "      <td>1876</td>\n",
       "      <td>2018.0</td>\n",
       "      <td>YENISEHIR</td>\n",
       "      <td>6326</td>\n",
       "      <td>UMRANIYE</td>\n",
       "      <td>3736.0</td>\n",
       "    </tr>\n",
       "    <tr>\n",
       "      <th>3</th>\n",
       "      <td>2813</td>\n",
       "      <td>2820</td>\n",
       "      <td>2019.0</td>\n",
       "      <td>FINANSKENT</td>\n",
       "      <td>730</td>\n",
       "      <td>UMRANIYE</td>\n",
       "      <td>3716.0</td>\n",
       "    </tr>\n",
       "    <tr>\n",
       "      <th>4</th>\n",
       "      <td>2827</td>\n",
       "      <td>2834</td>\n",
       "      <td>2019.0</td>\n",
       "      <td>SITE</td>\n",
       "      <td>21342</td>\n",
       "      <td>UMRANIYE</td>\n",
       "      <td>3730.0</td>\n",
       "    </tr>\n",
       "    <tr>\n",
       "      <th>5</th>\n",
       "      <td>2833</td>\n",
       "      <td>2840</td>\n",
       "      <td>2019.0</td>\n",
       "      <td>YENISEHIR</td>\n",
       "      <td>6444</td>\n",
       "      <td>UMRANIYE</td>\n",
       "      <td>3736.0</td>\n",
       "    </tr>\n",
       "  </tbody>\n",
       "</table>\n",
       "</div>"
      ],
      "text/plain": [
       "   level_0  index    year        nbhd   popl  district  nbhd_id\n",
       "0     1852   1856  2018.0  FINANSKENT    599  UMRANIYE   3716.0\n",
       "1     1866   1870  2018.0        SITE  20428  UMRANIYE   3730.0\n",
       "2     1872   1876  2018.0   YENISEHIR   6326  UMRANIYE   3736.0\n",
       "3     2813   2820  2019.0  FINANSKENT    730  UMRANIYE   3716.0\n",
       "4     2827   2834  2019.0        SITE  21342  UMRANIYE   3730.0\n",
       "5     2833   2840  2019.0   YENISEHIR   6444  UMRANIYE   3736.0"
      ]
     },
     "execution_count": 226,
     "metadata": {},
     "output_type": "execute_result"
    }
   ],
   "source": [
    "# One neighborhood of Umraniye district (called \"Site\") was divided into three very recently\n",
    "# As most of the election data, as well as the socioeconomic data, has those 3 combined, we combine the populations\n",
    "subset = tuik[(tuik['year'] != 2017) & (tuik['nbhd_id'].isin([3716,3730,3736]))]\n",
    "subset = subset.reset_index()\n",
    "subset"
   ]
  },
  {
   "cell_type": "code",
   "execution_count": 228,
   "metadata": {},
   "outputs": [],
   "source": [
    "tuik.at[1866,'popl'] = sum(subset.loc[0:3,'popl'])\n",
    "tuik.at[2827,'popl'] = sum(subset.loc[3:,'popl'])"
   ]
  },
  {
   "cell_type": "code",
   "execution_count": 229,
   "metadata": {},
   "outputs": [],
   "source": [
    "tuik = tuik.drop(index=[1852,1872,2813,2833])"
   ]
  },
  {
   "cell_type": "code",
   "execution_count": 230,
   "metadata": {},
   "outputs": [],
   "source": [
    "# Adds the columns with total population of 2017, 2018, and 2019 to the dataframe socio\n",
    "for yr in tuik['year'].unique():\n",
    "    socio = socio.join(tuik[tuik['year']==yr].set_index('nbhd_id')['popl'],on='nbhd_id')\n",
    "    socio = socio.rename(columns={'popl':('Total Population ' + str(int(yr)))})"
   ]
  },
  {
   "cell_type": "code",
   "execution_count": 231,
   "metadata": {
    "scrolled": true
   },
   "outputs": [
    {
     "name": "stdout",
     "output_type": "stream",
     "text": [
      "Number of Nulls: 0\n"
     ]
    },
    {
     "data": {
      "text/html": [
       "<div>\n",
       "<style scoped>\n",
       "    .dataframe tbody tr th:only-of-type {\n",
       "        vertical-align: middle;\n",
       "    }\n",
       "\n",
       "    .dataframe tbody tr th {\n",
       "        vertical-align: top;\n",
       "    }\n",
       "\n",
       "    .dataframe thead th {\n",
       "        text-align: right;\n",
       "    }\n",
       "</style>\n",
       "<table border=\"1\" class=\"dataframe\">\n",
       "  <thead>\n",
       "    <tr style=\"text-align: right;\">\n",
       "      <th></th>\n",
       "      <th>id</th>\n",
       "      <th>2016 Toplam Nufus</th>\n",
       "      <th>2016 Toplam Nufus (Erkek)</th>\n",
       "      <th>2016 Toplam Nufus (Kadin)</th>\n",
       "      <th>2015 Toplam Nufus</th>\n",
       "      <th>2015 Toplam Nufus (Erkek)</th>\n",
       "      <th>2015 Toplam Nufus (Kadin)</th>\n",
       "      <th>2014 Toplam Nufus</th>\n",
       "      <th>2014 Toplam Nufus (Erkek)</th>\n",
       "      <th>2014 Toplam Nufus (Kadin)</th>\n",
       "      <th>...</th>\n",
       "      <th>independents_2014_metropol</th>\n",
       "      <th>akp_2014_metropol</th>\n",
       "      <th>margin_1to2_2014_metropol</th>\n",
       "      <th>akp_margin_2014_metropol</th>\n",
       "      <th>district</th>\n",
       "      <th>nbhd</th>\n",
       "      <th>nbhd_id</th>\n",
       "      <th>Total Population 2017</th>\n",
       "      <th>Total Population 2018</th>\n",
       "      <th>Total Population 2019</th>\n",
       "    </tr>\n",
       "  </thead>\n",
       "  <tbody>\n",
       "    <tr>\n",
       "      <th>0</th>\n",
       "      <td>1651564d</td>\n",
       "      <td>1422</td>\n",
       "      <td>696</td>\n",
       "      <td>726</td>\n",
       "      <td>1436.0</td>\n",
       "      <td>716</td>\n",
       "      <td>720</td>\n",
       "      <td>1464</td>\n",
       "      <td>727</td>\n",
       "      <td>737</td>\n",
       "      <td>...</td>\n",
       "      <td>0.002854</td>\n",
       "      <td>second</td>\n",
       "      <td>0.475737</td>\n",
       "      <td>-0.475737</td>\n",
       "      <td>ADALAR</td>\n",
       "      <td>BURGAZADA</td>\n",
       "      <td>101</td>\n",
       "      <td>1455</td>\n",
       "      <td>1449</td>\n",
       "      <td>1427</td>\n",
       "    </tr>\n",
       "    <tr>\n",
       "      <th>1</th>\n",
       "      <td>65612</td>\n",
       "      <td>3757</td>\n",
       "      <td>1954</td>\n",
       "      <td>1803</td>\n",
       "      <td>4785.0</td>\n",
       "      <td>3018</td>\n",
       "      <td>1767</td>\n",
       "      <td>4885</td>\n",
       "      <td>3078</td>\n",
       "      <td>1807</td>\n",
       "      <td>...</td>\n",
       "      <td>0.002818</td>\n",
       "      <td>second</td>\n",
       "      <td>0.215781</td>\n",
       "      <td>-0.215781</td>\n",
       "      <td>ADALAR</td>\n",
       "      <td>HEYBELIADA</td>\n",
       "      <td>102</td>\n",
       "      <td>4158</td>\n",
       "      <td>4524</td>\n",
       "      <td>4253</td>\n",
       "    </tr>\n",
       "    <tr>\n",
       "      <th>2</th>\n",
       "      <td>15616684</td>\n",
       "      <td>1905</td>\n",
       "      <td>995</td>\n",
       "      <td>910</td>\n",
       "      <td>2047.0</td>\n",
       "      <td>1055</td>\n",
       "      <td>992</td>\n",
       "      <td>2322</td>\n",
       "      <td>1199</td>\n",
       "      <td>1123</td>\n",
       "      <td>...</td>\n",
       "      <td>0.000512</td>\n",
       "      <td>second</td>\n",
       "      <td>0.284399</td>\n",
       "      <td>-0.284399</td>\n",
       "      <td>ADALAR</td>\n",
       "      <td>KINALIADA</td>\n",
       "      <td>103</td>\n",
       "      <td>1795</td>\n",
       "      <td>1775</td>\n",
       "      <td>1758</td>\n",
       "    </tr>\n",
       "    <tr>\n",
       "      <th>3</th>\n",
       "      <td>464d4646d46</td>\n",
       "      <td>4335</td>\n",
       "      <td>2225</td>\n",
       "      <td>2110</td>\n",
       "      <td>4356.0</td>\n",
       "      <td>2226</td>\n",
       "      <td>2130</td>\n",
       "      <td>4345</td>\n",
       "      <td>2196</td>\n",
       "      <td>2149</td>\n",
       "      <td>...</td>\n",
       "      <td>0.001023</td>\n",
       "      <td>second</td>\n",
       "      <td>0.194407</td>\n",
       "      <td>-0.194407</td>\n",
       "      <td>ADALAR</td>\n",
       "      <td>MADEN</td>\n",
       "      <td>104</td>\n",
       "      <td>4349</td>\n",
       "      <td>4595</td>\n",
       "      <td>4330</td>\n",
       "    </tr>\n",
       "    <tr>\n",
       "      <th>4</th>\n",
       "      <td>58</td>\n",
       "      <td>3059</td>\n",
       "      <td>1550</td>\n",
       "      <td>1509</td>\n",
       "      <td>2999.0</td>\n",
       "      <td>1534</td>\n",
       "      <td>1465</td>\n",
       "      <td>3036</td>\n",
       "      <td>1549</td>\n",
       "      <td>1487</td>\n",
       "      <td>...</td>\n",
       "      <td>0.000999</td>\n",
       "      <td>second</td>\n",
       "      <td>0.124376</td>\n",
       "      <td>-0.124376</td>\n",
       "      <td>ADALAR</td>\n",
       "      <td>NIZAM</td>\n",
       "      <td>105</td>\n",
       "      <td>3150</td>\n",
       "      <td>3776</td>\n",
       "      <td>3470</td>\n",
       "    </tr>\n",
       "  </tbody>\n",
       "</table>\n",
       "<p>5 rows × 226 columns</p>\n",
       "</div>"
      ],
      "text/plain": [
       "            id 2016 Toplam Nufus 2016 Toplam Nufus (Erkek)  \\\n",
       "0     1651564d              1422                       696   \n",
       "1        65612              3757                      1954   \n",
       "2     15616684              1905                       995   \n",
       "3  464d4646d46              4335                      2225   \n",
       "4           58              3059                      1550   \n",
       "\n",
       "  2016 Toplam Nufus (Kadin)  2015 Toplam Nufus 2015 Toplam Nufus (Erkek)  \\\n",
       "0                       726             1436.0                       716   \n",
       "1                      1803             4785.0                      3018   \n",
       "2                       910             2047.0                      1055   \n",
       "3                      2110             4356.0                      2226   \n",
       "4                      1509             2999.0                      1534   \n",
       "\n",
       "  2015 Toplam Nufus (Kadin) 2014 Toplam Nufus 2014 Toplam Nufus (Erkek)  \\\n",
       "0                       720              1464                       727   \n",
       "1                      1767              4885                      3078   \n",
       "2                       992              2322                      1199   \n",
       "3                      2130              4345                      2196   \n",
       "4                      1465              3036                      1549   \n",
       "\n",
       "  2014 Toplam Nufus (Kadin)  ...  independents_2014_metropol  \\\n",
       "0                       737  ...                    0.002854   \n",
       "1                      1807  ...                    0.002818   \n",
       "2                      1123  ...                    0.000512   \n",
       "3                      2149  ...                    0.001023   \n",
       "4                      1487  ...                    0.000999   \n",
       "\n",
       "   akp_2014_metropol margin_1to2_2014_metropol akp_margin_2014_metropol  \\\n",
       "0             second                  0.475737                -0.475737   \n",
       "1             second                  0.215781                -0.215781   \n",
       "2             second                  0.284399                -0.284399   \n",
       "3             second                  0.194407                -0.194407   \n",
       "4             second                  0.124376                -0.124376   \n",
       "\n",
       "  district        nbhd nbhd_id Total Population 2017 Total Population 2018  \\\n",
       "0   ADALAR   BURGAZADA     101                  1455                  1449   \n",
       "1   ADALAR  HEYBELIADA     102                  4158                  4524   \n",
       "2   ADALAR   KINALIADA     103                  1795                  1775   \n",
       "3   ADALAR       MADEN     104                  4349                  4595   \n",
       "4   ADALAR       NIZAM     105                  3150                  3776   \n",
       "\n",
       "  Total Population 2019  \n",
       "0                  1427  \n",
       "1                  4253  \n",
       "2                  1758  \n",
       "3                  4330  \n",
       "4                  3470  \n",
       "\n",
       "[5 rows x 226 columns]"
      ]
     },
     "execution_count": 231,
     "metadata": {},
     "output_type": "execute_result"
    }
   ],
   "source": [
    "print('Number of Nulls:', \n",
    "      pd.isnull(socio[['Total Population 2017','Total Population 2018','Total Population 2019']]).to_numpy().sum())\n",
    "\n",
    "socio.head()"
   ]
  },
  {
   "cell_type": "code",
   "execution_count": 31,
   "metadata": {},
   "outputs": [
    {
     "data": {
      "text/plain": [
       "Index(['Universite Yerleske Sayisi 2017', 'Banka Sube Sayisi 2017',\n",
       "       'Banka Cesitliligi 2017', 'Banka Sube Basina Dusen Nufus 2017',\n",
       "       'Satilik Konut Bedeli (m2 TL) 2017',\n",
       "       'Kiralik Konut Bedeli (m2 TL) 2017',\n",
       "       'Satilik Konut Bedeli Degisimi (3 yil)',\n",
       "       'Kiralik Konut Bedeli Degisimi (3 yil)', '2011 Genel Secim 1. Parti',\n",
       "       '2011 Genel Secimlere Katilma Orani',\n",
       "       '2011 Genel Secim Gecerli Oy Orani', '2014 Yerel Secim 1. Parti',\n",
       "       '2014 Yerel Secimlere Katilma Orani %',\n",
       "       '2014 Yerel Secim Gecerli Oy Orani %',\n",
       "       '2015 Haziran Genel Secim 1. Parti',\n",
       "       '2015 Haziran Genel Secimlere Katilma Orani',\n",
       "       '2015 Haziran Genel Secim Gecerli Oy Orani',\n",
       "       '2015 Kasim Genel Secim 1. Parti',\n",
       "       '2015 Kasim Genel Secimlere Katilma Orani',\n",
       "       '2015 Kasim Genel Secim Gecerli Oy Orani',\n",
       "       '2015 Kasim Siyasi Homojenlik Endeksi', '2017 Referandum Tercihi',\n",
       "       'SEÇMENSAYISI_2018_meclis', 'OYKULLANANSEÇMENSAYISI_2018_mecl',\n",
       "       'İTİRAZSIZGEÇERLİOYSAYISI_2018_me', 'İTİRAZLIGEÇERLİOYSAYISI_2018_mec',\n",
       "       'GEÇERLİOYTOPLAMI_2018_meclis', 'GEÇERSİZOYTOPLAMI_2018_meclis',\n",
       "       'AKPARTİ_2018_meclis', 'mhp_2018_meclis', 'HÜDAPAR_2018_meclis',\n",
       "       'VATANPARTİSİ_2018_meclis', 'hdp_2018_meclis', 'chp_2018_meclis',\n",
       "       'saadet_2018_meclis', 'İYİPARTİ_2018_meclis',\n",
       "       'CUMHURİTTİFAKI_2018_meclis', 'MİLLETİTTİFAKI_2018_meclis',\n",
       "       'independents_2018_meclis', 'akp_2018_meclis',\n",
       "       'margin_1to2_2018_meclis', 'akp_margin_2018_meclis',\n",
       "       'SEÇMENSAYISI_2014_metropol', 'OYKULLANANSEÇMENSAYISI_2014_metropol',\n",
       "       'İTİRAZSIZGEÇERLİOYSAYISI_2014_metropol',\n",
       "       'İTİRAZLIGEÇERLİOYSAYISI_2014_metropol',\n",
       "       'GEÇERLİOYTOPLAMI_2014_metropol', 'GEÇERSİZOYTOPLAMI_2014_metropol',\n",
       "       'DSP_2014_metropol', 'DYP_2014_metropol', 'HKP_2014_metropol',\n",
       "       'TKP_2014_metropol', 'BBP_2014_metropol', 'AKPARTİ_2014_metropol',\n",
       "       'YURTP_2014_metropol', 'DP_2014_metropol', 'MİLLET_2014_metropol',\n",
       "       'SAADET_2014_metropol', 'HAKPAR_2014_metropol', 'LDP_2014_metropol',\n",
       "       'BTP_2014_metropol', 'VATANPARTİSİ_2014_metropol', 'HDP_2014_metropol',\n",
       "       'CHP_2014_metropol', 'HEPAR_2014_metropol', 'MHP_2014_metropol',\n",
       "       'independents_2014_metropol', 'akp_2014_metropol',\n",
       "       'margin_1to2_2014_metropol', 'akp_margin_2014_metropol', 'district',\n",
       "       'nbhd', 'nbhd_id', 'Total Population 2017', 'Total Population 2018',\n",
       "       'Total Population 2019'],\n",
       "      dtype='object')"
      ]
     },
     "execution_count": 31,
     "metadata": {},
     "output_type": "execute_result"
    }
   ],
   "source": [
    "# We have already scraped the election data, so those columns in socio df are unnecessary \n",
    "# They are the placed as the last columns in the dataset, except those we added, therefore tho are printed\n",
    "socio.columns[150:]"
   ]
  },
  {
   "cell_type": "code",
   "execution_count": 232,
   "metadata": {},
   "outputs": [],
   "source": [
    "# Drops unncessary columns\n",
    "socio = socio.drop(socio.loc[:,'2011 Genel Secim 1. Parti':'akp_margin_2014_metropol'], axis=1)"
   ]
  },
  {
   "cell_type": "code",
   "execution_count": 233,
   "metadata": {},
   "outputs": [],
   "source": [
    "# There is a missing value for one neighborhood population; fills it in by male population + female population\n",
    "socio.at[652,'2016 Toplam Nufus'] = socio.loc[652,'2016 Toplam Nufus (Erkek)'] + socio.loc[652,'2016 Toplam Nufus (Kadin)']"
   ]
  },
  {
   "cell_type": "code",
   "execution_count": 234,
   "metadata": {},
   "outputs": [],
   "source": [
    "# Creates a sub-list of columns for filtering df with only necessary columns\n",
    "sub_list = list()"
   ]
  },
  {
   "cell_type": "code",
   "execution_count": 235,
   "metadata": {
    "scrolled": true
   },
   "outputs": [
    {
     "data": {
      "text/plain": [
       "Index(['id', '2016 Toplam Nufus', '2016 Toplam Nufus (Erkek)',\n",
       "       '2016 Toplam Nufus (Kadin)', '2015 Toplam Nufus',\n",
       "       '2015 Toplam Nufus (Erkek)', '2015 Toplam Nufus (Kadin)',\n",
       "       '2014 Toplam Nufus', '2014 Toplam Nufus (Erkek)',\n",
       "       '2014 Toplam Nufus (Kadin)', 'Nufus Artis Yonu (2014-2016)',\n",
       "       'Istanbul Nufusu Icerisindeki Pay Degisim Yonu (2014-2016)',\n",
       "       'Z Kusagi (0-19 yas) 2016 ', 'Y Kusagi (20-39 yas) 2016',\n",
       "       'X Kusagi (40-54 yas) 2016',\n",
       "       'Baby Boomer/Geleneksel Kusak (+55 yas) 2016',\n",
       "       'Z Kusagi (0-19 yas) 2015 ', 'Y Kusagi (20-39 yas) 2015',\n",
       "       'X Kusagi (40-54 yas) 2015',\n",
       "       'Baby Boomer/Geleneksel Kusak (+55 yas) 2015',\n",
       "       'Z Kusagi (0-19 yas) 2014 ', 'Y Kusagi (20-39 yas) 2014',\n",
       "       'X Kusagi (40-54 yas) 2014',\n",
       "       'Baby Boomer/Geleneksel Kusak (+55 yas) 2014', 'Ortalama Yas 2016',\n",
       "       'Ortalama Yas 2015', 'Ortalama Yas 2014', 'Yas Bagimlilik Orani 2016',\n",
       "       'Yas Bagimlilik Orani 2015', 'Yas Bagimlilik Orani 2014',\n",
       "       'Hic Evlenmeyenler 2016', 'Evli Olanlar 2016', 'Bosananlar 2016',\n",
       "       'Esi Olenler 2016', 'Hic Evlenmeyenler 2015', 'Evli Olanlar 2015',\n",
       "       'Bosananlar 2015', 'Esi Olenler 2015', 'Hic Evlenmeyenler 2014',\n",
       "       'Evli Olanlar 2014', 'Bosananlar 2014', 'Esi Olenler 2014',\n",
       "       'Yuzolcumu (km2)', 'Nufus Yogunlugu (1000 m2'ye dusen nufus)',\n",
       "       'Hane Halki Ortalama Buyuklugu 2016',\n",
       "       'Hane Halki Ortalama Buyuklugu 2015',\n",
       "       'Hane Halki Ortalama Buyuklugu 2014', 'Hanehalki Sayisi 2016',\n",
       "       'Hanehalki Sayisi 2015', 'Hanehalki Sayisi 2014'],\n",
       "      dtype='object')"
      ]
     },
     "execution_count": 235,
     "metadata": {},
     "output_type": "execute_result"
    }
   ],
   "source": [
    "# Explores the first 50 columns' names\n",
    "socio.columns[:50]"
   ]
  },
  {
   "cell_type": "code",
   "execution_count": 236,
   "metadata": {},
   "outputs": [],
   "source": [
    "# Picks those that will be used for analysis/feature engineering\n",
    "sub_list.extend(['2016 Toplam Nufus', '2016 Toplam Nufus (Erkek)', '2016 Toplam Nufus (Kadin)', '2015 Toplam Nufus', 'Z Kusagi (0-19 yas) 2016 ', 'Y Kusagi (20-39 yas) 2016', 'X Kusagi (40-54 yas) 2016', 'Ortalama Yas 2016', 'Ortalama Yas 2015', 'Hic Evlenmeyenler 2016', 'Evli Olanlar 2016', 'Bosananlar 2016', 'Yuzolcumu (km2)', 'Hane Halki Ortalama Buyuklugu 2016'])"
   ]
  },
  {
   "cell_type": "code",
   "execution_count": 237,
   "metadata": {},
   "outputs": [
    {
     "data": {
      "text/plain": [
       "Index(['Toplam Konut Sayisi 2016', 'Yazlik Sayisi 2016',\n",
       "       'Ozel Isyeri Sayisi 2016', 'Toplam Konut Sayisi 2015',\n",
       "       'Yazlik Sayisi 2015', 'Ozel Isyeri Sayisi 2015',\n",
       "       'Toplam Konut Sayisi 2014', 'Yazlik Sayisi 2014',\n",
       "       'Ozel Isyeri Sayisi 2014', 'Bilinmeyen 2016', 'Okur Yazar Degil 2016',\n",
       "       'Okur Yazar Fakat Bir Okul Bitirmeyen 2016', 'Ilkokul Mezunu 2016',\n",
       "       'Ilkogretim Mezunu 2016', 'Ortaokul Mezunu 2016', 'Lise Mezunu 2016',\n",
       "       'Universite Mezunu 2016', 'Yuksek Lisans Mezunu 2016',\n",
       "       'Doktora Mezunu 2016', 'Bilinmeyen 2015', 'Okur Yazar Degil 2015',\n",
       "       'Okur Yazar Fakat Bir Okul Bitirmeyen 2015', 'Ilkokul Mezunu 2015',\n",
       "       'Ilkogretim Mezunu 2015', 'Ortaokul Mezunu 2015', 'Lise Mezunu 2015',\n",
       "       'Universite Mezunu 2015', 'Yuksek Lisans Mezunu 2015',\n",
       "       'Doktora Mezunu 2015', 'Bilinmeyen 2014', 'Okur Yazar Degil 2014',\n",
       "       'Okur Yazar Fakat Bir Okul Bitirmeyen 2014', 'Ilkokul Mezunu 2014',\n",
       "       'Ilkogretim Mezunu 2014', 'Ortaokul Mezunu 2014', 'Lise Mezunu 2014',\n",
       "       'Universite Mezunu 2014', 'Yuksek Lisans Mezunu 2014',\n",
       "       'Doktora Mezunu 2014', 'Okur Yazar Orani 2016',\n",
       "       'Okuryazar Orani - Erkek 2016', 'Okuryazar Orani - Kadin 2016',\n",
       "       'Okur Yazar Orani 2015', 'Okur Yazar Orani 2014',\n",
       "       'Bin Kisi Icinde Toplam Universite Mezunu Sayisi 2016',\n",
       "       'Universite Mezunu Orani - Erkek 2016',\n",
       "       'Universite Mezunu Orani - Kadin 2016',\n",
       "       'Bin Kisi Icinde Toplam Universite Mezunu Sayisi 2015',\n",
       "       'Bin Kisi Icinde Toplam Universite Mezunu Sayisi 2014',\n",
       "       'Ortalama Egitim Suresi 2016'],\n",
       "      dtype='object')"
      ]
     },
     "execution_count": 237,
     "metadata": {},
     "output_type": "execute_result"
    }
   ],
   "source": [
    "# Explores columns\n",
    "socio.columns[50:100]"
   ]
  },
  {
   "cell_type": "code",
   "execution_count": 238,
   "metadata": {},
   "outputs": [],
   "source": [
    "# Picks useful ones\n",
    "sub_list.extend(['Toplam Konut Sayisi 2016', 'Ozel Isyeri Sayisi 2016', 'Ilkokul Mezunu 2016', 'Universite Mezunu 2016', 'Okuryazar Orani - Kadin 2016', 'Ortalama Egitim Suresi 2016'])"
   ]
  },
  {
   "cell_type": "code",
   "execution_count": 239,
   "metadata": {},
   "outputs": [
    {
     "data": {
      "text/plain": [
       "Index(['Ortalama Egitim Suresi - Erkek 2016',\n",
       "       'Ortalama Egitim Suresi - Kadin 2016', 'Ortalama Egitim Suresi 2015',\n",
       "       'Ortalama Egitim Suresi 2014', 'Ilkokul - Toplam Ogrenci Sayisi',\n",
       "       'Ilkokul - Toplam Sube Sayisi', 'Ilkokul - Toplam Ogretmen Sayisi',\n",
       "       'Ilkokul - Ogretmen Basina Dusen Ogrenci Sayisi',\n",
       "       'Ilkokul - Sube Basina Dusen Ogrenci Sayisi',\n",
       "       'Ortaokul - Toplam Ogrenci Sayisi', 'Ortaokul - Toplam Sube Sayisi',\n",
       "       'Ortaokul - Toplam Ogretmen Sayisi',\n",
       "       'Ortaokul - Ogretmen Basina Dusen Ogrenci Sayisi',\n",
       "       'Ortaokul - Sube Basina Dusen Ogrenci Sayisi',\n",
       "       'Lise - Toplam Ogrenci Sayisi', 'Lise - Toplam Sube Sayisi',\n",
       "       'Lise - Toplam Ogretmen Sayisi',\n",
       "       'Lise - Ogretmen Basina Dusen Ogrenci Sayisi',\n",
       "       'Lise - Sube Basina Dusen Ogrenci Sayisi',\n",
       "       'Toplam Ogrenci Sayisi (Ilk-Orta-Lise)', 'ASM Varligi',\n",
       "       'ASM Doktor Sayisi', 'ASM Saglik Personeli Sayisi',\n",
       "       'ASM Doktor Basina Ortalama Muayene Sayisi', 'Kamu Hastanesi Varligi',\n",
       "       'Ozel Hastane Varligi', 'Universite Hastanesi Varligi',\n",
       "       'Kultur Sanat Merkezi Varligi', 'Sinema Varligi', 'Tiyatro Varligi',\n",
       "       'Kultur Envanteri Sayisi', 'Dogalgaz Abone Sayisi 2017 ',\n",
       "       'Dogalgaz Kullanici Sayisi 2017', 'Dogalgaz Abone Sayisi/Nufus 2017',\n",
       "       'Dogalgaz Kullanici Sayisi/Nufus 2017', 'Su Ariza Sayisi 2016 ',\n",
       "       'Su Ariza Suresi (Saat) 2016', 'Su Ariza Sayisi 2015',\n",
       "       'Su Ariza Suresi (Saat) 2015', 'Su Ariza Sayisi 2014',\n",
       "       'Su Ariza Suresi (Saat) 2014', 'Toplam Durak Sayisi',\n",
       "       'Metro Durak Sayisi', 'Metrobus Durak Sayisi', 'Tramvay Durak Sayisi',\n",
       "       'Supermarket Sayisi 2017', 'Minimarket Sayisi 2017',\n",
       "       'Market Yogunluk Endeksi 2017', 'AVM Sayisi 2017',\n",
       "       'Pazar Yeri Sayi 2017'],\n",
       "      dtype='object')"
      ]
     },
     "execution_count": 239,
     "metadata": {},
     "output_type": "execute_result"
    }
   ],
   "source": [
    "# Explores columns\n",
    "socio.columns[100:150]"
   ]
  },
  {
   "cell_type": "code",
   "execution_count": 240,
   "metadata": {},
   "outputs": [],
   "source": [
    "# Picks useful ones\n",
    "sub_list.extend(['ASM Varligi', 'Ozel Hastane Varligi', 'Kultur Sanat Merkezi Varligi', 'Sinema Varligi', 'Tiyatro Varligi', 'Dogalgaz Kullanici Sayisi/Nufus 2017', 'Su Ariza Suresi (Saat) 2016', 'Metro Durak Sayisi', 'Market Yogunluk Endeksi 2017', 'AVM Sayisi 2017', 'Pazar Yeri Sayi 2017'])"
   ]
  },
  {
   "cell_type": "code",
   "execution_count": 241,
   "metadata": {},
   "outputs": [
    {
     "data": {
      "text/plain": [
       "Index(['Universite Yerleske Sayisi 2017', 'Banka Sube Sayisi 2017',\n",
       "       'Banka Cesitliligi 2017', 'Banka Sube Basina Dusen Nufus 2017',\n",
       "       'Satilik Konut Bedeli (m2 TL) 2017',\n",
       "       'Kiralik Konut Bedeli (m2 TL) 2017',\n",
       "       'Satilik Konut Bedeli Degisimi (3 yil)',\n",
       "       'Kiralik Konut Bedeli Degisimi (3 yil)', 'district', 'nbhd', 'nbhd_id',\n",
       "       'Total Population 2017', 'Total Population 2018',\n",
       "       'Total Population 2019'],\n",
       "      dtype='object')"
      ]
     },
     "execution_count": 241,
     "metadata": {},
     "output_type": "execute_result"
    }
   ],
   "source": [
    "# Explores columns\n",
    "socio.columns[150:]"
   ]
  },
  {
   "cell_type": "code",
   "execution_count": 242,
   "metadata": {},
   "outputs": [],
   "source": [
    "# Picks useful ones\n",
    "sub_list.extend(['Kiralik Konut Bedeli (m2 TL) 2017','Satilik Konut Bedeli (m2 TL) 2017'])"
   ]
  },
  {
   "cell_type": "code",
   "execution_count": 243,
   "metadata": {},
   "outputs": [],
   "source": [
    "# Adds the identification column names to the list-to-filter\n",
    "sub_list = ['nbhd_id','district','nbhd'] + sub_list + ['Total Population 2017','Total Population 2018','Total Population 2019']"
   ]
  },
  {
   "cell_type": "code",
   "execution_count": 244,
   "metadata": {},
   "outputs": [],
   "source": [
    "# Filters df to keep only the necessary columns\n",
    "socio_filtered = socio[sub_list]"
   ]
  },
  {
   "cell_type": "code",
   "execution_count": 245,
   "metadata": {},
   "outputs": [],
   "source": [
    "# Initiates list for filtering rows\n",
    "rows_to_ignore = list()"
   ]
  },
  {
   "cell_type": "code",
   "execution_count": 246,
   "metadata": {},
   "outputs": [],
   "source": [
    "# Sile, Catalca and Silivri are the three rural districts of Istanbul\n",
    "# Most places that are officially listed as neighborhoods in these districts are in fact villages\n",
    "# I hypothesize that villages (both with their small population and lack of diversity) do not increase the extent of our statistical analyses \n",
    "# Hence, only the neighborhoods at the city center of these district (the lists below) are kept\n",
    "sile_merkez = ['BALIBEY', 'CAVUS', 'CAYIRBASI', 'HACI KASIM', 'KUMBABA']\n",
    "catalca_merkez = ['FERHATPASA', 'KALEICI']\n",
    "silivri_merkez = ['SELIMPASA', 'KAVAKLI', 'HURRIYET', 'YENI', 'CUMHURIYET', 'ALIBEY', 'FATIH', 'PIRI MEHMET PASA', 'MIMAR SINAN', 'SEMIZKUMLAR']"
   ]
  },
  {
   "cell_type": "code",
   "execution_count": 247,
   "metadata": {},
   "outputs": [],
   "source": [
    "# Adds the non-central neighborhoods' (villages') nbhd_id's to the rows_to_ignore list\n",
    "for row in nbhds[(nbhds['district'] == 'SILE')].itertuples():\n",
    "    if row[2] not in sile_merkez: \n",
    "        rows_to_ignore.append(row[4])\n",
    "        \n",
    "for row in nbhds[(nbhds['district'] == 'CATALCA')].itertuples():\n",
    "    if row[2] not in catalca_merkez: \n",
    "        rows_to_ignore.append(row[4])\n",
    "        \n",
    "for row in nbhds[(nbhds['district'] == 'SILIVRI')].itertuples():\n",
    "    if row[2] not in silivri_merkez: \n",
    "        rows_to_ignore.append(row[4])"
   ]
  },
  {
   "cell_type": "code",
   "execution_count": 248,
   "metadata": {},
   "outputs": [],
   "source": [
    "# Retains only the non-village neighborhoods in the filtered df socio_filtered\n",
    "socio_filtered = socio_filtered[~socio_filtered['nbhd_id'].isin(rows_to_ignore)]"
   ]
  },
  {
   "cell_type": "code",
   "execution_count": 249,
   "metadata": {},
   "outputs": [],
   "source": [
    "# Filters neighborhoods with population above 500, for stable and generizable statistical analyses\n",
    "socio_filtered = socio_filtered[socio_filtered['Total Population 2019'] > 500]"
   ]
  },
  {
   "cell_type": "code",
   "execution_count": 250,
   "metadata": {},
   "outputs": [
    {
     "name": "stdout",
     "output_type": "stream",
     "text": [
      "<class 'pandas.core.frame.DataFrame'>\n",
      "Int64Index: 804 entries, 0 to 958\n",
      "Data columns (total 39 columns):\n",
      " #   Column                                Non-Null Count  Dtype  \n",
      "---  ------                                --------------  -----  \n",
      " 0   nbhd_id                               804 non-null    int64  \n",
      " 1   district                              804 non-null    object \n",
      " 2   nbhd                                  804 non-null    object \n",
      " 3   2016 Toplam Nufus                     804 non-null    object \n",
      " 4   2016 Toplam Nufus (Erkek)             804 non-null    object \n",
      " 5   2016 Toplam Nufus (Kadin)             804 non-null    object \n",
      " 6   2015 Toplam Nufus                     804 non-null    float64\n",
      " 7   Z Kusagi (0-19 yas) 2016              804 non-null    object \n",
      " 8   Y Kusagi (20-39 yas) 2016             804 non-null    object \n",
      " 9   X Kusagi (40-54 yas) 2016             804 non-null    object \n",
      " 10  Ortalama Yas 2016                     804 non-null    object \n",
      " 11  Ortalama Yas 2015                     804 non-null    object \n",
      " 12  Hic Evlenmeyenler 2016                804 non-null    object \n",
      " 13  Evli Olanlar 2016                     804 non-null    object \n",
      " 14  Bosananlar 2016                       804 non-null    object \n",
      " 15  Yuzolcumu (km2)                       804 non-null    float64\n",
      " 16  Hane Halki Ortalama Buyuklugu 2016    804 non-null    object \n",
      " 17  Toplam Konut Sayisi 2016              804 non-null    float64\n",
      " 18  Ozel Isyeri Sayisi 2016               804 non-null    float64\n",
      " 19  Ilkokul Mezunu 2016                   804 non-null    object \n",
      " 20  Universite Mezunu 2016                804 non-null    object \n",
      " 21  Okuryazar Orani - Kadin 2016          804 non-null    object \n",
      " 22  Ortalama Egitim Suresi 2016           804 non-null    object \n",
      " 23  ASM Varligi                           804 non-null    float64\n",
      " 24  Ozel Hastane Varligi                  804 non-null    float64\n",
      " 25  Kultur Sanat Merkezi Varligi          804 non-null    float64\n",
      " 26  Sinema Varligi                        804 non-null    float64\n",
      " 27  Tiyatro Varligi                       804 non-null    float64\n",
      " 28  Dogalgaz Kullanici Sayisi/Nufus 2017  800 non-null    float64\n",
      " 29  Su Ariza Suresi (Saat) 2016           802 non-null    float64\n",
      " 30  Metro Durak Sayisi                    804 non-null    float64\n",
      " 31  Market Yogunluk Endeksi 2017          804 non-null    float64\n",
      " 32  AVM Sayisi 2017                       804 non-null    float64\n",
      " 33  Pazar Yeri Sayi 2017                  804 non-null    float64\n",
      " 34  Kiralik Konut Bedeli (m2 TL) 2017     804 non-null    float64\n",
      " 35  Satilik Konut Bedeli (m2 TL) 2017     804 non-null    float64\n",
      " 36  Total Population 2017                 804 non-null    int64  \n",
      " 37  Total Population 2018                 804 non-null    int64  \n",
      " 38  Total Population 2019                 804 non-null    int64  \n",
      "dtypes: float64(17), int64(4), object(18)\n",
      "memory usage: 251.2+ KB\n"
     ]
    }
   ],
   "source": [
    "# We see that only a few null entries exist, so we can safely drop them and work with the remaining ones\n",
    "socio_filtered.info()"
   ]
  },
  {
   "cell_type": "code",
   "execution_count": 251,
   "metadata": {},
   "outputs": [
    {
     "data": {
      "text/plain": [
       "798"
      ]
     },
     "execution_count": 251,
     "metadata": {},
     "output_type": "execute_result"
    }
   ],
   "source": [
    "socio_filtered = socio_filtered.dropna()\n",
    "socio_filtered = socio_filtered.reset_index()\n",
    "len(socio_filtered)"
   ]
  },
  {
   "cell_type": "code",
   "execution_count": 252,
   "metadata": {},
   "outputs": [
    {
     "data": {
      "text/plain": [
       "district\n",
       "ADALAR            5\n",
       "ARNAVUTKOY       36\n",
       "ATASEHIR         17\n",
       "AVCILAR          10\n",
       "BAGCILAR         22\n",
       "BAHCELIEVLER     11\n",
       "BAKIRKOY         15\n",
       "BASAKSEHIR       10\n",
       "BAYRAMPASA       11\n",
       "BESIKTAS         23\n",
       "BEYKOZ           41\n",
       "BEYLIKDUZU       10\n",
       "BEYOGLU          37\n",
       "BUYUKCEKMECE     23\n",
       "CATALCA           2\n",
       "CEKMEKOY         21\n",
       "ESENLER          16\n",
       "ESENYURT         43\n",
       "EYUPSULTAN       23\n",
       "FATIH            40\n",
       "GAZIOSMANPASA    16\n",
       "GUNGOREN         11\n",
       "KADIKOY          21\n",
       "KAGITHANE        19\n",
       "KARTAL           19\n",
       "KUCUKCEKMECE     21\n",
       "MALTEPE          18\n",
       "PENDIK           35\n",
       "SANCAKTEPE       19\n",
       "SARIYER          35\n",
       "SILE              5\n",
       "SILIVRI          10\n",
       "SISLI            25\n",
       "SULTANBEYLI      15\n",
       "SULTANGAZI       15\n",
       "TUZLA            17\n",
       "UMRANIYE         35\n",
       "USKUDAR          33\n",
       "ZEYTINBURNU      13\n",
       "Name: nbhd, dtype: int64"
      ]
     },
     "execution_count": 252,
     "metadata": {},
     "output_type": "execute_result"
    }
   ],
   "source": [
    "# Prints out the number of neighbors per district in the filtered dataset\n",
    "## Almost all districts have a sufficient number of neighborhoods\n",
    "## Only exceptions are the rural districts --discussed earlier-- and the smallest, which is a set of islands: \"Adalar\"\n",
    "## Hence we can conclude that our data cleaning did not result in a dataset that overrepresents any district\n",
    "socio_filtered.groupby('district')['nbhd'].count()"
   ]
  },
  {
   "cell_type": "code",
   "execution_count": 306,
   "metadata": {},
   "outputs": [],
   "source": [
    "quartile_1 = np.quantile(socio_filtered['Total Population 2019'], .25)\n",
    "quartile_2 = np.quantile(socio_filtered['Total Population 2019'], .5)\n",
    "quartile_3 = np.quantile(socio_filtered['Total Population 2019'], .75)"
   ]
  },
  {
   "cell_type": "code",
   "execution_count": 315,
   "metadata": {},
   "outputs": [],
   "source": [
    "quartile_counts = dict()\n",
    "\n",
    "for dist in socio_filtered['district'].unique():\n",
    "    \n",
    "    socio_sub = socio_filtered[socio_filtered['district']==dist]\n",
    "    \n",
    "    quartile_counts[dist] = [len(socio_sub[socio_sub['Total Population 2019'] <= quartile_1]),\n",
    "                             len(socio_sub[(quartile_1 < socio_sub['Total Population 2019']) & \n",
    "                                           (socio_sub['Total Population 2019'] <= quartile_2)]),\n",
    "                             len(socio_sub[(quartile_2 < socio_sub['Total Population 2019']) & \n",
    "                                           (socio_sub['Total Population 2019'] <= quartile_3)]),\n",
    "                             len(socio_sub[socio_sub['Total Population 2019'] >  quartile_3])]"
   ]
  },
  {
   "cell_type": "code",
   "execution_count": 316,
   "metadata": {},
   "outputs": [
    {
     "data": {
      "text/plain": [
       "{'ADALAR': [5, 0, 0, 0],\n",
       " 'ARNAVUTKOY': [21, 10, 4, 1],\n",
       " 'ATASEHIR': [0, 7, 2, 8],\n",
       " 'AVCILAR': [0, 0, 2, 8],\n",
       " 'BAGCILAR': [0, 0, 8, 14],\n",
       " 'BAHCELIEVLER': [0, 0, 1, 10],\n",
       " 'BAKIRKOY': [5, 4, 4, 2],\n",
       " 'BASAKSEHIR': [1, 0, 1, 8],\n",
       " 'BAYRAMPASA': [0, 4, 3, 4],\n",
       " 'BESIKTAS': [14, 7, 2, 0],\n",
       " 'BEYKOZ': [30, 7, 4, 0],\n",
       " 'BEYLIKDUZU': [1, 1, 3, 5],\n",
       " 'BEYOGLU': [25, 10, 2, 0],\n",
       " 'BUYUKCEKMECE': [10, 6, 7, 0],\n",
       " 'CATALCA': [0, 1, 1, 0],\n",
       " 'CEKMEKOY': [6, 8, 5, 2],\n",
       " 'ESENLER': [2, 1, 3, 10],\n",
       " 'ESENYURT': [2, 8, 21, 12],\n",
       " 'EYUPSULTAN': [6, 8, 3, 6],\n",
       " 'FATIH': [15, 11, 12, 2],\n",
       " 'GAZIOSMANPASA': [0, 2, 6, 8],\n",
       " 'GUNGOREN': [0, 2, 5, 4],\n",
       " 'KADIKOY': [0, 8, 5, 8],\n",
       " 'KAGITHANE': [0, 5, 7, 7],\n",
       " 'KARTAL': [0, 6, 4, 9],\n",
       " 'KUCUKCEKMECE': [1, 5, 2, 13],\n",
       " 'MALTEPE': [0, 4, 8, 6],\n",
       " 'PENDIK': [8, 10, 6, 11],\n",
       " 'SANCAKTEPE': [2, 0, 13, 4],\n",
       " 'SARIYER': [16, 13, 5, 1],\n",
       " 'SILE': [4, 1, 0, 0],\n",
       " 'SILIVRI': [3, 3, 2, 2],\n",
       " 'SISLI': [7, 12, 6, 0],\n",
       " 'SULTANBEYLI': [0, 2, 8, 5],\n",
       " 'SULTANGAZI': [1, 4, 0, 10],\n",
       " 'TUZLA': [7, 3, 4, 3],\n",
       " 'UMRANIYE': [2, 11, 14, 8],\n",
       " 'USKUDAR': [4, 14, 11, 4],\n",
       " 'ZEYTINBURNU': [2, 1, 5, 5]}"
      ]
     },
     "execution_count": 316,
     "metadata": {},
     "output_type": "execute_result"
    }
   ],
   "source": [
    "quartile_counts"
   ]
  },
  {
   "cell_type": "code",
   "execution_count": 320,
   "metadata": {},
   "outputs": [],
   "source": [
    "bars_1 = [l[0] for l in quartile_counts.values()]\n",
    "bars_2 = [l[1] for l in quartile_counts.values()]\n",
    "bars_3 = [l[2] for l in quartile_counts.values()]\n",
    "bars_4 = [l[3] for l in quartile_counts.values()]"
   ]
  },
  {
   "cell_type": "code",
   "execution_count": 323,
   "metadata": {},
   "outputs": [],
   "source": [
    "bars_3_left = [x + y for (x,y) in zip(bars_1,bars_2)]\n",
    "bars_4_left = [x + y + z for (x,y,z) in zip(bars_1,bars_2,bars_3)]"
   ]
  },
  {
   "cell_type": "code",
   "execution_count": 413,
   "metadata": {
    "scrolled": false
   },
   "outputs": [
    {
     "data": {
      "image/png": "[encoded data removed]",
      "text/plain": [
       "<Figure size 1080x2880 with 1 Axes>"
      ]
     },
     "metadata": {},
     "output_type": "display_data"
    }
   ],
   "source": [
    "districts = socio_filtered['district'].unique()\n",
    "\n",
    "fig,ax = plt.subplots()\n",
    "fig.set_size_inches(15,40)\n",
    "\n",
    "ax.barh(np.arange(len(districts)), bars_1, color=\"#B0DCE8\", edgecolor=None)\n",
    "patch1 = mpatches.Patch(color=\"#B0DCE8\", label='Less than %i' %quartile_1)\n",
    "\n",
    "ax.barh(np.arange(len(districts)), bars_2, left=bars_1, color=\"#FCEC92\", edgecolor=None)\n",
    "patch2 = mpatches.Patch(color=\"#FCEC92\", label='%i – %i' %(quartile_1,quartile_2))\n",
    "\n",
    "ax.barh(np.arange(len(districts)), bars_3, left=bars_3_left, color=\"#FBAA6A\", edgecolor=None)\n",
    "patch3 = mpatches.Patch(color=\"#FBAA6A\", label='%i – %i' %(quartile_2,quartile_3))\n",
    "\n",
    "ax.barh(np.arange(len(districts)), bars_4, left=bars_4_left, color=\"#EC6A52\", edgecolor=None)\n",
    "patch4 = mpatches.Patch(color=\"#EC6A52\", label='More than %i' %quartile_3)\n",
    "\n",
    "ax.set_yticks(np.arange(len(districts)))\n",
    "ax.set_yticklabels([d.title() for d in districts], fontsize=FONT_SM)\n",
    "ax.set_ylabel('Districts', fontsize=FONT_MED)\n",
    "\n",
    "ax.legend(handles=[patch1,patch2,patch3,patch4], \n",
    "          ncol=4,\n",
    "          loc='upper center', \n",
    "          bbox_to_anchor=(0.5, .891),\n",
    "          bbox_transform=plt.gcf().transFigure,\n",
    "          fontsize=FONT_SM)\n",
    "\n",
    "plt.ylim([-.75,np.arange(len(districts)).size - .25])\n",
    "plt.title('Number of Neighborhoods with Population in Q1, Q2, Q3, and Q4 of the Overall Distribution', \n",
    "          pad=50,\n",
    "          fontsize=FONT_LG)\n",
    "plt.show()"
   ]
  },
  {
   "cell_type": "code",
   "execution_count": 253,
   "metadata": {},
   "outputs": [],
   "source": [
    "# Function that calculates rate of change from previous year to next\n",
    "def rate_of_change(prev_yr, next_yr):\n",
    "    return (next_yr - prev_yr) / prev_yr"
   ]
  },
  {
   "cell_type": "code",
   "execution_count": 254,
   "metadata": {},
   "outputs": [],
   "source": [
    "# Creates population change features for the years that exist in our dataset\n",
    "\n",
    "## Population Change for 1-Year Intervals\n",
    "socio_filtered['pop change 15-16'] = rate_of_change(socio_filtered['2015 Toplam Nufus'],\n",
    "                                                    socio_filtered['2016 Toplam Nufus'])\n",
    "\n",
    "socio_filtered['pop change 16-17'] = rate_of_change(socio_filtered['2016 Toplam Nufus'],\n",
    "                                                    socio_filtered['Total Population 2017'])\n",
    "\n",
    "socio_filtered['pop change 17-18'] = rate_of_change(socio_filtered['Total Population 2017'],\n",
    "                                                    socio_filtered['Total Population 2018'])\n",
    "\n",
    "socio_filtered['pop change 18-19'] = rate_of_change(socio_filtered['Total Population 2018'],\n",
    "                                                    socio_filtered['Total Population 2019'])\n",
    "\n",
    "## Population Change for 2-Year Intervals\n",
    "socio_filtered['pop change 15-17'] = rate_of_change(socio_filtered['2015 Toplam Nufus'],\n",
    "                                                    socio_filtered['Total Population 2017'])\n",
    "\n",
    "socio_filtered['pop change 17-19'] = rate_of_change(socio_filtered['Total Population 2017'],\n",
    "                                                    socio_filtered['Total Population 2019'])\n",
    "\n",
    "## Population Change for 4-Year Interval\n",
    "socio_filtered['pop change 15-19'] = rate_of_change(socio_filtered['2015 Toplam Nufus'],\n",
    "                                                    socio_filtered['Total Population 2019'])"
   ]
  },
  {
   "cell_type": "code",
   "execution_count": 94,
   "metadata": {},
   "outputs": [],
   "source": [
    "# Creates subsets of the df with only population change features, for visualizations at the next step\n",
    "pop_change = [col for col in socio_filtered.columns if 'pop change' in col]\n",
    "pop_change_1_year = pop_change[0:4]\n",
    "pop_change_2_year = pop_change[4:6]\n",
    "pop_change_4_year = pop_change[-1]"
   ]
  },
  {
   "cell_type": "code",
   "execution_count": 160,
   "metadata": {},
   "outputs": [
    {
     "data": {
      "image/png": "[encoded data removed]",
      "text/plain": [
       "<Figure size 1440x2160 with 3 Axes>"
      ]
     },
     "metadata": {},
     "output_type": "display_data"
    }
   ],
   "source": [
    "# Creates boxplots of Population Change features, to see their distributions over the intervals\n",
    "fig, axes = plt.subplots(nrows=3, figsize=(20,30))\n",
    "\n",
    "sns.boxplot(ax=axes[0], data=socio_filtered[pop_change_1_year], orient='h')\n",
    "axes[0].set_ylabel('Population Change Interval: 1 Year',fontsize=FONT_MED)\n",
    "axes[0].set_yticklabels([\"'15 to '16\",\"'16 to '17\",\"'17 to '18\",\"'18 to '19\"], fontsize=FONT_SM)\n",
    "axes[0].set_xlabel('Rate of Change',fontsize=FONT_MED)\n",
    "plt.setp(axes[0].get_xticklabels(),fontsize=FONT_SM)\n",
    "\n",
    "sns.boxplot(ax=axes[1], data=socio_filtered[pop_change_2_year], orient='h')\n",
    "axes[1].set_ylabel('Population Change Interval: 2 Years',fontsize=FONT_MED)\n",
    "axes[1].set_yticklabels([\"'15 to '17\",\"'17 to '19\"])\n",
    "axes[1].set_xlabel('Rate of Change',fontsize=FONT_MED)\n",
    "plt.setp(axes[1].get_xticklabels(),fontsize=FONT_SM)\n",
    "\n",
    "sns.boxplot(ax=axes[2], data=socio_filtered[pop_change_4_year], orient='h')\n",
    "axes[2].set_ylabel('Population Change Interval: 4 Years',fontsize=FONT_MED)\n",
    "axes[2].set_yticklabels([\"'15 to '19\"])\n",
    "axes[2].set_xlabel('Rate of Change',fontsize=FONT_MED)\n",
    "plt.setp(axes[2].get_xticklabels(),fontsize=FONT_SM)\n",
    "\n",
    "plt.suptitle('Box Plot of Population Change Rate, in 1,2 and 4 year Intervals', y=.91, size=FONT_LG)\n",
    "plt.subplots_adjust(hspace=.2)\n",
    "plt.show()"
   ]
  },
  {
   "cell_type": "code",
   "execution_count": 255,
   "metadata": {},
   "outputs": [],
   "source": [
    "# Drops total population features except the most recent one, since keeping them would result in multicollinearity\n",
    "socio_filtered = socio_filtered.drop(columns=['2015 Toplam Nufus',\n",
    "                                              '2016 Toplam Nufus',\n",
    "                                              'Total Population 2017',\n",
    "                                              'Total Population 2018'])"
   ]
  },
  {
   "cell_type": "code",
   "execution_count": 256,
   "metadata": {},
   "outputs": [],
   "source": [
    "# Creates a feature for female population per male population\n",
    "socio_filtered['women:men'] = socio_filtered['2016 Toplam Nufus (Kadin)'] / socio_filtered['2016 Toplam Nufus (Erkek)']"
   ]
  },
  {
   "cell_type": "code",
   "execution_count": 257,
   "metadata": {},
   "outputs": [],
   "source": [
    "# Drops gender population features; they would likely be multicollinear with each other, and total population\n",
    "socio_filtered = socio_filtered.drop(columns=['2016 Toplam Nufus (Kadin)', '2016 Toplam Nufus (Erkek)'])"
   ]
  },
  {
   "cell_type": "code",
   "execution_count": 258,
   "metadata": {},
   "outputs": [],
   "source": [
    "# Creates rate of change feature for average age\n",
    "socio_filtered['avg age change 15-16'] = rate_of_change(socio_filtered['Ortalama Yas 2015'],\n",
    "                                                        socio_filtered['Ortalama Yas 2016'])"
   ]
  },
  {
   "cell_type": "code",
   "execution_count": 259,
   "metadata": {},
   "outputs": [],
   "source": [
    "# Drops the older average age feature\n",
    "socio_filtered = socio_filtered.drop(columns=['Ortalama Yas 2015'])"
   ]
  },
  {
   "cell_type": "code",
   "execution_count": 261,
   "metadata": {},
   "outputs": [],
   "source": [
    "# Calculates population density\n",
    "socio_filtered['population density per km2'] = socio_filtered['Total Population 2019'] /\\\n",
    "                                               socio_filtered['Yuzolcumu (km2)']"
   ]
  },
  {
   "cell_type": "code",
   "execution_count": 303,
   "metadata": {},
   "outputs": [],
   "source": []
  },
  {
   "cell_type": "code",
   "execution_count": 304,
   "metadata": {},
   "outputs": [
    {
     "data": {
      "image/png": "[encoded data removed]",
      "text/plain": [
       "<Figure size 864x648 with 1 Axes>"
      ]
     },
     "metadata": {},
     "output_type": "display_data"
    }
   ],
   "source": [
    "linear_relationship(socio_filtered, 'Total Population 2019', 'Toplam Konut Sayisi 2016',\n",
    "                    'Total Number of Residences vs. Total Population', \n",
    "                    'Total Population (2019)', 'Total Number of Residences (2016)', 82000, 2500)"
   ]
  },
  {
   "cell_type": "code",
   "execution_count": 417,
   "metadata": {},
   "outputs": [],
   "source": [
    "# 'Total Number of Residences' feature and 'Total Population' are highly correlated\n",
    "# Hence, a new feature that reduces multicollinearity is engineered\n",
    "socio_filtered['Residential/Work'] = socio_filtered['Toplam Konut Sayisi 2016'] /\\\n",
    "                                     socio_filtered['Ozel Isyeri Sayisi 2016']"
   ]
  },
  {
   "cell_type": "code",
   "execution_count": 416,
   "metadata": {},
   "outputs": [
    {
     "data": {
      "image/png": "[encoded data removed]",
      "text/plain": [
       "<Figure size 864x648 with 1 Axes>"
      ]
     },
     "metadata": {},
     "output_type": "display_data"
    }
   ],
   "source": [
    "linear_relationship(socio_filtered, 'population density per km2', 'Residences Density',\n",
    "                    'Residences Density (2016) vs. Population Density (2019)', \n",
    "                    'Population Density (per km)', 'Residences Density (2016)', 82000, 2500)"
   ]
  },
  {
   "cell_type": "code",
   "execution_count": null,
   "metadata": {},
   "outputs": [],
   "source": [
    "linear_relationship(socio_filtered, 'Total Population 2019', 'Residences Density',\n",
    "                    'Residences Density vs. Total Population', \n",
    "                    'Total Population (2019)', 'Residences Density (2016)', 82000, 2500)"
   ]
  },
  {
   "cell_type": "code",
   "execution_count": 62,
   "metadata": {},
   "outputs": [],
   "source": [
    "# Drops 'total number of residences' and 'total land area' feature\n",
    "socio_filtered = socio_filtered.drop(columns=['Toplam Konut Sayisi 2016','Yuzolcumu (km2)'])"
   ]
  },
  {
   "cell_type": "code",
   "execution_count": 63,
   "metadata": {},
   "outputs": [],
   "source": [
    "# Three binary features (existence of cultural centers, movie theaters, and playhouses) exist in our dataset\n",
    "# Creates an overall 'cultural' featur by summing the three\n",
    "socio_filtered['cultural'] = socio_filtered['Kultur Sanat Merkezi Varligi'] + socio_filtered['Sinema Varligi'] + socio_filtered['Tiyatro Varligi']"
   ]
  },
  {
   "cell_type": "code",
   "execution_count": 64,
   "metadata": {},
   "outputs": [],
   "source": [
    "# Combines those have 3 and 2 on 'cultural' column, as 3's are very few\n",
    "socio_filtered['cultural'] = socio_filtered['cultural'].replace(3,2)"
   ]
  },
  {
   "cell_type": "code",
   "execution_count": 63,
   "metadata": {},
   "outputs": [],
   "source": [
    "# Creates two features for high and medium number of cultural & arts centers\n",
    "# Does not create a third feature for low, to avoid multicollinearity\n",
    "socio_filtered['cultural high'] = 0\n",
    "socio_filtered['cultural med'] = 0\n",
    "\n",
    "for i in range(len(socio_filtered)):\n",
    "    if socio_filtered.loc[i,'cultural'] == 2:\n",
    "        socio_filtered.at[i,'cultural high'] = 1\n",
    "    elif socio_filtered.loc[i,'cultural'] == 1:\n",
    "        socio_filtered.at[i,'cultural med'] = 1"
   ]
  },
  {
   "cell_type": "code",
   "execution_count": 64,
   "metadata": {},
   "outputs": [],
   "source": [
    "# Drops columns that are no longer needed\n",
    "socio_filtered = socio_filtered.drop(columns=['cultural', 'Kultur Sanat Merkezi Varligi', 'Sinema Varligi', 'Tiyatro Varligi'])"
   ]
  },
  {
   "cell_type": "code",
   "execution_count": 65,
   "metadata": {},
   "outputs": [
    {
     "data": {
      "text/plain": [
       "array([0., 1., 2., 3., 5., 4.])"
      ]
     },
     "execution_count": 65,
     "metadata": {},
     "output_type": "execute_result"
    }
   ],
   "source": [
    "# Checks the unique values in the 'number of subway stations' feature\n",
    "socio_filtered['Metro Durak Sayisi'].unique()"
   ]
  },
  {
   "cell_type": "code",
   "execution_count": 66,
   "metadata": {},
   "outputs": [],
   "source": [
    "# Since only a few neighborhoods have any stations, the feature is turned into a binary one (station exists or not)\n",
    "socio_filtered['Metro Durak Sayisi'] = socio_filtered['Metro Durak Sayisi'].replace({5:1, 4:1, 3:1, 2:1})"
   ]
  },
  {
   "cell_type": "code",
   "execution_count": 67,
   "metadata": {},
   "outputs": [
    {
     "data": {
      "text/plain": [
       "array([0., 1., 3., 2., 4.])"
      ]
     },
     "execution_count": 67,
     "metadata": {},
     "output_type": "execute_result"
    }
   ],
   "source": [
    "# Checks the unique values in the 'number of shopping malls' feature\n",
    "socio_filtered['AVM Sayisi 2017'].unique()"
   ]
  },
  {
   "cell_type": "code",
   "execution_count": 68,
   "metadata": {},
   "outputs": [],
   "source": [
    "# Similarly, number of shopping malls feature is turned into a binary one\n",
    "socio_filtered['AVM Sayisi 2017'] = socio_filtered['AVM Sayisi 2017'].replace({4:1, 3:1, 2:1})"
   ]
  },
  {
   "cell_type": "code",
   "execution_count": 69,
   "metadata": {},
   "outputs": [
    {
     "data": {
      "text/plain": [
       "0.0     421\n",
       "1.0     306\n",
       "2.0      47\n",
       "3.0      10\n",
       "5.0       5\n",
       "4.0       4\n",
       "6.0       2\n",
       "8.0       1\n",
       "11.0      1\n",
       "9.0       1\n",
       "Name: Pazar Yeri Sayi 2017, dtype: int64"
      ]
     },
     "execution_count": 69,
     "metadata": {},
     "output_type": "execute_result"
    }
   ],
   "source": [
    "# Once again, the feature 'number of bazaar places' is 0 for most observations in our dataset\n",
    "socio_filtered['Pazar Yeri Sayi 2017'].value_counts()"
   ]
  },
  {
   "cell_type": "code",
   "execution_count": 70,
   "metadata": {},
   "outputs": [],
   "source": [
    "# Turns the 'number of bazaar places' feature into binary\n",
    "not_zero = [int(i) for i in socio_filtered['Pazar Yeri Sayi 2017'].unique() if i != 0 and i != 1]\n",
    "\n",
    "replace_dict = dict()\n",
    "for k in not_zero:\n",
    "    replace_dict[k] = 1\n",
    "\n",
    "socio_filtered['Pazar Yeri Sayi 2017'] = socio_filtered['Pazar Yeri Sayi 2017'].replace(replace_dict)"
   ]
  },
  {
   "cell_type": "code",
   "execution_count": 71,
   "metadata": {},
   "outputs": [],
   "source": [
    "# Real estate measure is created, average of Price of Houses for Sale and Houses for Rent features both on a scale (1-10)\n",
    "socio_filtered['real estate'] = (socio_filtered['Satilik Konut Bedeli (m2 TL) 2017'] + socio_filtered['Kiralik Konut Bedeli (m2 TL) 2017']) / 2"
   ]
  },
  {
   "cell_type": "code",
   "execution_count": 72,
   "metadata": {},
   "outputs": [],
   "source": [
    "# Divides the real estate into three categories, and keeps two of them as features\n",
    "socio_filtered['real estate low'] = 0\n",
    "socio_filtered['real estate high'] = 0\n",
    "\n",
    "for i in range(len(socio_filtered)):\n",
    "    if socio_filtered.loc[i,'real estate'] >= 6.5:\n",
    "        socio_filtered.at[i,'real estate high'] = 1\n",
    "    # Does not include 0s since 0 has been assigned to neighborhoods without any houses for sale/rent\n",
    "    elif 4 > socio_filtered.loc[i,'real estate'] > 0:\n",
    "        socio_filtered.at[i,'real estate low'] = 1"
   ]
  },
  {
   "cell_type": "code",
   "execution_count": 73,
   "metadata": {},
   "outputs": [],
   "source": [
    "# Drops the features we no longer need\n",
    "socio_filtered = socio_filtered.drop(columns=['real estate','Kiralik Konut Bedeli (m2 TL) 2017','Satilik Konut Bedeli (m2 TL) 2017'])"
   ]
  },
  {
   "cell_type": "code",
   "execution_count": 74,
   "metadata": {},
   "outputs": [],
   "source": [
    "# Drops old (reset) index columns\n",
    "socio_filtered = socio_filtered.drop(columns=['index'])"
   ]
  },
  {
   "cell_type": "code",
   "execution_count": 75,
   "metadata": {},
   "outputs": [
    {
     "name": "stdout",
     "output_type": "stream",
     "text": [
      "(798, 37)\n"
     ]
    },
    {
     "data": {
      "text/html": [
       "<div>\n",
       "<style scoped>\n",
       "    .dataframe tbody tr th:only-of-type {\n",
       "        vertical-align: middle;\n",
       "    }\n",
       "\n",
       "    .dataframe tbody tr th {\n",
       "        vertical-align: top;\n",
       "    }\n",
       "\n",
       "    .dataframe thead th {\n",
       "        text-align: right;\n",
       "    }\n",
       "</style>\n",
       "<table border=\"1\" class=\"dataframe\">\n",
       "  <thead>\n",
       "    <tr style=\"text-align: right;\">\n",
       "      <th></th>\n",
       "      <th>Z Kusagi (0-19 yas) 2016</th>\n",
       "      <th>Y Kusagi (20-39 yas) 2016</th>\n",
       "      <th>X Kusagi (40-54 yas) 2016</th>\n",
       "      <th>Ortalama Yas 2016</th>\n",
       "      <th>Hic Evlenmeyenler 2016</th>\n",
       "      <th>Evli Olanlar 2016</th>\n",
       "      <th>Bosananlar 2016</th>\n",
       "      <th>Hane Halki Ortalama Buyuklugu 2016</th>\n",
       "      <th>Ozel Isyeri Sayisi 2016</th>\n",
       "      <th>Ilkokul Mezunu 2016</th>\n",
       "      <th>...</th>\n",
       "      <th>pop change 15-17</th>\n",
       "      <th>pop change 17-19</th>\n",
       "      <th>women:men</th>\n",
       "      <th>avg age change 15-16</th>\n",
       "      <th>population density per km2</th>\n",
       "      <th>Residences Density</th>\n",
       "      <th>cultural high</th>\n",
       "      <th>cultural med</th>\n",
       "      <th>real estate low</th>\n",
       "      <th>real estate high</th>\n",
       "    </tr>\n",
       "    <tr>\n",
       "      <th>nbhd_id</th>\n",
       "      <th></th>\n",
       "      <th></th>\n",
       "      <th></th>\n",
       "      <th></th>\n",
       "      <th></th>\n",
       "      <th></th>\n",
       "      <th></th>\n",
       "      <th></th>\n",
       "      <th></th>\n",
       "      <th></th>\n",
       "      <th></th>\n",
       "      <th></th>\n",
       "      <th></th>\n",
       "      <th></th>\n",
       "      <th></th>\n",
       "      <th></th>\n",
       "      <th></th>\n",
       "      <th></th>\n",
       "      <th></th>\n",
       "      <th></th>\n",
       "      <th></th>\n",
       "    </tr>\n",
       "  </thead>\n",
       "  <tbody>\n",
       "    <tr>\n",
       "      <th>101</th>\n",
       "      <td>22.5</td>\n",
       "      <td>23.98</td>\n",
       "      <td>11.95</td>\n",
       "      <td>46.56</td>\n",
       "      <td>25.65</td>\n",
       "      <td>54.71</td>\n",
       "      <td>11.48</td>\n",
       "      <td>2.29</td>\n",
       "      <td>81.0</td>\n",
       "      <td>19.65</td>\n",
       "      <td>...</td>\n",
       "      <td>0.013231</td>\n",
       "      <td>-0.019244</td>\n",
       "      <td>1.0431</td>\n",
       "      <td>0.0128345</td>\n",
       "      <td>880.864198</td>\n",
       "      <td>1498.148148</td>\n",
       "      <td>0</td>\n",
       "      <td>1</td>\n",
       "      <td>0</td>\n",
       "      <td>0</td>\n",
       "    </tr>\n",
       "    <tr>\n",
       "      <th>102</th>\n",
       "      <td>21.19</td>\n",
       "      <td>30.45</td>\n",
       "      <td>15.28</td>\n",
       "      <td>42.25</td>\n",
       "      <td>32.54</td>\n",
       "      <td>50.34</td>\n",
       "      <td>8.99</td>\n",
       "      <td>2.66</td>\n",
       "      <td>181.0</td>\n",
       "      <td>20.09</td>\n",
       "      <td>...</td>\n",
       "      <td>-0.131034</td>\n",
       "      <td>0.022848</td>\n",
       "      <td>0.922723</td>\n",
       "      <td>0.158169</td>\n",
       "      <td>1629.501916</td>\n",
       "      <td>1472.796935</td>\n",
       "      <td>0</td>\n",
       "      <td>0</td>\n",
       "      <td>0</td>\n",
       "      <td>1</td>\n",
       "    </tr>\n",
       "    <tr>\n",
       "      <th>103</th>\n",
       "      <td>21.26</td>\n",
       "      <td>22.99</td>\n",
       "      <td>10.6</td>\n",
       "      <td>48.04</td>\n",
       "      <td>24.73</td>\n",
       "      <td>62.13</td>\n",
       "      <td>6.8</td>\n",
       "      <td>2.35</td>\n",
       "      <td>125.0</td>\n",
       "      <td>24.16</td>\n",
       "      <td>...</td>\n",
       "      <td>-0.123107</td>\n",
       "      <td>-0.020613</td>\n",
       "      <td>0.914573</td>\n",
       "      <td>0.00523122</td>\n",
       "      <td>1292.647059</td>\n",
       "      <td>2833.823529</td>\n",
       "      <td>0</td>\n",
       "      <td>0</td>\n",
       "      <td>1</td>\n",
       "      <td>0</td>\n",
       "    </tr>\n",
       "    <tr>\n",
       "      <th>104</th>\n",
       "      <td>22.72</td>\n",
       "      <td>28.54</td>\n",
       "      <td>19.4</td>\n",
       "      <td>40.47</td>\n",
       "      <td>28.2</td>\n",
       "      <td>55.46</td>\n",
       "      <td>9.56</td>\n",
       "      <td>2.7</td>\n",
       "      <td>287.0</td>\n",
       "      <td>20.52</td>\n",
       "      <td>...</td>\n",
       "      <td>-0.001607</td>\n",
       "      <td>-0.004369</td>\n",
       "      <td>0.948315</td>\n",
       "      <td>0.00696691</td>\n",
       "      <td>1732.000000</td>\n",
       "      <td>1644.400000</td>\n",
       "      <td>0</td>\n",
       "      <td>0</td>\n",
       "      <td>0</td>\n",
       "      <td>1</td>\n",
       "    </tr>\n",
       "    <tr>\n",
       "      <th>105</th>\n",
       "      <td>23.64</td>\n",
       "      <td>26.28</td>\n",
       "      <td>19.32</td>\n",
       "      <td>41.36</td>\n",
       "      <td>27.55</td>\n",
       "      <td>56.19</td>\n",
       "      <td>9.91</td>\n",
       "      <td>2.65</td>\n",
       "      <td>430.0</td>\n",
       "      <td>21.42</td>\n",
       "      <td>...</td>\n",
       "      <td>0.050350</td>\n",
       "      <td>0.101587</td>\n",
       "      <td>0.973548</td>\n",
       "      <td>0.00681597</td>\n",
       "      <td>1074.303406</td>\n",
       "      <td>1278.637771</td>\n",
       "      <td>0</td>\n",
       "      <td>0</td>\n",
       "      <td>0</td>\n",
       "      <td>1</td>\n",
       "    </tr>\n",
       "  </tbody>\n",
       "</table>\n",
       "<p>5 rows × 37 columns</p>\n",
       "</div>"
      ],
      "text/plain": [
       "        Z Kusagi (0-19 yas) 2016  Y Kusagi (20-39 yas) 2016  \\\n",
       "nbhd_id                                                       \n",
       "101                          22.5                     23.98   \n",
       "102                         21.19                     30.45   \n",
       "103                         21.26                     22.99   \n",
       "104                         22.72                     28.54   \n",
       "105                         23.64                     26.28   \n",
       "\n",
       "        X Kusagi (40-54 yas) 2016 Ortalama Yas 2016 Hic Evlenmeyenler 2016  \\\n",
       "nbhd_id                                                                      \n",
       "101                         11.95             46.56                  25.65   \n",
       "102                         15.28             42.25                  32.54   \n",
       "103                          10.6             48.04                  24.73   \n",
       "104                          19.4             40.47                   28.2   \n",
       "105                         19.32             41.36                  27.55   \n",
       "\n",
       "        Evli Olanlar 2016 Bosananlar 2016 Hane Halki Ortalama Buyuklugu 2016  \\\n",
       "nbhd_id                                                                        \n",
       "101                 54.71           11.48                               2.29   \n",
       "102                 50.34            8.99                               2.66   \n",
       "103                 62.13             6.8                               2.35   \n",
       "104                 55.46            9.56                                2.7   \n",
       "105                 56.19            9.91                               2.65   \n",
       "\n",
       "         Ozel Isyeri Sayisi 2016 Ilkokul Mezunu 2016  ... pop change 15-17  \\\n",
       "nbhd_id                                               ...                    \n",
       "101                         81.0               19.65  ...         0.013231   \n",
       "102                        181.0               20.09  ...        -0.131034   \n",
       "103                        125.0               24.16  ...        -0.123107   \n",
       "104                        287.0               20.52  ...        -0.001607   \n",
       "105                        430.0               21.42  ...         0.050350   \n",
       "\n",
       "        pop change 17-19 women:men  avg age change 15-16  \\\n",
       "nbhd_id                                                    \n",
       "101            -0.019244    1.0431             0.0128345   \n",
       "102             0.022848  0.922723              0.158169   \n",
       "103            -0.020613  0.914573            0.00523122   \n",
       "104            -0.004369  0.948315            0.00696691   \n",
       "105             0.101587  0.973548            0.00681597   \n",
       "\n",
       "         population density per km2  Residences Density  cultural high  \\\n",
       "nbhd_id                                                                  \n",
       "101                      880.864198         1498.148148              0   \n",
       "102                     1629.501916         1472.796935              0   \n",
       "103                     1292.647059         2833.823529              0   \n",
       "104                     1732.000000         1644.400000              0   \n",
       "105                     1074.303406         1278.637771              0   \n",
       "\n",
       "         cultural med  real estate low  real estate high  \n",
       "nbhd_id                                                   \n",
       "101                 1                0                 0  \n",
       "102                 0                0                 1  \n",
       "103                 0                1                 0  \n",
       "104                 0                0                 1  \n",
       "105                 0                0                 1  \n",
       "\n",
       "[5 rows x 37 columns]"
      ]
     },
     "execution_count": 75,
     "metadata": {},
     "output_type": "execute_result"
    }
   ],
   "source": [
    "# Drops district and nbhd name columns, and sets nbhd_id as index, since nbhd_id can uniquely identify each neighborhood\n",
    "socio_filtered = socio_filtered.drop(columns=['district','nbhd']).set_index('nbhd_id')\n",
    "\n",
    "print(socio_filtered.shape)\n",
    "socio_filtered.head()"
   ]
  },
  {
   "cell_type": "code",
   "execution_count": 76,
   "metadata": {},
   "outputs": [
    {
     "data": {
      "text/plain": [
       "Index(['Z Kusagi (0-19 yas) 2016 ', 'Y Kusagi (20-39 yas) 2016',\n",
       "       'X Kusagi (40-54 yas) 2016', 'Ortalama Yas 2016',\n",
       "       'Hic Evlenmeyenler 2016', 'Evli Olanlar 2016', 'Bosananlar 2016',\n",
       "       'Hane Halki Ortalama Buyuklugu 2016', 'Ozel Isyeri Sayisi 2016',\n",
       "       'Ilkokul Mezunu 2016', 'Universite Mezunu 2016',\n",
       "       'Okuryazar Orani - Kadin 2016', 'Ortalama Egitim Suresi 2016',\n",
       "       'ASM Varligi', 'Ozel Hastane Varligi',\n",
       "       'Dogalgaz Kullanici Sayisi/Nufus 2017', 'Su Ariza Suresi (Saat) 2016',\n",
       "       'Metro Durak Sayisi', 'Market Yogunluk Endeksi 2017', 'AVM Sayisi 2017',\n",
       "       'Pazar Yeri Sayi 2017', 'Total Population 2019', 'pop change 15-16',\n",
       "       'pop change 16-17', 'pop change 17-18', 'pop change 18-19',\n",
       "       'pop change 15-19', 'pop change 15-17', 'pop change 17-19', 'women:men',\n",
       "       'avg age change 15-16', 'population density per km2',\n",
       "       'Residences Density', 'cultural high', 'cultural med',\n",
       "       'real estate low', 'real estate high'],\n",
       "      dtype='object')"
      ]
     },
     "execution_count": 76,
     "metadata": {},
     "output_type": "execute_result"
    }
   ],
   "source": [
    "socio_filtered.columns"
   ]
  },
  {
   "cell_type": "code",
   "execution_count": 77,
   "metadata": {},
   "outputs": [],
   "source": [
    "socio_filtered = socio_filtered.rename(columns={'Z Kusagi (0-19 yas) 2016 ':'Gen Z Percent',\n",
    "                                                'Y Kusagi (20-39 yas) 2016':'Gen Y Percent',\n",
    "                                                'X Kusagi (40-54 yas) 2016':'Gen X Percent',\n",
    "                                                'Ortalama Yas 2016':'Average Age',\n",
    "                                                'Hic Evlenmeyenler 2016':'Never Married',\n",
    "                                                'Evli Olanlar 2016':'Married',\n",
    "                                                'Bosananlar 2016':'Divorced',\n",
    "                                                'Hane Halki Ortalama Buyuklugu 2016':'Avg Household Size',\n",
    "                                                'Ozel Isyeri Sayisi 2016':'Num Priv Workplaces',\n",
    "                                                'Ilkokul Mezunu 2016':'Educ Primary School',\n",
    "                                                'Universite Mezunu 2016':'Educ College',\n",
    "                                                'Okuryazar Orani - Kadin 2016':'Percent Literate Women',\n",
    "                                                'Ortalama Egitim Suresi 2016':'Avg Length Educ',\n",
    "                                                'ASM Varligi':'State Health Center',\n",
    "                                                'Ozel Hastane Varligi':'Private Hospital',\n",
    "                                                'Dogalgaz Kullanici Sayisi/Nufus 2017':'Gas for Heating Rate',\n",
    "                                                'Su Ariza Suresi (Saat) 2016':'Hours of Water Outage',\n",
    "                                                'Metro Durak Sayisi':'Subway Stations',\n",
    "                                                'Market Yogunluk Endeksi 2017':'Supermarket Dens Index',\n",
    "                                                'AVM Sayisi 2017':'Shopping Malls',\n",
    "                                                'Pazar Yeri Sayi 2017':'Bazaar Places',\n",
    "                                                'pop change 15-16':'Population Change 15-16',\n",
    "                                                'pop change 16-17':'Population Change 16-17',\n",
    "                                                'pop change 17-18':'Population Change 17-18',\n",
    "                                                'pop change 18-19':'Population Change 18-19',\n",
    "                                                'pop change 15-17':'Population Change 15-17',\n",
    "                                                'pop change 17-19':'Population Change 17-19',\n",
    "                                                'pop change 15-19':'Population Change 15-19',\n",
    "                                                'women:men':'Population Women / Men',\n",
    "                                                'avg age change 15-16':'Avg Age Change',\n",
    "                                                'population density per km2':'Population Density',\n",
    "                                                'cultural high':'Cultural High',\n",
    "                                                'cultural med':'Cultural Medium',\n",
    "                                                'real estate low':'Real Estate Low',\n",
    "                                                'real estate high':'Real Estate High'})"
   ]
  },
  {
   "cell_type": "code",
   "execution_count": 78,
   "metadata": {},
   "outputs": [
    {
     "data": {
      "text/plain": [
       "Index(['Gen Z Percent', 'Gen Y Percent', 'Gen X Percent', 'Average Age',\n",
       "       'Never Married', 'Married', 'Divorced', 'Avg Household Size',\n",
       "       'Num Priv Workplaces', 'Educ Primary School', 'Educ College',\n",
       "       'Percent Literate Women', 'Avg Length Educ', 'State Health Center',\n",
       "       'Private Hospital', 'Gas for Heating Rate', 'Hours of Water Outage',\n",
       "       'Subway Stations', 'Supermarket Dens Index', 'Shopping Malls',\n",
       "       'Bazaar Places', 'Total Population 2019', 'Population Change 15-16',\n",
       "       'Population Change 16-17', 'Population Change 17-18',\n",
       "       'Population Change 18-19', 'Population Change 15-19',\n",
       "       'Population Change 15-17', 'Population Change 17-19',\n",
       "       'Population Women / Men', 'Avg Age Change', 'Population Density',\n",
       "       'Residences Density', 'Cultural High', 'Cultural Medium',\n",
       "       'Real Estate Low', 'Real Estate High'],\n",
       "      dtype='object')"
      ]
     },
     "execution_count": 78,
     "metadata": {},
     "output_type": "execute_result"
    }
   ],
   "source": [
    "socio_filtered.columns"
   ]
  },
  {
   "cell_type": "code",
   "execution_count": 79,
   "metadata": {},
   "outputs": [
    {
     "name": "stdout",
     "output_type": "stream",
     "text": [
      "(798, 37)\n"
     ]
    },
    {
     "data": {
      "text/plain": [
       "array([[22.5, 23.98, 11.95, ..., 1, 0, 0],\n",
       "       [21.19, 30.45, 15.28, ..., 0, 0, 1],\n",
       "       [21.26, 22.99, 10.6, ..., 0, 1, 0],\n",
       "       ...,\n",
       "       [19.08, 36.15, 30.86, ..., 0, 0, 0],\n",
       "       [20.35, 34.89, 29.5, ..., 0, 0, 0],\n",
       "       [18.75, 35.81, 32.21, ..., 0, 0, 0]], dtype=object)"
      ]
     },
     "execution_count": 79,
     "metadata": {},
     "output_type": "execute_result"
    }
   ],
   "source": [
    "features = socio_filtered.sort_index().to_numpy()\n",
    "print(features.shape)\n",
    "features"
   ]
  },
  {
   "cell_type": "markdown",
   "metadata": {},
   "source": [
    "## 4) Preparing the Targets for Feature Selection & Analysis"
   ]
  },
  {
   "cell_type": "markdown",
   "metadata": {},
   "source": [
    "Using SQL queries, we created several political targets that are going to be used for forecasting. Those targest are in 7 different csv files, one for each election. Some of the targets are more general, in the sense that they can give a sense on the general political climate, while some are more suited to make conclusions regarding specific election. \n",
    "\n",
    "Due to the recent regime change, Turkey is now being governed by a presidential system and the candidate that reaches %50 + 1 vote is elected. Hence, the most comprehensive targets in this analysis are those that divide the total government block vote into total opposition block vote. Closer those ratios to 1, the more neck-and-neck the elections are; the greater it is, government block has more support, and vice-versa.\n",
    "\n",
    "At this step, all the csv's are imported and filtered so that only the remaining neighborhoods in socioeconomic dataset are included in the analysis. For feature selection, the four main targets (govt block:opposition block) are determined from 4 elections, 2019 re-run, 2019 local, 2018 presidential and 2017 referendum. 2018 MP election is not included, since it was carried out at the same time as presidential and one will suffice for our purposes. Both of 2015 elections are also excluded, as the government and opposition blocks were not as prononunced back then."
   ]
  },
  {
   "cell_type": "code",
   "execution_count": 80,
   "metadata": {},
   "outputs": [],
   "source": [
    "# Imports SQL output csv files\n",
    "reelect19 = pd.read_csv('/Users/ercansen/Desktop/apps/istanbul/sql outputs/reelect_19.csv')\n",
    "local19 = pd.read_csv('/Users/ercansen/Desktop/apps/istanbul/sql outputs/local_19.csv')\n",
    "mp18 = pd.read_csv('/Users/ercansen/Desktop/apps/istanbul/sql outputs/mp_18.csv')\n",
    "pres18 = pd.read_csv('/Users/ercansen/Desktop/apps/istanbul/sql outputs/pres_18.csv')\n",
    "ref17 = pd.read_csv('/Users/ercansen/Desktop/apps/istanbul/sql outputs/ref_17.csv')\n",
    "gen_nov15 = pd.read_csv('/Users/ercansen/Desktop/apps/istanbul/sql outputs/gen_nov_15.csv')\n",
    "gen_jun15 = pd.read_csv('/Users/ercansen/Desktop/apps/istanbul/sql outputs/gen_jun_15.csv')"
   ]
  },
  {
   "cell_type": "code",
   "execution_count": 81,
   "metadata": {},
   "outputs": [],
   "source": [
    "# Re-indexes so that only the same subset of neighborhoods in filtered socioeconomic data remains\n",
    "reelect19 = reelect19.set_index('nbhd_id').reindex(socio_filtered.index)\n",
    "local19 = local19.set_index('nbhd_id').reindex(socio_filtered.index)\n",
    "mp18 = mp18.set_index('nbhd_id').reindex(socio_filtered.index)\n",
    "pres18 = pres18.set_index('nbhd_id').reindex(socio_filtered.index)\n",
    "ref17 = ref17.set_index('nbhd_id').reindex(socio_filtered.index)\n",
    "gen_nov15 = gen_nov15.set_index('nbhd_id').reindex(socio_filtered.index)\n",
    "gen_jun15 = gen_jun15.set_index('nbhd_id').reindex(socio_filtered.index)"
   ]
  },
  {
   "cell_type": "code",
   "execution_count": 82,
   "metadata": {},
   "outputs": [
    {
     "data": {
      "text/plain": [
       "Index(['district', 'neighborhood', 'registered', 'voted', 'valid', 'akp',\n",
       "       'chp', 'sp', 'voted_march', 'akp_march', 'chp_march', 'turnout',\n",
       "       'valid_p', 'akp_p', 'chp_p', 'sp_p', 'chp_sp', 'chp_sp_p', 'chp_sp_r',\n",
       "       'chp_sp30', 'chp_sp30_p', 'chp_sp30_r', 'chp_sp40', 'chp_sp40_p',\n",
       "       'chp_sp40_r', 'akp_sp50', 'akp_sp50_p', 'akp_sp50_r', 'akp_sp55',\n",
       "       'akp_sp55_p', 'akp_sp55_r', 'cum_mil_nosp', 'cum_mil_low', 'cum_mil_hi',\n",
       "       'turnout_dif', 'akp_dif', 'chp_dif', 'turnout_rate_ch', 'akp_rate_ch',\n",
       "       'chp_rate_ch', 'akp_rc_turnout'],\n",
       "      dtype='object')"
      ]
     },
     "execution_count": 82,
     "metadata": {},
     "output_type": "execute_result"
    }
   ],
   "source": [
    "# Prints the column names for political features in 2019 mayoral election re-run csv\n",
    "reelect19.columns"
   ]
  },
  {
   "cell_type": "code",
   "execution_count": 83,
   "metadata": {},
   "outputs": [],
   "source": [
    "# Creates the first gov:opp ratio target\n",
    "gov_opp_19_6 = reelect19['cum_mil_hi'].sort_index().to_numpy()"
   ]
  },
  {
   "cell_type": "code",
   "execution_count": 84,
   "metadata": {},
   "outputs": [
    {
     "data": {
      "text/plain": [
       "Index(['district', 'neighborhood', 'registered', 'voted', 'valid', 'akp',\n",
       "       'chp', 'sp', 'turnout', 'valid_p', 'akp_p', 'chp_p', 'sp_p', 'chp_sp',\n",
       "       'chp_sp_p', 'chp_sp_r', 'chp_sp30', 'chp_sp30_p', 'chp_sp30_r',\n",
       "       'chp_sp40', 'chp_sp40_p', 'chp_sp40_r', 'akp_sp50', 'akp_sp50_p',\n",
       "       'akp_sp50_r', 'akp_sp55', 'akp_sp55_p', 'akp_sp55_r', 'cum_mil_nosp',\n",
       "       'cum_mil_low', 'cum_mil_hi'],\n",
       "      dtype='object')"
      ]
     },
     "execution_count": 84,
     "metadata": {},
     "output_type": "execute_result"
    }
   ],
   "source": [
    "# Prints the column names for political features in 2019 local election csv\n",
    "local19.columns"
   ]
  },
  {
   "cell_type": "code",
   "execution_count": 85,
   "metadata": {},
   "outputs": [],
   "source": [
    "# Creates the second gov:opp ratio target\n",
    "gov_opp_19_3 = local19['cum_mil_hi'].sort_index().to_numpy()"
   ]
  },
  {
   "cell_type": "code",
   "execution_count": 86,
   "metadata": {},
   "outputs": [
    {
     "data": {
      "text/plain": [
       "Index(['district', 'neighborhood', 'registered', 'voted', 'valid', 'rte',\n",
       "       'ince', 'aksener', 'selo', 'karamolla', 'cumhur_tot_mp', 'turnout',\n",
       "       'valid_p', 'rte_p', 'ince_p', 'aksener_p', 'selo_p', 'karamolla_p',\n",
       "       'rte_r', 'ince_r', 'aksener_r', 'selo_r', 'karamolla_r', 'millet_off',\n",
       "       'millet_off_p', 'millet_off_r', 'millet_hdp_nosp', 'millet_hdp_nosp_p',\n",
       "       'millet_hdp_nosp_r', 'millet_hdp_sp30', 'millet_hdp_sp30_p',\n",
       "       'millet_hdp_sp30_r', 'millet_hdp_sp40', 'millet_hdp_sp40_p',\n",
       "       'millet_hdp_sp40_r', 'cumhur_sp50', 'cumhur_sp50_p', 'cumhur_sp50_r',\n",
       "       'cumhur_sp55', 'cumhur_sp55_p', 'cumhur_sp55_r', 'cum_mil_nosp',\n",
       "       'cum_mil_low', 'cum_mil_hi', 'rte_change', 'rte_change_cum',\n",
       "       'rte_change_reg'],\n",
       "      dtype='object')"
      ]
     },
     "execution_count": 86,
     "metadata": {},
     "output_type": "execute_result"
    }
   ],
   "source": [
    "# Prints the column names for political features in 2018 presidential election csv\n",
    "pres18.columns"
   ]
  },
  {
   "cell_type": "code",
   "execution_count": 87,
   "metadata": {},
   "outputs": [],
   "source": [
    "# Creates the third gov:opp ratio target\n",
    "gov_opp_18_6 = pres18['cum_mil_hi'].sort_index().to_numpy()"
   ]
  },
  {
   "cell_type": "code",
   "execution_count": 88,
   "metadata": {},
   "outputs": [
    {
     "data": {
      "text/plain": [
       "Index(['district', 'neighborhood', 'registered', 'voted', 'valid', 'yes',\n",
       "       'nop', 'turnout', 'valid_p', 'yes_p', 'nop_p', 'yes_r', 'nop_r',\n",
       "       'yes_no'],\n",
       "      dtype='object')"
      ]
     },
     "execution_count": 88,
     "metadata": {},
     "output_type": "execute_result"
    }
   ],
   "source": [
    "# Prints the column names for political features in 2017 referendum\n",
    "ref17.columns"
   ]
  },
  {
   "cell_type": "code",
   "execution_count": 89,
   "metadata": {},
   "outputs": [],
   "source": [
    "# Creates the fourth gov:opp ratio target\n",
    "gov_opp_17_4 = ref17['yes_no'].sort_index().to_numpy()"
   ]
  },
  {
   "cell_type": "markdown",
   "metadata": {},
   "source": [
    "## 5) Feature Selection"
   ]
  },
  {
   "cell_type": "markdown",
   "metadata": {},
   "source": [
    "Feature selection is a crucial step, especially for our problem. Since our features are socioeconomic data, many of them are expected to have high correlation. Some, like \"average length of education\" and \"percent graduated from college\", are expected to have it since they measure a similar societal parameter. Yet, some like \"avg length of education\" and \"housing prices: high\" are also highly correlated, not because they measure the same parameters, but because there are certain common factors (in this case, for instance, income level) that affect both features. We expect that those similar to the former example would cause a serious issue of multicollinearity, vastly decreasing the accuracy of our predictions. Those like the latter should also be examined carefully and some features might have to be removed in order to avoid getting an overfitting model. For multicollinearity detection and feature selection, we are going to utilize measures and tools like VIF, correlation matrix and SelectKBest."
   ]
  },
  {
   "cell_type": "code",
   "execution_count": 90,
   "metadata": {},
   "outputs": [],
   "source": [
    "mc_initial = [(['Gen Z Percent', 'Gen Y Percent', 'Gen X Percent'],['Average Age','Avg Age Change']),\n",
    "              (['Population Change 15-16','Population Change 16-17','Population Change 17-18','Population Change 18-19'],\n",
    "               ['Population Change 15-17','Population Change 17-19'],\n",
    "               ['Population Change 15-19']),\n",
    "              (['Population Density'],['Residences Density'],['Avg Household Size']),\n",
    "              (['Educ Primary School','Educ College'],['Avg Length Educ'],['Percent Literate Women'])]"
   ]
  },
  {
   "cell_type": "code",
   "execution_count": 91,
   "metadata": {},
   "outputs": [],
   "source": [
    "def train_filter_features(tup, data, target):\n",
    "    temp_list = list()\n",
    "    \n",
    "    for i in range(len(tup)):\n",
    "        other_inds = [j for j in range(len(tup)) if j != i]\n",
    "        cols_to_drop = [tup[k] for k in other_inds]\n",
    "        drop = list()\n",
    "        for li in cols_to_drop:\n",
    "            drop += li\n",
    "        data_filt = data.drop(columns=drop)\n",
    "        \n",
    "        X_tr, X_te, y_tr, y_te = train_test_split(data_filt.to_numpy(), target, test_size=0.2, random_state=91)\n",
    "        model = RandomForestRegressor(n_estimators=250, random_state=91, n_jobs=-1)\n",
    "        model.fit(X_tr, y_tr)\n",
    "        \n",
    "        temp_list.append((tup[i],model.score(X_te,y_te)))\n",
    "        \n",
    "    return temp_list\n",
    "#max(temp_list, key = lambda x: x[1])[0], max(temp_list, key = lambda x: x[1])[1]"
   ]
  },
  {
   "cell_type": "code",
   "execution_count": 92,
   "metadata": {},
   "outputs": [
    {
     "name": "stdout",
     "output_type": "stream",
     "text": [
      "[(['Gen Z Percent', 'Gen Y Percent', 'Gen X Percent'], 0.031238260488130724), (['Average Age', 'Avg Age Change'], 0.017246418659513263)]\n",
      "[(['Population Change 15-16', 'Population Change 16-17', 'Population Change 17-18', 'Population Change 18-19'], 0.06050312516064693), (['Population Change 15-17', 'Population Change 17-19'], 0.05138796124377243), (['Population Change 15-19'], 0.09217685068215375)]\n",
      "[(['Population Density'], 0.003477765127877453), (['Residences Density'], 0.004363727294572128), (['Avg Household Size'], -0.30346674257119344)]\n",
      "[(['Educ Primary School', 'Educ College'], 0.11925146860709757), (['Avg Length Educ'], 0.03155382839886167), (['Percent Literate Women'], 0.038306627485116596)]\n"
     ]
    }
   ],
   "source": [
    "for tup in mc_initial:\n",
    "    print(train_filter_features(tup, socio_filtered, gov_opp_17_4))"
   ]
  },
  {
   "cell_type": "markdown",
   "metadata": {},
   "source": [
    "Among the combinations that were tried, [Gen Z, Gen Y, Gen X], Population Change 15-19, Residences Density, [Educ Primary School, Educ College] gave the best results, so only they will be kept, as opposed to the others that will not be considered."
   ]
  },
  {
   "cell_type": "code",
   "execution_count": 93,
   "metadata": {},
   "outputs": [
    {
     "data": {
      "text/plain": [
       "(798, 37)"
      ]
     },
     "execution_count": 93,
     "metadata": {},
     "output_type": "execute_result"
    }
   ],
   "source": [
    "socio_filtered.shape"
   ]
  },
  {
   "cell_type": "code",
   "execution_count": 95,
   "metadata": {},
   "outputs": [],
   "source": [
    "socio_fin = socio_filtered.drop(columns=['Average Age', 'Avg Age Change', \n",
    "                                         'Population Change 15-16', 'Population Change 16-17', 'Population Change 17-18',\n",
    "                                         'Population Change 18-19', 'Population Change 15-17', 'Population Change 17-19',\n",
    "                                         'Population Density', 'Avg Household Size', 'Avg Length Educ', 'Percent Literate Women'])"
   ]
  },
  {
   "cell_type": "code",
   "execution_count": 96,
   "metadata": {},
   "outputs": [
    {
     "data": {
      "text/plain": [
       "(798, 25)"
      ]
     },
     "execution_count": 96,
     "metadata": {},
     "output_type": "execute_result"
    }
   ],
   "source": [
    "socio_fin.shape"
   ]
  },
  {
   "cell_type": "code",
   "execution_count": 97,
   "metadata": {},
   "outputs": [
    {
     "data": {
      "text/plain": [
       "Index(['Gen Z Percent', 'Gen Y Percent', 'Gen X Percent', 'Never Married',\n",
       "       'Married', 'Divorced', 'Num Priv Workplaces', 'Educ Primary School',\n",
       "       'Educ College', 'State Health Center', 'Private Hospital',\n",
       "       'Gas for Heating Rate', 'Hours of Water Outage', 'Subway Stations',\n",
       "       'Supermarket Dens Index', 'Shopping Malls', 'Bazaar Places',\n",
       "       'Total Population 2019', 'Population Change 15-19',\n",
       "       'Population Women / Men', 'Residences Density', 'Cultural High',\n",
       "       'Cultural Medium', 'Real Estate Low', 'Real Estate High'],\n",
       "      dtype='object')"
      ]
     },
     "execution_count": 97,
     "metadata": {},
     "output_type": "execute_result"
    }
   ],
   "source": [
    "socio_fin.columns"
   ]
  },
  {
   "cell_type": "code",
   "execution_count": 98,
   "metadata": {},
   "outputs": [],
   "source": [
    "# Function that calculates the VIF matrix of features\n",
    "def vif_matrix(X):\n",
    "    vif_mat = pd.DataFrame()\n",
    "    vif_mat['features'] = X.columns\n",
    "    vif_mat['VIF'] = [variance_inflation_factor(X.values, i) for i in range(X.shape[1])]\n",
    "    vif_mat = vif_mat.set_index('features')\n",
    "    \n",
    "    return vif_mat"
   ]
  },
  {
   "cell_type": "code",
   "execution_count": 106,
   "metadata": {},
   "outputs": [],
   "source": [
    "# Creates the VIF matrix for our features dataframe\n",
    "vif_mat = vif_matrix(socio_fin.astype(float))\n",
    "\n",
    "# Initializes dictionary, with keys being the features with high VIF, and values are empty lists\n",
    "high_vif = {f:list() for f in vif_mat.index if vif_mat.loc[f,'VIF'] >= 5}"
   ]
  },
  {
   "cell_type": "code",
   "execution_count": 107,
   "metadata": {},
   "outputs": [
    {
     "data": {
      "text/html": [
       "<div>\n",
       "<style scoped>\n",
       "    .dataframe tbody tr th:only-of-type {\n",
       "        vertical-align: middle;\n",
       "    }\n",
       "\n",
       "    .dataframe tbody tr th {\n",
       "        vertical-align: top;\n",
       "    }\n",
       "\n",
       "    .dataframe thead th {\n",
       "        text-align: right;\n",
       "    }\n",
       "</style>\n",
       "<table border=\"1\" class=\"dataframe\">\n",
       "  <thead>\n",
       "    <tr style=\"text-align: right;\">\n",
       "      <th></th>\n",
       "      <th>VIF</th>\n",
       "    </tr>\n",
       "    <tr>\n",
       "      <th>features</th>\n",
       "      <th></th>\n",
       "    </tr>\n",
       "  </thead>\n",
       "  <tbody>\n",
       "    <tr>\n",
       "      <th>Gen Z Percent</th>\n",
       "      <td>204.915265</td>\n",
       "    </tr>\n",
       "    <tr>\n",
       "      <th>Gen Y Percent</th>\n",
       "      <td>246.365305</td>\n",
       "    </tr>\n",
       "    <tr>\n",
       "      <th>Gen X Percent</th>\n",
       "      <td>152.808811</td>\n",
       "    </tr>\n",
       "    <tr>\n",
       "      <th>Never Married</th>\n",
       "      <td>207.493609</td>\n",
       "    </tr>\n",
       "    <tr>\n",
       "      <th>Married</th>\n",
       "      <td>928.423222</td>\n",
       "    </tr>\n",
       "    <tr>\n",
       "      <th>Divorced</th>\n",
       "      <td>22.999173</td>\n",
       "    </tr>\n",
       "    <tr>\n",
       "      <th>Num Priv Workplaces</th>\n",
       "      <td>2.959053</td>\n",
       "    </tr>\n",
       "    <tr>\n",
       "      <th>Educ Primary School</th>\n",
       "      <td>121.699069</td>\n",
       "    </tr>\n",
       "    <tr>\n",
       "      <th>Educ College</th>\n",
       "      <td>53.142549</td>\n",
       "    </tr>\n",
       "    <tr>\n",
       "      <th>State Health Center</th>\n",
       "      <td>4.385508</td>\n",
       "    </tr>\n",
       "    <tr>\n",
       "      <th>Private Hospital</th>\n",
       "      <td>1.406844</td>\n",
       "    </tr>\n",
       "    <tr>\n",
       "      <th>Gas for Heating Rate</th>\n",
       "      <td>14.788964</td>\n",
       "    </tr>\n",
       "    <tr>\n",
       "      <th>Hours of Water Outage</th>\n",
       "      <td>3.154740</td>\n",
       "    </tr>\n",
       "    <tr>\n",
       "      <th>Subway Stations</th>\n",
       "      <td>1.411462</td>\n",
       "    </tr>\n",
       "    <tr>\n",
       "      <th>Supermarket Dens Index</th>\n",
       "      <td>4.700889</td>\n",
       "    </tr>\n",
       "    <tr>\n",
       "      <th>Shopping Malls</th>\n",
       "      <td>1.511016</td>\n",
       "    </tr>\n",
       "    <tr>\n",
       "      <th>Bazaar Places</th>\n",
       "      <td>2.433147</td>\n",
       "    </tr>\n",
       "    <tr>\n",
       "      <th>Total Population 2019</th>\n",
       "      <td>6.579362</td>\n",
       "    </tr>\n",
       "    <tr>\n",
       "      <th>Population Change 15-19</th>\n",
       "      <td>1.499667</td>\n",
       "    </tr>\n",
       "    <tr>\n",
       "      <th>Population Women / Men</th>\n",
       "      <td>35.609047</td>\n",
       "    </tr>\n",
       "    <tr>\n",
       "      <th>Residences Density</th>\n",
       "      <td>3.392878</td>\n",
       "    </tr>\n",
       "    <tr>\n",
       "      <th>Cultural High</th>\n",
       "      <td>1.977494</td>\n",
       "    </tr>\n",
       "    <tr>\n",
       "      <th>Cultural Medium</th>\n",
       "      <td>1.526807</td>\n",
       "    </tr>\n",
       "    <tr>\n",
       "      <th>Real Estate Low</th>\n",
       "      <td>3.082051</td>\n",
       "    </tr>\n",
       "    <tr>\n",
       "      <th>Real Estate High</th>\n",
       "      <td>2.532850</td>\n",
       "    </tr>\n",
       "  </tbody>\n",
       "</table>\n",
       "</div>"
      ],
      "text/plain": [
       "                                VIF\n",
       "features                           \n",
       "Gen Z Percent            204.915265\n",
       "Gen Y Percent            246.365305\n",
       "Gen X Percent            152.808811\n",
       "Never Married            207.493609\n",
       "Married                  928.423222\n",
       "Divorced                  22.999173\n",
       "Num Priv Workplaces        2.959053\n",
       "Educ Primary School      121.699069\n",
       "Educ College              53.142549\n",
       "State Health Center        4.385508\n",
       "Private Hospital           1.406844\n",
       "Gas for Heating Rate      14.788964\n",
       "Hours of Water Outage      3.154740\n",
       "Subway Stations            1.411462\n",
       "Supermarket Dens Index     4.700889\n",
       "Shopping Malls             1.511016\n",
       "Bazaar Places              2.433147\n",
       "Total Population 2019      6.579362\n",
       "Population Change 15-19    1.499667\n",
       "Population Women / Men    35.609047\n",
       "Residences Density         3.392878\n",
       "Cultural High              1.977494\n",
       "Cultural Medium            1.526807\n",
       "Real Estate Low            3.082051\n",
       "Real Estate High           2.532850"
      ]
     },
     "execution_count": 107,
     "metadata": {},
     "output_type": "execute_result"
    }
   ],
   "source": [
    "# Prints out the VIF matrix\n",
    "vif_mat"
   ]
  },
  {
   "cell_type": "code",
   "execution_count": 108,
   "metadata": {},
   "outputs": [
    {
     "data": {
      "text/plain": [
       "{'Gen Z Percent': [],\n",
       " 'Gen Y Percent': [],\n",
       " 'Gen X Percent': [],\n",
       " 'Never Married': [],\n",
       " 'Married': [],\n",
       " 'Divorced': [],\n",
       " 'Educ Primary School': [],\n",
       " 'Educ College': [],\n",
       " 'Gas for Heating Rate': [],\n",
       " 'Total Population 2019': [],\n",
       " 'Population Women / Men': []}"
      ]
     },
     "execution_count": 108,
     "metadata": {},
     "output_type": "execute_result"
    }
   ],
   "source": [
    "# Prints out the dictionary\n",
    "high_vif"
   ]
  },
  {
   "cell_type": "code",
   "execution_count": 109,
   "metadata": {},
   "outputs": [],
   "source": [
    "# Creates the correlation matrix for features\n",
    "corr_mat = socio_fin.astype(float).corr()\n",
    "\n",
    "# Populates the dictionary with highly correlated features\n",
    "for i in range(len(corr_mat)):\n",
    "    for j in range(len(corr_mat)):\n",
    "        if np.abs(corr_mat.iloc[i,j]) >= 0.6 and i != j:\n",
    "            try:\n",
    "                high_vif[corr_mat.index[i]].append(corr_mat.columns[j])\n",
    "            except:\n",
    "                high_vif[corr_mat.columns[j]].append(corr_mat.index[i])"
   ]
  },
  {
   "cell_type": "code",
   "execution_count": 110,
   "metadata": {},
   "outputs": [
    {
     "data": {
      "text/plain": [
       "{'Gen Z Percent': [],\n",
       " 'Gen Y Percent': ['Never Married'],\n",
       " 'Gen X Percent': ['Married', 'Divorced', 'Educ College'],\n",
       " 'Never Married': ['Gen Y Percent', 'Married'],\n",
       " 'Married': ['Gen X Percent', 'Never Married', 'Divorced'],\n",
       " 'Divorced': ['Gen X Percent',\n",
       "  'Married',\n",
       "  'Educ Primary School',\n",
       "  'Educ College'],\n",
       " 'Educ Primary School': ['Divorced', 'Educ College'],\n",
       " 'Educ College': ['Gen X Percent',\n",
       "  'Divorced',\n",
       "  'Educ Primary School',\n",
       "  'Real Estate High',\n",
       "  'Real Estate High'],\n",
       " 'Gas for Heating Rate': [],\n",
       " 'Total Population 2019': [],\n",
       " 'Population Women / Men': []}"
      ]
     },
     "execution_count": 110,
     "metadata": {},
     "output_type": "execute_result"
    }
   ],
   "source": [
    "# Prints out the populated dictionary\n",
    "high_vif"
   ]
  },
  {
   "cell_type": "code",
   "execution_count": 111,
   "metadata": {},
   "outputs": [],
   "source": [
    "# Some of the lists (values of dict) are empty, corresponding keys are removed from the dictionary\n",
    "high_vif = {k:v for k,v in high_vif.items() if len(v)>0}"
   ]
  },
  {
   "cell_type": "code",
   "execution_count": 112,
   "metadata": {},
   "outputs": [
    {
     "data": {
      "text/plain": [
       "{'Gen Y Percent': ['Never Married'],\n",
       " 'Gen X Percent': ['Married', 'Divorced', 'Educ College'],\n",
       " 'Never Married': ['Gen Y Percent', 'Married'],\n",
       " 'Married': ['Gen X Percent', 'Never Married', 'Divorced'],\n",
       " 'Divorced': ['Gen X Percent',\n",
       "  'Married',\n",
       "  'Educ Primary School',\n",
       "  'Educ College'],\n",
       " 'Educ Primary School': ['Divorced', 'Educ College'],\n",
       " 'Educ College': ['Gen X Percent',\n",
       "  'Divorced',\n",
       "  'Educ Primary School',\n",
       "  'Real Estate High',\n",
       "  'Real Estate High']}"
      ]
     },
     "execution_count": 112,
     "metadata": {},
     "output_type": "execute_result"
    }
   ],
   "source": [
    "# Prints the populated dictionary once again\n",
    "high_vif"
   ]
  },
  {
   "cell_type": "code",
   "execution_count": 113,
   "metadata": {},
   "outputs": [],
   "source": [
    "# Creates a copy of the dictionary that was created previously\n",
    "sub_df_vifs = high_vif.copy()\n",
    "\n",
    "# Checks if removing the key or values (list of highly correlated columns) result in better findings in terms of VIF \n",
    "for k,v in high_vif.items():\n",
    "    temp_df_key = socio_filtered.drop(columns=k).astype(float)\n",
    "    temp_df_val = socio_filtered.drop(columns=v).astype(float)\n",
    "    \n",
    "    vif_key = vif_matrix(temp_df_key)\n",
    "    vif_val = vif_matrix(temp_df_val)\n",
    "    \n",
    "    all_cols = v.copy()\n",
    "    all_cols.append(k)\n",
    "    \n",
    "    sub_df_vifs[k] = (vif_mat.loc[all_cols],vif_key.loc[v],vif_val.loc[[k]])"
   ]
  },
  {
   "cell_type": "code",
   "execution_count": 114,
   "metadata": {
    "scrolled": false
   },
   "outputs": [
    {
     "name": "stdout",
     "output_type": "stream",
     "text": [
      "Gen Y Percent \n",
      "\n",
      "VIF for full set of features:\n",
      "                      VIF\n",
      "features                 \n",
      "Never Married  207.493609\n",
      "Gen Y Percent  246.365305 \n",
      "\n",
      "VIF with key removed:\n",
      "                      VIF\n",
      "features                 \n",
      "Never Married  421.312953 \n",
      "\n",
      "VIF with values removed:\n",
      "                      VIF\n",
      "features                 \n",
      "Gen Y Percent  334.226919 \n",
      "\n",
      "-------------------------- o --------------------------\n",
      "Gen X Percent \n",
      "\n",
      "VIF for full set of features:\n",
      "                      VIF\n",
      "features                 \n",
      "Married        928.423222\n",
      "Divorced        22.999173\n",
      "Educ College    53.142549\n",
      "Gen X Percent  152.808811 \n",
      "\n",
      "VIF with key removed:\n",
      "                      VIF\n",
      "features                 \n",
      "Married       1856.285250\n",
      "Divorced        48.749631\n",
      "Educ College   174.975469 \n",
      "\n",
      "VIF with values removed:\n",
      "                      VIF\n",
      "features                 \n",
      "Gen X Percent  418.599734 \n",
      "\n",
      "-------------------------- o --------------------------\n",
      "Never Married \n",
      "\n",
      "VIF for full set of features:\n",
      "                      VIF\n",
      "features                 \n",
      "Gen Y Percent  246.365305\n",
      "Married        928.423222\n",
      "Never Married  207.493609 \n",
      "\n",
      "VIF with key removed:\n",
      "                      VIF\n",
      "features                 \n",
      "Gen Y Percent  334.226919\n",
      "Married        499.287253 \n",
      "\n",
      "VIF with values removed:\n",
      "                     VIF\n",
      "features                \n",
      "Never Married  94.130198 \n",
      "\n",
      "-------------------------- o --------------------------\n",
      "Married \n",
      "\n",
      "VIF for full set of features:\n",
      "                      VIF\n",
      "features                 \n",
      "Gen X Percent  152.808811\n",
      "Never Married  207.493609\n",
      "Divorced        22.999173\n",
      "Married        928.423222 \n",
      "\n",
      "VIF with key removed:\n",
      "                      VIF\n",
      "features                 \n",
      "Gen X Percent  435.733263\n",
      "Never Married  132.737555\n",
      "Divorced        30.227785 \n",
      "\n",
      "VIF with values removed:\n",
      "                 VIF\n",
      "features            \n",
      "Married   321.350495 \n",
      "\n",
      "-------------------------- o --------------------------\n",
      "Divorced \n",
      "\n",
      "VIF for full set of features:\n",
      "                            VIF\n",
      "features                       \n",
      "Gen X Percent        152.808811\n",
      "Married              928.423222\n",
      "Educ Primary School  121.699069\n",
      "Educ College          53.142549\n",
      "Divorced              22.999173 \n",
      "\n",
      "VIF with key removed:\n",
      "                             VIF\n",
      "features                        \n",
      "Gen X Percent         784.678949\n",
      "Married              2072.769410\n",
      "Educ Primary School   277.178690\n",
      "Educ College          176.143460 \n",
      "\n",
      "VIF with values removed:\n",
      "                VIF\n",
      "features           \n",
      "Divorced  25.724872 \n",
      "\n",
      "-------------------------- o --------------------------\n",
      "Educ Primary School \n",
      "\n",
      "VIF for full set of features:\n",
      "                            VIF\n",
      "features                       \n",
      "Divorced              22.999173\n",
      "Educ College          53.142549\n",
      "Educ Primary School  121.699069 \n",
      "\n",
      "VIF with key removed:\n",
      "                     VIF\n",
      "features                \n",
      "Divorced      102.305283\n",
      "Educ College  175.128578 \n",
      "\n",
      "VIF with values removed:\n",
      "                            VIF\n",
      "features                       \n",
      "Educ Primary School  275.006583 \n",
      "\n",
      "-------------------------- o --------------------------\n",
      "Educ College \n",
      "\n",
      "VIF for full set of features:\n",
      "                            VIF\n",
      "features                       \n",
      "Gen X Percent        152.808811\n",
      "Divorced              22.999173\n",
      "Educ Primary School  121.699069\n",
      "Real Estate High       2.532850\n",
      "Real Estate High       2.532850\n",
      "Educ College          53.142549 \n",
      "\n",
      "VIF with key removed:\n",
      "                             VIF\n",
      "features                        \n",
      "Gen X Percent        1773.815728\n",
      "Divorced              110.937196\n",
      "Educ Primary School   298.833624\n",
      "Real Estate High        2.630528\n",
      "Real Estate High        2.630528 \n",
      "\n",
      "VIF with values removed:\n",
      "                     VIF\n",
      "features                \n",
      "Educ College  163.405021 \n",
      "\n",
      "-------------------------- o --------------------------\n"
     ]
    }
   ],
   "source": [
    "# Prints out the findings\n",
    "for k,v in sub_df_vifs.items():\n",
    "    print(k,'\\n')\n",
    "    print('VIF for full set of features:')\n",
    "    print(v[0],'\\n')\n",
    "    print('VIF with key removed:')\n",
    "    print(v[1],'\\n')\n",
    "    print('VIF with values removed:')\n",
    "    print(v[2],'\\n')\n",
    "    print('-------------------------- o --------------------------')"
   ]
  },
  {
   "cell_type": "code",
   "execution_count": 144,
   "metadata": {},
   "outputs": [],
   "source": [
    "# Some columns are picked out of the analysis, as they resulted in tremendously high multicollinearity\n",
    "socio_fin = socio_fin.drop(columns=['Married','Gen X Percent']).astype(float).sort_index()"
   ]
  },
  {
   "cell_type": "code",
   "execution_count": 145,
   "metadata": {},
   "outputs": [
    {
     "data": {
      "text/html": [
       "<div>\n",
       "<style scoped>\n",
       "    .dataframe tbody tr th:only-of-type {\n",
       "        vertical-align: middle;\n",
       "    }\n",
       "\n",
       "    .dataframe tbody tr th {\n",
       "        vertical-align: top;\n",
       "    }\n",
       "\n",
       "    .dataframe thead th {\n",
       "        text-align: right;\n",
       "    }\n",
       "</style>\n",
       "<table border=\"1\" class=\"dataframe\">\n",
       "  <thead>\n",
       "    <tr style=\"text-align: right;\">\n",
       "      <th></th>\n",
       "      <th>Gen Z Percent</th>\n",
       "      <th>Gen Y Percent</th>\n",
       "      <th>Never Married</th>\n",
       "      <th>Divorced</th>\n",
       "      <th>Num Priv Workplaces</th>\n",
       "      <th>Educ Primary School</th>\n",
       "      <th>Educ College</th>\n",
       "      <th>State Health Center</th>\n",
       "      <th>Private Hospital</th>\n",
       "      <th>Gas for Heating Rate</th>\n",
       "      <th>...</th>\n",
       "      <th>Shopping Malls</th>\n",
       "      <th>Bazaar Places</th>\n",
       "      <th>Total Population 2019</th>\n",
       "      <th>Population Change 15-19</th>\n",
       "      <th>Population Women / Men</th>\n",
       "      <th>Residences Density</th>\n",
       "      <th>Cultural High</th>\n",
       "      <th>Cultural Medium</th>\n",
       "      <th>Real Estate Low</th>\n",
       "      <th>Real Estate High</th>\n",
       "    </tr>\n",
       "    <tr>\n",
       "      <th>nbhd_id</th>\n",
       "      <th></th>\n",
       "      <th></th>\n",
       "      <th></th>\n",
       "      <th></th>\n",
       "      <th></th>\n",
       "      <th></th>\n",
       "      <th></th>\n",
       "      <th></th>\n",
       "      <th></th>\n",
       "      <th></th>\n",
       "      <th></th>\n",
       "      <th></th>\n",
       "      <th></th>\n",
       "      <th></th>\n",
       "      <th></th>\n",
       "      <th></th>\n",
       "      <th></th>\n",
       "      <th></th>\n",
       "      <th></th>\n",
       "      <th></th>\n",
       "      <th></th>\n",
       "    </tr>\n",
       "  </thead>\n",
       "  <tbody>\n",
       "    <tr>\n",
       "      <th>101</th>\n",
       "      <td>22.50</td>\n",
       "      <td>23.98</td>\n",
       "      <td>25.65</td>\n",
       "      <td>11.48</td>\n",
       "      <td>81.0</td>\n",
       "      <td>19.65</td>\n",
       "      <td>22.071051</td>\n",
       "      <td>1.0</td>\n",
       "      <td>0.0</td>\n",
       "      <td>0.616737</td>\n",
       "      <td>...</td>\n",
       "      <td>0.0</td>\n",
       "      <td>1.0</td>\n",
       "      <td>1427.0</td>\n",
       "      <td>-0.006267</td>\n",
       "      <td>1.043103</td>\n",
       "      <td>1498.148148</td>\n",
       "      <td>0.0</td>\n",
       "      <td>1.0</td>\n",
       "      <td>0.0</td>\n",
       "      <td>0.0</td>\n",
       "    </tr>\n",
       "    <tr>\n",
       "      <th>102</th>\n",
       "      <td>21.19</td>\n",
       "      <td>30.45</td>\n",
       "      <td>32.54</td>\n",
       "      <td>8.99</td>\n",
       "      <td>181.0</td>\n",
       "      <td>20.09</td>\n",
       "      <td>22.844950</td>\n",
       "      <td>1.0</td>\n",
       "      <td>0.0</td>\n",
       "      <td>0.536332</td>\n",
       "      <td>...</td>\n",
       "      <td>0.0</td>\n",
       "      <td>1.0</td>\n",
       "      <td>4253.0</td>\n",
       "      <td>-0.111181</td>\n",
       "      <td>0.922723</td>\n",
       "      <td>1472.796935</td>\n",
       "      <td>0.0</td>\n",
       "      <td>0.0</td>\n",
       "      <td>0.0</td>\n",
       "      <td>1.0</td>\n",
       "    </tr>\n",
       "    <tr>\n",
       "      <th>103</th>\n",
       "      <td>21.26</td>\n",
       "      <td>22.99</td>\n",
       "      <td>24.73</td>\n",
       "      <td>6.80</td>\n",
       "      <td>125.0</td>\n",
       "      <td>24.16</td>\n",
       "      <td>18.891967</td>\n",
       "      <td>1.0</td>\n",
       "      <td>0.0</td>\n",
       "      <td>0.465617</td>\n",
       "      <td>...</td>\n",
       "      <td>0.0</td>\n",
       "      <td>1.0</td>\n",
       "      <td>1758.0</td>\n",
       "      <td>-0.141182</td>\n",
       "      <td>0.914573</td>\n",
       "      <td>2833.823529</td>\n",
       "      <td>0.0</td>\n",
       "      <td>0.0</td>\n",
       "      <td>1.0</td>\n",
       "      <td>0.0</td>\n",
       "    </tr>\n",
       "    <tr>\n",
       "      <th>104</th>\n",
       "      <td>22.72</td>\n",
       "      <td>28.54</td>\n",
       "      <td>28.20</td>\n",
       "      <td>9.56</td>\n",
       "      <td>287.0</td>\n",
       "      <td>20.52</td>\n",
       "      <td>20.090749</td>\n",
       "      <td>0.0</td>\n",
       "      <td>0.0</td>\n",
       "      <td>0.454441</td>\n",
       "      <td>...</td>\n",
       "      <td>0.0</td>\n",
       "      <td>0.0</td>\n",
       "      <td>4330.0</td>\n",
       "      <td>-0.005969</td>\n",
       "      <td>0.948315</td>\n",
       "      <td>1644.400000</td>\n",
       "      <td>0.0</td>\n",
       "      <td>0.0</td>\n",
       "      <td>0.0</td>\n",
       "      <td>1.0</td>\n",
       "    </tr>\n",
       "    <tr>\n",
       "      <th>105</th>\n",
       "      <td>23.64</td>\n",
       "      <td>26.28</td>\n",
       "      <td>27.55</td>\n",
       "      <td>9.91</td>\n",
       "      <td>430.0</td>\n",
       "      <td>21.42</td>\n",
       "      <td>21.636168</td>\n",
       "      <td>1.0</td>\n",
       "      <td>0.0</td>\n",
       "      <td>0.522393</td>\n",
       "      <td>...</td>\n",
       "      <td>0.0</td>\n",
       "      <td>1.0</td>\n",
       "      <td>3470.0</td>\n",
       "      <td>0.157052</td>\n",
       "      <td>0.973548</td>\n",
       "      <td>1278.637771</td>\n",
       "      <td>0.0</td>\n",
       "      <td>0.0</td>\n",
       "      <td>0.0</td>\n",
       "      <td>1.0</td>\n",
       "    </tr>\n",
       "    <tr>\n",
       "      <th>...</th>\n",
       "      <td>...</td>\n",
       "      <td>...</td>\n",
       "      <td>...</td>\n",
       "      <td>...</td>\n",
       "      <td>...</td>\n",
       "      <td>...</td>\n",
       "      <td>...</td>\n",
       "      <td>...</td>\n",
       "      <td>...</td>\n",
       "      <td>...</td>\n",
       "      <td>...</td>\n",
       "      <td>...</td>\n",
       "      <td>...</td>\n",
       "      <td>...</td>\n",
       "      <td>...</td>\n",
       "      <td>...</td>\n",
       "      <td>...</td>\n",
       "      <td>...</td>\n",
       "      <td>...</td>\n",
       "      <td>...</td>\n",
       "      <td>...</td>\n",
       "    </tr>\n",
       "    <tr>\n",
       "      <th>3909</th>\n",
       "      <td>21.27</td>\n",
       "      <td>34.19</td>\n",
       "      <td>29.95</td>\n",
       "      <td>5.76</td>\n",
       "      <td>2062.0</td>\n",
       "      <td>26.69</td>\n",
       "      <td>13.309855</td>\n",
       "      <td>1.0</td>\n",
       "      <td>0.0</td>\n",
       "      <td>0.304375</td>\n",
       "      <td>...</td>\n",
       "      <td>0.0</td>\n",
       "      <td>1.0</td>\n",
       "      <td>37552.0</td>\n",
       "      <td>-0.016345</td>\n",
       "      <td>0.999092</td>\n",
       "      <td>19362.121212</td>\n",
       "      <td>0.0</td>\n",
       "      <td>0.0</td>\n",
       "      <td>0.0</td>\n",
       "      <td>0.0</td>\n",
       "    </tr>\n",
       "    <tr>\n",
       "      <th>3910</th>\n",
       "      <td>20.07</td>\n",
       "      <td>35.40</td>\n",
       "      <td>31.61</td>\n",
       "      <td>4.13</td>\n",
       "      <td>3208.0</td>\n",
       "      <td>29.59</td>\n",
       "      <td>10.204818</td>\n",
       "      <td>1.0</td>\n",
       "      <td>0.0</td>\n",
       "      <td>0.299632</td>\n",
       "      <td>...</td>\n",
       "      <td>0.0</td>\n",
       "      <td>1.0</td>\n",
       "      <td>37469.0</td>\n",
       "      <td>-0.011972</td>\n",
       "      <td>0.983924</td>\n",
       "      <td>19725.000000</td>\n",
       "      <td>0.0</td>\n",
       "      <td>0.0</td>\n",
       "      <td>0.0</td>\n",
       "      <td>0.0</td>\n",
       "    </tr>\n",
       "    <tr>\n",
       "      <th>3911</th>\n",
       "      <td>19.08</td>\n",
       "      <td>36.15</td>\n",
       "      <td>33.18</td>\n",
       "      <td>4.24</td>\n",
       "      <td>1877.0</td>\n",
       "      <td>30.22</td>\n",
       "      <td>7.775950</td>\n",
       "      <td>1.0</td>\n",
       "      <td>0.0</td>\n",
       "      <td>0.264492</td>\n",
       "      <td>...</td>\n",
       "      <td>0.0</td>\n",
       "      <td>0.0</td>\n",
       "      <td>27275.0</td>\n",
       "      <td>-0.030636</td>\n",
       "      <td>0.970516</td>\n",
       "      <td>20440.000000</td>\n",
       "      <td>0.0</td>\n",
       "      <td>0.0</td>\n",
       "      <td>0.0</td>\n",
       "      <td>0.0</td>\n",
       "    </tr>\n",
       "    <tr>\n",
       "      <th>3912</th>\n",
       "      <td>20.35</td>\n",
       "      <td>34.89</td>\n",
       "      <td>33.01</td>\n",
       "      <td>5.95</td>\n",
       "      <td>1096.0</td>\n",
       "      <td>25.50</td>\n",
       "      <td>12.104325</td>\n",
       "      <td>0.0</td>\n",
       "      <td>0.0</td>\n",
       "      <td>0.303301</td>\n",
       "      <td>...</td>\n",
       "      <td>0.0</td>\n",
       "      <td>0.0</td>\n",
       "      <td>11317.0</td>\n",
       "      <td>0.066635</td>\n",
       "      <td>0.928508</td>\n",
       "      <td>20943.750000</td>\n",
       "      <td>0.0</td>\n",
       "      <td>0.0</td>\n",
       "      <td>0.0</td>\n",
       "      <td>0.0</td>\n",
       "    </tr>\n",
       "    <tr>\n",
       "      <th>3913</th>\n",
       "      <td>18.75</td>\n",
       "      <td>35.81</td>\n",
       "      <td>33.60</td>\n",
       "      <td>3.95</td>\n",
       "      <td>1463.0</td>\n",
       "      <td>28.41</td>\n",
       "      <td>8.006125</td>\n",
       "      <td>0.0</td>\n",
       "      <td>0.0</td>\n",
       "      <td>0.256120</td>\n",
       "      <td>...</td>\n",
       "      <td>0.0</td>\n",
       "      <td>0.0</td>\n",
       "      <td>22370.0</td>\n",
       "      <td>0.009477</td>\n",
       "      <td>0.958760</td>\n",
       "      <td>27954.545455</td>\n",
       "      <td>0.0</td>\n",
       "      <td>0.0</td>\n",
       "      <td>0.0</td>\n",
       "      <td>0.0</td>\n",
       "    </tr>\n",
       "  </tbody>\n",
       "</table>\n",
       "<p>798 rows × 23 columns</p>\n",
       "</div>"
      ],
      "text/plain": [
       "         Gen Z Percent  Gen Y Percent  Never Married  Divorced  \\\n",
       "nbhd_id                                                          \n",
       "101              22.50          23.98          25.65     11.48   \n",
       "102              21.19          30.45          32.54      8.99   \n",
       "103              21.26          22.99          24.73      6.80   \n",
       "104              22.72          28.54          28.20      9.56   \n",
       "105              23.64          26.28          27.55      9.91   \n",
       "...                ...            ...            ...       ...   \n",
       "3909             21.27          34.19          29.95      5.76   \n",
       "3910             20.07          35.40          31.61      4.13   \n",
       "3911             19.08          36.15          33.18      4.24   \n",
       "3912             20.35          34.89          33.01      5.95   \n",
       "3913             18.75          35.81          33.60      3.95   \n",
       "\n",
       "         Num Priv Workplaces  Educ Primary School  Educ College  \\\n",
       "nbhd_id                                                           \n",
       "101                     81.0                19.65     22.071051   \n",
       "102                    181.0                20.09     22.844950   \n",
       "103                    125.0                24.16     18.891967   \n",
       "104                    287.0                20.52     20.090749   \n",
       "105                    430.0                21.42     21.636168   \n",
       "...                      ...                  ...           ...   \n",
       "3909                  2062.0                26.69     13.309855   \n",
       "3910                  3208.0                29.59     10.204818   \n",
       "3911                  1877.0                30.22      7.775950   \n",
       "3912                  1096.0                25.50     12.104325   \n",
       "3913                  1463.0                28.41      8.006125   \n",
       "\n",
       "         State Health Center  Private Hospital  Gas for Heating Rate  ...  \\\n",
       "nbhd_id                                                               ...   \n",
       "101                      1.0               0.0              0.616737  ...   \n",
       "102                      1.0               0.0              0.536332  ...   \n",
       "103                      1.0               0.0              0.465617  ...   \n",
       "104                      0.0               0.0              0.454441  ...   \n",
       "105                      1.0               0.0              0.522393  ...   \n",
       "...                      ...               ...                   ...  ...   \n",
       "3909                     1.0               0.0              0.304375  ...   \n",
       "3910                     1.0               0.0              0.299632  ...   \n",
       "3911                     1.0               0.0              0.264492  ...   \n",
       "3912                     0.0               0.0              0.303301  ...   \n",
       "3913                     0.0               0.0              0.256120  ...   \n",
       "\n",
       "         Shopping Malls  Bazaar Places  Total Population 2019  \\\n",
       "nbhd_id                                                         \n",
       "101                 0.0            1.0                 1427.0   \n",
       "102                 0.0            1.0                 4253.0   \n",
       "103                 0.0            1.0                 1758.0   \n",
       "104                 0.0            0.0                 4330.0   \n",
       "105                 0.0            1.0                 3470.0   \n",
       "...                 ...            ...                    ...   \n",
       "3909                0.0            1.0                37552.0   \n",
       "3910                0.0            1.0                37469.0   \n",
       "3911                0.0            0.0                27275.0   \n",
       "3912                0.0            0.0                11317.0   \n",
       "3913                0.0            0.0                22370.0   \n",
       "\n",
       "         Population Change 15-19  Population Women / Men  Residences Density  \\\n",
       "nbhd_id                                                                        \n",
       "101                    -0.006267                1.043103         1498.148148   \n",
       "102                    -0.111181                0.922723         1472.796935   \n",
       "103                    -0.141182                0.914573         2833.823529   \n",
       "104                    -0.005969                0.948315         1644.400000   \n",
       "105                     0.157052                0.973548         1278.637771   \n",
       "...                          ...                     ...                 ...   \n",
       "3909                   -0.016345                0.999092        19362.121212   \n",
       "3910                   -0.011972                0.983924        19725.000000   \n",
       "3911                   -0.030636                0.970516        20440.000000   \n",
       "3912                    0.066635                0.928508        20943.750000   \n",
       "3913                    0.009477                0.958760        27954.545455   \n",
       "\n",
       "         Cultural High  Cultural Medium  Real Estate Low  Real Estate High  \n",
       "nbhd_id                                                                     \n",
       "101                0.0              1.0              0.0               0.0  \n",
       "102                0.0              0.0              0.0               1.0  \n",
       "103                0.0              0.0              1.0               0.0  \n",
       "104                0.0              0.0              0.0               1.0  \n",
       "105                0.0              0.0              0.0               1.0  \n",
       "...                ...              ...              ...               ...  \n",
       "3909               0.0              0.0              0.0               0.0  \n",
       "3910               0.0              0.0              0.0               0.0  \n",
       "3911               0.0              0.0              0.0               0.0  \n",
       "3912               0.0              0.0              0.0               0.0  \n",
       "3913               0.0              0.0              0.0               0.0  \n",
       "\n",
       "[798 rows x 23 columns]"
      ]
     },
     "execution_count": 145,
     "metadata": {},
     "output_type": "execute_result"
    }
   ],
   "source": [
    "socio_fin"
   ]
  },
  {
   "cell_type": "code",
   "execution_count": 146,
   "metadata": {},
   "outputs": [
    {
     "data": {
      "text/plain": [
       "(798, 23)"
      ]
     },
     "execution_count": 146,
     "metadata": {},
     "output_type": "execute_result"
    }
   ],
   "source": [
    "socio_fin.shape"
   ]
  },
  {
   "cell_type": "code",
   "execution_count": 147,
   "metadata": {},
   "outputs": [
    {
     "data": {
      "text/html": [
       "<div>\n",
       "<style scoped>\n",
       "    .dataframe tbody tr th:only-of-type {\n",
       "        vertical-align: middle;\n",
       "    }\n",
       "\n",
       "    .dataframe tbody tr th {\n",
       "        vertical-align: top;\n",
       "    }\n",
       "\n",
       "    .dataframe thead th {\n",
       "        text-align: right;\n",
       "    }\n",
       "</style>\n",
       "<table border=\"1\" class=\"dataframe\">\n",
       "  <thead>\n",
       "    <tr style=\"text-align: right;\">\n",
       "      <th></th>\n",
       "      <th>VIF</th>\n",
       "    </tr>\n",
       "    <tr>\n",
       "      <th>features</th>\n",
       "      <th></th>\n",
       "    </tr>\n",
       "  </thead>\n",
       "  <tbody>\n",
       "    <tr>\n",
       "      <th>Gen Z Percent</th>\n",
       "      <td>100.730546</td>\n",
       "    </tr>\n",
       "    <tr>\n",
       "      <th>Gen Y Percent</th>\n",
       "      <td>132.227533</td>\n",
       "    </tr>\n",
       "    <tr>\n",
       "      <th>Never Married</th>\n",
       "      <td>73.988914</td>\n",
       "    </tr>\n",
       "    <tr>\n",
       "      <th>Divorced</th>\n",
       "      <td>15.998036</td>\n",
       "    </tr>\n",
       "    <tr>\n",
       "      <th>Num Priv Workplaces</th>\n",
       "      <td>2.916390</td>\n",
       "    </tr>\n",
       "    <tr>\n",
       "      <th>Educ Primary School</th>\n",
       "      <td>55.990896</td>\n",
       "    </tr>\n",
       "    <tr>\n",
       "      <th>Educ College</th>\n",
       "      <td>33.554455</td>\n",
       "    </tr>\n",
       "    <tr>\n",
       "      <th>State Health Center</th>\n",
       "      <td>4.289290</td>\n",
       "    </tr>\n",
       "    <tr>\n",
       "      <th>Private Hospital</th>\n",
       "      <td>1.404823</td>\n",
       "    </tr>\n",
       "    <tr>\n",
       "      <th>Gas for Heating Rate</th>\n",
       "      <td>14.229790</td>\n",
       "    </tr>\n",
       "    <tr>\n",
       "      <th>Hours of Water Outage</th>\n",
       "      <td>3.063900</td>\n",
       "    </tr>\n",
       "    <tr>\n",
       "      <th>Subway Stations</th>\n",
       "      <td>1.402580</td>\n",
       "    </tr>\n",
       "    <tr>\n",
       "      <th>Supermarket Dens Index</th>\n",
       "      <td>4.674325</td>\n",
       "    </tr>\n",
       "    <tr>\n",
       "      <th>Shopping Malls</th>\n",
       "      <td>1.504955</td>\n",
       "    </tr>\n",
       "    <tr>\n",
       "      <th>Bazaar Places</th>\n",
       "      <td>2.430344</td>\n",
       "    </tr>\n",
       "    <tr>\n",
       "      <th>Total Population 2019</th>\n",
       "      <td>6.346172</td>\n",
       "    </tr>\n",
       "    <tr>\n",
       "      <th>Population Change 15-19</th>\n",
       "      <td>1.445247</td>\n",
       "    </tr>\n",
       "    <tr>\n",
       "      <th>Population Women / Men</th>\n",
       "      <td>31.488987</td>\n",
       "    </tr>\n",
       "    <tr>\n",
       "      <th>Residences Density</th>\n",
       "      <td>3.193246</td>\n",
       "    </tr>\n",
       "    <tr>\n",
       "      <th>Cultural High</th>\n",
       "      <td>1.955498</td>\n",
       "    </tr>\n",
       "    <tr>\n",
       "      <th>Cultural Medium</th>\n",
       "      <td>1.517141</td>\n",
       "    </tr>\n",
       "    <tr>\n",
       "      <th>Real Estate Low</th>\n",
       "      <td>2.877793</td>\n",
       "    </tr>\n",
       "    <tr>\n",
       "      <th>Real Estate High</th>\n",
       "      <td>2.507779</td>\n",
       "    </tr>\n",
       "  </tbody>\n",
       "</table>\n",
       "</div>"
      ],
      "text/plain": [
       "                                VIF\n",
       "features                           \n",
       "Gen Z Percent            100.730546\n",
       "Gen Y Percent            132.227533\n",
       "Never Married             73.988914\n",
       "Divorced                  15.998036\n",
       "Num Priv Workplaces        2.916390\n",
       "Educ Primary School       55.990896\n",
       "Educ College              33.554455\n",
       "State Health Center        4.289290\n",
       "Private Hospital           1.404823\n",
       "Gas for Heating Rate      14.229790\n",
       "Hours of Water Outage      3.063900\n",
       "Subway Stations            1.402580\n",
       "Supermarket Dens Index     4.674325\n",
       "Shopping Malls             1.504955\n",
       "Bazaar Places              2.430344\n",
       "Total Population 2019      6.346172\n",
       "Population Change 15-19    1.445247\n",
       "Population Women / Men    31.488987\n",
       "Residences Density         3.193246\n",
       "Cultural High              1.955498\n",
       "Cultural Medium            1.517141\n",
       "Real Estate Low            2.877793\n",
       "Real Estate High           2.507779"
      ]
     },
     "execution_count": 147,
     "metadata": {},
     "output_type": "execute_result"
    }
   ],
   "source": [
    "# VIF matrix is calculated once again\n",
    "# There are still very high VIF values, which shows that we need to do more work on selecting the features\n",
    "#  but the VIF values that are as high as thousands or even more no longer exist in the matrix\n",
    "vif_matrix(socio_fin)"
   ]
  },
  {
   "cell_type": "code",
   "execution_count": 149,
   "metadata": {},
   "outputs": [
    {
     "name": "stdout",
     "output_type": "stream",
     "text": [
      "Never Married and Gen Y Percent : 0.644\n",
      "Divorced and Gen Z Percent : 0.564\n",
      "Educ College and Gen Z Percent : 0.553\n",
      "Educ College and Divorced : 0.691\n",
      "Total Population 2019 and Supermarket Dens Index : 0.592\n",
      "Real Estate High and Divorced : 0.546\n",
      "Real Estate High and Educ College : 0.627\n"
     ]
    }
   ],
   "source": [
    "# Generates the correlation matrix for the new subset of features\n",
    "corr_mat = socio_fin.corr()\n",
    "correlated = list()\n",
    "\n",
    "# Prints the highly correlated features and their level of correlation, adds the features to the list\n",
    "for i in range(len(corr_mat)):\n",
    "    for j in range(i):\n",
    "        if corr_mat.iloc[i,j] >= .5:\n",
    "            print(corr_mat.index[i],'and',corr_mat.columns[j],':',\"%.3f\"%corr_mat.iloc[i,j])\n",
    "            correlated.append((corr_mat.index[i],corr_mat.columns[j]))"
   ]
  },
  {
   "cell_type": "code",
   "execution_count": 150,
   "metadata": {},
   "outputs": [
    {
     "data": {
      "text/plain": [
       "[('Never Married', 'Gen Y Percent'),\n",
       " ('Divorced', 'Gen Z Percent'),\n",
       " ('Educ College', 'Gen Z Percent'),\n",
       " ('Educ College', 'Divorced'),\n",
       " ('Total Population 2019', 'Supermarket Dens Index'),\n",
       " ('Real Estate High', 'Divorced'),\n",
       " ('Real Estate High', 'Educ College')]"
      ]
     },
     "execution_count": 150,
     "metadata": {},
     "output_type": "execute_result"
    }
   ],
   "source": [
    "# Prints the list\n",
    "correlated"
   ]
  },
  {
   "cell_type": "code",
   "execution_count": 151,
   "metadata": {},
   "outputs": [],
   "source": [
    "# Trains the model holding off one of the correlated features at a time, and compares the performances\n",
    "results = list()\n",
    "\n",
    "for cor in correlated:\n",
    "    temp1 = socio_fin.drop(columns=cor[0]).to_numpy()\n",
    "    temp2 = socio_fin.drop(columns=cor[1]).to_numpy()\n",
    "    \n",
    "    X_tr1, X_te1, y_tr1, y_te1 = train_test_split(temp1, gov_opp_17_4)\n",
    "    X_tr2, X_te2, y_tr2, y_te2 = train_test_split(temp2, gov_opp_17_4)\n",
    "    \n",
    "    rf1 = RandomForestRegressor(n_estimators=200, random_state=91)\n",
    "    rf2 = RandomForestRegressor(n_estimators=200, random_state=91)\n",
    "    \n",
    "    rf1.fit(X_tr1, y_tr1)\n",
    "    rf2.fit(X_tr2, y_tr2)\n",
    "    \n",
    "    results.append([('Removed '+cor[0],rf1.score(X_te1,y_te1)),('Removed '+cor[1],rf2.score(X_te2,y_te2))])"
   ]
  },
  {
   "cell_type": "code",
   "execution_count": 152,
   "metadata": {},
   "outputs": [
    {
     "data": {
      "text/plain": [
       "[[('Removed Never Married', 0.5822038125425982),\n",
       "  ('Removed Gen Y Percent', 0.16692662568225736)],\n",
       " [('Removed Divorced', 0.4529019905606211),\n",
       "  ('Removed Gen Z Percent', 0.3981341359841887)],\n",
       " [('Removed Educ College', 0.4499103871890918),\n",
       "  ('Removed Gen Z Percent', 0.08045042126376589)],\n",
       " [('Removed Educ College', 0.1693355052637059),\n",
       "  ('Removed Divorced', 0.4963699271963961)],\n",
       " [('Removed Total Population 2019', 0.4997839630318268),\n",
       "  ('Removed Supermarket Dens Index', 0.1694149393854706)],\n",
       " [('Removed Real Estate High', 0.19312590112489292),\n",
       "  ('Removed Divorced', 0.1969739535221383)],\n",
       " [('Removed Real Estate High', 0.17270388320385777),\n",
       "  ('Removed Educ College', 0.41096409019060953)]]"
      ]
     },
     "execution_count": 152,
     "metadata": {},
     "output_type": "execute_result"
    }
   ],
   "source": [
    "results"
   ]
  },
  {
   "cell_type": "code",
   "execution_count": 153,
   "metadata": {},
   "outputs": [],
   "source": [
    "socio_fin = socio_fin.drop(columns=['Never Married', 'Divorced','Total Population 2019'])"
   ]
  },
  {
   "cell_type": "code",
   "execution_count": 154,
   "metadata": {},
   "outputs": [],
   "source": [
    "vif_mat = vif_matrix(socio_fin)"
   ]
  },
  {
   "cell_type": "code",
   "execution_count": 155,
   "metadata": {},
   "outputs": [
    {
     "data": {
      "text/html": [
       "<div>\n",
       "<style scoped>\n",
       "    .dataframe tbody tr th:only-of-type {\n",
       "        vertical-align: middle;\n",
       "    }\n",
       "\n",
       "    .dataframe tbody tr th {\n",
       "        vertical-align: top;\n",
       "    }\n",
       "\n",
       "    .dataframe thead th {\n",
       "        text-align: right;\n",
       "    }\n",
       "</style>\n",
       "<table border=\"1\" class=\"dataframe\">\n",
       "  <thead>\n",
       "    <tr style=\"text-align: right;\">\n",
       "      <th></th>\n",
       "      <th>VIF</th>\n",
       "    </tr>\n",
       "    <tr>\n",
       "      <th>features</th>\n",
       "      <th></th>\n",
       "    </tr>\n",
       "  </thead>\n",
       "  <tbody>\n",
       "    <tr>\n",
       "      <th>Gen Z Percent</th>\n",
       "      <td>88.960254</td>\n",
       "    </tr>\n",
       "    <tr>\n",
       "      <th>Gen Y Percent</th>\n",
       "      <td>36.224688</td>\n",
       "    </tr>\n",
       "    <tr>\n",
       "      <th>Num Priv Workplaces</th>\n",
       "      <td>2.751856</td>\n",
       "    </tr>\n",
       "    <tr>\n",
       "      <th>Educ Primary School</th>\n",
       "      <td>51.682840</td>\n",
       "    </tr>\n",
       "    <tr>\n",
       "      <th>Educ College</th>\n",
       "      <td>30.385553</td>\n",
       "    </tr>\n",
       "    <tr>\n",
       "      <th>State Health Center</th>\n",
       "      <td>4.090854</td>\n",
       "    </tr>\n",
       "    <tr>\n",
       "      <th>Private Hospital</th>\n",
       "      <td>1.399540</td>\n",
       "    </tr>\n",
       "    <tr>\n",
       "      <th>Gas for Heating Rate</th>\n",
       "      <td>13.294755</td>\n",
       "    </tr>\n",
       "    <tr>\n",
       "      <th>Hours of Water Outage</th>\n",
       "      <td>3.024803</td>\n",
       "    </tr>\n",
       "    <tr>\n",
       "      <th>Subway Stations</th>\n",
       "      <td>1.397321</td>\n",
       "    </tr>\n",
       "    <tr>\n",
       "      <th>Supermarket Dens Index</th>\n",
       "      <td>3.437550</td>\n",
       "    </tr>\n",
       "    <tr>\n",
       "      <th>Shopping Malls</th>\n",
       "      <td>1.488351</td>\n",
       "    </tr>\n",
       "    <tr>\n",
       "      <th>Bazaar Places</th>\n",
       "      <td>2.333672</td>\n",
       "    </tr>\n",
       "    <tr>\n",
       "      <th>Population Change 15-19</th>\n",
       "      <td>1.339143</td>\n",
       "    </tr>\n",
       "    <tr>\n",
       "      <th>Population Women / Men</th>\n",
       "      <td>29.107273</td>\n",
       "    </tr>\n",
       "    <tr>\n",
       "      <th>Residences Density</th>\n",
       "      <td>2.763624</td>\n",
       "    </tr>\n",
       "    <tr>\n",
       "      <th>Cultural High</th>\n",
       "      <td>1.852339</td>\n",
       "    </tr>\n",
       "    <tr>\n",
       "      <th>Cultural Medium</th>\n",
       "      <td>1.498756</td>\n",
       "    </tr>\n",
       "    <tr>\n",
       "      <th>Real Estate Low</th>\n",
       "      <td>2.440645</td>\n",
       "    </tr>\n",
       "    <tr>\n",
       "      <th>Real Estate High</th>\n",
       "      <td>2.344365</td>\n",
       "    </tr>\n",
       "  </tbody>\n",
       "</table>\n",
       "</div>"
      ],
      "text/plain": [
       "                               VIF\n",
       "features                          \n",
       "Gen Z Percent            88.960254\n",
       "Gen Y Percent            36.224688\n",
       "Num Priv Workplaces       2.751856\n",
       "Educ Primary School      51.682840\n",
       "Educ College             30.385553\n",
       "State Health Center       4.090854\n",
       "Private Hospital          1.399540\n",
       "Gas for Heating Rate     13.294755\n",
       "Hours of Water Outage     3.024803\n",
       "Subway Stations           1.397321\n",
       "Supermarket Dens Index    3.437550\n",
       "Shopping Malls            1.488351\n",
       "Bazaar Places             2.333672\n",
       "Population Change 15-19   1.339143\n",
       "Population Women / Men   29.107273\n",
       "Residences Density        2.763624\n",
       "Cultural High             1.852339\n",
       "Cultural Medium           1.498756\n",
       "Real Estate Low           2.440645\n",
       "Real Estate High          2.344365"
      ]
     },
     "execution_count": 155,
     "metadata": {},
     "output_type": "execute_result"
    }
   ],
   "source": [
    "vif_mat"
   ]
  },
  {
   "cell_type": "code",
   "execution_count": 217,
   "metadata": {},
   "outputs": [],
   "source": [
    "socio_fin = socio_fin.drop(columns=['Population Women / Men','Educ Primary School','Gen Z Percent','Educ College'])"
   ]
  },
  {
   "cell_type": "code",
   "execution_count": 218,
   "metadata": {},
   "outputs": [
    {
     "data": {
      "text/plain": [
       "(798, 16)"
      ]
     },
     "execution_count": 218,
     "metadata": {},
     "output_type": "execute_result"
    }
   ],
   "source": [
    "socio_fin.shape"
   ]
  },
  {
   "cell_type": "code",
   "execution_count": 219,
   "metadata": {},
   "outputs": [
    {
     "data": {
      "text/html": [
       "<div>\n",
       "<style scoped>\n",
       "    .dataframe tbody tr th:only-of-type {\n",
       "        vertical-align: middle;\n",
       "    }\n",
       "\n",
       "    .dataframe tbody tr th {\n",
       "        vertical-align: top;\n",
       "    }\n",
       "\n",
       "    .dataframe thead th {\n",
       "        text-align: right;\n",
       "    }\n",
       "</style>\n",
       "<table border=\"1\" class=\"dataframe\">\n",
       "  <thead>\n",
       "    <tr style=\"text-align: right;\">\n",
       "      <th></th>\n",
       "      <th>VIF</th>\n",
       "    </tr>\n",
       "    <tr>\n",
       "      <th>features</th>\n",
       "      <th></th>\n",
       "    </tr>\n",
       "  </thead>\n",
       "  <tbody>\n",
       "    <tr>\n",
       "      <th>Gen Y Percent</th>\n",
       "      <td>14.145156</td>\n",
       "    </tr>\n",
       "    <tr>\n",
       "      <th>Num Priv Workplaces</th>\n",
       "      <td>2.662287</td>\n",
       "    </tr>\n",
       "    <tr>\n",
       "      <th>State Health Center</th>\n",
       "      <td>4.027625</td>\n",
       "    </tr>\n",
       "    <tr>\n",
       "      <th>Private Hospital</th>\n",
       "      <td>1.382999</td>\n",
       "    </tr>\n",
       "    <tr>\n",
       "      <th>Gas for Heating Rate</th>\n",
       "      <td>9.195362</td>\n",
       "    </tr>\n",
       "    <tr>\n",
       "      <th>Hours of Water Outage</th>\n",
       "      <td>2.624991</td>\n",
       "    </tr>\n",
       "    <tr>\n",
       "      <th>Subway Stations</th>\n",
       "      <td>1.383920</td>\n",
       "    </tr>\n",
       "    <tr>\n",
       "      <th>Supermarket Dens Index</th>\n",
       "      <td>3.039838</td>\n",
       "    </tr>\n",
       "    <tr>\n",
       "      <th>Shopping Malls</th>\n",
       "      <td>1.482386</td>\n",
       "    </tr>\n",
       "    <tr>\n",
       "      <th>Bazaar Places</th>\n",
       "      <td>2.288990</td>\n",
       "    </tr>\n",
       "    <tr>\n",
       "      <th>Population Change 15-19</th>\n",
       "      <td>1.285235</td>\n",
       "    </tr>\n",
       "    <tr>\n",
       "      <th>Residences Density</th>\n",
       "      <td>2.747935</td>\n",
       "    </tr>\n",
       "    <tr>\n",
       "      <th>Cultural High</th>\n",
       "      <td>1.741703</td>\n",
       "    </tr>\n",
       "    <tr>\n",
       "      <th>Cultural Medium</th>\n",
       "      <td>1.459631</td>\n",
       "    </tr>\n",
       "    <tr>\n",
       "      <th>Real Estate Low</th>\n",
       "      <td>2.319044</td>\n",
       "    </tr>\n",
       "    <tr>\n",
       "      <th>Real Estate High</th>\n",
       "      <td>1.756956</td>\n",
       "    </tr>\n",
       "  </tbody>\n",
       "</table>\n",
       "</div>"
      ],
      "text/plain": [
       "                               VIF\n",
       "features                          \n",
       "Gen Y Percent            14.145156\n",
       "Num Priv Workplaces       2.662287\n",
       "State Health Center       4.027625\n",
       "Private Hospital          1.382999\n",
       "Gas for Heating Rate      9.195362\n",
       "Hours of Water Outage     2.624991\n",
       "Subway Stations           1.383920\n",
       "Supermarket Dens Index    3.039838\n",
       "Shopping Malls            1.482386\n",
       "Bazaar Places             2.288990\n",
       "Population Change 15-19   1.285235\n",
       "Residences Density        2.747935\n",
       "Cultural High             1.741703\n",
       "Cultural Medium           1.459631\n",
       "Real Estate Low           2.319044\n",
       "Real Estate High          1.756956"
      ]
     },
     "execution_count": 219,
     "metadata": {},
     "output_type": "execute_result"
    }
   ],
   "source": [
    "vif_fin = vif_matrix(socio_fin)\n",
    "vif_fin"
   ]
  },
  {
   "cell_type": "code",
   "execution_count": 220,
   "metadata": {},
   "outputs": [],
   "source": [
    "features = socio_fin.to_numpy()"
   ]
  },
  {
   "cell_type": "code",
   "execution_count": 221,
   "metadata": {},
   "outputs": [],
   "source": [
    "from sklearn.feature_selection import SelectKBest, f_regression"
   ]
  },
  {
   "cell_type": "code",
   "execution_count": 222,
   "metadata": {},
   "outputs": [],
   "source": [
    "skb1 = SelectKBest(f_regression, k='all').fit(features, gov_opp_17_4)"
   ]
  },
  {
   "cell_type": "code",
   "execution_count": 223,
   "metadata": {},
   "outputs": [],
   "source": [
    "skb_scores1 = dict(zip(socio_fin.columns,skb1.scores_))"
   ]
  },
  {
   "cell_type": "code",
   "execution_count": 224,
   "metadata": {},
   "outputs": [],
   "source": [
    "skb2 = SelectKBest(f_regression, k='all').fit(features, gov_opp_18_6)"
   ]
  },
  {
   "cell_type": "code",
   "execution_count": 225,
   "metadata": {},
   "outputs": [],
   "source": [
    "skb_scores2 = dict(zip(socio_fin.columns,skb2.scores_))"
   ]
  },
  {
   "cell_type": "code",
   "execution_count": 226,
   "metadata": {},
   "outputs": [],
   "source": [
    "skb3 = SelectKBest(f_regression, k='all').fit(features, gov_opp_19_3)"
   ]
  },
  {
   "cell_type": "code",
   "execution_count": 227,
   "metadata": {},
   "outputs": [],
   "source": [
    "skb_scores3 = dict(zip(socio_fin.columns,skb3.scores_))"
   ]
  },
  {
   "cell_type": "code",
   "execution_count": 228,
   "metadata": {},
   "outputs": [],
   "source": [
    "skb4 = SelectKBest(f_regression, k='all').fit(features, gov_opp_19_6)"
   ]
  },
  {
   "cell_type": "code",
   "execution_count": 229,
   "metadata": {},
   "outputs": [],
   "source": [
    "skb_scores4 = dict(zip(socio_fin.columns,skb4.scores_))"
   ]
  },
  {
   "cell_type": "code",
   "execution_count": 230,
   "metadata": {},
   "outputs": [],
   "source": [
    "skb_overall = dict()\n",
    "\n",
    "for key in skb_scores1.keys():\n",
    "    skb_overall[key] = (skb_scores1[key]+skb_scores2[key]+skb_scores3[key]+skb_scores4[key])/4"
   ]
  },
  {
   "cell_type": "code",
   "execution_count": 231,
   "metadata": {},
   "outputs": [
    {
     "data": {
      "text/plain": [
       "{'Gen Y Percent': 0.18019570945019256,\n",
       " 'Num Priv Workplaces': 3.1376775392501406,\n",
       " 'State Health Center': 0.47595299580190503,\n",
       " 'Private Hospital': 3.537255443224111,\n",
       " 'Gas for Heating Rate': 39.48791527181731,\n",
       " 'Hours of Water Outage': 8.956459412128122,\n",
       " 'Subway Stations': 10.645839438380799,\n",
       " 'Supermarket Dens Index': 18.117401453415987,\n",
       " 'Shopping Malls': 4.5636580960825075,\n",
       " 'Bazaar Places': 3.357177889003977,\n",
       " 'Population Change 15-19': 0.35774010498327785,\n",
       " 'Residences Density': 5.72473389316319,\n",
       " 'Cultural High': 31.203215953132194,\n",
       " 'Cultural Medium': 10.399389295822102,\n",
       " 'Real Estate Low': 31.13023681191069,\n",
       " 'Real Estate High': 76.87981013634047}"
      ]
     },
     "execution_count": 231,
     "metadata": {},
     "output_type": "execute_result"
    }
   ],
   "source": [
    "skb_overall"
   ]
  },
  {
   "cell_type": "code",
   "execution_count": 236,
   "metadata": {},
   "outputs": [
    {
     "data": {
      "text/plain": [
       "(11, 9, 7)"
      ]
     },
     "execution_count": 236,
     "metadata": {},
     "output_type": "execute_result"
    }
   ],
   "source": [
    "keys_high = [k for k in skb_overall.keys() if skb_overall[k]>3.5]\n",
    "keys_med  = [k for k in skb_overall.keys() if skb_overall[k]>5]\n",
    "keys_low  = [k for k in skb_overall.keys() if skb_overall[k]>10]\n",
    "len(keys_high), len(keys_med), len(keys_low)"
   ]
  },
  {
   "cell_type": "code",
   "execution_count": 238,
   "metadata": {},
   "outputs": [
    {
     "data": {
      "text/html": [
       "<div>\n",
       "<style scoped>\n",
       "    .dataframe tbody tr th:only-of-type {\n",
       "        vertical-align: middle;\n",
       "    }\n",
       "\n",
       "    .dataframe tbody tr th {\n",
       "        vertical-align: top;\n",
       "    }\n",
       "\n",
       "    .dataframe thead th {\n",
       "        text-align: right;\n",
       "    }\n",
       "</style>\n",
       "<table border=\"1\" class=\"dataframe\">\n",
       "  <thead>\n",
       "    <tr style=\"text-align: right;\">\n",
       "      <th></th>\n",
       "      <th>VIF</th>\n",
       "    </tr>\n",
       "    <tr>\n",
       "      <th>features</th>\n",
       "      <th></th>\n",
       "    </tr>\n",
       "  </thead>\n",
       "  <tbody>\n",
       "    <tr>\n",
       "      <th>Private Hospital</th>\n",
       "      <td>1.351635</td>\n",
       "    </tr>\n",
       "    <tr>\n",
       "      <th>Gas for Heating Rate</th>\n",
       "      <td>4.874647</td>\n",
       "    </tr>\n",
       "    <tr>\n",
       "      <th>Hours of Water Outage</th>\n",
       "      <td>2.194920</td>\n",
       "    </tr>\n",
       "    <tr>\n",
       "      <th>Subway Stations</th>\n",
       "      <td>1.303058</td>\n",
       "    </tr>\n",
       "    <tr>\n",
       "      <th>Supermarket Dens Index</th>\n",
       "      <td>2.601792</td>\n",
       "    </tr>\n",
       "    <tr>\n",
       "      <th>Shopping Malls</th>\n",
       "      <td>1.475393</td>\n",
       "    </tr>\n",
       "    <tr>\n",
       "      <th>Residences Density</th>\n",
       "      <td>2.344570</td>\n",
       "    </tr>\n",
       "    <tr>\n",
       "      <th>Cultural High</th>\n",
       "      <td>1.700349</td>\n",
       "    </tr>\n",
       "    <tr>\n",
       "      <th>Cultural Medium</th>\n",
       "      <td>1.435132</td>\n",
       "    </tr>\n",
       "    <tr>\n",
       "      <th>Real Estate Low</th>\n",
       "      <td>1.966750</td>\n",
       "    </tr>\n",
       "    <tr>\n",
       "      <th>Real Estate High</th>\n",
       "      <td>1.728717</td>\n",
       "    </tr>\n",
       "  </tbody>\n",
       "</table>\n",
       "</div>"
      ],
      "text/plain": [
       "                             VIF\n",
       "features                        \n",
       "Private Hospital        1.351635\n",
       "Gas for Heating Rate    4.874647\n",
       "Hours of Water Outage   2.194920\n",
       "Subway Stations         1.303058\n",
       "Supermarket Dens Index  2.601792\n",
       "Shopping Malls          1.475393\n",
       "Residences Density      2.344570\n",
       "Cultural High           1.700349\n",
       "Cultural Medium         1.435132\n",
       "Real Estate Low         1.966750\n",
       "Real Estate High        1.728717"
      ]
     },
     "execution_count": 238,
     "metadata": {},
     "output_type": "execute_result"
    }
   ],
   "source": [
    "vifm = vif_matrix(socio_fin[keys_high])\n",
    "vifm"
   ]
  },
  {
   "cell_type": "code",
   "execution_count": 179,
   "metadata": {},
   "outputs": [],
   "source": [
    "feats_hi = socio_fin[keys_high]\n",
    "feats_me = socio_fin[keys_med]\n",
    "feats_lo = socio_fin[keys_low]"
   ]
  },
  {
   "cell_type": "code",
   "execution_count": null,
   "metadata": {},
   "outputs": [],
   "source": []
  },
  {
   "cell_type": "markdown",
   "metadata": {},
   "source": [
    "## References"
   ]
  },
  {
   "cell_type": "markdown",
   "metadata": {},
   "source": [
    "[1] https://www.tbmm.gov.tr/kanunlar/k6360.html"
   ]
  }
 ],
 "metadata": {
  "kernelspec": {
   "display_name": "Python 3",
   "language": "python",
   "name": "python3"
  },
  "language_info": {
   "codemirror_mode": {
    "name": "ipython",
    "version": 3
   },
   "file_extension": ".py",
   "mimetype": "text/x-python",
   "name": "python",
   "nbconvert_exporter": "python",
   "pygments_lexer": "ipython3",
   "version": "3.7.4"
  }
 },
 "nbformat": 4,
 "nbformat_minor": 2
}
